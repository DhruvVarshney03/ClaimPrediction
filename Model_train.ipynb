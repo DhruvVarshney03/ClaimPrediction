{
 "cells": [
  {
   "cell_type": "code",
   "execution_count": 1,
   "id": "841bb3b3-7125-4c05-8b2c-2710537a1a71",
   "metadata": {},
   "outputs": [],
   "source": [
    "import numpy as np\n",
    "import pandas as pd\n",
    "import tensorflow as tf\n",
    "from tensorflow.keras import layers, Model\n",
    "from tensorflow.keras.layers import Input, Dense, Flatten, Concatenate, Dropout, BatchNormalization, LeakyReLU\n",
    "from tensorflow.keras.optimizers import Adam\n",
    "from tensorflow.keras.callbacks import EarlyStopping, ReduceLROnPlateau, ModelCheckpoint\n",
    "from tensorflow.keras.regularizers import l2\n"
   ]
  },
  {
   "cell_type": "markdown",
   "id": "d3a2883e-d396-46f7-8134-8a54cf5bfcbc",
   "metadata": {},
   "source": [
    "### Load Processed Data"
   ]
  },
  {
   "cell_type": "code",
   "execution_count": 2,
   "id": "a9a70b95-f488-48e5-a563-0eba85413b28",
   "metadata": {},
   "outputs": [],
   "source": [
    "data = pd.read_pickle(\"Fast_Furious_Insured/processed_data/final_train_data.pkl\")\n",
    "test_data = pd.read_pickle(\"Fast_Furious_Insured/processed_data/final_test_data.pkl\")"
   ]
  },
  {
   "cell_type": "code",
   "execution_count": 3,
   "id": "d5115236-3a8a-4d5e-9b26-8ab95a9ef668",
   "metadata": {},
   "outputs": [
    {
     "data": {
      "text/plain": [
       "(1310, 2066)"
      ]
     },
     "execution_count": 3,
     "metadata": {},
     "output_type": "execute_result"
    }
   ],
   "source": [
    "data.dtypes\n",
    "data.shape"
   ]
  },
  {
   "cell_type": "code",
   "execution_count": 4,
   "id": "3e3c3977-a9f1-4052-875c-1c58a5569ce0",
   "metadata": {},
   "outputs": [],
   "source": [
    "# Extract structured data (already encoded & scaled)\n",
    "# Extract first 18 columns, excluding columns 1, 6, and 7\n",
    "structured_data = data.iloc[:, :18]  # First 18 columns\n",
    "structured_data = structured_data.drop(columns=[data.columns[0], data.columns[5], data.columns[6]])\n",
    "structured_data_scaled = structured_data.values\n"
   ]
  },
  {
   "cell_type": "code",
   "execution_count": null,
   "id": "7bd3b639-7bc5-47c4-baea-1679e1114663",
   "metadata": {},
   "outputs": [],
   "source": []
  },
  {
   "cell_type": "code",
   "execution_count": 5,
   "id": "0bad21c8-98c8-47b3-8a3f-f70ee6adc9ae",
   "metadata": {},
   "outputs": [],
   "source": [
    "# Extract image features\n",
    "image_features = data.iloc[:, 18:].values"
   ]
  },
  {
   "cell_type": "code",
   "execution_count": 6,
   "id": "1d0adeb8-e50b-4b8d-b4af-5483b76556d1",
   "metadata": {},
   "outputs": [
    {
     "data": {
      "text/plain": [
       "(1310, 2048)"
      ]
     },
     "execution_count": 6,
     "metadata": {},
     "output_type": "execute_result"
    }
   ],
   "source": [
    "image_features.shape"
   ]
  },
  {
   "cell_type": "code",
   "execution_count": 7,
   "id": "57740ae8-57f0-49e0-b7be-f2ee520f8cc4",
   "metadata": {},
   "outputs": [],
   "source": [
    "# Extract labels\n",
    "condition_labels = data['Condition'].values  # Binary classification target\n",
    "amount_labels = data['Amount'].values.reshape(-1, 1)  # Regression target"
   ]
  },
  {
   "cell_type": "code",
   "execution_count": 8,
   "id": "c4930818-54eb-40bc-94a7-56668f76783a",
   "metadata": {},
   "outputs": [
    {
     "name": "stdout",
     "output_type": "stream",
     "text": [
      "0 0\n"
     ]
    }
   ],
   "source": [
    "print(np.isnan(image_features).sum(), np.isnan(structured_data_scaled).sum())"
   ]
  },
  {
   "cell_type": "code",
   "execution_count": null,
   "id": "45c62cce-fac2-404d-a6be-853de84c30c2",
   "metadata": {},
   "outputs": [],
   "source": []
  },
  {
   "cell_type": "markdown",
   "id": "c6253706-b86d-44c1-baf8-44845e88bba9",
   "metadata": {},
   "source": [
    "### Image Data Augmentation"
   ]
  },
  {
   "cell_type": "code",
   "execution_count": 9,
   "id": "523a4c97-cc20-4e93-9309-dfff086fe444",
   "metadata": {},
   "outputs": [],
   "source": [
    "# image_augmentation = tf.keras.Sequential([\n",
    "#     layers.GaussianNoise(0.1)  # Only works with numerical features\n",
    "# ])\n",
    "\n",
    "# # Apply augmentation only during training\n",
    "# augmented_image_features = image_augmentation(image_features, training=True)"
   ]
  },
  {
   "cell_type": "markdown",
   "id": "bd193549-e5ea-4105-8ba9-647f208a5365",
   "metadata": {},
   "source": [
    "### Build Model"
   ]
  },
  {
   "cell_type": "code",
   "execution_count": 10,
   "id": "22d2e40e-efe3-4dd4-8dac-e22037be7de4",
   "metadata": {},
   "outputs": [],
   "source": [
    "image_input = Input(shape=(image_features.shape[1],), name='image_input')\n",
    "x = Dense(512, kernel_initializer='he_normal', kernel_regularizer=l2(0.01))(image_input)\n",
    "#x = BatchNormalization()(x)\n",
    "x = LeakyReLU(negative_slope=0.1)(x)\n",
    "x = Dropout(0.3)(x)\n",
    "\n",
    "x = Dense(256, kernel_initializer='he_normal', kernel_regularizer=l2(0.01))(x)\n",
    "#x = BatchNormalization()(x)\n",
    "x = LeakyReLU(negative_slope=0.1)(x)\n",
    "x = Dropout(0.3)(x)"
   ]
  },
  {
   "cell_type": "code",
   "execution_count": 11,
   "id": "88445203-bd37-4365-b5a9-f6a48199ac8a",
   "metadata": {},
   "outputs": [],
   "source": [
    "structured_input = Input(shape=(structured_data_scaled.shape[1],), name='structured_input')\n",
    "y = Dense(128, kernel_initializer='he_normal', kernel_regularizer=l2(0.01))(structured_input)\n",
    "#y = BatchNormalization()(y)\n",
    "y = LeakyReLU(negative_slope=0.1)(y)\n",
    "y = Dropout(0.3)(y)\n",
    "\n",
    "y = Dense(64, kernel_initializer='he_normal', kernel_regularizer=l2(0.01))(y)\n",
    "#y = BatchNormalization()(y)\n",
    "y = LeakyReLU(negative_slope=0.1)(y)\n",
    "y = Dropout(0.3)(y)\n"
   ]
  },
  {
   "cell_type": "code",
   "execution_count": 12,
   "id": "33daa643-4d32-4701-9e2d-5ef2f72c53da",
   "metadata": {},
   "outputs": [],
   "source": [
    "combined = Concatenate()([x, y])\n",
    "\n",
    "z = Dense(128, kernel_initializer='he_normal', kernel_regularizer=l2(0.01))(combined)\n",
    "#z = BatchNormalization()(z)\n",
    "z = LeakyReLU(negative_slope=0.1)(z)\n",
    "z = Dropout(0.3)(z)\n",
    "\n",
    "z = Dense(64, kernel_initializer='he_normal', kernel_regularizer=l2(0.01))(z)\n",
    "#z = BatchNormalization()(z)\n",
    "z = LeakyReLU(negative_slope=0.1)(z)\n",
    "z = Dropout(0.3)(z)\n"
   ]
  },
  {
   "cell_type": "code",
   "execution_count": 13,
   "id": "59d21550-e6a1-4d6c-8758-accc3b86f51b",
   "metadata": {},
   "outputs": [],
   "source": [
    "# Output 1: Condition (Binary Classification)\n",
    "condition_output = Dense(1, activation='sigmoid', name='condition_output')(z)"
   ]
  },
  {
   "cell_type": "code",
   "execution_count": 14,
   "id": "19e5f437-4d2d-429d-bc38-2da646333e68",
   "metadata": {},
   "outputs": [],
   "source": [
    "# Output 2: Amount (Regression)\n",
    "amount_output = Dense(1, activation='linear', name='amount_output')(z)"
   ]
  },
  {
   "cell_type": "code",
   "execution_count": 15,
   "id": "a5bcfcf1-22bc-4109-b38d-e96410d861ba",
   "metadata": {},
   "outputs": [],
   "source": [
    "# Define the Model\n",
    "model = Model(inputs=[image_input, structured_input], outputs=[condition_output, amount_output])"
   ]
  },
  {
   "cell_type": "code",
   "execution_count": 16,
   "id": "ca9b532b-8131-4cf9-b4fc-11d27ecc999b",
   "metadata": {},
   "outputs": [],
   "source": [
    "# Compile the Model\n",
    "model.compile(optimizer=Adam(learning_rate=0.001),\n",
    "              loss={'condition_output': 'binary_crossentropy', 'amount_output':'mse'},\n",
    "              metrics={'condition_output': 'accuracy', 'amount_output': 'mse'})"
   ]
  },
  {
   "cell_type": "code",
   "execution_count": 17,
   "id": "99582ed9-145d-415a-a758-48d6ff12284c",
   "metadata": {},
   "outputs": [],
   "source": [
    "#callback\n",
    "early_stopping = EarlyStopping(monitor='val_loss', patience=5, restore_best_weights=True)\n",
    "reduce_lr = ReduceLROnPlateau(monitor='val_loss', factor=0.5, patience=3, min_lr=1e-6)\n",
    "checkpoint = ModelCheckpoint('Fast_Furious_Insured/models/best_model.keras', monitor='val_loss', save_best_only=True, mode='min', verbose=1)"
   ]
  },
  {
   "cell_type": "markdown",
   "id": "82412ff1-0914-41b3-b866-e1a7054aabbe",
   "metadata": {},
   "source": [
    "### Train Model"
   ]
  },
  {
   "cell_type": "code",
   "execution_count": 18,
   "id": "a540b812-e4e9-4a06-adfd-699e5b1df439",
   "metadata": {},
   "outputs": [
    {
     "data": {
      "text/html": [
       "<pre style=\"white-space:pre;overflow-x:auto;line-height:normal;font-family:Menlo,'DejaVu Sans Mono',consolas,'Courier New',monospace\"><span style=\"font-weight: bold\">Model: \"functional\"</span>\n",
       "</pre>\n"
      ],
      "text/plain": [
       "\u001b[1mModel: \"functional\"\u001b[0m\n"
      ]
     },
     "metadata": {},
     "output_type": "display_data"
    },
    {
     "data": {
      "text/html": [
       "<pre style=\"white-space:pre;overflow-x:auto;line-height:normal;font-family:Menlo,'DejaVu Sans Mono',consolas,'Courier New',monospace\">┏━━━━━━━━━━━━━━━━━━━━━━━━━━━━━━━┳━━━━━━━━━━━━━━━━━━━━━━━━━━━┳━━━━━━━━━━━━━━━━━┳━━━━━━━━━━━━━━━━━━━━━━━━━━━━┓\n",
       "┃<span style=\"font-weight: bold\"> Layer (type)                  </span>┃<span style=\"font-weight: bold\"> Output Shape              </span>┃<span style=\"font-weight: bold\">         Param # </span>┃<span style=\"font-weight: bold\"> Connected to               </span>┃\n",
       "┡━━━━━━━━━━━━━━━━━━━━━━━━━━━━━━━╇━━━━━━━━━━━━━━━━━━━━━━━━━━━╇━━━━━━━━━━━━━━━━━╇━━━━━━━━━━━━━━━━━━━━━━━━━━━━┩\n",
       "│ image_input (<span style=\"color: #0087ff; text-decoration-color: #0087ff\">InputLayer</span>)      │ (<span style=\"color: #00d7ff; text-decoration-color: #00d7ff\">None</span>, <span style=\"color: #00af00; text-decoration-color: #00af00\">2048</span>)              │               <span style=\"color: #00af00; text-decoration-color: #00af00\">0</span> │ -                          │\n",
       "├───────────────────────────────┼───────────────────────────┼─────────────────┼────────────────────────────┤\n",
       "│ structured_input (<span style=\"color: #0087ff; text-decoration-color: #0087ff\">InputLayer</span>) │ (<span style=\"color: #00d7ff; text-decoration-color: #00d7ff\">None</span>, <span style=\"color: #00af00; text-decoration-color: #00af00\">15</span>)                │               <span style=\"color: #00af00; text-decoration-color: #00af00\">0</span> │ -                          │\n",
       "├───────────────────────────────┼───────────────────────────┼─────────────────┼────────────────────────────┤\n",
       "│ dense (<span style=\"color: #0087ff; text-decoration-color: #0087ff\">Dense</span>)                 │ (<span style=\"color: #00d7ff; text-decoration-color: #00d7ff\">None</span>, <span style=\"color: #00af00; text-decoration-color: #00af00\">512</span>)               │       <span style=\"color: #00af00; text-decoration-color: #00af00\">1,049,088</span> │ image_input[<span style=\"color: #00af00; text-decoration-color: #00af00\">0</span>][<span style=\"color: #00af00; text-decoration-color: #00af00\">0</span>]          │\n",
       "├───────────────────────────────┼───────────────────────────┼─────────────────┼────────────────────────────┤\n",
       "│ dense_2 (<span style=\"color: #0087ff; text-decoration-color: #0087ff\">Dense</span>)               │ (<span style=\"color: #00d7ff; text-decoration-color: #00d7ff\">None</span>, <span style=\"color: #00af00; text-decoration-color: #00af00\">128</span>)               │           <span style=\"color: #00af00; text-decoration-color: #00af00\">2,048</span> │ structured_input[<span style=\"color: #00af00; text-decoration-color: #00af00\">0</span>][<span style=\"color: #00af00; text-decoration-color: #00af00\">0</span>]     │\n",
       "├───────────────────────────────┼───────────────────────────┼─────────────────┼────────────────────────────┤\n",
       "│ leaky_re_lu (<span style=\"color: #0087ff; text-decoration-color: #0087ff\">LeakyReLU</span>)       │ (<span style=\"color: #00d7ff; text-decoration-color: #00d7ff\">None</span>, <span style=\"color: #00af00; text-decoration-color: #00af00\">512</span>)               │               <span style=\"color: #00af00; text-decoration-color: #00af00\">0</span> │ dense[<span style=\"color: #00af00; text-decoration-color: #00af00\">0</span>][<span style=\"color: #00af00; text-decoration-color: #00af00\">0</span>]                │\n",
       "├───────────────────────────────┼───────────────────────────┼─────────────────┼────────────────────────────┤\n",
       "│ leaky_re_lu_2 (<span style=\"color: #0087ff; text-decoration-color: #0087ff\">LeakyReLU</span>)     │ (<span style=\"color: #00d7ff; text-decoration-color: #00d7ff\">None</span>, <span style=\"color: #00af00; text-decoration-color: #00af00\">128</span>)               │               <span style=\"color: #00af00; text-decoration-color: #00af00\">0</span> │ dense_2[<span style=\"color: #00af00; text-decoration-color: #00af00\">0</span>][<span style=\"color: #00af00; text-decoration-color: #00af00\">0</span>]              │\n",
       "├───────────────────────────────┼───────────────────────────┼─────────────────┼────────────────────────────┤\n",
       "│ dropout (<span style=\"color: #0087ff; text-decoration-color: #0087ff\">Dropout</span>)             │ (<span style=\"color: #00d7ff; text-decoration-color: #00d7ff\">None</span>, <span style=\"color: #00af00; text-decoration-color: #00af00\">512</span>)               │               <span style=\"color: #00af00; text-decoration-color: #00af00\">0</span> │ leaky_re_lu[<span style=\"color: #00af00; text-decoration-color: #00af00\">0</span>][<span style=\"color: #00af00; text-decoration-color: #00af00\">0</span>]          │\n",
       "├───────────────────────────────┼───────────────────────────┼─────────────────┼────────────────────────────┤\n",
       "│ dropout_2 (<span style=\"color: #0087ff; text-decoration-color: #0087ff\">Dropout</span>)           │ (<span style=\"color: #00d7ff; text-decoration-color: #00d7ff\">None</span>, <span style=\"color: #00af00; text-decoration-color: #00af00\">128</span>)               │               <span style=\"color: #00af00; text-decoration-color: #00af00\">0</span> │ leaky_re_lu_2[<span style=\"color: #00af00; text-decoration-color: #00af00\">0</span>][<span style=\"color: #00af00; text-decoration-color: #00af00\">0</span>]        │\n",
       "├───────────────────────────────┼───────────────────────────┼─────────────────┼────────────────────────────┤\n",
       "│ dense_1 (<span style=\"color: #0087ff; text-decoration-color: #0087ff\">Dense</span>)               │ (<span style=\"color: #00d7ff; text-decoration-color: #00d7ff\">None</span>, <span style=\"color: #00af00; text-decoration-color: #00af00\">256</span>)               │         <span style=\"color: #00af00; text-decoration-color: #00af00\">131,328</span> │ dropout[<span style=\"color: #00af00; text-decoration-color: #00af00\">0</span>][<span style=\"color: #00af00; text-decoration-color: #00af00\">0</span>]              │\n",
       "├───────────────────────────────┼───────────────────────────┼─────────────────┼────────────────────────────┤\n",
       "│ dense_3 (<span style=\"color: #0087ff; text-decoration-color: #0087ff\">Dense</span>)               │ (<span style=\"color: #00d7ff; text-decoration-color: #00d7ff\">None</span>, <span style=\"color: #00af00; text-decoration-color: #00af00\">64</span>)                │           <span style=\"color: #00af00; text-decoration-color: #00af00\">8,256</span> │ dropout_2[<span style=\"color: #00af00; text-decoration-color: #00af00\">0</span>][<span style=\"color: #00af00; text-decoration-color: #00af00\">0</span>]            │\n",
       "├───────────────────────────────┼───────────────────────────┼─────────────────┼────────────────────────────┤\n",
       "│ leaky_re_lu_1 (<span style=\"color: #0087ff; text-decoration-color: #0087ff\">LeakyReLU</span>)     │ (<span style=\"color: #00d7ff; text-decoration-color: #00d7ff\">None</span>, <span style=\"color: #00af00; text-decoration-color: #00af00\">256</span>)               │               <span style=\"color: #00af00; text-decoration-color: #00af00\">0</span> │ dense_1[<span style=\"color: #00af00; text-decoration-color: #00af00\">0</span>][<span style=\"color: #00af00; text-decoration-color: #00af00\">0</span>]              │\n",
       "├───────────────────────────────┼───────────────────────────┼─────────────────┼────────────────────────────┤\n",
       "│ leaky_re_lu_3 (<span style=\"color: #0087ff; text-decoration-color: #0087ff\">LeakyReLU</span>)     │ (<span style=\"color: #00d7ff; text-decoration-color: #00d7ff\">None</span>, <span style=\"color: #00af00; text-decoration-color: #00af00\">64</span>)                │               <span style=\"color: #00af00; text-decoration-color: #00af00\">0</span> │ dense_3[<span style=\"color: #00af00; text-decoration-color: #00af00\">0</span>][<span style=\"color: #00af00; text-decoration-color: #00af00\">0</span>]              │\n",
       "├───────────────────────────────┼───────────────────────────┼─────────────────┼────────────────────────────┤\n",
       "│ dropout_1 (<span style=\"color: #0087ff; text-decoration-color: #0087ff\">Dropout</span>)           │ (<span style=\"color: #00d7ff; text-decoration-color: #00d7ff\">None</span>, <span style=\"color: #00af00; text-decoration-color: #00af00\">256</span>)               │               <span style=\"color: #00af00; text-decoration-color: #00af00\">0</span> │ leaky_re_lu_1[<span style=\"color: #00af00; text-decoration-color: #00af00\">0</span>][<span style=\"color: #00af00; text-decoration-color: #00af00\">0</span>]        │\n",
       "├───────────────────────────────┼───────────────────────────┼─────────────────┼────────────────────────────┤\n",
       "│ dropout_3 (<span style=\"color: #0087ff; text-decoration-color: #0087ff\">Dropout</span>)           │ (<span style=\"color: #00d7ff; text-decoration-color: #00d7ff\">None</span>, <span style=\"color: #00af00; text-decoration-color: #00af00\">64</span>)                │               <span style=\"color: #00af00; text-decoration-color: #00af00\">0</span> │ leaky_re_lu_3[<span style=\"color: #00af00; text-decoration-color: #00af00\">0</span>][<span style=\"color: #00af00; text-decoration-color: #00af00\">0</span>]        │\n",
       "├───────────────────────────────┼───────────────────────────┼─────────────────┼────────────────────────────┤\n",
       "│ concatenate (<span style=\"color: #0087ff; text-decoration-color: #0087ff\">Concatenate</span>)     │ (<span style=\"color: #00d7ff; text-decoration-color: #00d7ff\">None</span>, <span style=\"color: #00af00; text-decoration-color: #00af00\">320</span>)               │               <span style=\"color: #00af00; text-decoration-color: #00af00\">0</span> │ dropout_1[<span style=\"color: #00af00; text-decoration-color: #00af00\">0</span>][<span style=\"color: #00af00; text-decoration-color: #00af00\">0</span>],           │\n",
       "│                               │                           │                 │ dropout_3[<span style=\"color: #00af00; text-decoration-color: #00af00\">0</span>][<span style=\"color: #00af00; text-decoration-color: #00af00\">0</span>]            │\n",
       "├───────────────────────────────┼───────────────────────────┼─────────────────┼────────────────────────────┤\n",
       "│ dense_4 (<span style=\"color: #0087ff; text-decoration-color: #0087ff\">Dense</span>)               │ (<span style=\"color: #00d7ff; text-decoration-color: #00d7ff\">None</span>, <span style=\"color: #00af00; text-decoration-color: #00af00\">128</span>)               │          <span style=\"color: #00af00; text-decoration-color: #00af00\">41,088</span> │ concatenate[<span style=\"color: #00af00; text-decoration-color: #00af00\">0</span>][<span style=\"color: #00af00; text-decoration-color: #00af00\">0</span>]          │\n",
       "├───────────────────────────────┼───────────────────────────┼─────────────────┼────────────────────────────┤\n",
       "│ leaky_re_lu_4 (<span style=\"color: #0087ff; text-decoration-color: #0087ff\">LeakyReLU</span>)     │ (<span style=\"color: #00d7ff; text-decoration-color: #00d7ff\">None</span>, <span style=\"color: #00af00; text-decoration-color: #00af00\">128</span>)               │               <span style=\"color: #00af00; text-decoration-color: #00af00\">0</span> │ dense_4[<span style=\"color: #00af00; text-decoration-color: #00af00\">0</span>][<span style=\"color: #00af00; text-decoration-color: #00af00\">0</span>]              │\n",
       "├───────────────────────────────┼───────────────────────────┼─────────────────┼────────────────────────────┤\n",
       "│ dropout_4 (<span style=\"color: #0087ff; text-decoration-color: #0087ff\">Dropout</span>)           │ (<span style=\"color: #00d7ff; text-decoration-color: #00d7ff\">None</span>, <span style=\"color: #00af00; text-decoration-color: #00af00\">128</span>)               │               <span style=\"color: #00af00; text-decoration-color: #00af00\">0</span> │ leaky_re_lu_4[<span style=\"color: #00af00; text-decoration-color: #00af00\">0</span>][<span style=\"color: #00af00; text-decoration-color: #00af00\">0</span>]        │\n",
       "├───────────────────────────────┼───────────────────────────┼─────────────────┼────────────────────────────┤\n",
       "│ dense_5 (<span style=\"color: #0087ff; text-decoration-color: #0087ff\">Dense</span>)               │ (<span style=\"color: #00d7ff; text-decoration-color: #00d7ff\">None</span>, <span style=\"color: #00af00; text-decoration-color: #00af00\">64</span>)                │           <span style=\"color: #00af00; text-decoration-color: #00af00\">8,256</span> │ dropout_4[<span style=\"color: #00af00; text-decoration-color: #00af00\">0</span>][<span style=\"color: #00af00; text-decoration-color: #00af00\">0</span>]            │\n",
       "├───────────────────────────────┼───────────────────────────┼─────────────────┼────────────────────────────┤\n",
       "│ leaky_re_lu_5 (<span style=\"color: #0087ff; text-decoration-color: #0087ff\">LeakyReLU</span>)     │ (<span style=\"color: #00d7ff; text-decoration-color: #00d7ff\">None</span>, <span style=\"color: #00af00; text-decoration-color: #00af00\">64</span>)                │               <span style=\"color: #00af00; text-decoration-color: #00af00\">0</span> │ dense_5[<span style=\"color: #00af00; text-decoration-color: #00af00\">0</span>][<span style=\"color: #00af00; text-decoration-color: #00af00\">0</span>]              │\n",
       "├───────────────────────────────┼───────────────────────────┼─────────────────┼────────────────────────────┤\n",
       "│ dropout_5 (<span style=\"color: #0087ff; text-decoration-color: #0087ff\">Dropout</span>)           │ (<span style=\"color: #00d7ff; text-decoration-color: #00d7ff\">None</span>, <span style=\"color: #00af00; text-decoration-color: #00af00\">64</span>)                │               <span style=\"color: #00af00; text-decoration-color: #00af00\">0</span> │ leaky_re_lu_5[<span style=\"color: #00af00; text-decoration-color: #00af00\">0</span>][<span style=\"color: #00af00; text-decoration-color: #00af00\">0</span>]        │\n",
       "├───────────────────────────────┼───────────────────────────┼─────────────────┼────────────────────────────┤\n",
       "│ condition_output (<span style=\"color: #0087ff; text-decoration-color: #0087ff\">Dense</span>)      │ (<span style=\"color: #00d7ff; text-decoration-color: #00d7ff\">None</span>, <span style=\"color: #00af00; text-decoration-color: #00af00\">1</span>)                 │              <span style=\"color: #00af00; text-decoration-color: #00af00\">65</span> │ dropout_5[<span style=\"color: #00af00; text-decoration-color: #00af00\">0</span>][<span style=\"color: #00af00; text-decoration-color: #00af00\">0</span>]            │\n",
       "├───────────────────────────────┼───────────────────────────┼─────────────────┼────────────────────────────┤\n",
       "│ amount_output (<span style=\"color: #0087ff; text-decoration-color: #0087ff\">Dense</span>)         │ (<span style=\"color: #00d7ff; text-decoration-color: #00d7ff\">None</span>, <span style=\"color: #00af00; text-decoration-color: #00af00\">1</span>)                 │              <span style=\"color: #00af00; text-decoration-color: #00af00\">65</span> │ dropout_5[<span style=\"color: #00af00; text-decoration-color: #00af00\">0</span>][<span style=\"color: #00af00; text-decoration-color: #00af00\">0</span>]            │\n",
       "└───────────────────────────────┴───────────────────────────┴─────────────────┴────────────────────────────┘\n",
       "</pre>\n"
      ],
      "text/plain": [
       "┏━━━━━━━━━━━━━━━━━━━━━━━━━━━━━━━┳━━━━━━━━━━━━━━━━━━━━━━━━━━━┳━━━━━━━━━━━━━━━━━┳━━━━━━━━━━━━━━━━━━━━━━━━━━━━┓\n",
       "┃\u001b[1m \u001b[0m\u001b[1mLayer (type)                 \u001b[0m\u001b[1m \u001b[0m┃\u001b[1m \u001b[0m\u001b[1mOutput Shape             \u001b[0m\u001b[1m \u001b[0m┃\u001b[1m \u001b[0m\u001b[1m        Param #\u001b[0m\u001b[1m \u001b[0m┃\u001b[1m \u001b[0m\u001b[1mConnected to              \u001b[0m\u001b[1m \u001b[0m┃\n",
       "┡━━━━━━━━━━━━━━━━━━━━━━━━━━━━━━━╇━━━━━━━━━━━━━━━━━━━━━━━━━━━╇━━━━━━━━━━━━━━━━━╇━━━━━━━━━━━━━━━━━━━━━━━━━━━━┩\n",
       "│ image_input (\u001b[38;5;33mInputLayer\u001b[0m)      │ (\u001b[38;5;45mNone\u001b[0m, \u001b[38;5;34m2048\u001b[0m)              │               \u001b[38;5;34m0\u001b[0m │ -                          │\n",
       "├───────────────────────────────┼───────────────────────────┼─────────────────┼────────────────────────────┤\n",
       "│ structured_input (\u001b[38;5;33mInputLayer\u001b[0m) │ (\u001b[38;5;45mNone\u001b[0m, \u001b[38;5;34m15\u001b[0m)                │               \u001b[38;5;34m0\u001b[0m │ -                          │\n",
       "├───────────────────────────────┼───────────────────────────┼─────────────────┼────────────────────────────┤\n",
       "│ dense (\u001b[38;5;33mDense\u001b[0m)                 │ (\u001b[38;5;45mNone\u001b[0m, \u001b[38;5;34m512\u001b[0m)               │       \u001b[38;5;34m1,049,088\u001b[0m │ image_input[\u001b[38;5;34m0\u001b[0m][\u001b[38;5;34m0\u001b[0m]          │\n",
       "├───────────────────────────────┼───────────────────────────┼─────────────────┼────────────────────────────┤\n",
       "│ dense_2 (\u001b[38;5;33mDense\u001b[0m)               │ (\u001b[38;5;45mNone\u001b[0m, \u001b[38;5;34m128\u001b[0m)               │           \u001b[38;5;34m2,048\u001b[0m │ structured_input[\u001b[38;5;34m0\u001b[0m][\u001b[38;5;34m0\u001b[0m]     │\n",
       "├───────────────────────────────┼───────────────────────────┼─────────────────┼────────────────────────────┤\n",
       "│ leaky_re_lu (\u001b[38;5;33mLeakyReLU\u001b[0m)       │ (\u001b[38;5;45mNone\u001b[0m, \u001b[38;5;34m512\u001b[0m)               │               \u001b[38;5;34m0\u001b[0m │ dense[\u001b[38;5;34m0\u001b[0m][\u001b[38;5;34m0\u001b[0m]                │\n",
       "├───────────────────────────────┼───────────────────────────┼─────────────────┼────────────────────────────┤\n",
       "│ leaky_re_lu_2 (\u001b[38;5;33mLeakyReLU\u001b[0m)     │ (\u001b[38;5;45mNone\u001b[0m, \u001b[38;5;34m128\u001b[0m)               │               \u001b[38;5;34m0\u001b[0m │ dense_2[\u001b[38;5;34m0\u001b[0m][\u001b[38;5;34m0\u001b[0m]              │\n",
       "├───────────────────────────────┼───────────────────────────┼─────────────────┼────────────────────────────┤\n",
       "│ dropout (\u001b[38;5;33mDropout\u001b[0m)             │ (\u001b[38;5;45mNone\u001b[0m, \u001b[38;5;34m512\u001b[0m)               │               \u001b[38;5;34m0\u001b[0m │ leaky_re_lu[\u001b[38;5;34m0\u001b[0m][\u001b[38;5;34m0\u001b[0m]          │\n",
       "├───────────────────────────────┼───────────────────────────┼─────────────────┼────────────────────────────┤\n",
       "│ dropout_2 (\u001b[38;5;33mDropout\u001b[0m)           │ (\u001b[38;5;45mNone\u001b[0m, \u001b[38;5;34m128\u001b[0m)               │               \u001b[38;5;34m0\u001b[0m │ leaky_re_lu_2[\u001b[38;5;34m0\u001b[0m][\u001b[38;5;34m0\u001b[0m]        │\n",
       "├───────────────────────────────┼───────────────────────────┼─────────────────┼────────────────────────────┤\n",
       "│ dense_1 (\u001b[38;5;33mDense\u001b[0m)               │ (\u001b[38;5;45mNone\u001b[0m, \u001b[38;5;34m256\u001b[0m)               │         \u001b[38;5;34m131,328\u001b[0m │ dropout[\u001b[38;5;34m0\u001b[0m][\u001b[38;5;34m0\u001b[0m]              │\n",
       "├───────────────────────────────┼───────────────────────────┼─────────────────┼────────────────────────────┤\n",
       "│ dense_3 (\u001b[38;5;33mDense\u001b[0m)               │ (\u001b[38;5;45mNone\u001b[0m, \u001b[38;5;34m64\u001b[0m)                │           \u001b[38;5;34m8,256\u001b[0m │ dropout_2[\u001b[38;5;34m0\u001b[0m][\u001b[38;5;34m0\u001b[0m]            │\n",
       "├───────────────────────────────┼───────────────────────────┼─────────────────┼────────────────────────────┤\n",
       "│ leaky_re_lu_1 (\u001b[38;5;33mLeakyReLU\u001b[0m)     │ (\u001b[38;5;45mNone\u001b[0m, \u001b[38;5;34m256\u001b[0m)               │               \u001b[38;5;34m0\u001b[0m │ dense_1[\u001b[38;5;34m0\u001b[0m][\u001b[38;5;34m0\u001b[0m]              │\n",
       "├───────────────────────────────┼───────────────────────────┼─────────────────┼────────────────────────────┤\n",
       "│ leaky_re_lu_3 (\u001b[38;5;33mLeakyReLU\u001b[0m)     │ (\u001b[38;5;45mNone\u001b[0m, \u001b[38;5;34m64\u001b[0m)                │               \u001b[38;5;34m0\u001b[0m │ dense_3[\u001b[38;5;34m0\u001b[0m][\u001b[38;5;34m0\u001b[0m]              │\n",
       "├───────────────────────────────┼───────────────────────────┼─────────────────┼────────────────────────────┤\n",
       "│ dropout_1 (\u001b[38;5;33mDropout\u001b[0m)           │ (\u001b[38;5;45mNone\u001b[0m, \u001b[38;5;34m256\u001b[0m)               │               \u001b[38;5;34m0\u001b[0m │ leaky_re_lu_1[\u001b[38;5;34m0\u001b[0m][\u001b[38;5;34m0\u001b[0m]        │\n",
       "├───────────────────────────────┼───────────────────────────┼─────────────────┼────────────────────────────┤\n",
       "│ dropout_3 (\u001b[38;5;33mDropout\u001b[0m)           │ (\u001b[38;5;45mNone\u001b[0m, \u001b[38;5;34m64\u001b[0m)                │               \u001b[38;5;34m0\u001b[0m │ leaky_re_lu_3[\u001b[38;5;34m0\u001b[0m][\u001b[38;5;34m0\u001b[0m]        │\n",
       "├───────────────────────────────┼───────────────────────────┼─────────────────┼────────────────────────────┤\n",
       "│ concatenate (\u001b[38;5;33mConcatenate\u001b[0m)     │ (\u001b[38;5;45mNone\u001b[0m, \u001b[38;5;34m320\u001b[0m)               │               \u001b[38;5;34m0\u001b[0m │ dropout_1[\u001b[38;5;34m0\u001b[0m][\u001b[38;5;34m0\u001b[0m],           │\n",
       "│                               │                           │                 │ dropout_3[\u001b[38;5;34m0\u001b[0m][\u001b[38;5;34m0\u001b[0m]            │\n",
       "├───────────────────────────────┼───────────────────────────┼─────────────────┼────────────────────────────┤\n",
       "│ dense_4 (\u001b[38;5;33mDense\u001b[0m)               │ (\u001b[38;5;45mNone\u001b[0m, \u001b[38;5;34m128\u001b[0m)               │          \u001b[38;5;34m41,088\u001b[0m │ concatenate[\u001b[38;5;34m0\u001b[0m][\u001b[38;5;34m0\u001b[0m]          │\n",
       "├───────────────────────────────┼───────────────────────────┼─────────────────┼────────────────────────────┤\n",
       "│ leaky_re_lu_4 (\u001b[38;5;33mLeakyReLU\u001b[0m)     │ (\u001b[38;5;45mNone\u001b[0m, \u001b[38;5;34m128\u001b[0m)               │               \u001b[38;5;34m0\u001b[0m │ dense_4[\u001b[38;5;34m0\u001b[0m][\u001b[38;5;34m0\u001b[0m]              │\n",
       "├───────────────────────────────┼───────────────────────────┼─────────────────┼────────────────────────────┤\n",
       "│ dropout_4 (\u001b[38;5;33mDropout\u001b[0m)           │ (\u001b[38;5;45mNone\u001b[0m, \u001b[38;5;34m128\u001b[0m)               │               \u001b[38;5;34m0\u001b[0m │ leaky_re_lu_4[\u001b[38;5;34m0\u001b[0m][\u001b[38;5;34m0\u001b[0m]        │\n",
       "├───────────────────────────────┼───────────────────────────┼─────────────────┼────────────────────────────┤\n",
       "│ dense_5 (\u001b[38;5;33mDense\u001b[0m)               │ (\u001b[38;5;45mNone\u001b[0m, \u001b[38;5;34m64\u001b[0m)                │           \u001b[38;5;34m8,256\u001b[0m │ dropout_4[\u001b[38;5;34m0\u001b[0m][\u001b[38;5;34m0\u001b[0m]            │\n",
       "├───────────────────────────────┼───────────────────────────┼─────────────────┼────────────────────────────┤\n",
       "│ leaky_re_lu_5 (\u001b[38;5;33mLeakyReLU\u001b[0m)     │ (\u001b[38;5;45mNone\u001b[0m, \u001b[38;5;34m64\u001b[0m)                │               \u001b[38;5;34m0\u001b[0m │ dense_5[\u001b[38;5;34m0\u001b[0m][\u001b[38;5;34m0\u001b[0m]              │\n",
       "├───────────────────────────────┼───────────────────────────┼─────────────────┼────────────────────────────┤\n",
       "│ dropout_5 (\u001b[38;5;33mDropout\u001b[0m)           │ (\u001b[38;5;45mNone\u001b[0m, \u001b[38;5;34m64\u001b[0m)                │               \u001b[38;5;34m0\u001b[0m │ leaky_re_lu_5[\u001b[38;5;34m0\u001b[0m][\u001b[38;5;34m0\u001b[0m]        │\n",
       "├───────────────────────────────┼───────────────────────────┼─────────────────┼────────────────────────────┤\n",
       "│ condition_output (\u001b[38;5;33mDense\u001b[0m)      │ (\u001b[38;5;45mNone\u001b[0m, \u001b[38;5;34m1\u001b[0m)                 │              \u001b[38;5;34m65\u001b[0m │ dropout_5[\u001b[38;5;34m0\u001b[0m][\u001b[38;5;34m0\u001b[0m]            │\n",
       "├───────────────────────────────┼───────────────────────────┼─────────────────┼────────────────────────────┤\n",
       "│ amount_output (\u001b[38;5;33mDense\u001b[0m)         │ (\u001b[38;5;45mNone\u001b[0m, \u001b[38;5;34m1\u001b[0m)                 │              \u001b[38;5;34m65\u001b[0m │ dropout_5[\u001b[38;5;34m0\u001b[0m][\u001b[38;5;34m0\u001b[0m]            │\n",
       "└───────────────────────────────┴───────────────────────────┴─────────────────┴────────────────────────────┘\n"
      ]
     },
     "metadata": {},
     "output_type": "display_data"
    },
    {
     "data": {
      "text/html": [
       "<pre style=\"white-space:pre;overflow-x:auto;line-height:normal;font-family:Menlo,'DejaVu Sans Mono',consolas,'Courier New',monospace\"><span style=\"font-weight: bold\"> Total params: </span><span style=\"color: #00af00; text-decoration-color: #00af00\">1,240,194</span> (4.73 MB)\n",
       "</pre>\n"
      ],
      "text/plain": [
       "\u001b[1m Total params: \u001b[0m\u001b[38;5;34m1,240,194\u001b[0m (4.73 MB)\n"
      ]
     },
     "metadata": {},
     "output_type": "display_data"
    },
    {
     "data": {
      "text/html": [
       "<pre style=\"white-space:pre;overflow-x:auto;line-height:normal;font-family:Menlo,'DejaVu Sans Mono',consolas,'Courier New',monospace\"><span style=\"font-weight: bold\"> Trainable params: </span><span style=\"color: #00af00; text-decoration-color: #00af00\">1,240,194</span> (4.73 MB)\n",
       "</pre>\n"
      ],
      "text/plain": [
       "\u001b[1m Trainable params: \u001b[0m\u001b[38;5;34m1,240,194\u001b[0m (4.73 MB)\n"
      ]
     },
     "metadata": {},
     "output_type": "display_data"
    },
    {
     "data": {
      "text/html": [
       "<pre style=\"white-space:pre;overflow-x:auto;line-height:normal;font-family:Menlo,'DejaVu Sans Mono',consolas,'Courier New',monospace\"><span style=\"font-weight: bold\"> Non-trainable params: </span><span style=\"color: #00af00; text-decoration-color: #00af00\">0</span> (0.00 B)\n",
       "</pre>\n"
      ],
      "text/plain": [
       "\u001b[1m Non-trainable params: \u001b[0m\u001b[38;5;34m0\u001b[0m (0.00 B)\n"
      ]
     },
     "metadata": {},
     "output_type": "display_data"
    }
   ],
   "source": [
    "# Print the model summary\n",
    "model.summary()"
   ]
  },
  {
   "cell_type": "code",
   "execution_count": 19,
   "id": "2d276e33-0d18-4398-9fef-4a2b714d8234",
   "metadata": {},
   "outputs": [],
   "source": [
    "import time\n",
    "import mlflow\n",
    "import mlflow.tensorflow\n",
    "\n"
   ]
  },
  {
   "cell_type": "code",
   "execution_count": 20,
   "id": "00d8876f-73d3-416d-a16a-338184012a8c",
   "metadata": {},
   "outputs": [],
   "source": [
    "# from mlflow.models.signature import ModelSignature\n",
    "# from mlflow.types import Schema, ColSpec\n",
    "\n",
    "# # Define the input and output schema explicitly\n",
    "# input_schema = Schema([\n",
    "#     ColSpec(type=\"array\", type=\"float32\", shape=(None, image_features.shape[1])),\n",
    "#     ColSpec(type=\"array\", type=\"float32\", shape=(None, structured_data_scaled.shape[1]))\n",
    "# ])\n",
    "\n",
    "# output_schema = Schema([\n",
    "#     ColSpec(type=\"array\", dtype=\"float32\", shape=(None, 1)),  # For condition_output\n",
    "#     ColSpec(type=\"array\", dtype=\"float32\", shape=(None, 1))   # For amount_output\n",
    "# ])\n",
    "\n",
    "# # Create ModelSignature object\n",
    "# signature = ModelSignature(inputs=input_schema, outputs=output_schema)\n"
   ]
  },
  {
   "cell_type": "code",
   "execution_count": 21,
   "id": "9bfc4247-b21f-4a97-9b94-cf5724d09378",
   "metadata": {},
   "outputs": [],
   "source": [
    "# Generate a unique model filename using the current timestamp\n",
    "timestamp = int(time.time())\n",
    "model_path = f'Fast_Furious_Insured/models/model_{timestamp}.keras'  # Unique filename using timestamp\n",
    "\n",
    "# Start a new MLflow run to track the model and metrics\n"
   ]
  },
  {
   "cell_type": "code",
   "execution_count": 23,
   "id": "d7ff2ea8-da71-465d-834c-005c673a2ddc",
   "metadata": {},
   "outputs": [
    {
     "name": "stderr",
     "output_type": "stream",
     "text": [
      "2025/02/04 13:31:29 WARNING mlflow.tensorflow: You are saving a TensorFlow Core model or Keras model without a signature. Inference with mlflow.pyfunc.spark_udf() will not work unless the model's pyfunc representation accepts pandas DataFrames as inference inputs.\n",
      "2025/02/04 13:31:47 WARNING mlflow.models.model: Model logged without a signature and input example. Please set `input_example` parameter when logging the model to auto infer the model signature.\n"
     ]
    },
    {
     "name": "stdout",
     "output_type": "stream",
     "text": [
      "Epoch 1/200\n",
      "\u001b[1m65/66\u001b[0m \u001b[32m━━━━━━━━━━━━━━━━━━━\u001b[0m\u001b[37m━\u001b[0m \u001b[1m0s\u001b[0m 20ms/step - amount_output_loss: 2.1466 - amount_output_mse: 2.1466 - condition_output_accuracy: 0.8728 - condition_output_loss: 0.3696 - loss: 20.6459\n",
      "Epoch 1: val_loss improved from inf to 11.85302, saving model to Fast_Furious_Insured/models/best_model.keras\n",
      "\u001b[1m66/66\u001b[0m \u001b[32m━━━━━━━━━━━━━━━━━━━━\u001b[0m\u001b[37m\u001b[0m \u001b[1m7s\u001b[0m 33ms/step - amount_output_loss: 2.1233 - amount_output_mse: 2.1233 - condition_output_accuracy: 0.8737 - condition_output_loss: 0.3684 - loss: 20.5290 - val_amount_output_loss: 0.4146 - val_amount_output_mse: 0.4230 - val_condition_output_accuracy: 0.9351 - val_condition_output_loss: 0.2365 - val_loss: 11.8530 - learning_rate: 0.0010\n",
      "Epoch 2/200\n",
      "\u001b[1m66/66\u001b[0m \u001b[32m━━━━━━━━━━━━━━━━━━━━\u001b[0m\u001b[37m\u001b[0m \u001b[1m0s\u001b[0m 19ms/step - amount_output_loss: 0.6780 - amount_output_mse: 0.6780 - condition_output_accuracy: 0.9373 - condition_output_loss: 0.2421 - loss: 11.4052\n",
      "Epoch 2: val_loss improved from 11.85302 to 9.06315, saving model to Fast_Furious_Insured/models/best_model.keras\n",
      "\u001b[1m66/66\u001b[0m \u001b[32m━━━━━━━━━━━━━━━━━━━━\u001b[0m\u001b[37m\u001b[0m \u001b[1m2s\u001b[0m 25ms/step - amount_output_loss: 0.6764 - amount_output_mse: 0.6764 - condition_output_accuracy: 0.9375 - condition_output_loss: 0.2414 - loss: 11.3938 - val_amount_output_loss: 0.2410 - val_amount_output_mse: 0.2452 - val_condition_output_accuracy: 1.0000 - val_condition_output_loss: 0.0911 - val_loss: 9.0632 - learning_rate: 0.0010\n",
      "Epoch 3/200\n",
      "\u001b[1m66/66\u001b[0m \u001b[32m━━━━━━━━━━━━━━━━━━━━\u001b[0m\u001b[37m\u001b[0m \u001b[1m0s\u001b[0m 19ms/step - amount_output_loss: 0.4205 - amount_output_mse: 0.4205 - condition_output_accuracy: 0.9865 - condition_output_loss: 0.1037 - loss: 8.8024\n",
      "Epoch 3: val_loss improved from 9.06315 to 7.38569, saving model to Fast_Furious_Insured/models/best_model.keras\n",
      "\u001b[1m66/66\u001b[0m \u001b[32m━━━━━━━━━━━━━━━━━━━━\u001b[0m\u001b[37m\u001b[0m \u001b[1m2s\u001b[0m 25ms/step - amount_output_loss: 0.4210 - amount_output_mse: 0.4211 - condition_output_accuracy: 0.9865 - condition_output_loss: 0.1036 - loss: 8.7967 - val_amount_output_loss: 0.2812 - val_amount_output_mse: 0.2868 - val_condition_output_accuracy: 1.0000 - val_condition_output_loss: 0.0429 - val_loss: 7.3857 - learning_rate: 0.0010\n",
      "Epoch 4/200\n",
      "\u001b[1m66/66\u001b[0m \u001b[32m━━━━━━━━━━━━━━━━━━━━\u001b[0m\u001b[37m\u001b[0m \u001b[1m0s\u001b[0m 20ms/step - amount_output_loss: 0.3003 - amount_output_mse: 0.3003 - condition_output_accuracy: 0.9972 - condition_output_loss: 0.0539 - loss: 7.0782\n",
      "Epoch 4: val_loss improved from 7.38569 to 6.02886, saving model to Fast_Furious_Insured/models/best_model.keras\n",
      "\u001b[1m66/66\u001b[0m \u001b[32m━━━━━━━━━━━━━━━━━━━━\u001b[0m\u001b[37m\u001b[0m \u001b[1m2s\u001b[0m 26ms/step - amount_output_loss: 0.3006 - amount_output_mse: 0.3006 - condition_output_accuracy: 0.9972 - condition_output_loss: 0.0539 - loss: 7.0738 - val_amount_output_loss: 0.2122 - val_amount_output_mse: 0.2151 - val_condition_output_accuracy: 1.0000 - val_condition_output_loss: 0.0211 - val_loss: 6.0289 - learning_rate: 0.0010\n",
      "Epoch 5/200\n",
      "\u001b[1m66/66\u001b[0m \u001b[32m━━━━━━━━━━━━━━━━━━━━\u001b[0m\u001b[37m\u001b[0m \u001b[1m0s\u001b[0m 19ms/step - amount_output_loss: 0.3053 - amount_output_mse: 0.3053 - condition_output_accuracy: 0.9970 - condition_output_loss: 0.0400 - loss: 5.8749\n",
      "Epoch 5: val_loss improved from 6.02886 to 4.98809, saving model to Fast_Furious_Insured/models/best_model.keras\n",
      "\u001b[1m66/66\u001b[0m \u001b[32m━━━━━━━━━━━━━━━━━━━━\u001b[0m\u001b[37m\u001b[0m \u001b[1m2s\u001b[0m 25ms/step - amount_output_loss: 0.3054 - amount_output_mse: 0.3054 - condition_output_accuracy: 0.9970 - condition_output_loss: 0.0400 - loss: 5.8714 - val_amount_output_loss: 0.1748 - val_amount_output_mse: 0.1763 - val_condition_output_accuracy: 1.0000 - val_condition_output_loss: 0.0149 - val_loss: 4.9881 - learning_rate: 0.0010\n",
      "Epoch 6/200\n",
      "\u001b[1m64/66\u001b[0m \u001b[32m━━━━━━━━━━━━━━━━━━━\u001b[0m\u001b[37m━\u001b[0m \u001b[1m0s\u001b[0m 19ms/step - amount_output_loss: 0.2732 - amount_output_mse: 0.2732 - condition_output_accuracy: 0.9968 - condition_output_loss: 0.0279 - loss: 4.8949\n",
      "Epoch 6: val_loss improved from 4.98809 to 4.22757, saving model to Fast_Furious_Insured/models/best_model.keras\n",
      "\u001b[1m66/66\u001b[0m \u001b[32m━━━━━━━━━━━━━━━━━━━━\u001b[0m\u001b[37m\u001b[0m \u001b[1m2s\u001b[0m 25ms/step - amount_output_loss: 0.2739 - amount_output_mse: 0.2739 - condition_output_accuracy: 0.9967 - condition_output_loss: 0.0280 - loss: 4.8867 - val_amount_output_loss: 0.2146 - val_amount_output_mse: 0.2174 - val_condition_output_accuracy: 1.0000 - val_condition_output_loss: 0.0142 - val_loss: 4.2276 - learning_rate: 0.0010\n",
      "Epoch 7/200\n",
      "\u001b[1m66/66\u001b[0m \u001b[32m━━━━━━━━━━━━━━━━━━━━\u001b[0m\u001b[37m\u001b[0m \u001b[1m0s\u001b[0m 20ms/step - amount_output_loss: 0.2346 - amount_output_mse: 0.2346 - condition_output_accuracy: 1.0000 - condition_output_loss: 0.0242 - loss: 4.0859\n",
      "Epoch 7: val_loss improved from 4.22757 to 3.64082, saving model to Fast_Furious_Insured/models/best_model.keras\n",
      "\u001b[1m66/66\u001b[0m \u001b[32m━━━━━━━━━━━━━━━━━━━━\u001b[0m\u001b[37m\u001b[0m \u001b[1m2s\u001b[0m 26ms/step - amount_output_loss: 0.2352 - amount_output_mse: 0.2352 - condition_output_accuracy: 1.0000 - condition_output_loss: 0.0242 - loss: 4.0841 - val_amount_output_loss: 0.2802 - val_amount_output_mse: 0.2856 - val_condition_output_accuracy: 1.0000 - val_condition_output_loss: 0.0134 - val_loss: 3.6408 - learning_rate: 0.0010\n",
      "Epoch 8/200\n",
      "\u001b[1m66/66\u001b[0m \u001b[32m━━━━━━━━━━━━━━━━━━━━\u001b[0m\u001b[37m\u001b[0m \u001b[1m0s\u001b[0m 19ms/step - amount_output_loss: 0.3323 - amount_output_mse: 0.3323 - condition_output_accuracy: 0.9955 - condition_output_loss: 0.0256 - loss: 3.5644\n",
      "Epoch 8: val_loss improved from 3.64082 to 2.99992, saving model to Fast_Furious_Insured/models/best_model.keras\n",
      "\u001b[1m66/66\u001b[0m \u001b[32m━━━━━━━━━━━━━━━━━━━━\u001b[0m\u001b[37m\u001b[0m \u001b[1m2s\u001b[0m 25ms/step - amount_output_loss: 0.3313 - amount_output_mse: 0.3313 - condition_output_accuracy: 0.9955 - condition_output_loss: 0.0255 - loss: 3.5614 - val_amount_output_loss: 0.1751 - val_amount_output_mse: 0.1768 - val_condition_output_accuracy: 1.0000 - val_condition_output_loss: 0.0077 - val_loss: 2.9999 - learning_rate: 0.0010\n",
      "Epoch 9/200\n",
      "\u001b[1m66/66\u001b[0m \u001b[32m━━━━━━━━━━━━━━━━━━━━\u001b[0m\u001b[37m\u001b[0m \u001b[1m0s\u001b[0m 19ms/step - amount_output_loss: 0.2872 - amount_output_mse: 0.2872 - condition_output_accuracy: 1.0000 - condition_output_loss: 0.0227 - loss: 3.0109\n",
      "Epoch 9: val_loss improved from 2.99992 to 2.57985, saving model to Fast_Furious_Insured/models/best_model.keras\n",
      "\u001b[1m66/66\u001b[0m \u001b[32m━━━━━━━━━━━━━━━━━━━━\u001b[0m\u001b[37m\u001b[0m \u001b[1m2s\u001b[0m 24ms/step - amount_output_loss: 0.2868 - amount_output_mse: 0.2868 - condition_output_accuracy: 1.0000 - condition_output_loss: 0.0227 - loss: 3.0088 - val_amount_output_loss: 0.1946 - val_amount_output_mse: 0.1966 - val_condition_output_accuracy: 1.0000 - val_condition_output_loss: 0.0068 - val_loss: 2.5798 - learning_rate: 0.0010\n",
      "Epoch 10/200\n",
      "\u001b[1m65/66\u001b[0m \u001b[32m━━━━━━━━━━━━━━━━━━━\u001b[0m\u001b[37m━\u001b[0m \u001b[1m0s\u001b[0m 20ms/step - amount_output_loss: 0.2114 - amount_output_mse: 0.2114 - condition_output_accuracy: 1.0000 - condition_output_loss: 0.0148 - loss: 2.5099\n",
      "Epoch 10: val_loss improved from 2.57985 to 2.23243, saving model to Fast_Furious_Insured/models/best_model.keras\n",
      "\u001b[1m66/66\u001b[0m \u001b[32m━━━━━━━━━━━━━━━━━━━━\u001b[0m\u001b[37m\u001b[0m \u001b[1m2s\u001b[0m 26ms/step - amount_output_loss: 0.2117 - amount_output_mse: 0.2118 - condition_output_accuracy: 1.0000 - condition_output_loss: 0.0148 - loss: 2.5075 - val_amount_output_loss: 0.2102 - val_amount_output_mse: 0.2130 - val_condition_output_accuracy: 1.0000 - val_condition_output_loss: 0.0086 - val_loss: 2.2324 - learning_rate: 0.0010\n",
      "Epoch 11/200\n",
      "\u001b[1m66/66\u001b[0m \u001b[32m━━━━━━━━━━━━━━━━━━━━\u001b[0m\u001b[37m\u001b[0m \u001b[1m0s\u001b[0m 19ms/step - amount_output_loss: 0.2248 - amount_output_mse: 0.2249 - condition_output_accuracy: 1.0000 - condition_output_loss: 0.0135 - loss: 2.1728\n",
      "Epoch 11: val_loss improved from 2.23243 to 1.90310, saving model to Fast_Furious_Insured/models/best_model.keras\n",
      "\u001b[1m66/66\u001b[0m \u001b[32m━━━━━━━━━━━━━━━━━━━━\u001b[0m\u001b[37m\u001b[0m \u001b[1m2s\u001b[0m 25ms/step - amount_output_loss: 0.2251 - amount_output_mse: 0.2252 - condition_output_accuracy: 1.0000 - condition_output_loss: 0.0136 - loss: 2.1720 - val_amount_output_loss: 0.1831 - val_amount_output_mse: 0.1848 - val_condition_output_accuracy: 1.0000 - val_condition_output_loss: 0.0059 - val_loss: 1.9031 - learning_rate: 0.0010\n",
      "Epoch 12/200\n",
      "\u001b[1m66/66\u001b[0m \u001b[32m━━━━━━━━━━━━━━━━━━━━\u001b[0m\u001b[37m\u001b[0m \u001b[1m0s\u001b[0m 19ms/step - amount_output_loss: 0.2366 - amount_output_mse: 0.2367 - condition_output_accuracy: 1.0000 - condition_output_loss: 0.0136 - loss: 1.8992\n",
      "Epoch 12: val_loss improved from 1.90310 to 1.65965, saving model to Fast_Furious_Insured/models/best_model.keras\n",
      "\u001b[1m66/66\u001b[0m \u001b[32m━━━━━━━━━━━━━━━━━━━━\u001b[0m\u001b[37m\u001b[0m \u001b[1m2s\u001b[0m 26ms/step - amount_output_loss: 0.2366 - amount_output_mse: 0.2366 - condition_output_accuracy: 1.0000 - condition_output_loss: 0.0136 - loss: 1.8982 - val_amount_output_loss: 0.1907 - val_amount_output_mse: 0.1928 - val_condition_output_accuracy: 1.0000 - val_condition_output_loss: 0.0040 - val_loss: 1.6596 - learning_rate: 0.0010\n",
      "Epoch 13/200\n",
      "\u001b[1m64/66\u001b[0m \u001b[32m━━━━━━━━━━━━━━━━━━━\u001b[0m\u001b[37m━\u001b[0m \u001b[1m0s\u001b[0m 19ms/step - amount_output_loss: 0.2152 - amount_output_mse: 0.2152 - condition_output_accuracy: 1.0000 - condition_output_loss: 0.0105 - loss: 1.6356\n",
      "Epoch 13: val_loss improved from 1.65965 to 1.42731, saving model to Fast_Furious_Insured/models/best_model.keras\n",
      "\u001b[1m66/66\u001b[0m \u001b[32m━━━━━━━━━━━━━━━━━━━━\u001b[0m\u001b[37m\u001b[0m \u001b[1m2s\u001b[0m 25ms/step - amount_output_loss: 0.2156 - amount_output_mse: 0.2156 - condition_output_accuracy: 1.0000 - condition_output_loss: 0.0105 - loss: 1.6336 - val_amount_output_loss: 0.1707 - val_amount_output_mse: 0.1722 - val_condition_output_accuracy: 1.0000 - val_condition_output_loss: 0.0034 - val_loss: 1.4273 - learning_rate: 0.0010\n",
      "Epoch 14/200\n",
      "\u001b[1m64/66\u001b[0m \u001b[32m━━━━━━━━━━━━━━━━━━━\u001b[0m\u001b[37m━\u001b[0m \u001b[1m0s\u001b[0m 20ms/step - amount_output_loss: 0.2475 - amount_output_mse: 0.2475 - condition_output_accuracy: 1.0000 - condition_output_loss: 0.0097 - loss: 1.4641\n",
      "Epoch 14: val_loss improved from 1.42731 to 1.28524, saving model to Fast_Furious_Insured/models/best_model.keras\n",
      "\u001b[1m66/66\u001b[0m \u001b[32m━━━━━━━━━━━━━━━━━━━━\u001b[0m\u001b[37m\u001b[0m \u001b[1m2s\u001b[0m 26ms/step - amount_output_loss: 0.2467 - amount_output_mse: 0.2467 - condition_output_accuracy: 1.0000 - condition_output_loss: 0.0098 - loss: 1.4615 - val_amount_output_loss: 0.1977 - val_amount_output_mse: 0.2002 - val_condition_output_accuracy: 1.0000 - val_condition_output_loss: 0.0066 - val_loss: 1.2852 - learning_rate: 0.0010\n",
      "Epoch 15/200\n",
      "\u001b[1m66/66\u001b[0m \u001b[32m━━━━━━━━━━━━━━━━━━━━\u001b[0m\u001b[37m\u001b[0m \u001b[1m0s\u001b[0m 18ms/step - amount_output_loss: 0.2075 - amount_output_mse: 0.2075 - condition_output_accuracy: 1.0000 - condition_output_loss: 0.0106 - loss: 1.2585\n",
      "Epoch 15: val_loss improved from 1.28524 to 1.13888, saving model to Fast_Furious_Insured/models/best_model.keras\n",
      "\u001b[1m66/66\u001b[0m \u001b[32m━━━━━━━━━━━━━━━━━━━━\u001b[0m\u001b[37m\u001b[0m \u001b[1m2s\u001b[0m 23ms/step - amount_output_loss: 0.2075 - amount_output_mse: 0.2075 - condition_output_accuracy: 1.0000 - condition_output_loss: 0.0106 - loss: 1.2580 - val_amount_output_loss: 0.2018 - val_amount_output_mse: 0.2042 - val_condition_output_accuracy: 1.0000 - val_condition_output_loss: 0.0064 - val_loss: 1.1389 - learning_rate: 0.0010\n",
      "Epoch 16/200\n",
      "\u001b[1m65/66\u001b[0m \u001b[32m━━━━━━━━━━━━━━━━━━━\u001b[0m\u001b[37m━\u001b[0m \u001b[1m0s\u001b[0m 20ms/step - amount_output_loss: 0.2048 - amount_output_mse: 0.2048 - condition_output_accuracy: 1.0000 - condition_output_loss: 0.0105 - loss: 1.1128\n",
      "Epoch 16: val_loss improved from 1.13888 to 0.97908, saving model to Fast_Furious_Insured/models/best_model.keras\n",
      "\u001b[1m66/66\u001b[0m \u001b[32m━━━━━━━━━━━━━━━━━━━━\u001b[0m\u001b[37m\u001b[0m \u001b[1m2s\u001b[0m 27ms/step - amount_output_loss: 0.2050 - amount_output_mse: 0.2050 - condition_output_accuracy: 1.0000 - condition_output_loss: 0.0105 - loss: 1.1121 - val_amount_output_loss: 0.1685 - val_amount_output_mse: 0.1696 - val_condition_output_accuracy: 1.0000 - val_condition_output_loss: 0.0035 - val_loss: 0.9791 - learning_rate: 0.0010\n",
      "Epoch 17/200\n",
      "\u001b[1m66/66\u001b[0m \u001b[32m━━━━━━━━━━━━━━━━━━━━\u001b[0m\u001b[37m\u001b[0m \u001b[1m0s\u001b[0m 22ms/step - amount_output_loss: 0.2136 - amount_output_mse: 0.2136 - condition_output_accuracy: 1.0000 - condition_output_loss: 0.0100 - loss: 1.0037\n",
      "Epoch 17: val_loss improved from 0.97908 to 0.88616, saving model to Fast_Furious_Insured/models/best_model.keras\n",
      "\u001b[1m66/66\u001b[0m \u001b[32m━━━━━━━━━━━━━━━━━━━━\u001b[0m\u001b[37m\u001b[0m \u001b[1m2s\u001b[0m 27ms/step - amount_output_loss: 0.2137 - amount_output_mse: 0.2136 - condition_output_accuracy: 1.0000 - condition_output_loss: 0.0100 - loss: 1.0034 - val_amount_output_loss: 0.1816 - val_amount_output_mse: 0.1833 - val_condition_output_accuracy: 1.0000 - val_condition_output_loss: 0.0024 - val_loss: 0.8862 - learning_rate: 0.0010\n",
      "Epoch 18/200\n",
      "\u001b[1m65/66\u001b[0m \u001b[32m━━━━━━━━━━━━━━━━━━━\u001b[0m\u001b[37m━\u001b[0m \u001b[1m0s\u001b[0m 21ms/step - amount_output_loss: 0.1978 - amount_output_mse: 0.1978 - condition_output_accuracy: 1.0000 - condition_output_loss: 0.0082 - loss: 0.8835\n",
      "Epoch 18: val_loss improved from 0.88616 to 0.79027, saving model to Fast_Furious_Insured/models/best_model.keras\n",
      "\u001b[1m66/66\u001b[0m \u001b[32m━━━━━━━━━━━━━━━━━━━━\u001b[0m\u001b[37m\u001b[0m \u001b[1m2s\u001b[0m 27ms/step - amount_output_loss: 0.1980 - amount_output_mse: 0.1979 - condition_output_accuracy: 1.0000 - condition_output_loss: 0.0082 - loss: 0.8829 - val_amount_output_loss: 0.1754 - val_amount_output_mse: 0.1768 - val_condition_output_accuracy: 1.0000 - val_condition_output_loss: 0.0042 - val_loss: 0.7903 - learning_rate: 0.0010\n",
      "Epoch 19/200\n",
      "\u001b[1m64/66\u001b[0m \u001b[32m━━━━━━━━━━━━━━━━━━━\u001b[0m\u001b[37m━\u001b[0m \u001b[1m0s\u001b[0m 19ms/step - amount_output_loss: 0.2118 - amount_output_mse: 0.2118 - condition_output_accuracy: 1.0000 - condition_output_loss: 0.0087 - loss: 0.8115\n",
      "Epoch 19: val_loss improved from 0.79027 to 0.77756, saving model to Fast_Furious_Insured/models/best_model.keras\n",
      "\u001b[1m66/66\u001b[0m \u001b[32m━━━━━━━━━━━━━━━━━━━━\u001b[0m\u001b[37m\u001b[0m \u001b[1m2s\u001b[0m 25ms/step - amount_output_loss: 0.2133 - amount_output_mse: 0.2133 - condition_output_accuracy: 1.0000 - condition_output_loss: 0.0088 - loss: 0.8123 - val_amount_output_loss: 0.2271 - val_amount_output_mse: 0.2304 - val_condition_output_accuracy: 1.0000 - val_condition_output_loss: 0.0022 - val_loss: 0.7776 - learning_rate: 0.0010\n",
      "Epoch 20/200\n",
      "\u001b[1m65/66\u001b[0m \u001b[32m━━━━━━━━━━━━━━━━━━━\u001b[0m\u001b[37m━\u001b[0m \u001b[1m0s\u001b[0m 19ms/step - amount_output_loss: 0.2413 - amount_output_mse: 0.2413 - condition_output_accuracy: 1.0000 - condition_output_loss: 0.0081 - loss: 0.7764\n",
      "Epoch 20: val_loss improved from 0.77756 to 0.65144, saving model to Fast_Furious_Insured/models/best_model.keras\n",
      "\u001b[1m66/66\u001b[0m \u001b[32m━━━━━━━━━━━━━━━━━━━━\u001b[0m\u001b[37m\u001b[0m \u001b[1m2s\u001b[0m 25ms/step - amount_output_loss: 0.2409 - amount_output_mse: 0.2409 - condition_output_accuracy: 1.0000 - condition_output_loss: 0.0081 - loss: 0.7755 - val_amount_output_loss: 0.1726 - val_amount_output_mse: 0.1740 - val_condition_output_accuracy: 1.0000 - val_condition_output_loss: 0.0034 - val_loss: 0.6514 - learning_rate: 0.0010\n",
      "Epoch 21/200\n",
      "\u001b[1m66/66\u001b[0m \u001b[32m━━━━━━━━━━━━━━━━━━━━\u001b[0m\u001b[37m\u001b[0m \u001b[1m0s\u001b[0m 21ms/step - amount_output_loss: 0.2382 - amount_output_mse: 0.2382 - condition_output_accuracy: 0.9978 - condition_output_loss: 0.0109 - loss: 0.7101\n",
      "Epoch 21: val_loss improved from 0.65144 to 0.60274, saving model to Fast_Furious_Insured/models/best_model.keras\n",
      "\u001b[1m66/66\u001b[0m \u001b[32m━━━━━━━━━━━━━━━━━━━━\u001b[0m\u001b[37m\u001b[0m \u001b[1m2s\u001b[0m 26ms/step - amount_output_loss: 0.2378 - amount_output_mse: 0.2378 - condition_output_accuracy: 0.9978 - condition_output_loss: 0.0108 - loss: 0.7094 - val_amount_output_loss: 0.1786 - val_amount_output_mse: 0.1803 - val_condition_output_accuracy: 1.0000 - val_condition_output_loss: 0.0025 - val_loss: 0.6027 - learning_rate: 0.0010\n",
      "Epoch 22/200\n",
      "\u001b[1m64/66\u001b[0m \u001b[32m━━━━━━━━━━━━━━━━━━━\u001b[0m\u001b[37m━\u001b[0m \u001b[1m0s\u001b[0m 19ms/step - amount_output_loss: 0.2169 - amount_output_mse: 0.2169 - condition_output_accuracy: 0.9999 - condition_output_loss: 0.0069 - loss: 0.6313\n",
      "Epoch 22: val_loss improved from 0.60274 to 0.55765, saving model to Fast_Furious_Insured/models/best_model.keras\n",
      "\u001b[1m66/66\u001b[0m \u001b[32m━━━━━━━━━━━━━━━━━━━━\u001b[0m\u001b[37m\u001b[0m \u001b[1m2s\u001b[0m 24ms/step - amount_output_loss: 0.2167 - amount_output_mse: 0.2167 - condition_output_accuracy: 0.9999 - condition_output_loss: 0.0069 - loss: 0.6306 - val_amount_output_loss: 0.1782 - val_amount_output_mse: 0.1799 - val_condition_output_accuracy: 1.0000 - val_condition_output_loss: 0.0014 - val_loss: 0.5577 - learning_rate: 0.0010\n",
      "Epoch 23/200\n",
      "\u001b[1m65/66\u001b[0m \u001b[32m━━━━━━━━━━━━━━━━━━━\u001b[0m\u001b[37m━\u001b[0m \u001b[1m0s\u001b[0m 19ms/step - amount_output_loss: 0.2296 - amount_output_mse: 0.2296 - condition_output_accuracy: 1.0000 - condition_output_loss: 0.0069 - loss: 0.5997\n",
      "Epoch 23: val_loss improved from 0.55765 to 0.50417, saving model to Fast_Furious_Insured/models/best_model.keras\n",
      "\u001b[1m66/66\u001b[0m \u001b[32m━━━━━━━━━━━━━━━━━━━━\u001b[0m\u001b[37m\u001b[0m \u001b[1m2s\u001b[0m 24ms/step - amount_output_loss: 0.2287 - amount_output_mse: 0.2287 - condition_output_accuracy: 1.0000 - condition_output_loss: 0.0069 - loss: 0.5984 - val_amount_output_loss: 0.1692 - val_amount_output_mse: 0.1705 - val_condition_output_accuracy: 1.0000 - val_condition_output_loss: 0.0026 - val_loss: 0.5042 - learning_rate: 0.0010\n",
      "Epoch 24/200\n",
      "\u001b[1m65/66\u001b[0m \u001b[32m━━━━━━━━━━━━━━━━━━━\u001b[0m\u001b[37m━\u001b[0m \u001b[1m0s\u001b[0m 19ms/step - amount_output_loss: 0.2009 - amount_output_mse: 0.2009 - condition_output_accuracy: 1.0000 - condition_output_loss: 0.0067 - loss: 0.5285\n",
      "Epoch 24: val_loss improved from 0.50417 to 0.46912, saving model to Fast_Furious_Insured/models/best_model.keras\n",
      "\u001b[1m66/66\u001b[0m \u001b[32m━━━━━━━━━━━━━━━━━━━━\u001b[0m\u001b[37m\u001b[0m \u001b[1m2s\u001b[0m 24ms/step - amount_output_loss: 0.2011 - amount_output_mse: 0.2011 - condition_output_accuracy: 1.0000 - condition_output_loss: 0.0067 - loss: 0.5285 - val_amount_output_loss: 0.1696 - val_amount_output_mse: 0.1707 - val_condition_output_accuracy: 1.0000 - val_condition_output_loss: 0.0030 - val_loss: 0.4691 - learning_rate: 0.0010\n",
      "Epoch 25/200\n",
      "\u001b[1m64/66\u001b[0m \u001b[32m━━━━━━━━━━━━━━━━━━━\u001b[0m\u001b[37m━\u001b[0m \u001b[1m0s\u001b[0m 19ms/step - amount_output_loss: 0.2143 - amount_output_mse: 0.2143 - condition_output_accuracy: 1.0000 - condition_output_loss: 0.0078 - loss: 0.5090\n",
      "Epoch 25: val_loss improved from 0.46912 to 0.44769, saving model to Fast_Furious_Insured/models/best_model.keras\n",
      "\u001b[1m66/66\u001b[0m \u001b[32m━━━━━━━━━━━━━━━━━━━━\u001b[0m\u001b[37m\u001b[0m \u001b[1m2s\u001b[0m 25ms/step - amount_output_loss: 0.2140 - amount_output_mse: 0.2139 - condition_output_accuracy: 1.0000 - condition_output_loss: 0.0077 - loss: 0.5083 - val_amount_output_loss: 0.1766 - val_amount_output_mse: 0.1784 - val_condition_output_accuracy: 1.0000 - val_condition_output_loss: 0.0026 - val_loss: 0.4477 - learning_rate: 0.0010\n",
      "Epoch 26/200\n",
      "\u001b[1m66/66\u001b[0m \u001b[32m━━━━━━━━━━━━━━━━━━━━\u001b[0m\u001b[37m\u001b[0m \u001b[1m0s\u001b[0m 19ms/step - amount_output_loss: 0.2110 - amount_output_mse: 0.2110 - condition_output_accuracy: 1.0000 - condition_output_loss: 0.0080 - loss: 0.4803\n",
      "Epoch 26: val_loss improved from 0.44769 to 0.41902, saving model to Fast_Furious_Insured/models/best_model.keras\n",
      "\u001b[1m66/66\u001b[0m \u001b[32m━━━━━━━━━━━━━━━━━━━━\u001b[0m\u001b[37m\u001b[0m \u001b[1m2s\u001b[0m 24ms/step - amount_output_loss: 0.2108 - amount_output_mse: 0.2108 - condition_output_accuracy: 1.0000 - condition_output_loss: 0.0080 - loss: 0.4800 - val_amount_output_loss: 0.1714 - val_amount_output_mse: 0.1728 - val_condition_output_accuracy: 1.0000 - val_condition_output_loss: 0.0021 - val_loss: 0.4190 - learning_rate: 0.0010\n",
      "Epoch 27/200\n",
      "\u001b[1m64/66\u001b[0m \u001b[32m━━━━━━━━━━━━━━━━━━━\u001b[0m\u001b[37m━\u001b[0m \u001b[1m0s\u001b[0m 20ms/step - amount_output_loss: 0.1830 - amount_output_mse: 0.1830 - condition_output_accuracy: 0.9991 - condition_output_loss: 0.0064 - loss: 0.4270\n",
      "Epoch 27: val_loss improved from 0.41902 to 0.40112, saving model to Fast_Furious_Insured/models/best_model.keras\n",
      "\u001b[1m66/66\u001b[0m \u001b[32m━━━━━━━━━━━━━━━━━━━━\u001b[0m\u001b[37m\u001b[0m \u001b[1m2s\u001b[0m 25ms/step - amount_output_loss: 0.1837 - amount_output_mse: 0.1836 - condition_output_accuracy: 0.9991 - condition_output_loss: 0.0065 - loss: 0.4274 - val_amount_output_loss: 0.1790 - val_amount_output_mse: 0.1808 - val_condition_output_accuracy: 1.0000 - val_condition_output_loss: 0.0029 - val_loss: 0.4011 - learning_rate: 0.0010\n",
      "Epoch 28/200\n",
      "\u001b[1m64/66\u001b[0m \u001b[32m━━━━━━━━━━━━━━━━━━━\u001b[0m\u001b[37m━\u001b[0m \u001b[1m0s\u001b[0m 21ms/step - amount_output_loss: 0.1918 - amount_output_mse: 0.1918 - condition_output_accuracy: 1.0000 - condition_output_loss: 0.0067 - loss: 0.4127\n",
      "Epoch 28: val_loss improved from 0.40112 to 0.37522, saving model to Fast_Furious_Insured/models/best_model.keras\n",
      "\u001b[1m66/66\u001b[0m \u001b[32m━━━━━━━━━━━━━━━━━━━━\u001b[0m\u001b[37m\u001b[0m \u001b[1m2s\u001b[0m 28ms/step - amount_output_loss: 0.1919 - amount_output_mse: 0.1919 - condition_output_accuracy: 1.0000 - condition_output_loss: 0.0067 - loss: 0.4126 - val_amount_output_loss: 0.1705 - val_amount_output_mse: 0.1720 - val_condition_output_accuracy: 1.0000 - val_condition_output_loss: 0.0024 - val_loss: 0.3752 - learning_rate: 0.0010\n",
      "Epoch 29/200\n",
      "\u001b[1m66/66\u001b[0m \u001b[32m━━━━━━━━━━━━━━━━━━━━\u001b[0m\u001b[37m\u001b[0m \u001b[1m0s\u001b[0m 21ms/step - amount_output_loss: 0.2123 - amount_output_mse: 0.2123 - condition_output_accuracy: 1.0000 - condition_output_loss: 0.0068 - loss: 0.4145\n",
      "Epoch 29: val_loss improved from 0.37522 to 0.37268, saving model to Fast_Furious_Insured/models/best_model.keras\n",
      "\u001b[1m66/66\u001b[0m \u001b[32m━━━━━━━━━━━━━━━━━━━━\u001b[0m\u001b[37m\u001b[0m \u001b[1m2s\u001b[0m 26ms/step - amount_output_loss: 0.2121 - amount_output_mse: 0.2121 - condition_output_accuracy: 1.0000 - condition_output_loss: 0.0068 - loss: 0.4142 - val_amount_output_loss: 0.1835 - val_amount_output_mse: 0.1855 - val_condition_output_accuracy: 1.0000 - val_condition_output_loss: 0.0016 - val_loss: 0.3727 - learning_rate: 0.0010\n",
      "Epoch 30/200\n",
      "\u001b[1m64/66\u001b[0m \u001b[32m━━━━━━━━━━━━━━━━━━━\u001b[0m\u001b[37m━\u001b[0m \u001b[1m0s\u001b[0m 19ms/step - amount_output_loss: 0.2406 - amount_output_mse: 0.2406 - condition_output_accuracy: 1.0000 - condition_output_loss: 0.0060 - loss: 0.4262\n",
      "Epoch 30: val_loss improved from 0.37268 to 0.33902, saving model to Fast_Furious_Insured/models/best_model.keras\n",
      "\u001b[1m66/66\u001b[0m \u001b[32m━━━━━━━━━━━━━━━━━━━━\u001b[0m\u001b[37m\u001b[0m \u001b[1m2s\u001b[0m 25ms/step - amount_output_loss: 0.2391 - amount_output_mse: 0.2391 - condition_output_accuracy: 1.0000 - condition_output_loss: 0.0060 - loss: 0.4244 - val_amount_output_loss: 0.1701 - val_amount_output_mse: 0.1716 - val_condition_output_accuracy: 1.0000 - val_condition_output_loss: 0.0024 - val_loss: 0.3390 - learning_rate: 0.0010\n",
      "Epoch 31/200\n",
      "\u001b[1m66/66\u001b[0m \u001b[32m━━━━━━━━━━━━━━━━━━━━\u001b[0m\u001b[37m\u001b[0m \u001b[1m0s\u001b[0m 19ms/step - amount_output_loss: 0.2114 - amount_output_mse: 0.2113 - condition_output_accuracy: 1.0000 - condition_output_loss: 0.0054 - loss: 0.3785\n",
      "Epoch 31: val_loss improved from 0.33902 to 0.33202, saving model to Fast_Furious_Insured/models/best_model.keras\n",
      "\u001b[1m66/66\u001b[0m \u001b[32m━━━━━━━━━━━━━━━━━━━━\u001b[0m\u001b[37m\u001b[0m \u001b[1m2s\u001b[0m 25ms/step - amount_output_loss: 0.2111 - amount_output_mse: 0.2111 - condition_output_accuracy: 1.0000 - condition_output_loss: 0.0054 - loss: 0.3782 - val_amount_output_loss: 0.1756 - val_amount_output_mse: 0.1774 - val_condition_output_accuracy: 1.0000 - val_condition_output_loss: 0.0027 - val_loss: 0.3320 - learning_rate: 0.0010\n",
      "Epoch 32/200\n",
      "\u001b[1m64/66\u001b[0m \u001b[32m━━━━━━━━━━━━━━━━━━━\u001b[0m\u001b[37m━\u001b[0m \u001b[1m0s\u001b[0m 20ms/step - amount_output_loss: 0.1864 - amount_output_mse: 0.1864 - condition_output_accuracy: 1.0000 - condition_output_loss: 0.0061 - loss: 0.3426\n",
      "Epoch 32: val_loss improved from 0.33202 to 0.31713, saving model to Fast_Furious_Insured/models/best_model.keras\n",
      "\u001b[1m66/66\u001b[0m \u001b[32m━━━━━━━━━━━━━━━━━━━━\u001b[0m\u001b[37m\u001b[0m \u001b[1m2s\u001b[0m 26ms/step - amount_output_loss: 0.1867 - amount_output_mse: 0.1867 - condition_output_accuracy: 1.0000 - condition_output_loss: 0.0061 - loss: 0.3428 - val_amount_output_loss: 0.1714 - val_amount_output_mse: 0.1729 - val_condition_output_accuracy: 1.0000 - val_condition_output_loss: 0.0023 - val_loss: 0.3171 - learning_rate: 0.0010\n",
      "Epoch 33/200\n",
      "\u001b[1m64/66\u001b[0m \u001b[32m━━━━━━━━━━━━━━━━━━━\u001b[0m\u001b[37m━\u001b[0m \u001b[1m0s\u001b[0m 20ms/step - amount_output_loss: 0.1801 - amount_output_mse: 0.1801 - condition_output_accuracy: 1.0000 - condition_output_loss: 0.0050 - loss: 0.3245\n",
      "Epoch 33: val_loss improved from 0.31713 to 0.31159, saving model to Fast_Furious_Insured/models/best_model.keras\n",
      "\u001b[1m66/66\u001b[0m \u001b[32m━━━━━━━━━━━━━━━━━━━━\u001b[0m\u001b[37m\u001b[0m \u001b[1m2s\u001b[0m 25ms/step - amount_output_loss: 0.1802 - amount_output_mse: 0.1802 - condition_output_accuracy: 1.0000 - condition_output_loss: 0.0051 - loss: 0.3246 - val_amount_output_loss: 0.1725 - val_amount_output_mse: 0.1742 - val_condition_output_accuracy: 1.0000 - val_condition_output_loss: 0.0014 - val_loss: 0.3116 - learning_rate: 0.0010\n",
      "Epoch 34/200\n",
      "\u001b[1m65/66\u001b[0m \u001b[32m━━━━━━━━━━━━━━━━━━━\u001b[0m\u001b[37m━\u001b[0m \u001b[1m0s\u001b[0m 19ms/step - amount_output_loss: 0.1874 - amount_output_mse: 0.1874 - condition_output_accuracy: 1.0000 - condition_output_loss: 0.0042 - loss: 0.3246\n",
      "Epoch 34: val_loss improved from 0.31159 to 0.29511, saving model to Fast_Furious_Insured/models/best_model.keras\n",
      "\u001b[1m66/66\u001b[0m \u001b[32m━━━━━━━━━━━━━━━━━━━━\u001b[0m\u001b[37m\u001b[0m \u001b[1m2s\u001b[0m 25ms/step - amount_output_loss: 0.1875 - amount_output_mse: 0.1875 - condition_output_accuracy: 1.0000 - condition_output_loss: 0.0042 - loss: 0.3246 - val_amount_output_loss: 0.1684 - val_amount_output_mse: 0.1698 - val_condition_output_accuracy: 1.0000 - val_condition_output_loss: 0.0021 - val_loss: 0.2951 - learning_rate: 0.0010\n",
      "Epoch 35/200\n",
      "\u001b[1m64/66\u001b[0m \u001b[32m━━━━━━━━━━━━━━━━━━━\u001b[0m\u001b[37m━\u001b[0m \u001b[1m0s\u001b[0m 19ms/step - amount_output_loss: 0.2094 - amount_output_mse: 0.2094 - condition_output_accuracy: 1.0000 - condition_output_loss: 0.0055 - loss: 0.3356\n",
      "Epoch 35: val_loss improved from 0.29511 to 0.29384, saving model to Fast_Furious_Insured/models/best_model.keras\n",
      "\u001b[1m66/66\u001b[0m \u001b[32m━━━━━━━━━━━━━━━━━━━━\u001b[0m\u001b[37m\u001b[0m \u001b[1m2s\u001b[0m 24ms/step - amount_output_loss: 0.2086 - amount_output_mse: 0.2086 - condition_output_accuracy: 1.0000 - condition_output_loss: 0.0055 - loss: 0.3347 - val_amount_output_loss: 0.1717 - val_amount_output_mse: 0.1734 - val_condition_output_accuracy: 1.0000 - val_condition_output_loss: 0.0014 - val_loss: 0.2938 - learning_rate: 0.0010\n",
      "Epoch 36/200\n",
      "\u001b[1m66/66\u001b[0m \u001b[32m━━━━━━━━━━━━━━━━━━━━\u001b[0m\u001b[37m\u001b[0m \u001b[1m0s\u001b[0m 19ms/step - amount_output_loss: 0.2054 - amount_output_mse: 0.2054 - condition_output_accuracy: 1.0000 - condition_output_loss: 0.0047 - loss: 0.3251\n",
      "Epoch 36: val_loss improved from 0.29384 to 0.28292, saving model to Fast_Furious_Insured/models/best_model.keras\n",
      "\u001b[1m66/66\u001b[0m \u001b[32m━━━━━━━━━━━━━━━━━━━━\u001b[0m\u001b[37m\u001b[0m \u001b[1m2s\u001b[0m 24ms/step - amount_output_loss: 0.2052 - amount_output_mse: 0.2052 - condition_output_accuracy: 1.0000 - condition_output_loss: 0.0047 - loss: 0.3249 - val_amount_output_loss: 0.1678 - val_amount_output_mse: 0.1694 - val_condition_output_accuracy: 1.0000 - val_condition_output_loss: 0.0018 - val_loss: 0.2829 - learning_rate: 0.0010\n",
      "Epoch 37/200\n",
      "\u001b[1m66/66\u001b[0m \u001b[32m━━━━━━━━━━━━━━━━━━━━\u001b[0m\u001b[37m\u001b[0m \u001b[1m0s\u001b[0m 19ms/step - amount_output_loss: 0.1925 - amount_output_mse: 0.1925 - condition_output_accuracy: 1.0000 - condition_output_loss: 0.0044 - loss: 0.3065\n",
      "Epoch 37: val_loss improved from 0.28292 to 0.27684, saving model to Fast_Furious_Insured/models/best_model.keras\n",
      "\u001b[1m66/66\u001b[0m \u001b[32m━━━━━━━━━━━━━━━━━━━━\u001b[0m\u001b[37m\u001b[0m \u001b[1m2s\u001b[0m 24ms/step - amount_output_loss: 0.1925 - amount_output_mse: 0.1925 - condition_output_accuracy: 1.0000 - condition_output_loss: 0.0044 - loss: 0.3064 - val_amount_output_loss: 0.1684 - val_amount_output_mse: 0.1701 - val_condition_output_accuracy: 1.0000 - val_condition_output_loss: 0.0016 - val_loss: 0.2768 - learning_rate: 0.0010\n",
      "Epoch 38/200\n",
      "\u001b[1m64/66\u001b[0m \u001b[32m━━━━━━━━━━━━━━━━━━━\u001b[0m\u001b[37m━\u001b[0m \u001b[1m0s\u001b[0m 21ms/step - amount_output_loss: 0.1945 - amount_output_mse: 0.1945 - condition_output_accuracy: 1.0000 - condition_output_loss: 0.0049 - loss: 0.3017\n",
      "Epoch 38: val_loss did not improve from 0.27684\n",
      "\u001b[1m66/66\u001b[0m \u001b[32m━━━━━━━━━━━━━━━━━━━━\u001b[0m\u001b[37m\u001b[0m \u001b[1m2s\u001b[0m 24ms/step - amount_output_loss: 0.1947 - amount_output_mse: 0.1947 - condition_output_accuracy: 1.0000 - condition_output_loss: 0.0049 - loss: 0.3018 - val_amount_output_loss: 0.1739 - val_amount_output_mse: 0.1758 - val_condition_output_accuracy: 1.0000 - val_condition_output_loss: 0.0013 - val_loss: 0.2787 - learning_rate: 0.0010\n",
      "Epoch 39/200\n",
      "\u001b[1m65/66\u001b[0m \u001b[32m━━━━━━━━━━━━━━━━━━━\u001b[0m\u001b[37m━\u001b[0m \u001b[1m0s\u001b[0m 19ms/step - amount_output_loss: 0.1917 - amount_output_mse: 0.1917 - condition_output_accuracy: 1.0000 - condition_output_loss: 0.0035 - loss: 0.2965\n",
      "Epoch 39: val_loss improved from 0.27684 to 0.26543, saving model to Fast_Furious_Insured/models/best_model.keras\n",
      "\u001b[1m66/66\u001b[0m \u001b[32m━━━━━━━━━━━━━━━━━━━━\u001b[0m\u001b[37m\u001b[0m \u001b[1m2s\u001b[0m 24ms/step - amount_output_loss: 0.1914 - amount_output_mse: 0.1914 - condition_output_accuracy: 1.0000 - condition_output_loss: 0.0035 - loss: 0.2962 - val_amount_output_loss: 0.1686 - val_amount_output_mse: 0.1699 - val_condition_output_accuracy: 1.0000 - val_condition_output_loss: 0.0017 - val_loss: 0.2654 - learning_rate: 0.0010\n",
      "Epoch 40/200\n",
      "\u001b[1m66/66\u001b[0m \u001b[32m━━━━━━━━━━━━━━━━━━━━\u001b[0m\u001b[37m\u001b[0m \u001b[1m0s\u001b[0m 20ms/step - amount_output_loss: 0.1726 - amount_output_mse: 0.1725 - condition_output_accuracy: 1.0000 - condition_output_loss: 0.0038 - loss: 0.2684\n",
      "Epoch 40: val_loss improved from 0.26543 to 0.26289, saving model to Fast_Furious_Insured/models/best_model.keras\n",
      "\u001b[1m66/66\u001b[0m \u001b[32m━━━━━━━━━━━━━━━━━━━━\u001b[0m\u001b[37m\u001b[0m \u001b[1m2s\u001b[0m 25ms/step - amount_output_loss: 0.1727 - amount_output_mse: 0.1727 - condition_output_accuracy: 1.0000 - condition_output_loss: 0.0038 - loss: 0.2686 - val_amount_output_loss: 0.1692 - val_amount_output_mse: 0.1707 - val_condition_output_accuracy: 1.0000 - val_condition_output_loss: 0.0016 - val_loss: 0.2629 - learning_rate: 0.0010\n",
      "Epoch 41/200\n",
      "\u001b[1m64/66\u001b[0m \u001b[32m━━━━━━━━━━━━━━━━━━━\u001b[0m\u001b[37m━\u001b[0m \u001b[1m0s\u001b[0m 19ms/step - amount_output_loss: 0.1889 - amount_output_mse: 0.1889 - condition_output_accuracy: 1.0000 - condition_output_loss: 0.0041 - loss: 0.2832\n",
      "Epoch 41: val_loss did not improve from 0.26289\n",
      "\u001b[1m66/66\u001b[0m \u001b[32m━━━━━━━━━━━━━━━━━━━━\u001b[0m\u001b[37m\u001b[0m \u001b[1m1s\u001b[0m 22ms/step - amount_output_loss: 0.1891 - amount_output_mse: 0.1891 - condition_output_accuracy: 1.0000 - condition_output_loss: 0.0041 - loss: 0.2835 - val_amount_output_loss: 0.1850 - val_amount_output_mse: 0.1872 - val_condition_output_accuracy: 1.0000 - val_condition_output_loss: 0.0021 - val_loss: 0.2774 - learning_rate: 0.0010\n",
      "Epoch 42/200\n",
      "\u001b[1m66/66\u001b[0m \u001b[32m━━━━━━━━━━━━━━━━━━━━\u001b[0m\u001b[37m\u001b[0m \u001b[1m0s\u001b[0m 19ms/step - amount_output_loss: 0.1834 - amount_output_mse: 0.1834 - condition_output_accuracy: 1.0000 - condition_output_loss: 0.0072 - loss: 0.2816\n",
      "Epoch 42: val_loss improved from 0.26289 to 0.25550, saving model to Fast_Furious_Insured/models/best_model.keras\n",
      "\u001b[1m66/66\u001b[0m \u001b[32m━━━━━━━━━━━━━━━━━━━━\u001b[0m\u001b[37m\u001b[0m \u001b[1m2s\u001b[0m 25ms/step - amount_output_loss: 0.1834 - amount_output_mse: 0.1834 - condition_output_accuracy: 1.0000 - condition_output_loss: 0.0072 - loss: 0.2814 - val_amount_output_loss: 0.1685 - val_amount_output_mse: 0.1699 - val_condition_output_accuracy: 1.0000 - val_condition_output_loss: 0.0015 - val_loss: 0.2555 - learning_rate: 0.0010\n",
      "Epoch 43/200\n",
      "\u001b[1m64/66\u001b[0m \u001b[32m━━━━━━━━━━━━━━━━━━━\u001b[0m\u001b[37m━\u001b[0m \u001b[1m0s\u001b[0m 19ms/step - amount_output_loss: 0.1723 - amount_output_mse: 0.1723 - condition_output_accuracy: 1.0000 - condition_output_loss: 0.0040 - loss: 0.2597\n",
      "Epoch 43: val_loss improved from 0.25550 to 0.25207, saving model to Fast_Furious_Insured/models/best_model.keras\n",
      "\u001b[1m66/66\u001b[0m \u001b[32m━━━━━━━━━━━━━━━━━━━━\u001b[0m\u001b[37m\u001b[0m \u001b[1m2s\u001b[0m 26ms/step - amount_output_loss: 0.1727 - amount_output_mse: 0.1727 - condition_output_accuracy: 1.0000 - condition_output_loss: 0.0040 - loss: 0.2601 - val_amount_output_loss: 0.1703 - val_amount_output_mse: 0.1718 - val_condition_output_accuracy: 1.0000 - val_condition_output_loss: 0.0017 - val_loss: 0.2521 - learning_rate: 0.0010\n",
      "Epoch 44/200\n",
      "\u001b[1m65/66\u001b[0m \u001b[32m━━━━━━━━━━━━━━━━━━━\u001b[0m\u001b[37m━\u001b[0m \u001b[1m0s\u001b[0m 19ms/step - amount_output_loss: 0.1854 - amount_output_mse: 0.1854 - condition_output_accuracy: 1.0000 - condition_output_loss: 0.0044 - loss: 0.2678\n",
      "Epoch 44: val_loss did not improve from 0.25207\n",
      "\u001b[1m66/66\u001b[0m \u001b[32m━━━━━━━━━━━━━━━━━━━━\u001b[0m\u001b[37m\u001b[0m \u001b[1m2s\u001b[0m 23ms/step - amount_output_loss: 0.1853 - amount_output_mse: 0.1854 - condition_output_accuracy: 1.0000 - condition_output_loss: 0.0044 - loss: 0.2677 - val_amount_output_loss: 0.1769 - val_amount_output_mse: 0.1790 - val_condition_output_accuracy: 1.0000 - val_condition_output_loss: 0.0014 - val_loss: 0.2603 - learning_rate: 0.0010\n",
      "Epoch 45/200\n",
      "\u001b[1m64/66\u001b[0m \u001b[32m━━━━━━━━━━━━━━━━━━━\u001b[0m\u001b[37m━\u001b[0m \u001b[1m0s\u001b[0m 23ms/step - amount_output_loss: 0.1898 - amount_output_mse: 0.1898 - condition_output_accuracy: 1.0000 - condition_output_loss: 0.0038 - loss: 0.2735\n",
      "Epoch 45: val_loss improved from 0.25207 to 0.24436, saving model to Fast_Furious_Insured/models/best_model.keras\n",
      "\u001b[1m66/66\u001b[0m \u001b[32m━━━━━━━━━━━━━━━━━━━━\u001b[0m\u001b[37m\u001b[0m \u001b[1m2s\u001b[0m 30ms/step - amount_output_loss: 0.1895 - amount_output_mse: 0.1895 - condition_output_accuracy: 1.0000 - condition_output_loss: 0.0038 - loss: 0.2732 - val_amount_output_loss: 0.1677 - val_amount_output_mse: 0.1692 - val_condition_output_accuracy: 1.0000 - val_condition_output_loss: 0.0017 - val_loss: 0.2444 - learning_rate: 0.0010\n",
      "Epoch 46/200\n",
      "\u001b[1m64/66\u001b[0m \u001b[32m━━━━━━━━━━━━━━━━━━━\u001b[0m\u001b[37m━\u001b[0m \u001b[1m0s\u001b[0m 21ms/step - amount_output_loss: 0.1794 - amount_output_mse: 0.1794 - condition_output_accuracy: 1.0000 - condition_output_loss: 0.0044 - loss: 0.2581\n",
      "Epoch 46: val_loss did not improve from 0.24436\n",
      "\u001b[1m66/66\u001b[0m \u001b[32m━━━━━━━━━━━━━━━━━━━━\u001b[0m\u001b[37m\u001b[0m \u001b[1m2s\u001b[0m 24ms/step - amount_output_loss: 0.1798 - amount_output_mse: 0.1798 - condition_output_accuracy: 1.0000 - condition_output_loss: 0.0044 - loss: 0.2586 - val_amount_output_loss: 0.1685 - val_amount_output_mse: 0.1699 - val_condition_output_accuracy: 1.0000 - val_condition_output_loss: 0.0013 - val_loss: 0.2462 - learning_rate: 0.0010\n",
      "Epoch 47/200\n",
      "\u001b[1m64/66\u001b[0m \u001b[32m━━━━━━━━━━━━━━━━━━━\u001b[0m\u001b[37m━\u001b[0m \u001b[1m0s\u001b[0m 20ms/step - amount_output_loss: 0.1905 - amount_output_mse: 0.1905 - condition_output_accuracy: 1.0000 - condition_output_loss: 0.0035 - loss: 0.2671\n",
      "Epoch 47: val_loss did not improve from 0.24436\n",
      "\u001b[1m66/66\u001b[0m \u001b[32m━━━━━━━━━━━━━━━━━━━━\u001b[0m\u001b[37m\u001b[0m \u001b[1m2s\u001b[0m 23ms/step - amount_output_loss: 0.1903 - amount_output_mse: 0.1903 - condition_output_accuracy: 1.0000 - condition_output_loss: 0.0035 - loss: 0.2670 - val_amount_output_loss: 0.1698 - val_amount_output_mse: 0.1714 - val_condition_output_accuracy: 1.0000 - val_condition_output_loss: 0.0013 - val_loss: 0.2456 - learning_rate: 0.0010\n",
      "Epoch 48/200\n",
      "\u001b[1m66/66\u001b[0m \u001b[32m━━━━━━━━━━━━━━━━━━━━\u001b[0m\u001b[37m\u001b[0m \u001b[1m0s\u001b[0m 20ms/step - amount_output_loss: 0.1826 - amount_output_mse: 0.1826 - condition_output_accuracy: 1.0000 - condition_output_loss: 0.0038 - loss: 0.2576\n",
      "Epoch 48: val_loss improved from 0.24436 to 0.24114, saving model to Fast_Furious_Insured/models/best_model.keras\n",
      "\u001b[1m66/66\u001b[0m \u001b[32m━━━━━━━━━━━━━━━━━━━━\u001b[0m\u001b[37m\u001b[0m \u001b[1m2s\u001b[0m 26ms/step - amount_output_loss: 0.1826 - amount_output_mse: 0.1826 - condition_output_accuracy: 1.0000 - condition_output_loss: 0.0038 - loss: 0.2576 - val_amount_output_loss: 0.1685 - val_amount_output_mse: 0.1700 - val_condition_output_accuracy: 1.0000 - val_condition_output_loss: 0.0014 - val_loss: 0.2411 - learning_rate: 0.0010\n",
      "Epoch 49/200\n",
      "\u001b[1m66/66\u001b[0m \u001b[32m━━━━━━━━━━━━━━━━━━━━\u001b[0m\u001b[37m\u001b[0m \u001b[1m0s\u001b[0m 20ms/step - amount_output_loss: 0.1784 - amount_output_mse: 0.1784 - condition_output_accuracy: 1.0000 - condition_output_loss: 0.0034 - loss: 0.2504\n",
      "Epoch 49: val_loss did not improve from 0.24114\n",
      "\u001b[1m66/66\u001b[0m \u001b[32m━━━━━━━━━━━━━━━━━━━━\u001b[0m\u001b[37m\u001b[0m \u001b[1m2s\u001b[0m 24ms/step - amount_output_loss: 0.1784 - amount_output_mse: 0.1784 - condition_output_accuracy: 1.0000 - condition_output_loss: 0.0034 - loss: 0.2504 - val_amount_output_loss: 0.1877 - val_amount_output_mse: 0.1898 - val_condition_output_accuracy: 1.0000 - val_condition_output_loss: 0.0014 - val_loss: 0.2610 - learning_rate: 0.0010\n",
      "Epoch 50/200\n",
      "\u001b[1m66/66\u001b[0m \u001b[32m━━━━━━━━━━━━━━━━━━━━\u001b[0m\u001b[37m\u001b[0m \u001b[1m0s\u001b[0m 20ms/step - amount_output_loss: 0.1841 - amount_output_mse: 0.1841 - condition_output_accuracy: 0.9997 - condition_output_loss: 0.0040 - loss: 0.2578\n",
      "Epoch 50: val_loss did not improve from 0.24114\n",
      "\u001b[1m66/66\u001b[0m \u001b[32m━━━━━━━━━━━━━━━━━━━━\u001b[0m\u001b[37m\u001b[0m \u001b[1m2s\u001b[0m 23ms/step - amount_output_loss: 0.1841 - amount_output_mse: 0.1841 - condition_output_accuracy: 0.9997 - condition_output_loss: 0.0040 - loss: 0.2578 - val_amount_output_loss: 0.1763 - val_amount_output_mse: 0.1782 - val_condition_output_accuracy: 1.0000 - val_condition_output_loss: 0.0012 - val_loss: 0.2497 - learning_rate: 0.0010\n",
      "Epoch 51/200\n",
      "\u001b[1m64/66\u001b[0m \u001b[32m━━━━━━━━━━━━━━━━━━━\u001b[0m\u001b[37m━\u001b[0m \u001b[1m0s\u001b[0m 20ms/step - amount_output_loss: 0.1825 - amount_output_mse: 0.1825 - condition_output_accuracy: 1.0000 - condition_output_loss: 0.0030 - loss: 0.2535\n",
      "Epoch 51: val_loss improved from 0.24114 to 0.23955, saving model to Fast_Furious_Insured/models/best_model.keras\n",
      "\u001b[1m66/66\u001b[0m \u001b[32m━━━━━━━━━━━━━━━━━━━━\u001b[0m\u001b[37m\u001b[0m \u001b[1m2s\u001b[0m 27ms/step - amount_output_loss: 0.1828 - amount_output_mse: 0.1827 - condition_output_accuracy: 1.0000 - condition_output_loss: 0.0030 - loss: 0.2537 - val_amount_output_loss: 0.1712 - val_amount_output_mse: 0.1728 - val_condition_output_accuracy: 1.0000 - val_condition_output_loss: 0.0013 - val_loss: 0.2396 - learning_rate: 0.0010\n",
      "Epoch 52/200\n",
      "\u001b[1m64/66\u001b[0m \u001b[32m━━━━━━━━━━━━━━━━━━━\u001b[0m\u001b[37m━\u001b[0m \u001b[1m0s\u001b[0m 22ms/step - amount_output_loss: 0.1709 - amount_output_mse: 0.1709 - condition_output_accuracy: 1.0000 - condition_output_loss: 0.0030 - loss: 0.2404\n",
      "Epoch 52: val_loss did not improve from 0.23955\n",
      "\u001b[1m66/66\u001b[0m \u001b[32m━━━━━━━━━━━━━━━━━━━━\u001b[0m\u001b[37m\u001b[0m \u001b[1m2s\u001b[0m 25ms/step - amount_output_loss: 0.1710 - amount_output_mse: 0.1710 - condition_output_accuracy: 1.0000 - condition_output_loss: 0.0030 - loss: 0.2404 - val_amount_output_loss: 0.1806 - val_amount_output_mse: 0.1825 - val_condition_output_accuracy: 1.0000 - val_condition_output_loss: 0.0017 - val_loss: 0.2458 - learning_rate: 0.0010\n",
      "Epoch 53/200\n",
      "\u001b[1m66/66\u001b[0m \u001b[32m━━━━━━━━━━━━━━━━━━━━\u001b[0m\u001b[37m\u001b[0m \u001b[1m0s\u001b[0m 22ms/step - amount_output_loss: 0.1901 - amount_output_mse: 0.1901 - condition_output_accuracy: 1.0000 - condition_output_loss: 0.0043 - loss: 0.2591    \n",
      "Epoch 53: val_loss improved from 0.23955 to 0.23583, saving model to Fast_Furious_Insured/models/best_model.keras\n",
      "\u001b[1m66/66\u001b[0m \u001b[32m━━━━━━━━━━━━━━━━━━━━\u001b[0m\u001b[37m\u001b[0m \u001b[1m2s\u001b[0m 27ms/step - amount_output_loss: 0.1901 - amount_output_mse: 0.1901 - condition_output_accuracy: 1.0000 - condition_output_loss: 0.0043 - loss: 0.2591 - val_amount_output_loss: 0.1710 - val_amount_output_mse: 0.1725 - val_condition_output_accuracy: 1.0000 - val_condition_output_loss: 0.0013 - val_loss: 0.2358 - learning_rate: 0.0010\n",
      "Epoch 54/200\n",
      "\u001b[1m66/66\u001b[0m \u001b[32m━━━━━━━━━━━━━━━━━━━━\u001b[0m\u001b[37m\u001b[0m \u001b[1m0s\u001b[0m 21ms/step - amount_output_loss: 0.1749 - amount_output_mse: 0.1749 - condition_output_accuracy: 1.0000 - condition_output_loss: 0.0037 - loss: 0.2410\n",
      "Epoch 54: val_loss improved from 0.23583 to 0.23560, saving model to Fast_Furious_Insured/models/best_model.keras\n",
      "\u001b[1m66/66\u001b[0m \u001b[32m━━━━━━━━━━━━━━━━━━━━\u001b[0m\u001b[37m\u001b[0m \u001b[1m2s\u001b[0m 28ms/step - amount_output_loss: 0.1751 - amount_output_mse: 0.1750 - condition_output_accuracy: 1.0000 - condition_output_loss: 0.0037 - loss: 0.2411 - val_amount_output_loss: 0.1685 - val_amount_output_mse: 0.1697 - val_condition_output_accuracy: 1.0000 - val_condition_output_loss: 0.0012 - val_loss: 0.2356 - learning_rate: 0.0010\n",
      "Epoch 55/200\n",
      "\u001b[1m65/66\u001b[0m \u001b[32m━━━━━━━━━━━━━━━━━━━\u001b[0m\u001b[37m━\u001b[0m \u001b[1m0s\u001b[0m 20ms/step - amount_output_loss: 0.1777 - amount_output_mse: 0.1777 - condition_output_accuracy: 1.0000 - condition_output_loss: 0.0039 - loss: 0.2471\n",
      "Epoch 55: val_loss did not improve from 0.23560\n",
      "\u001b[1m66/66\u001b[0m \u001b[32m━━━━━━━━━━━━━━━━━━━━\u001b[0m\u001b[37m\u001b[0m \u001b[1m2s\u001b[0m 24ms/step - amount_output_loss: 0.1777 - amount_output_mse: 0.1777 - condition_output_accuracy: 1.0000 - condition_output_loss: 0.0039 - loss: 0.2471 - val_amount_output_loss: 0.1734 - val_amount_output_mse: 0.1750 - val_condition_output_accuracy: 1.0000 - val_condition_output_loss: 0.0015 - val_loss: 0.2357 - learning_rate: 0.0010\n",
      "Epoch 56/200\n",
      "\u001b[1m66/66\u001b[0m \u001b[32m━━━━━━━━━━━━━━━━━━━━\u001b[0m\u001b[37m\u001b[0m \u001b[1m0s\u001b[0m 20ms/step - amount_output_loss: 0.1919 - amount_output_mse: 0.1919 - condition_output_accuracy: 1.0000 - condition_output_loss: 0.0043 - loss: 0.2586\n",
      "Epoch 56: val_loss improved from 0.23560 to 0.23289, saving model to Fast_Furious_Insured/models/best_model.keras\n",
      "\u001b[1m66/66\u001b[0m \u001b[32m━━━━━━━━━━━━━━━━━━━━\u001b[0m\u001b[37m\u001b[0m \u001b[1m2s\u001b[0m 26ms/step - amount_output_loss: 0.1917 - amount_output_mse: 0.1917 - condition_output_accuracy: 1.0000 - condition_output_loss: 0.0042 - loss: 0.2585 - val_amount_output_loss: 0.1679 - val_amount_output_mse: 0.1692 - val_condition_output_accuracy: 1.0000 - val_condition_output_loss: 0.0010 - val_loss: 0.2329 - learning_rate: 0.0010\n",
      "Epoch 57/200\n",
      "\u001b[1m64/66\u001b[0m \u001b[32m━━━━━━━━━━━━━━━━━━━\u001b[0m\u001b[37m━\u001b[0m \u001b[1m0s\u001b[0m 20ms/step - amount_output_loss: 0.1998 - amount_output_mse: 0.1998 - condition_output_accuracy: 1.0000 - condition_output_loss: 0.0041 - loss: 0.2667\n",
      "Epoch 57: val_loss improved from 0.23289 to 0.23250, saving model to Fast_Furious_Insured/models/best_model.keras\n",
      "\u001b[1m66/66\u001b[0m \u001b[32m━━━━━━━━━━━━━━━━━━━━\u001b[0m\u001b[37m\u001b[0m \u001b[1m2s\u001b[0m 26ms/step - amount_output_loss: 0.1992 - amount_output_mse: 0.1992 - condition_output_accuracy: 1.0000 - condition_output_loss: 0.0040 - loss: 0.2660 - val_amount_output_loss: 0.1685 - val_amount_output_mse: 0.1700 - val_condition_output_accuracy: 1.0000 - val_condition_output_loss: 9.6222e-04 - val_loss: 0.2325 - learning_rate: 0.0010\n",
      "Epoch 58/200\n",
      "\u001b[1m64/66\u001b[0m \u001b[32m━━━━━━━━━━━━━━━━━━━\u001b[0m\u001b[37m━\u001b[0m \u001b[1m0s\u001b[0m 22ms/step - amount_output_loss: 0.1855 - amount_output_mse: 0.1855 - condition_output_accuracy: 1.0000 - condition_output_loss: 0.0025 - loss: 0.2478\n",
      "Epoch 58: val_loss improved from 0.23250 to 0.23209, saving model to Fast_Furious_Insured/models/best_model.keras\n",
      "\u001b[1m66/66\u001b[0m \u001b[32m━━━━━━━━━━━━━━━━━━━━\u001b[0m\u001b[37m\u001b[0m \u001b[1m2s\u001b[0m 27ms/step - amount_output_loss: 0.1854 - amount_output_mse: 0.1855 - condition_output_accuracy: 1.0000 - condition_output_loss: 0.0025 - loss: 0.2478 - val_amount_output_loss: 0.1685 - val_amount_output_mse: 0.1698 - val_condition_output_accuracy: 1.0000 - val_condition_output_loss: 0.0012 - val_loss: 0.2321 - learning_rate: 0.0010\n",
      "Epoch 59/200\n",
      "\u001b[1m65/66\u001b[0m \u001b[32m━━━━━━━━━━━━━━━━━━━\u001b[0m\u001b[37m━\u001b[0m \u001b[1m0s\u001b[0m 21ms/step - amount_output_loss: 0.1914 - amount_output_mse: 0.1914 - condition_output_accuracy: 1.0000 - condition_output_loss: 0.0031 - loss: 0.2561\n",
      "Epoch 59: val_loss did not improve from 0.23209\n",
      "\u001b[1m66/66\u001b[0m \u001b[32m━━━━━━━━━━━━━━━━━━━━\u001b[0m\u001b[37m\u001b[0m \u001b[1m2s\u001b[0m 24ms/step - amount_output_loss: 0.1910 - amount_output_mse: 0.1910 - condition_output_accuracy: 1.0000 - condition_output_loss: 0.0031 - loss: 0.2557 - val_amount_output_loss: 0.1711 - val_amount_output_mse: 0.1727 - val_condition_output_accuracy: 1.0000 - val_condition_output_loss: 7.4107e-04 - val_loss: 0.2344 - learning_rate: 0.0010\n",
      "Epoch 60/200\n",
      "\u001b[1m65/66\u001b[0m \u001b[32m━━━━━━━━━━━━━━━━━━━\u001b[0m\u001b[37m━\u001b[0m \u001b[1m0s\u001b[0m 21ms/step - amount_output_loss: 0.1945 - amount_output_mse: 0.1945 - condition_output_accuracy: 1.0000 - condition_output_loss: 0.0031 - loss: 0.2567\n",
      "Epoch 60: val_loss did not improve from 0.23209\n",
      "\u001b[1m66/66\u001b[0m \u001b[32m━━━━━━━━━━━━━━━━━━━━\u001b[0m\u001b[37m\u001b[0m \u001b[1m2s\u001b[0m 24ms/step - amount_output_loss: 0.1943 - amount_output_mse: 0.1943 - condition_output_accuracy: 1.0000 - condition_output_loss: 0.0031 - loss: 0.2565 - val_amount_output_loss: 0.1712 - val_amount_output_mse: 0.1730 - val_condition_output_accuracy: 1.0000 - val_condition_output_loss: 8.0048e-04 - val_loss: 0.2343 - learning_rate: 0.0010\n",
      "Epoch 61/200\n",
      "\u001b[1m65/66\u001b[0m \u001b[32m━━━━━━━━━━━━━━━━━━━\u001b[0m\u001b[37m━\u001b[0m \u001b[1m0s\u001b[0m 21ms/step - amount_output_loss: 0.1809 - amount_output_mse: 0.1809 - condition_output_accuracy: 1.0000 - condition_output_loss: 0.0027 - loss: 0.2418\n",
      "Epoch 61: val_loss did not improve from 0.23209\n",
      "\u001b[1m66/66\u001b[0m \u001b[32m━━━━━━━━━━━━━━━━━━━━\u001b[0m\u001b[37m\u001b[0m \u001b[1m2s\u001b[0m 24ms/step - amount_output_loss: 0.1809 - amount_output_mse: 0.1809 - condition_output_accuracy: 1.0000 - condition_output_loss: 0.0027 - loss: 0.2418 - val_amount_output_loss: 0.1700 - val_amount_output_mse: 0.1717 - val_condition_output_accuracy: 1.0000 - val_condition_output_loss: 6.4369e-04 - val_loss: 0.2344 - learning_rate: 0.0010\n",
      "Epoch 62/200\n",
      "\u001b[1m64/66\u001b[0m \u001b[32m━━━━━━━━━━━━━━━━━━━\u001b[0m\u001b[37m━\u001b[0m \u001b[1m0s\u001b[0m 20ms/step - amount_output_loss: 0.1692 - amount_output_mse: 0.1692 - condition_output_accuracy: 1.0000 - condition_output_loss: 0.0026 - loss: 0.2321\n",
      "Epoch 62: val_loss improved from 0.23209 to 0.22863, saving model to Fast_Furious_Insured/models/best_model.keras\n",
      "\u001b[1m66/66\u001b[0m \u001b[32m━━━━━━━━━━━━━━━━━━━━\u001b[0m\u001b[37m\u001b[0m \u001b[1m2s\u001b[0m 26ms/step - amount_output_loss: 0.1694 - amount_output_mse: 0.1694 - condition_output_accuracy: 1.0000 - condition_output_loss: 0.0026 - loss: 0.2323 - val_amount_output_loss: 0.1680 - val_amount_output_mse: 0.1696 - val_condition_output_accuracy: 1.0000 - val_condition_output_loss: 8.3758e-04 - val_loss: 0.2286 - learning_rate: 5.0000e-04\n",
      "Epoch 63/200\n",
      "\u001b[1m66/66\u001b[0m \u001b[32m━━━━━━━━━━━━━━━━━━━━\u001b[0m\u001b[37m\u001b[0m \u001b[1m0s\u001b[0m 21ms/step - amount_output_loss: 0.1771 - amount_output_mse: 0.1771 - condition_output_accuracy: 1.0000 - condition_output_loss: 0.0026 - loss: 0.2375    \n",
      "Epoch 63: val_loss improved from 0.22863 to 0.22737, saving model to Fast_Furious_Insured/models/best_model.keras\n",
      "\u001b[1m66/66\u001b[0m \u001b[32m━━━━━━━━━━━━━━━━━━━━\u001b[0m\u001b[37m\u001b[0m \u001b[1m2s\u001b[0m 26ms/step - amount_output_loss: 0.1772 - amount_output_mse: 0.1771 - condition_output_accuracy: 1.0000 - condition_output_loss: 0.0026 - loss: 0.2375 - val_amount_output_loss: 0.1702 - val_amount_output_mse: 0.1718 - val_condition_output_accuracy: 1.0000 - val_condition_output_loss: 0.0011 - val_loss: 0.2274 - learning_rate: 5.0000e-04\n",
      "Epoch 64/200\n",
      "\u001b[1m66/66\u001b[0m \u001b[32m━━━━━━━━━━━━━━━━━━━━\u001b[0m\u001b[37m\u001b[0m \u001b[1m0s\u001b[0m 21ms/step - amount_output_loss: 0.1666 - amount_output_mse: 0.1666 - condition_output_accuracy: 1.0000 - condition_output_loss: 0.0035 - loss: 0.2248\n",
      "Epoch 64: val_loss improved from 0.22737 to 0.22691, saving model to Fast_Furious_Insured/models/best_model.keras\n",
      "\u001b[1m66/66\u001b[0m \u001b[32m━━━━━━━━━━━━━━━━━━━━\u001b[0m\u001b[37m\u001b[0m \u001b[1m2s\u001b[0m 26ms/step - amount_output_loss: 0.1667 - amount_output_mse: 0.1667 - condition_output_accuracy: 1.0000 - condition_output_loss: 0.0035 - loss: 0.2249 - val_amount_output_loss: 0.1700 - val_amount_output_mse: 0.1716 - val_condition_output_accuracy: 1.0000 - val_condition_output_loss: 0.0011 - val_loss: 0.2269 - learning_rate: 5.0000e-04\n",
      "Epoch 65/200\n",
      "\u001b[1m64/66\u001b[0m \u001b[32m━━━━━━━━━━━━━━━━━━━\u001b[0m\u001b[37m━\u001b[0m \u001b[1m0s\u001b[0m 22ms/step - amount_output_loss: 0.1894 - amount_output_mse: 0.1894 - condition_output_accuracy: 1.0000 - condition_output_loss: 0.0040 - loss: 0.2484\n",
      "Epoch 65: val_loss did not improve from 0.22691\n",
      "\u001b[1m66/66\u001b[0m \u001b[32m━━━━━━━━━━━━━━━━━━━━\u001b[0m\u001b[37m\u001b[0m \u001b[1m2s\u001b[0m 25ms/step - amount_output_loss: 0.1889 - amount_output_mse: 0.1889 - condition_output_accuracy: 1.0000 - condition_output_loss: 0.0039 - loss: 0.2480 - val_amount_output_loss: 0.1738 - val_amount_output_mse: 0.1756 - val_condition_output_accuracy: 1.0000 - val_condition_output_loss: 6.2104e-04 - val_loss: 0.2352 - learning_rate: 5.0000e-04\n",
      "Epoch 66/200\n",
      "\u001b[1m66/66\u001b[0m \u001b[32m━━━━━━━━━━━━━━━━━━━━\u001b[0m\u001b[37m\u001b[0m \u001b[1m0s\u001b[0m 21ms/step - amount_output_loss: 0.1795 - amount_output_mse: 0.1795 - condition_output_accuracy: 1.0000 - condition_output_loss: 0.0022 - loss: 0.2385\n",
      "Epoch 66: val_loss did not improve from 0.22691\n",
      "\u001b[1m66/66\u001b[0m \u001b[32m━━━━━━━━━━━━━━━━━━━━\u001b[0m\u001b[37m\u001b[0m \u001b[1m2s\u001b[0m 24ms/step - amount_output_loss: 0.1793 - amount_output_mse: 0.1794 - condition_output_accuracy: 1.0000 - condition_output_loss: 0.0022 - loss: 0.2384 - val_amount_output_loss: 0.1745 - val_amount_output_mse: 0.1762 - val_condition_output_accuracy: 1.0000 - val_condition_output_loss: 5.8473e-04 - val_loss: 0.2370 - learning_rate: 5.0000e-04\n",
      "Epoch 67/200\n",
      "\u001b[1m66/66\u001b[0m \u001b[32m━━━━━━━━━━━━━━━━━━━━\u001b[0m\u001b[37m\u001b[0m \u001b[1m0s\u001b[0m 20ms/step - amount_output_loss: 0.1825 - amount_output_mse: 0.1825 - condition_output_accuracy: 1.0000 - condition_output_loss: 0.0022 - loss: 0.2426    \n",
      "Epoch 67: val_loss did not improve from 0.22691\n",
      "\u001b[1m66/66\u001b[0m \u001b[32m━━━━━━━━━━━━━━━━━━━━\u001b[0m\u001b[37m\u001b[0m \u001b[1m2s\u001b[0m 24ms/step - amount_output_loss: 0.1824 - amount_output_mse: 0.1824 - condition_output_accuracy: 1.0000 - condition_output_loss: 0.0022 - loss: 0.2426 - val_amount_output_loss: 0.1696 - val_amount_output_mse: 0.1713 - val_condition_output_accuracy: 1.0000 - val_condition_output_loss: 7.7376e-04 - val_loss: 0.2288 - learning_rate: 5.0000e-04\n",
      "Epoch 68/200\n",
      "\u001b[1m66/66\u001b[0m \u001b[32m━━━━━━━━━━━━━━━━━━━━\u001b[0m\u001b[37m\u001b[0m \u001b[1m0s\u001b[0m 21ms/step - amount_output_loss: 0.1707 - amount_output_mse: 0.1707 - condition_output_accuracy: 1.0000 - condition_output_loss: 0.0020 - loss: 0.2285    \n",
      "Epoch 68: val_loss improved from 0.22691 to 0.22421, saving model to Fast_Furious_Insured/models/best_model.keras\n",
      "\u001b[1m66/66\u001b[0m \u001b[32m━━━━━━━━━━━━━━━━━━━━\u001b[0m\u001b[37m\u001b[0m \u001b[1m2s\u001b[0m 27ms/step - amount_output_loss: 0.1707 - amount_output_mse: 0.1707 - condition_output_accuracy: 1.0000 - condition_output_loss: 0.0020 - loss: 0.2286 - val_amount_output_loss: 0.1676 - val_amount_output_mse: 0.1691 - val_condition_output_accuracy: 1.0000 - val_condition_output_loss: 9.2761e-04 - val_loss: 0.2242 - learning_rate: 2.5000e-04\n",
      "Epoch 69/200\n",
      "\u001b[1m65/66\u001b[0m \u001b[32m━━━━━━━━━━━━━━━━━━━\u001b[0m\u001b[37m━\u001b[0m \u001b[1m0s\u001b[0m 20ms/step - amount_output_loss: 0.1784 - amount_output_mse: 0.1784 - condition_output_accuracy: 1.0000 - condition_output_loss: 0.0027 - loss: 0.2347\n",
      "Epoch 69: val_loss did not improve from 0.22421\n",
      "\u001b[1m66/66\u001b[0m \u001b[32m━━━━━━━━━━━━━━━━━━━━\u001b[0m\u001b[37m\u001b[0m \u001b[1m2s\u001b[0m 24ms/step - amount_output_loss: 0.1784 - amount_output_mse: 0.1784 - condition_output_accuracy: 1.0000 - condition_output_loss: 0.0027 - loss: 0.2348 - val_amount_output_loss: 0.1689 - val_amount_output_mse: 0.1705 - val_condition_output_accuracy: 1.0000 - val_condition_output_loss: 7.4871e-04 - val_loss: 0.2269 - learning_rate: 2.5000e-04\n",
      "Epoch 70/200\n",
      "\u001b[1m66/66\u001b[0m \u001b[32m━━━━━━━━━━━━━━━━━━━━\u001b[0m\u001b[37m\u001b[0m \u001b[1m0s\u001b[0m 19ms/step - amount_output_loss: 0.1773 - amount_output_mse: 0.1773 - condition_output_accuracy: 1.0000 - condition_output_loss: 0.0027 - loss: 0.2343\n",
      "Epoch 70: val_loss did not improve from 0.22421\n",
      "\u001b[1m66/66\u001b[0m \u001b[32m━━━━━━━━━━━━━━━━━━━━\u001b[0m\u001b[37m\u001b[0m \u001b[1m1s\u001b[0m 21ms/step - amount_output_loss: 0.1772 - amount_output_mse: 0.1772 - condition_output_accuracy: 1.0000 - condition_output_loss: 0.0027 - loss: 0.2343 - val_amount_output_loss: 0.1687 - val_amount_output_mse: 0.1703 - val_condition_output_accuracy: 1.0000 - val_condition_output_loss: 7.9431e-04 - val_loss: 0.2260 - learning_rate: 2.5000e-04\n",
      "Epoch 71/200\n",
      "\u001b[1m66/66\u001b[0m \u001b[32m━━━━━━━━━━━━━━━━━━━━\u001b[0m\u001b[37m\u001b[0m \u001b[1m0s\u001b[0m 19ms/step - amount_output_loss: 0.1570 - amount_output_mse: 0.1570 - condition_output_accuracy: 1.0000 - condition_output_loss: 0.0023 - loss: 0.2136\n",
      "Epoch 71: val_loss improved from 0.22421 to 0.22374, saving model to Fast_Furious_Insured/models/best_model.keras\n",
      "\u001b[1m66/66\u001b[0m \u001b[32m━━━━━━━━━━━━━━━━━━━━\u001b[0m\u001b[37m\u001b[0m \u001b[1m2s\u001b[0m 26ms/step - amount_output_loss: 0.1572 - amount_output_mse: 0.1572 - condition_output_accuracy: 1.0000 - condition_output_loss: 0.0023 - loss: 0.2137 - val_amount_output_loss: 0.1693 - val_amount_output_mse: 0.1708 - val_condition_output_accuracy: 1.0000 - val_condition_output_loss: 9.9871e-04 - val_loss: 0.2237 - learning_rate: 2.5000e-04\n",
      "Epoch 72/200\n",
      "\u001b[1m64/66\u001b[0m \u001b[32m━━━━━━━━━━━━━━━━━━━\u001b[0m\u001b[37m━\u001b[0m \u001b[1m0s\u001b[0m 22ms/step - amount_output_loss: 0.1902 - amount_output_mse: 0.1902 - condition_output_accuracy: 1.0000 - condition_output_loss: 0.0032 - loss: 0.2458\n",
      "Epoch 72: val_loss did not improve from 0.22374\n",
      "\u001b[1m66/66\u001b[0m \u001b[32m━━━━━━━━━━━━━━━━━━━━\u001b[0m\u001b[37m\u001b[0m \u001b[1m2s\u001b[0m 25ms/step - amount_output_loss: 0.1897 - amount_output_mse: 0.1897 - condition_output_accuracy: 1.0000 - condition_output_loss: 0.0032 - loss: 0.2453 - val_amount_output_loss: 0.1680 - val_amount_output_mse: 0.1696 - val_condition_output_accuracy: 1.0000 - val_condition_output_loss: 7.2314e-04 - val_loss: 0.2254 - learning_rate: 2.5000e-04\n",
      "Epoch 73/200\n",
      "\u001b[1m65/66\u001b[0m \u001b[32m━━━━━━━━━━━━━━━━━━━\u001b[0m\u001b[37m━\u001b[0m \u001b[1m0s\u001b[0m 24ms/step - amount_output_loss: 0.1696 - amount_output_mse: 0.1696 - condition_output_accuracy: 1.0000 - condition_output_loss: 0.0021 - loss: 0.2259\n",
      "Epoch 73: val_loss improved from 0.22374 to 0.22344, saving model to Fast_Furious_Insured/models/best_model.keras\n",
      "\u001b[1m66/66\u001b[0m \u001b[32m━━━━━━━━━━━━━━━━━━━━\u001b[0m\u001b[37m\u001b[0m \u001b[1m2s\u001b[0m 31ms/step - amount_output_loss: 0.1696 - amount_output_mse: 0.1696 - condition_output_accuracy: 1.0000 - condition_output_loss: 0.0021 - loss: 0.2260 - val_amount_output_loss: 0.1689 - val_amount_output_mse: 0.1705 - val_condition_output_accuracy: 1.0000 - val_condition_output_loss: 8.5013e-04 - val_loss: 0.2234 - learning_rate: 2.5000e-04\n",
      "Epoch 74/200\n",
      "\u001b[1m66/66\u001b[0m \u001b[32m━━━━━━━━━━━━━━━━━━━━\u001b[0m\u001b[37m\u001b[0m \u001b[1m0s\u001b[0m 21ms/step - amount_output_loss: 0.1585 - amount_output_mse: 0.1585 - condition_output_accuracy: 1.0000 - condition_output_loss: 0.0030 - loss: 0.2140    \n",
      "Epoch 74: val_loss improved from 0.22344 to 0.22306, saving model to Fast_Furious_Insured/models/best_model.keras\n",
      "\u001b[1m66/66\u001b[0m \u001b[32m━━━━━━━━━━━━━━━━━━━━\u001b[0m\u001b[37m\u001b[0m \u001b[1m2s\u001b[0m 26ms/step - amount_output_loss: 0.1588 - amount_output_mse: 0.1588 - condition_output_accuracy: 1.0000 - condition_output_loss: 0.0030 - loss: 0.2143 - val_amount_output_loss: 0.1682 - val_amount_output_mse: 0.1698 - val_condition_output_accuracy: 1.0000 - val_condition_output_loss: 9.6199e-04 - val_loss: 0.2231 - learning_rate: 2.5000e-04\n",
      "Epoch 75/200\n",
      "\u001b[1m65/66\u001b[0m \u001b[32m━━━━━━━━━━━━━━━━━━━\u001b[0m\u001b[37m━\u001b[0m \u001b[1m0s\u001b[0m 21ms/step - amount_output_loss: 0.1751 - amount_output_mse: 0.1751 - condition_output_accuracy: 1.0000 - condition_output_loss: 0.0030 - loss: 0.2306\n",
      "Epoch 75: val_loss did not improve from 0.22306\n",
      "\u001b[1m66/66\u001b[0m \u001b[32m━━━━━━━━━━━━━━━━━━━━\u001b[0m\u001b[37m\u001b[0m \u001b[1m2s\u001b[0m 24ms/step - amount_output_loss: 0.1752 - amount_output_mse: 0.1751 - condition_output_accuracy: 1.0000 - condition_output_loss: 0.0030 - loss: 0.2307 - val_amount_output_loss: 0.1694 - val_amount_output_mse: 0.1710 - val_condition_output_accuracy: 1.0000 - val_condition_output_loss: 6.2806e-04 - val_loss: 0.2270 - learning_rate: 2.5000e-04\n",
      "Epoch 76/200\n",
      "\u001b[1m66/66\u001b[0m \u001b[32m━━━━━━━━━━━━━━━━━━━━\u001b[0m\u001b[37m\u001b[0m \u001b[1m0s\u001b[0m 21ms/step - amount_output_loss: 0.1784 - amount_output_mse: 0.1784 - condition_output_accuracy: 1.0000 - condition_output_loss: 0.0026 - loss: 0.2346\n",
      "Epoch 76: val_loss did not improve from 0.22306\n",
      "\u001b[1m66/66\u001b[0m \u001b[32m━━━━━━━━━━━━━━━━━━━━\u001b[0m\u001b[37m\u001b[0m \u001b[1m2s\u001b[0m 24ms/step - amount_output_loss: 0.1784 - amount_output_mse: 0.1784 - condition_output_accuracy: 1.0000 - condition_output_loss: 0.0026 - loss: 0.2346 - val_amount_output_loss: 0.1680 - val_amount_output_mse: 0.1695 - val_condition_output_accuracy: 1.0000 - val_condition_output_loss: 7.0293e-04 - val_loss: 0.2252 - learning_rate: 2.5000e-04\n",
      "Epoch 77/200\n",
      "\u001b[1m66/66\u001b[0m \u001b[32m━━━━━━━━━━━━━━━━━━━━\u001b[0m\u001b[37m\u001b[0m \u001b[1m0s\u001b[0m 23ms/step - amount_output_loss: 0.1745 - amount_output_mse: 0.1745 - condition_output_accuracy: 1.0000 - condition_output_loss: 0.0019 - loss: 0.2299\n",
      "Epoch 77: val_loss did not improve from 0.22306\n",
      "\u001b[1m66/66\u001b[0m \u001b[32m━━━━━━━━━━━━━━━━━━━━\u001b[0m\u001b[37m\u001b[0m \u001b[1m2s\u001b[0m 26ms/step - amount_output_loss: 0.1744 - amount_output_mse: 0.1745 - condition_output_accuracy: 1.0000 - condition_output_loss: 0.0019 - loss: 0.2299 - val_amount_output_loss: 0.1692 - val_amount_output_mse: 0.1708 - val_condition_output_accuracy: 1.0000 - val_condition_output_loss: 7.6208e-04 - val_loss: 0.2247 - learning_rate: 2.5000e-04\n",
      "Epoch 78/200\n",
      "\u001b[1m66/66\u001b[0m \u001b[32m━━━━━━━━━━━━━━━━━━━━\u001b[0m\u001b[37m\u001b[0m \u001b[1m0s\u001b[0m 21ms/step - amount_output_loss: 0.1764 - amount_output_mse: 0.1764 - condition_output_accuracy: 1.0000 - condition_output_loss: 0.0024 - loss: 0.2318\n",
      "Epoch 78: val_loss did not improve from 0.22306\n",
      "\u001b[1m66/66\u001b[0m \u001b[32m━━━━━━━━━━━━━━━━━━━━\u001b[0m\u001b[37m\u001b[0m \u001b[1m2s\u001b[0m 24ms/step - amount_output_loss: 0.1764 - amount_output_mse: 0.1764 - condition_output_accuracy: 1.0000 - condition_output_loss: 0.0024 - loss: 0.2318 - val_amount_output_loss: 0.1683 - val_amount_output_mse: 0.1698 - val_condition_output_accuracy: 1.0000 - val_condition_output_loss: 7.9686e-04 - val_loss: 0.2234 - learning_rate: 1.2500e-04\n",
      "Epoch 79/200\n",
      "\u001b[1m66/66\u001b[0m \u001b[32m━━━━━━━━━━━━━━━━━━━━\u001b[0m\u001b[37m\u001b[0m \u001b[1m0s\u001b[0m 20ms/step - amount_output_loss: 0.1639 - amount_output_mse: 0.1638 - condition_output_accuracy: 1.0000 - condition_output_loss: 0.0026 - loss: 0.2194\n",
      "Epoch 79: val_loss did not improve from 0.22306\n",
      "\u001b[1m66/66\u001b[0m \u001b[32m━━━━━━━━━━━━━━━━━━━━\u001b[0m\u001b[37m\u001b[0m \u001b[1m2s\u001b[0m 24ms/step - amount_output_loss: 0.1640 - amount_output_mse: 0.1640 - condition_output_accuracy: 1.0000 - condition_output_loss: 0.0026 - loss: 0.2196 - val_amount_output_loss: 0.1678 - val_amount_output_mse: 0.1693 - val_condition_output_accuracy: 1.0000 - val_condition_output_loss: 7.8032e-04 - val_loss: 0.2232 - learning_rate: 1.2500e-04\n",
      "Model saved and logged in MLflow at Fast_Furious_Insured/models/model_1738655975.keras\n"
     ]
    }
   ],
   "source": [
    "with mlflow.start_run():\n",
    "    # Log hyperparameters\n",
    "    mlflow.log_param('learning_rate', 0.001)\n",
    "    mlflow.log_param('epochs', 200)\n",
    "    mlflow.log_param('batch_size', 16)\n",
    "\n",
    "    # Save model\n",
    "    model.save(model_path)  # Save the model with a unique name\n",
    "    mlflow.tensorflow.log_model(model, 'model')  # Log the model with example input\n",
    "\n",
    "    # Log metrics during training\n",
    "    history = model.fit(\n",
    "        [image_features, structured_data_scaled],  # Inputs\n",
    "        {'condition_output': condition_labels, 'amount_output': amount_labels},  # Outputs\n",
    "        epochs=200,\n",
    "        batch_size=16,\n",
    "        validation_split=0.2,\n",
    "        callbacks=[early_stopping, reduce_lr, checkpoint],  # Callbacks for early stopping, LR reduction, and saving the best model\n",
    "        verbose=1\n",
    "    )\n",
    "\n",
    "    # Log training metrics after training\n",
    "    mlflow.log_metric('condition_output_accuracy', history.history['condition_output_accuracy'][-1])\n",
    "    mlflow.log_metric('amount_output_mse', history.history['amount_output_mse'][-1])\n",
    "\n",
    "    # Optionally log validation metrics\n",
    "    mlflow.log_metric('val_condition_output_accuracy', history.history['val_condition_output_accuracy'][-1])\n",
    "    mlflow.log_metric('val_amount_output_mse', history.history['val_amount_output_mse'][-1])\n",
    "\n",
    "    print(f\"Model saved and logged in MLflow at {model_path}\")"
   ]
  },
  {
   "cell_type": "code",
   "execution_count": 25,
   "id": "d9d263a6-f6e2-46b0-a5c7-08d0b017e36b",
   "metadata": {},
   "outputs": [
    {
     "data": {
      "image/png": "[encoded data removed]",
      "text/plain": [
       "<Figure size 640x480 with 1 Axes>"
      ]
     },
     "metadata": {},
     "output_type": "display_data"
    }
   ],
   "source": [
    "# Plot training and validation loss\n",
    "plt.plot(history.history['loss'], label='Training Loss')\n",
    "plt.plot(history.history['val_loss'], label='Validation Loss')\n",
    "plt.xlabel('Epochs')\n",
    "plt.ylabel('Loss')\n",
    "plt.legend()\n",
    "plt.title('Training and Validation Loss')\n",
    "plt.show()\n"
   ]
  },
  {
   "cell_type": "code",
   "execution_count": 30,
   "id": "e7fc882d-9a55-4812-a282-cd79a97ae49d",
   "metadata": {},
   "outputs": [
    {
     "name": "stdout",
     "output_type": "stream",
     "text": [
      "Final Training and Validation Metrics:\n",
      "\n",
      "Training Metrics:\n",
      "amount_output_loss: 0.1749\n",
      "amount_output_mse: 0.1747\n",
      "condition_output_accuracy: 1.0000\n",
      "condition_output_loss: 0.0026\n",
      "loss: 0.2302\n",
      "learning_rate: 0.0001\n",
      "\n",
      "Validation Metrics:\n",
      "val_amount_output_loss: 0.1678\n",
      "val_amount_output_mse: 0.1693\n",
      "val_condition_output_accuracy: 1.0000\n",
      "val_condition_output_loss: 0.0008\n",
      "val_loss: 0.2232\n"
     ]
    }
   ],
   "source": [
    "# Print the final training and validation metrics and losses\n",
    "print(\"Final Training and Validation Metrics:\")\n",
    "\n",
    "# Print the final training metrics\n",
    "print(\"\\nTraining Metrics:\")\n",
    "for metric, values in history.history.items():\n",
    "    if 'val_' not in metric:  # Training metrics do not contain 'val_'\n",
    "        print(f\"{metric}: {values[-1]:.4f}\")  # Print the last value for each training metric\n",
    "\n",
    "# Print the final validation metrics\n",
    "print(\"\\nValidation Metrics:\")\n",
    "for metric, values in history.history.items():\n",
    "    if 'val_' in metric:  # Validation metrics contain 'val_'\n",
    "        print(f\"{metric}: {values[-1]:.4f}\")  # Print the last value for each validation metric\n"
   ]
  },
  {
   "cell_type": "code",
   "execution_count": null,
   "id": "350a0d40-f7af-4e2a-a378-6a9c6e546859",
   "metadata": {},
   "outputs": [],
   "source": []
  }
 ],
 "metadata": {
  "kernelspec": {
   "display_name": "Python 3.11",
   "language": "python",
   "name": "python3.11"
  },
  "language_info": {
   "codemirror_mode": {
    "name": "ipython",
    "version": 3
   },
   "file_extension": ".py",
   "mimetype": "text/x-python",
   "name": "python",
   "nbconvert_exporter": "python",
   "pygments_lexer": "ipython3",
   "version": "3.11.0"
  }
 },
 "nbformat": 4,
 "nbformat_minor": 5
}
