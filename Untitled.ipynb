{
 "cells": [
  {
   "cell_type": "code",
   "execution_count": 20,
   "id": "a228ec0a-9486-47a9-909e-28fdb17b3a20",
   "metadata": {},
   "outputs": [],
   "source": [
    "import pandas as pd\n",
    "image = pd.read_pickle(\"processed_data/stored_data/image_features.pkl\")\n",
    "data = pd.read_pickle(\"processed_data/stored_data/processed_structured.pkl\")"
   ]
  },
  {
   "cell_type": "code",
   "execution_count": 21,
   "id": "ec1bb10a-0571-4eef-ad43-bb5d4c08e1fa",
   "metadata": {},
   "outputs": [
    {
     "data": {
      "text/plain": [
       "2"
      ]
     },
     "execution_count": 21,
     "metadata": {},
     "output_type": "execute_result"
    }
   ],
   "source": [
    "len(image)"
   ]
  },
  {
   "cell_type": "code",
   "execution_count": null,
   "id": "e0f97cbe-1958-435b-a6d2-beccb444c1bc",
   "metadata": {},
   "outputs": [],
   "source": []
  }
 ],
 "metadata": {
  "kernelspec": {
   "display_name": "Python 3.11",
   "language": "python",
   "name": "python3.11"
  },
  "language_info": {
   "codemirror_mode": {
    "name": "ipython",
    "version": 3
   },
   "file_extension": ".py",
   "mimetype": "text/x-python",
   "name": "python",
   "nbconvert_exporter": "python",
   "pygments_lexer": "ipython3",
   "version": "3.11.0"
  }
 },
 "nbformat": 4,
 "nbformat_minor": 5
}
