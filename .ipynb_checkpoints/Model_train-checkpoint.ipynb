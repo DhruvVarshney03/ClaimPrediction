{
 "cells": [
  {
   "cell_type": "code",
   "execution_count": 1,
   "id": "841bb3b3-7125-4c05-8b2c-2710537a1a71",
   "metadata": {},
   "outputs": [],
   "source": [
    "import numpy as np\n",
    "import pandas as pd\n",
    "import tensorflow as tf\n",
    "from tensorflow.keras import layers, Model\n",
    "from tensorflow.keras.layers import Input, Dense, Flatten, Concatenate, Dropout, BatchNormalization, LeakyReLU\n",
    "from tensorflow.keras.optimizers import Adam\n",
    "from tensorflow.keras.callbacks import EarlyStopping, ReduceLROnPlateau, ModelCheckpoint\n",
    "from tensorflow.keras.regularizers import l2\n"
   ]
  },
  {
   "cell_type": "markdown",
   "id": "d3a2883e-d396-46f7-8134-8a54cf5bfcbc",
   "metadata": {},
   "source": [
    "### Load Processed Data"
   ]
  },
  {
   "cell_type": "code",
   "execution_count": 2,
   "id": "a9a70b95-f488-48e5-a563-0eba85413b28",
   "metadata": {},
   "outputs": [],
   "source": [
    "data = pd.read_pickle(\"processed_data/final_train_data.pkl\")\n",
    "test_data = pd.read_pickle(\"processed_data/final_test_data.pkl\")"
   ]
  },
  {
   "cell_type": "code",
   "execution_count": 3,
   "id": "d5115236-3a8a-4d5e-9b26-8ab95a9ef668",
   "metadata": {},
   "outputs": [
    {
     "data": {
      "text/plain": [
       "(1310, 2066)"
      ]
     },
     "execution_count": 3,
     "metadata": {},
     "output_type": "execute_result"
    }
   ],
   "source": [
    "data.dtypes\n",
    "data.shape"
   ]
  },
  {
   "cell_type": "code",
   "execution_count": 4,
   "id": "3e3c3977-a9f1-4052-875c-1c58a5569ce0",
   "metadata": {},
   "outputs": [],
   "source": [
    "# Extract structured data (already encoded & scaled)\n",
    "# Extract first 18 columns, excluding columns 1, 6, and 7\n",
    "structured_data = data.iloc[:, :18]  # First 18 columns\n",
    "structured_data = structured_data.drop(columns=[data.columns[0], data.columns[5], data.columns[6]])\n",
    "structured_data_scaled = structured_data.values\n"
   ]
  },
  {
   "cell_type": "code",
   "execution_count": null,
   "id": "7bd3b639-7bc5-47c4-baea-1679e1114663",
   "metadata": {},
   "outputs": [],
   "source": []
  },
  {
   "cell_type": "code",
   "execution_count": 5,
   "id": "0bad21c8-98c8-47b3-8a3f-f70ee6adc9ae",
   "metadata": {},
   "outputs": [],
   "source": [
    "# Extract image features\n",
    "image_features = data.iloc[:, 18:].values"
   ]
  },
  {
   "cell_type": "code",
   "execution_count": 6,
   "id": "1d0adeb8-e50b-4b8d-b4af-5483b76556d1",
   "metadata": {},
   "outputs": [
    {
     "data": {
      "text/plain": [
       "(1310, 2048)"
      ]
     },
     "execution_count": 6,
     "metadata": {},
     "output_type": "execute_result"
    }
   ],
   "source": [
    "image_features.shape"
   ]
  },
  {
   "cell_type": "code",
   "execution_count": 7,
   "id": "57740ae8-57f0-49e0-b7be-f2ee520f8cc4",
   "metadata": {},
   "outputs": [],
   "source": [
    "# Extract labels\n",
    "condition_labels = data['Condition'].values  # Binary classification target\n",
    "amount_labels = data['Amount'].values.reshape(-1, 1)  # Regression target"
   ]
  },
  {
   "cell_type": "code",
   "execution_count": 8,
   "id": "c4930818-54eb-40bc-94a7-56668f76783a",
   "metadata": {},
   "outputs": [
    {
     "name": "stdout",
     "output_type": "stream",
     "text": [
      "0 0\n"
     ]
    }
   ],
   "source": [
    "print(np.isnan(image_features).sum(), np.isnan(structured_data_scaled).sum())"
   ]
  },
  {
   "cell_type": "code",
   "execution_count": null,
   "id": "45c62cce-fac2-404d-a6be-853de84c30c2",
   "metadata": {},
   "outputs": [],
   "source": []
  },
  {
   "cell_type": "markdown",
   "id": "c6253706-b86d-44c1-baf8-44845e88bba9",
   "metadata": {},
   "source": [
    "### Image Data Augmentation"
   ]
  },
  {
   "cell_type": "code",
   "execution_count": 9,
   "id": "523a4c97-cc20-4e93-9309-dfff086fe444",
   "metadata": {},
   "outputs": [],
   "source": [
    "# image_augmentation = tf.keras.Sequential([\n",
    "#     layers.GaussianNoise(0.1)  # Only works with numerical features\n",
    "# ])\n",
    "\n",
    "# # Apply augmentation only during training\n",
    "# augmented_image_features = image_augmentation(image_features, training=True)"
   ]
  },
  {
   "cell_type": "markdown",
   "id": "bd193549-e5ea-4105-8ba9-647f208a5365",
   "metadata": {},
   "source": [
    "### Build Model"
   ]
  },
  {
   "cell_type": "code",
   "execution_count": 10,
   "id": "22d2e40e-efe3-4dd4-8dac-e22037be7de4",
   "metadata": {},
   "outputs": [],
   "source": [
    "image_input = Input(shape=(image_features.shape[1],), name='image_input')\n",
    "x = Dense(512, kernel_initializer='he_normal', kernel_regularizer=l2(0.0005))(image_input)\n",
    "x = BatchNormalization()(x)\n",
    "x = LeakyReLU(negative_slope=0.1)(x)\n",
    "#x = Dropout(0.3)(x)\n",
    "\n",
    "x = Dense(256, kernel_initializer='he_normal', kernel_regularizer=l2(0.0005))(x)\n",
    "#x = BatchNormalization()(x)\n",
    "x = LeakyReLU(negative_slope=0.1)(x)\n",
    "#x = Dropout(0.3)(x)"
   ]
  },
  {
   "cell_type": "code",
   "execution_count": 11,
   "id": "88445203-bd37-4365-b5a9-f6a48199ac8a",
   "metadata": {},
   "outputs": [],
   "source": [
    "structured_input = Input(shape=(structured_data_scaled.shape[1],), name='structured_input')\n",
    "y = Dense(128, kernel_initializer='he_normal', kernel_regularizer=l2(0.0005))(structured_input)\n",
    "y = BatchNormalization()(y)\n",
    "y = LeakyReLU(negative_slope=0.1)(y)\n",
    "#y = Dropout(0.3)(y)\n",
    "\n",
    "y = Dense(64, kernel_initializer='he_normal', kernel_regularizer=l2(0.0005))(y)\n",
    "y = BatchNormalization()(y)\n",
    "y = LeakyReLU(negative_slope=0.1)(y)\n",
    "#y = Dropout(0.3)(y)\n"
   ]
  },
  {
   "cell_type": "code",
   "execution_count": 12,
   "id": "33daa643-4d32-4701-9e2d-5ef2f72c53da",
   "metadata": {},
   "outputs": [],
   "source": [
    "combined = Concatenate()([x, y])\n",
    "\n",
    "z = Dense(128, kernel_initializer='he_normal', kernel_regularizer=l2(0.0005))(combined)\n",
    "z = BatchNormalization()(z)\n",
    "z = LeakyReLU(negative_slope=0.1)(z)\n",
    "#z = Dropout(0.3)(z)\n",
    "\n",
    "z = Dense(64, kernel_initializer='he_normal', kernel_regularizer=l2(0.0005))(z)\n",
    "z = BatchNormalization()(z)\n",
    "z = LeakyReLU(negative_slope=0.1)(z)\n",
    "#z = Dropout(0.3)(z)\n",
    "\n",
    "\n"
   ]
  },
  {
   "cell_type": "code",
   "execution_count": 13,
   "id": "59d21550-e6a1-4d6c-8758-accc3b86f51b",
   "metadata": {},
   "outputs": [],
   "source": [
    "# Output 1: Condition (Binary Classification)\n",
    "condition_output = Dense(1, activation='sigmoid', name='condition_output')(z)"
   ]
  },
  {
   "cell_type": "code",
   "execution_count": 14,
   "id": "19e5f437-4d2d-429d-bc38-2da646333e68",
   "metadata": {},
   "outputs": [],
   "source": [
    "# Output 2: Amount (Regression)\n",
    "amount_output = Dense(1, activation='linear', name='amount_output')(z)"
   ]
  },
  {
   "cell_type": "code",
   "execution_count": 15,
   "id": "a5bcfcf1-22bc-4109-b38d-e96410d861ba",
   "metadata": {},
   "outputs": [],
   "source": [
    "# Define the Model\n",
    "model = Model(inputs=[image_input, structured_input], outputs=[condition_output, amount_output])"
   ]
  },
  {
   "cell_type": "code",
   "execution_count": 16,
   "id": "ca9b532b-8131-4cf9-b4fc-11d27ecc999b",
   "metadata": {},
   "outputs": [],
   "source": [
    "# Compile the Model\n",
    "model.compile(optimizer=Adam(learning_rate=0.001),\n",
    "              loss={'condition_output': 'binary_crossentropy', 'amount_output':tf.keras.losses.Huber()},\n",
    "              metrics={'condition_output': 'accuracy', 'amount_output': 'mse'})"
   ]
  },
  {
   "cell_type": "code",
   "execution_count": 17,
   "id": "99582ed9-145d-415a-a758-48d6ff12284c",
   "metadata": {},
   "outputs": [],
   "source": [
    "#callback\n",
    "early_stopping = EarlyStopping(monitor='val_loss', patience=5, restore_best_weights=True)\n",
    "reduce_lr = ReduceLROnPlateau(monitor='val_loss', factor=0.5, patience=3, min_lr=1e-6)\n",
    "checkpoint = ModelCheckpoint('models/best_model.keras', monitor='val_loss', save_best_only=True, mode='min', verbose=1)"
   ]
  },
  {
   "cell_type": "markdown",
   "id": "82412ff1-0914-41b3-b866-e1a7054aabbe",
   "metadata": {},
   "source": [
    "### Train Model"
   ]
  },
  {
   "cell_type": "code",
   "execution_count": 18,
   "id": "a540b812-e4e9-4a06-adfd-699e5b1df439",
   "metadata": {},
   "outputs": [
    {
     "data": {
      "text/html": [
       "<pre style=\"white-space:pre;overflow-x:auto;line-height:normal;font-family:Menlo,'DejaVu Sans Mono',consolas,'Courier New',monospace\"><span style=\"font-weight: bold\">Model: \"functional\"</span>\n",
       "</pre>\n"
      ],
      "text/plain": [
       "\u001b[1mModel: \"functional\"\u001b[0m\n"
      ]
     },
     "metadata": {},
     "output_type": "display_data"
    },
    {
     "data": {
      "text/html": [
       "<pre style=\"white-space:pre;overflow-x:auto;line-height:normal;font-family:Menlo,'DejaVu Sans Mono',consolas,'Courier New',monospace\">┏━━━━━━━━━━━━━━━━━━━━━━━━━━━━━━━┳━━━━━━━━━━━━━━━━━━━━━━━━━━━┳━━━━━━━━━━━━━━━━━┳━━━━━━━━━━━━━━━━━━━━━━━━━━━━┓\n",
       "┃<span style=\"font-weight: bold\"> Layer (type)                  </span>┃<span style=\"font-weight: bold\"> Output Shape              </span>┃<span style=\"font-weight: bold\">         Param # </span>┃<span style=\"font-weight: bold\"> Connected to               </span>┃\n",
       "┡━━━━━━━━━━━━━━━━━━━━━━━━━━━━━━━╇━━━━━━━━━━━━━━━━━━━━━━━━━━━╇━━━━━━━━━━━━━━━━━╇━━━━━━━━━━━━━━━━━━━━━━━━━━━━┩\n",
       "│ structured_input (<span style=\"color: #0087ff; text-decoration-color: #0087ff\">InputLayer</span>) │ (<span style=\"color: #00d7ff; text-decoration-color: #00d7ff\">None</span>, <span style=\"color: #00af00; text-decoration-color: #00af00\">15</span>)                │               <span style=\"color: #00af00; text-decoration-color: #00af00\">0</span> │ -                          │\n",
       "├───────────────────────────────┼───────────────────────────┼─────────────────┼────────────────────────────┤\n",
       "│ image_input (<span style=\"color: #0087ff; text-decoration-color: #0087ff\">InputLayer</span>)      │ (<span style=\"color: #00d7ff; text-decoration-color: #00d7ff\">None</span>, <span style=\"color: #00af00; text-decoration-color: #00af00\">2048</span>)              │               <span style=\"color: #00af00; text-decoration-color: #00af00\">0</span> │ -                          │\n",
       "├───────────────────────────────┼───────────────────────────┼─────────────────┼────────────────────────────┤\n",
       "│ dense_2 (<span style=\"color: #0087ff; text-decoration-color: #0087ff\">Dense</span>)               │ (<span style=\"color: #00d7ff; text-decoration-color: #00d7ff\">None</span>, <span style=\"color: #00af00; text-decoration-color: #00af00\">128</span>)               │           <span style=\"color: #00af00; text-decoration-color: #00af00\">2,048</span> │ structured_input[<span style=\"color: #00af00; text-decoration-color: #00af00\">0</span>][<span style=\"color: #00af00; text-decoration-color: #00af00\">0</span>]     │\n",
       "├───────────────────────────────┼───────────────────────────┼─────────────────┼────────────────────────────┤\n",
       "│ dense (<span style=\"color: #0087ff; text-decoration-color: #0087ff\">Dense</span>)                 │ (<span style=\"color: #00d7ff; text-decoration-color: #00d7ff\">None</span>, <span style=\"color: #00af00; text-decoration-color: #00af00\">512</span>)               │       <span style=\"color: #00af00; text-decoration-color: #00af00\">1,049,088</span> │ image_input[<span style=\"color: #00af00; text-decoration-color: #00af00\">0</span>][<span style=\"color: #00af00; text-decoration-color: #00af00\">0</span>]          │\n",
       "├───────────────────────────────┼───────────────────────────┼─────────────────┼────────────────────────────┤\n",
       "│ batch_normalization_1         │ (<span style=\"color: #00d7ff; text-decoration-color: #00d7ff\">None</span>, <span style=\"color: #00af00; text-decoration-color: #00af00\">128</span>)               │             <span style=\"color: #00af00; text-decoration-color: #00af00\">512</span> │ dense_2[<span style=\"color: #00af00; text-decoration-color: #00af00\">0</span>][<span style=\"color: #00af00; text-decoration-color: #00af00\">0</span>]              │\n",
       "│ (<span style=\"color: #0087ff; text-decoration-color: #0087ff\">BatchNormalization</span>)          │                           │                 │                            │\n",
       "├───────────────────────────────┼───────────────────────────┼─────────────────┼────────────────────────────┤\n",
       "│ batch_normalization           │ (<span style=\"color: #00d7ff; text-decoration-color: #00d7ff\">None</span>, <span style=\"color: #00af00; text-decoration-color: #00af00\">512</span>)               │           <span style=\"color: #00af00; text-decoration-color: #00af00\">2,048</span> │ dense[<span style=\"color: #00af00; text-decoration-color: #00af00\">0</span>][<span style=\"color: #00af00; text-decoration-color: #00af00\">0</span>]                │\n",
       "│ (<span style=\"color: #0087ff; text-decoration-color: #0087ff\">BatchNormalization</span>)          │                           │                 │                            │\n",
       "├───────────────────────────────┼───────────────────────────┼─────────────────┼────────────────────────────┤\n",
       "│ leaky_re_lu_2 (<span style=\"color: #0087ff; text-decoration-color: #0087ff\">LeakyReLU</span>)     │ (<span style=\"color: #00d7ff; text-decoration-color: #00d7ff\">None</span>, <span style=\"color: #00af00; text-decoration-color: #00af00\">128</span>)               │               <span style=\"color: #00af00; text-decoration-color: #00af00\">0</span> │ batch_normalization_1[<span style=\"color: #00af00; text-decoration-color: #00af00\">0</span>][<span style=\"color: #00af00; text-decoration-color: #00af00\">…</span> │\n",
       "├───────────────────────────────┼───────────────────────────┼─────────────────┼────────────────────────────┤\n",
       "│ leaky_re_lu (<span style=\"color: #0087ff; text-decoration-color: #0087ff\">LeakyReLU</span>)       │ (<span style=\"color: #00d7ff; text-decoration-color: #00d7ff\">None</span>, <span style=\"color: #00af00; text-decoration-color: #00af00\">512</span>)               │               <span style=\"color: #00af00; text-decoration-color: #00af00\">0</span> │ batch_normalization[<span style=\"color: #00af00; text-decoration-color: #00af00\">0</span>][<span style=\"color: #00af00; text-decoration-color: #00af00\">0</span>]  │\n",
       "├───────────────────────────────┼───────────────────────────┼─────────────────┼────────────────────────────┤\n",
       "│ dense_3 (<span style=\"color: #0087ff; text-decoration-color: #0087ff\">Dense</span>)               │ (<span style=\"color: #00d7ff; text-decoration-color: #00d7ff\">None</span>, <span style=\"color: #00af00; text-decoration-color: #00af00\">64</span>)                │           <span style=\"color: #00af00; text-decoration-color: #00af00\">8,256</span> │ leaky_re_lu_2[<span style=\"color: #00af00; text-decoration-color: #00af00\">0</span>][<span style=\"color: #00af00; text-decoration-color: #00af00\">0</span>]        │\n",
       "├───────────────────────────────┼───────────────────────────┼─────────────────┼────────────────────────────┤\n",
       "│ dense_1 (<span style=\"color: #0087ff; text-decoration-color: #0087ff\">Dense</span>)               │ (<span style=\"color: #00d7ff; text-decoration-color: #00d7ff\">None</span>, <span style=\"color: #00af00; text-decoration-color: #00af00\">256</span>)               │         <span style=\"color: #00af00; text-decoration-color: #00af00\">131,328</span> │ leaky_re_lu[<span style=\"color: #00af00; text-decoration-color: #00af00\">0</span>][<span style=\"color: #00af00; text-decoration-color: #00af00\">0</span>]          │\n",
       "├───────────────────────────────┼───────────────────────────┼─────────────────┼────────────────────────────┤\n",
       "│ batch_normalization_2         │ (<span style=\"color: #00d7ff; text-decoration-color: #00d7ff\">None</span>, <span style=\"color: #00af00; text-decoration-color: #00af00\">64</span>)                │             <span style=\"color: #00af00; text-decoration-color: #00af00\">256</span> │ dense_3[<span style=\"color: #00af00; text-decoration-color: #00af00\">0</span>][<span style=\"color: #00af00; text-decoration-color: #00af00\">0</span>]              │\n",
       "│ (<span style=\"color: #0087ff; text-decoration-color: #0087ff\">BatchNormalization</span>)          │                           │                 │                            │\n",
       "├───────────────────────────────┼───────────────────────────┼─────────────────┼────────────────────────────┤\n",
       "│ leaky_re_lu_1 (<span style=\"color: #0087ff; text-decoration-color: #0087ff\">LeakyReLU</span>)     │ (<span style=\"color: #00d7ff; text-decoration-color: #00d7ff\">None</span>, <span style=\"color: #00af00; text-decoration-color: #00af00\">256</span>)               │               <span style=\"color: #00af00; text-decoration-color: #00af00\">0</span> │ dense_1[<span style=\"color: #00af00; text-decoration-color: #00af00\">0</span>][<span style=\"color: #00af00; text-decoration-color: #00af00\">0</span>]              │\n",
       "├───────────────────────────────┼───────────────────────────┼─────────────────┼────────────────────────────┤\n",
       "│ leaky_re_lu_3 (<span style=\"color: #0087ff; text-decoration-color: #0087ff\">LeakyReLU</span>)     │ (<span style=\"color: #00d7ff; text-decoration-color: #00d7ff\">None</span>, <span style=\"color: #00af00; text-decoration-color: #00af00\">64</span>)                │               <span style=\"color: #00af00; text-decoration-color: #00af00\">0</span> │ batch_normalization_2[<span style=\"color: #00af00; text-decoration-color: #00af00\">0</span>][<span style=\"color: #00af00; text-decoration-color: #00af00\">…</span> │\n",
       "├───────────────────────────────┼───────────────────────────┼─────────────────┼────────────────────────────┤\n",
       "│ concatenate (<span style=\"color: #0087ff; text-decoration-color: #0087ff\">Concatenate</span>)     │ (<span style=\"color: #00d7ff; text-decoration-color: #00d7ff\">None</span>, <span style=\"color: #00af00; text-decoration-color: #00af00\">320</span>)               │               <span style=\"color: #00af00; text-decoration-color: #00af00\">0</span> │ leaky_re_lu_1[<span style=\"color: #00af00; text-decoration-color: #00af00\">0</span>][<span style=\"color: #00af00; text-decoration-color: #00af00\">0</span>],       │\n",
       "│                               │                           │                 │ leaky_re_lu_3[<span style=\"color: #00af00; text-decoration-color: #00af00\">0</span>][<span style=\"color: #00af00; text-decoration-color: #00af00\">0</span>]        │\n",
       "├───────────────────────────────┼───────────────────────────┼─────────────────┼────────────────────────────┤\n",
       "│ dense_4 (<span style=\"color: #0087ff; text-decoration-color: #0087ff\">Dense</span>)               │ (<span style=\"color: #00d7ff; text-decoration-color: #00d7ff\">None</span>, <span style=\"color: #00af00; text-decoration-color: #00af00\">128</span>)               │          <span style=\"color: #00af00; text-decoration-color: #00af00\">41,088</span> │ concatenate[<span style=\"color: #00af00; text-decoration-color: #00af00\">0</span>][<span style=\"color: #00af00; text-decoration-color: #00af00\">0</span>]          │\n",
       "├───────────────────────────────┼───────────────────────────┼─────────────────┼────────────────────────────┤\n",
       "│ batch_normalization_3         │ (<span style=\"color: #00d7ff; text-decoration-color: #00d7ff\">None</span>, <span style=\"color: #00af00; text-decoration-color: #00af00\">128</span>)               │             <span style=\"color: #00af00; text-decoration-color: #00af00\">512</span> │ dense_4[<span style=\"color: #00af00; text-decoration-color: #00af00\">0</span>][<span style=\"color: #00af00; text-decoration-color: #00af00\">0</span>]              │\n",
       "│ (<span style=\"color: #0087ff; text-decoration-color: #0087ff\">BatchNormalization</span>)          │                           │                 │                            │\n",
       "├───────────────────────────────┼───────────────────────────┼─────────────────┼────────────────────────────┤\n",
       "│ leaky_re_lu_4 (<span style=\"color: #0087ff; text-decoration-color: #0087ff\">LeakyReLU</span>)     │ (<span style=\"color: #00d7ff; text-decoration-color: #00d7ff\">None</span>, <span style=\"color: #00af00; text-decoration-color: #00af00\">128</span>)               │               <span style=\"color: #00af00; text-decoration-color: #00af00\">0</span> │ batch_normalization_3[<span style=\"color: #00af00; text-decoration-color: #00af00\">0</span>][<span style=\"color: #00af00; text-decoration-color: #00af00\">…</span> │\n",
       "├───────────────────────────────┼───────────────────────────┼─────────────────┼────────────────────────────┤\n",
       "│ dense_5 (<span style=\"color: #0087ff; text-decoration-color: #0087ff\">Dense</span>)               │ (<span style=\"color: #00d7ff; text-decoration-color: #00d7ff\">None</span>, <span style=\"color: #00af00; text-decoration-color: #00af00\">64</span>)                │           <span style=\"color: #00af00; text-decoration-color: #00af00\">8,256</span> │ leaky_re_lu_4[<span style=\"color: #00af00; text-decoration-color: #00af00\">0</span>][<span style=\"color: #00af00; text-decoration-color: #00af00\">0</span>]        │\n",
       "├───────────────────────────────┼───────────────────────────┼─────────────────┼────────────────────────────┤\n",
       "│ batch_normalization_4         │ (<span style=\"color: #00d7ff; text-decoration-color: #00d7ff\">None</span>, <span style=\"color: #00af00; text-decoration-color: #00af00\">64</span>)                │             <span style=\"color: #00af00; text-decoration-color: #00af00\">256</span> │ dense_5[<span style=\"color: #00af00; text-decoration-color: #00af00\">0</span>][<span style=\"color: #00af00; text-decoration-color: #00af00\">0</span>]              │\n",
       "│ (<span style=\"color: #0087ff; text-decoration-color: #0087ff\">BatchNormalization</span>)          │                           │                 │                            │\n",
       "├───────────────────────────────┼───────────────────────────┼─────────────────┼────────────────────────────┤\n",
       "│ leaky_re_lu_5 (<span style=\"color: #0087ff; text-decoration-color: #0087ff\">LeakyReLU</span>)     │ (<span style=\"color: #00d7ff; text-decoration-color: #00d7ff\">None</span>, <span style=\"color: #00af00; text-decoration-color: #00af00\">64</span>)                │               <span style=\"color: #00af00; text-decoration-color: #00af00\">0</span> │ batch_normalization_4[<span style=\"color: #00af00; text-decoration-color: #00af00\">0</span>][<span style=\"color: #00af00; text-decoration-color: #00af00\">…</span> │\n",
       "├───────────────────────────────┼───────────────────────────┼─────────────────┼────────────────────────────┤\n",
       "│ condition_output (<span style=\"color: #0087ff; text-decoration-color: #0087ff\">Dense</span>)      │ (<span style=\"color: #00d7ff; text-decoration-color: #00d7ff\">None</span>, <span style=\"color: #00af00; text-decoration-color: #00af00\">1</span>)                 │              <span style=\"color: #00af00; text-decoration-color: #00af00\">65</span> │ leaky_re_lu_5[<span style=\"color: #00af00; text-decoration-color: #00af00\">0</span>][<span style=\"color: #00af00; text-decoration-color: #00af00\">0</span>]        │\n",
       "├───────────────────────────────┼───────────────────────────┼─────────────────┼────────────────────────────┤\n",
       "│ amount_output (<span style=\"color: #0087ff; text-decoration-color: #0087ff\">Dense</span>)         │ (<span style=\"color: #00d7ff; text-decoration-color: #00d7ff\">None</span>, <span style=\"color: #00af00; text-decoration-color: #00af00\">1</span>)                 │              <span style=\"color: #00af00; text-decoration-color: #00af00\">65</span> │ leaky_re_lu_5[<span style=\"color: #00af00; text-decoration-color: #00af00\">0</span>][<span style=\"color: #00af00; text-decoration-color: #00af00\">0</span>]        │\n",
       "└───────────────────────────────┴───────────────────────────┴─────────────────┴────────────────────────────┘\n",
       "</pre>\n"
      ],
      "text/plain": [
       "┏━━━━━━━━━━━━━━━━━━━━━━━━━━━━━━━┳━━━━━━━━━━━━━━━━━━━━━━━━━━━┳━━━━━━━━━━━━━━━━━┳━━━━━━━━━━━━━━━━━━━━━━━━━━━━┓\n",
       "┃\u001b[1m \u001b[0m\u001b[1mLayer (type)                 \u001b[0m\u001b[1m \u001b[0m┃\u001b[1m \u001b[0m\u001b[1mOutput Shape             \u001b[0m\u001b[1m \u001b[0m┃\u001b[1m \u001b[0m\u001b[1m        Param #\u001b[0m\u001b[1m \u001b[0m┃\u001b[1m \u001b[0m\u001b[1mConnected to              \u001b[0m\u001b[1m \u001b[0m┃\n",
       "┡━━━━━━━━━━━━━━━━━━━━━━━━━━━━━━━╇━━━━━━━━━━━━━━━━━━━━━━━━━━━╇━━━━━━━━━━━━━━━━━╇━━━━━━━━━━━━━━━━━━━━━━━━━━━━┩\n",
       "│ structured_input (\u001b[38;5;33mInputLayer\u001b[0m) │ (\u001b[38;5;45mNone\u001b[0m, \u001b[38;5;34m15\u001b[0m)                │               \u001b[38;5;34m0\u001b[0m │ -                          │\n",
       "├───────────────────────────────┼───────────────────────────┼─────────────────┼────────────────────────────┤\n",
       "│ image_input (\u001b[38;5;33mInputLayer\u001b[0m)      │ (\u001b[38;5;45mNone\u001b[0m, \u001b[38;5;34m2048\u001b[0m)              │               \u001b[38;5;34m0\u001b[0m │ -                          │\n",
       "├───────────────────────────────┼───────────────────────────┼─────────────────┼────────────────────────────┤\n",
       "│ dense_2 (\u001b[38;5;33mDense\u001b[0m)               │ (\u001b[38;5;45mNone\u001b[0m, \u001b[38;5;34m128\u001b[0m)               │           \u001b[38;5;34m2,048\u001b[0m │ structured_input[\u001b[38;5;34m0\u001b[0m][\u001b[38;5;34m0\u001b[0m]     │\n",
       "├───────────────────────────────┼───────────────────────────┼─────────────────┼────────────────────────────┤\n",
       "│ dense (\u001b[38;5;33mDense\u001b[0m)                 │ (\u001b[38;5;45mNone\u001b[0m, \u001b[38;5;34m512\u001b[0m)               │       \u001b[38;5;34m1,049,088\u001b[0m │ image_input[\u001b[38;5;34m0\u001b[0m][\u001b[38;5;34m0\u001b[0m]          │\n",
       "├───────────────────────────────┼───────────────────────────┼─────────────────┼────────────────────────────┤\n",
       "│ batch_normalization_1         │ (\u001b[38;5;45mNone\u001b[0m, \u001b[38;5;34m128\u001b[0m)               │             \u001b[38;5;34m512\u001b[0m │ dense_2[\u001b[38;5;34m0\u001b[0m][\u001b[38;5;34m0\u001b[0m]              │\n",
       "│ (\u001b[38;5;33mBatchNormalization\u001b[0m)          │                           │                 │                            │\n",
       "├───────────────────────────────┼───────────────────────────┼─────────────────┼────────────────────────────┤\n",
       "│ batch_normalization           │ (\u001b[38;5;45mNone\u001b[0m, \u001b[38;5;34m512\u001b[0m)               │           \u001b[38;5;34m2,048\u001b[0m │ dense[\u001b[38;5;34m0\u001b[0m][\u001b[38;5;34m0\u001b[0m]                │\n",
       "│ (\u001b[38;5;33mBatchNormalization\u001b[0m)          │                           │                 │                            │\n",
       "├───────────────────────────────┼───────────────────────────┼─────────────────┼────────────────────────────┤\n",
       "│ leaky_re_lu_2 (\u001b[38;5;33mLeakyReLU\u001b[0m)     │ (\u001b[38;5;45mNone\u001b[0m, \u001b[38;5;34m128\u001b[0m)               │               \u001b[38;5;34m0\u001b[0m │ batch_normalization_1[\u001b[38;5;34m0\u001b[0m][\u001b[38;5;34m…\u001b[0m │\n",
       "├───────────────────────────────┼───────────────────────────┼─────────────────┼────────────────────────────┤\n",
       "│ leaky_re_lu (\u001b[38;5;33mLeakyReLU\u001b[0m)       │ (\u001b[38;5;45mNone\u001b[0m, \u001b[38;5;34m512\u001b[0m)               │               \u001b[38;5;34m0\u001b[0m │ batch_normalization[\u001b[38;5;34m0\u001b[0m][\u001b[38;5;34m0\u001b[0m]  │\n",
       "├───────────────────────────────┼───────────────────────────┼─────────────────┼────────────────────────────┤\n",
       "│ dense_3 (\u001b[38;5;33mDense\u001b[0m)               │ (\u001b[38;5;45mNone\u001b[0m, \u001b[38;5;34m64\u001b[0m)                │           \u001b[38;5;34m8,256\u001b[0m │ leaky_re_lu_2[\u001b[38;5;34m0\u001b[0m][\u001b[38;5;34m0\u001b[0m]        │\n",
       "├───────────────────────────────┼───────────────────────────┼─────────────────┼────────────────────────────┤\n",
       "│ dense_1 (\u001b[38;5;33mDense\u001b[0m)               │ (\u001b[38;5;45mNone\u001b[0m, \u001b[38;5;34m256\u001b[0m)               │         \u001b[38;5;34m131,328\u001b[0m │ leaky_re_lu[\u001b[38;5;34m0\u001b[0m][\u001b[38;5;34m0\u001b[0m]          │\n",
       "├───────────────────────────────┼───────────────────────────┼─────────────────┼────────────────────────────┤\n",
       "│ batch_normalization_2         │ (\u001b[38;5;45mNone\u001b[0m, \u001b[38;5;34m64\u001b[0m)                │             \u001b[38;5;34m256\u001b[0m │ dense_3[\u001b[38;5;34m0\u001b[0m][\u001b[38;5;34m0\u001b[0m]              │\n",
       "│ (\u001b[38;5;33mBatchNormalization\u001b[0m)          │                           │                 │                            │\n",
       "├───────────────────────────────┼───────────────────────────┼─────────────────┼────────────────────────────┤\n",
       "│ leaky_re_lu_1 (\u001b[38;5;33mLeakyReLU\u001b[0m)     │ (\u001b[38;5;45mNone\u001b[0m, \u001b[38;5;34m256\u001b[0m)               │               \u001b[38;5;34m0\u001b[0m │ dense_1[\u001b[38;5;34m0\u001b[0m][\u001b[38;5;34m0\u001b[0m]              │\n",
       "├───────────────────────────────┼───────────────────────────┼─────────────────┼────────────────────────────┤\n",
       "│ leaky_re_lu_3 (\u001b[38;5;33mLeakyReLU\u001b[0m)     │ (\u001b[38;5;45mNone\u001b[0m, \u001b[38;5;34m64\u001b[0m)                │               \u001b[38;5;34m0\u001b[0m │ batch_normalization_2[\u001b[38;5;34m0\u001b[0m][\u001b[38;5;34m…\u001b[0m │\n",
       "├───────────────────────────────┼───────────────────────────┼─────────────────┼────────────────────────────┤\n",
       "│ concatenate (\u001b[38;5;33mConcatenate\u001b[0m)     │ (\u001b[38;5;45mNone\u001b[0m, \u001b[38;5;34m320\u001b[0m)               │               \u001b[38;5;34m0\u001b[0m │ leaky_re_lu_1[\u001b[38;5;34m0\u001b[0m][\u001b[38;5;34m0\u001b[0m],       │\n",
       "│                               │                           │                 │ leaky_re_lu_3[\u001b[38;5;34m0\u001b[0m][\u001b[38;5;34m0\u001b[0m]        │\n",
       "├───────────────────────────────┼───────────────────────────┼─────────────────┼────────────────────────────┤\n",
       "│ dense_4 (\u001b[38;5;33mDense\u001b[0m)               │ (\u001b[38;5;45mNone\u001b[0m, \u001b[38;5;34m128\u001b[0m)               │          \u001b[38;5;34m41,088\u001b[0m │ concatenate[\u001b[38;5;34m0\u001b[0m][\u001b[38;5;34m0\u001b[0m]          │\n",
       "├───────────────────────────────┼───────────────────────────┼─────────────────┼────────────────────────────┤\n",
       "│ batch_normalization_3         │ (\u001b[38;5;45mNone\u001b[0m, \u001b[38;5;34m128\u001b[0m)               │             \u001b[38;5;34m512\u001b[0m │ dense_4[\u001b[38;5;34m0\u001b[0m][\u001b[38;5;34m0\u001b[0m]              │\n",
       "│ (\u001b[38;5;33mBatchNormalization\u001b[0m)          │                           │                 │                            │\n",
       "├───────────────────────────────┼───────────────────────────┼─────────────────┼────────────────────────────┤\n",
       "│ leaky_re_lu_4 (\u001b[38;5;33mLeakyReLU\u001b[0m)     │ (\u001b[38;5;45mNone\u001b[0m, \u001b[38;5;34m128\u001b[0m)               │               \u001b[38;5;34m0\u001b[0m │ batch_normalization_3[\u001b[38;5;34m0\u001b[0m][\u001b[38;5;34m…\u001b[0m │\n",
       "├───────────────────────────────┼───────────────────────────┼─────────────────┼────────────────────────────┤\n",
       "│ dense_5 (\u001b[38;5;33mDense\u001b[0m)               │ (\u001b[38;5;45mNone\u001b[0m, \u001b[38;5;34m64\u001b[0m)                │           \u001b[38;5;34m8,256\u001b[0m │ leaky_re_lu_4[\u001b[38;5;34m0\u001b[0m][\u001b[38;5;34m0\u001b[0m]        │\n",
       "├───────────────────────────────┼───────────────────────────┼─────────────────┼────────────────────────────┤\n",
       "│ batch_normalization_4         │ (\u001b[38;5;45mNone\u001b[0m, \u001b[38;5;34m64\u001b[0m)                │             \u001b[38;5;34m256\u001b[0m │ dense_5[\u001b[38;5;34m0\u001b[0m][\u001b[38;5;34m0\u001b[0m]              │\n",
       "│ (\u001b[38;5;33mBatchNormalization\u001b[0m)          │                           │                 │                            │\n",
       "├───────────────────────────────┼───────────────────────────┼─────────────────┼────────────────────────────┤\n",
       "│ leaky_re_lu_5 (\u001b[38;5;33mLeakyReLU\u001b[0m)     │ (\u001b[38;5;45mNone\u001b[0m, \u001b[38;5;34m64\u001b[0m)                │               \u001b[38;5;34m0\u001b[0m │ batch_normalization_4[\u001b[38;5;34m0\u001b[0m][\u001b[38;5;34m…\u001b[0m │\n",
       "├───────────────────────────────┼───────────────────────────┼─────────────────┼────────────────────────────┤\n",
       "│ condition_output (\u001b[38;5;33mDense\u001b[0m)      │ (\u001b[38;5;45mNone\u001b[0m, \u001b[38;5;34m1\u001b[0m)                 │              \u001b[38;5;34m65\u001b[0m │ leaky_re_lu_5[\u001b[38;5;34m0\u001b[0m][\u001b[38;5;34m0\u001b[0m]        │\n",
       "├───────────────────────────────┼───────────────────────────┼─────────────────┼────────────────────────────┤\n",
       "│ amount_output (\u001b[38;5;33mDense\u001b[0m)         │ (\u001b[38;5;45mNone\u001b[0m, \u001b[38;5;34m1\u001b[0m)                 │              \u001b[38;5;34m65\u001b[0m │ leaky_re_lu_5[\u001b[38;5;34m0\u001b[0m][\u001b[38;5;34m0\u001b[0m]        │\n",
       "└───────────────────────────────┴───────────────────────────┴─────────────────┴────────────────────────────┘\n"
      ]
     },
     "metadata": {},
     "output_type": "display_data"
    },
    {
     "data": {
      "text/html": [
       "<pre style=\"white-space:pre;overflow-x:auto;line-height:normal;font-family:Menlo,'DejaVu Sans Mono',consolas,'Courier New',monospace\"><span style=\"font-weight: bold\"> Total params: </span><span style=\"color: #00af00; text-decoration-color: #00af00\">1,243,778</span> (4.74 MB)\n",
       "</pre>\n"
      ],
      "text/plain": [
       "\u001b[1m Total params: \u001b[0m\u001b[38;5;34m1,243,778\u001b[0m (4.74 MB)\n"
      ]
     },
     "metadata": {},
     "output_type": "display_data"
    },
    {
     "data": {
      "text/html": [
       "<pre style=\"white-space:pre;overflow-x:auto;line-height:normal;font-family:Menlo,'DejaVu Sans Mono',consolas,'Courier New',monospace\"><span style=\"font-weight: bold\"> Trainable params: </span><span style=\"color: #00af00; text-decoration-color: #00af00\">1,241,986</span> (4.74 MB)\n",
       "</pre>\n"
      ],
      "text/plain": [
       "\u001b[1m Trainable params: \u001b[0m\u001b[38;5;34m1,241,986\u001b[0m (4.74 MB)\n"
      ]
     },
     "metadata": {},
     "output_type": "display_data"
    },
    {
     "data": {
      "text/html": [
       "<pre style=\"white-space:pre;overflow-x:auto;line-height:normal;font-family:Menlo,'DejaVu Sans Mono',consolas,'Courier New',monospace\"><span style=\"font-weight: bold\"> Non-trainable params: </span><span style=\"color: #00af00; text-decoration-color: #00af00\">1,792</span> (7.00 KB)\n",
       "</pre>\n"
      ],
      "text/plain": [
       "\u001b[1m Non-trainable params: \u001b[0m\u001b[38;5;34m1,792\u001b[0m (7.00 KB)\n"
      ]
     },
     "metadata": {},
     "output_type": "display_data"
    }
   ],
   "source": [
    "# Print the model summary\n",
    "model.summary()"
   ]
  },
  {
   "cell_type": "code",
   "execution_count": 19,
   "id": "2d276e33-0d18-4398-9fef-4a2b714d8234",
   "metadata": {},
   "outputs": [],
   "source": [
    "import time\n",
    "import mlflow\n",
    "import mlflow.tensorflow\n",
    "\n"
   ]
  },
  {
   "cell_type": "code",
   "execution_count": 20,
   "id": "00d8876f-73d3-416d-a16a-338184012a8c",
   "metadata": {},
   "outputs": [],
   "source": [
    "# from mlflow.models.signature import ModelSignature\n",
    "# from mlflow.types import Schema, ColSpec\n",
    "\n",
    "# # Define the input and output schema explicitly\n",
    "# input_schema = Schema([\n",
    "#     ColSpec(type=\"array\", type=\"float32\", shape=(None, image_features.shape[1])),\n",
    "#     ColSpec(type=\"array\", type=\"float32\", shape=(None, structured_data_scaled.shape[1]))\n",
    "# ])\n",
    "\n",
    "# output_schema = Schema([\n",
    "#     ColSpec(type=\"array\", dtype=\"float32\", shape=(None, 1)),  # For condition_output\n",
    "#     ColSpec(type=\"array\", dtype=\"float32\", shape=(None, 1))   # For amount_output\n",
    "# ])\n",
    "\n",
    "# # Create ModelSignature object\n",
    "# signature = ModelSignature(inputs=input_schema, outputs=output_schema)\n"
   ]
  },
  {
   "cell_type": "code",
   "execution_count": 21,
   "id": "9bfc4247-b21f-4a97-9b94-cf5724d09378",
   "metadata": {},
   "outputs": [],
   "source": [
    "# Generate a unique model filename using the current timestamp\n",
    "timestamp = int(time.time())\n",
    "model_path = f'models/model_{timestamp}.keras'  # Unique filename using timestamp\n",
    "\n",
    "# Start a new MLflow run to track the model and metrics\n"
   ]
  },
  {
   "cell_type": "code",
   "execution_count": 22,
   "id": "d7ff2ea8-da71-465d-834c-005c673a2ddc",
   "metadata": {},
   "outputs": [
    {
     "name": "stdout",
     "output_type": "stream",
     "text": [
      "Epoch 1/200\n",
      "\u001b[1m66/66\u001b[0m \u001b[32m━━━━━━━━━━━━━━━━━━━━\u001b[0m\u001b[37m\u001b[0m \u001b[1m0s\u001b[0m 26ms/step - amount_output_loss: 0.4048 - amount_output_mse: 1.1108 - condition_output_accuracy: 0.8074 - condition_output_loss: 0.4495 - loss: 1.8423\n",
      "Epoch 1: val_loss improved from inf to 1.40490, saving model to models/best_model.keras\n",
      "\u001b[1m66/66\u001b[0m \u001b[32m━━━━━━━━━━━━━━━━━━━━\u001b[0m\u001b[37m\u001b[0m \u001b[1m16s\u001b[0m 57ms/step - amount_output_loss: 0.4028 - amount_output_mse: 1.1044 - condition_output_accuracy: 0.8090 - condition_output_loss: 0.4475 - loss: 1.8370 - val_amount_output_loss: 0.3177 - val_amount_output_mse: 0.6946 - val_condition_output_accuracy: 1.0000 - val_condition_output_loss: 0.2963 - val_loss: 1.4049 - learning_rate: 0.0010\n",
      "Epoch 2/200\n",
      "\u001b[1m66/66\u001b[0m \u001b[32m━━━━━━━━━━━━━━━━━━━━\u001b[0m\u001b[37m\u001b[0m \u001b[1m0s\u001b[0m 26ms/step - amount_output_loss: 0.1719 - amount_output_mse: 0.3880 - condition_output_accuracy: 0.9965 - condition_output_loss: 0.1059 - loss: 1.0534\n",
      "Epoch 2: val_loss improved from 1.40490 to 0.98402, saving model to models/best_model.keras\n",
      "\u001b[1m66/66\u001b[0m \u001b[32m━━━━━━━━━━━━━━━━━━━━\u001b[0m\u001b[37m\u001b[0m \u001b[1m2s\u001b[0m 37ms/step - amount_output_loss: 0.1720 - amount_output_mse: 0.3880 - condition_output_accuracy: 0.9965 - condition_output_loss: 0.1057 - loss: 1.0530 - val_amount_output_loss: 0.1477 - val_amount_output_mse: 0.3263 - val_condition_output_accuracy: 1.0000 - val_condition_output_loss: 0.1019 - val_loss: 0.9840 - learning_rate: 0.0010\n",
      "Epoch 3/200\n",
      "\u001b[1m66/66\u001b[0m \u001b[32m━━━━━━━━━━━━━━━━━━━━\u001b[0m\u001b[37m\u001b[0m \u001b[1m0s\u001b[0m 26ms/step - amount_output_loss: 0.1250 - amount_output_mse: 0.2676 - condition_output_accuracy: 0.9983 - condition_output_loss: 0.0539 - loss: 0.9002\n",
      "Epoch 3: val_loss improved from 0.98402 to 0.85710, saving model to models/best_model.keras\n",
      "\u001b[1m66/66\u001b[0m \u001b[32m━━━━━━━━━━━━━━━━━━━━\u001b[0m\u001b[37m\u001b[0m \u001b[1m2s\u001b[0m 36ms/step - amount_output_loss: 0.1251 - amount_output_mse: 0.2678 - condition_output_accuracy: 0.9983 - condition_output_loss: 0.0539 - loss: 0.9001 - val_amount_output_loss: 0.1273 - val_amount_output_mse: 0.2597 - val_condition_output_accuracy: 1.0000 - val_condition_output_loss: 0.0434 - val_loss: 0.8571 - learning_rate: 0.0010\n",
      "Epoch 4/200\n",
      "\u001b[1m65/66\u001b[0m \u001b[32m━━━━━━━━━━━━━━━━━━━\u001b[0m\u001b[37m━\u001b[0m \u001b[1m0s\u001b[0m 27ms/step - amount_output_loss: 0.1232 - amount_output_mse: 0.2539 - condition_output_accuracy: 0.9992 - condition_output_loss: 0.0402 - loss: 0.8389\n",
      "Epoch 4: val_loss improved from 0.85710 to 0.77969, saving model to models/best_model.keras\n",
      "\u001b[1m66/66\u001b[0m \u001b[32m━━━━━━━━━━━━━━━━━━━━\u001b[0m\u001b[37m\u001b[0m \u001b[1m2s\u001b[0m 37ms/step - amount_output_loss: 0.1233 - amount_output_mse: 0.2540 - condition_output_accuracy: 0.9992 - condition_output_loss: 0.0400 - loss: 0.8385 - val_amount_output_loss: 0.1104 - val_amount_output_mse: 0.2186 - val_condition_output_accuracy: 1.0000 - val_condition_output_loss: 0.0271 - val_loss: 0.7797 - learning_rate: 0.0010\n",
      "Epoch 5/200\n",
      "\u001b[1m66/66\u001b[0m \u001b[32m━━━━━━━━━━━━━━━━━━━━\u001b[0m\u001b[37m\u001b[0m \u001b[1m0s\u001b[0m 26ms/step - amount_output_loss: 0.1230 - amount_output_mse: 0.2533 - condition_output_accuracy: 0.9991 - condition_output_loss: 0.0282 - loss: 0.7847\n",
      "Epoch 5: val_loss improved from 0.77969 to 0.71007, saving model to models/best_model.keras\n",
      "\u001b[1m66/66\u001b[0m \u001b[32m━━━━━━━━━━━━━━━━━━━━\u001b[0m\u001b[37m\u001b[0m \u001b[1m2s\u001b[0m 36ms/step - amount_output_loss: 0.1230 - amount_output_mse: 0.2533 - condition_output_accuracy: 0.9990 - condition_output_loss: 0.0281 - loss: 0.7845 - val_amount_output_loss: 0.0928 - val_amount_output_mse: 0.1876 - val_condition_output_accuracy: 1.0000 - val_condition_output_loss: 0.0146 - val_loss: 0.7101 - learning_rate: 0.0010\n",
      "Epoch 6/200\n",
      "\u001b[1m64/66\u001b[0m \u001b[32m━━━━━━━━━━━━━━━━━━━\u001b[0m\u001b[37m━\u001b[0m \u001b[1m0s\u001b[0m 26ms/step - amount_output_loss: 0.1076 - amount_output_mse: 0.2210 - condition_output_accuracy: 1.0000 - condition_output_loss: 0.0153 - loss: 0.7176\n",
      "Epoch 6: val_loss did not improve from 0.71007\n",
      "\u001b[1m66/66\u001b[0m \u001b[32m━━━━━━━━━━━━━━━━━━━━\u001b[0m\u001b[37m\u001b[0m \u001b[1m2s\u001b[0m 31ms/step - amount_output_loss: 0.1078 - amount_output_mse: 0.2213 - condition_output_accuracy: 1.0000 - condition_output_loss: 0.0154 - loss: 0.7175 - val_amount_output_loss: 0.1559 - val_amount_output_mse: 0.3120 - val_condition_output_accuracy: 1.0000 - val_condition_output_loss: 0.0095 - val_loss: 0.7296 - learning_rate: 0.0010\n",
      "Epoch 7/200\n",
      "\u001b[1m64/66\u001b[0m \u001b[32m━━━━━━━━━━━━━━━━━━━\u001b[0m\u001b[37m━\u001b[0m \u001b[1m0s\u001b[0m 27ms/step - amount_output_loss: 0.1015 - amount_output_mse: 0.2090 - condition_output_accuracy: 0.9998 - condition_output_loss: 0.0165 - loss: 0.6761\n",
      "Epoch 7: val_loss improved from 0.71007 to 0.69749, saving model to models/best_model.keras\n",
      "\u001b[1m66/66\u001b[0m \u001b[32m━━━━━━━━━━━━━━━━━━━━\u001b[0m\u001b[37m\u001b[0m \u001b[1m2s\u001b[0m 37ms/step - amount_output_loss: 0.1017 - amount_output_mse: 0.2093 - condition_output_accuracy: 0.9998 - condition_output_loss: 0.0164 - loss: 0.6759 - val_amount_output_loss: 0.1555 - val_amount_output_mse: 0.3129 - val_condition_output_accuracy: 1.0000 - val_condition_output_loss: 0.0112 - val_loss: 0.6975 - learning_rate: 0.0010\n",
      "Epoch 8/200\n",
      "\u001b[1m66/66\u001b[0m \u001b[32m━━━━━━━━━━━━━━━━━━━━\u001b[0m\u001b[37m\u001b[0m \u001b[1m0s\u001b[0m 26ms/step - amount_output_loss: 0.1059 - amount_output_mse: 0.2152 - condition_output_accuracy: 0.9997 - condition_output_loss: 0.0138 - loss: 0.6425\n",
      "Epoch 8: val_loss improved from 0.69749 to 0.61210, saving model to models/best_model.keras\n",
      "\u001b[1m66/66\u001b[0m \u001b[32m━━━━━━━━━━━━━━━━━━━━\u001b[0m\u001b[37m\u001b[0m \u001b[1m2s\u001b[0m 36ms/step - amount_output_loss: 0.1059 - amount_output_mse: 0.2153 - condition_output_accuracy: 0.9997 - condition_output_loss: 0.0138 - loss: 0.6425 - val_amount_output_loss: 0.1102 - val_amount_output_mse: 0.2255 - val_condition_output_accuracy: 1.0000 - val_condition_output_loss: 0.0045 - val_loss: 0.6121 - learning_rate: 0.0010\n",
      "Epoch 9/200\n",
      "\u001b[1m66/66\u001b[0m \u001b[32m━━━━━━━━━━━━━━━━━━━━\u001b[0m\u001b[37m\u001b[0m \u001b[1m0s\u001b[0m 26ms/step - amount_output_loss: 0.0989 - amount_output_mse: 0.2017 - condition_output_accuracy: 0.9962 - condition_output_loss: 0.0192 - loss: 0.6084\n",
      "Epoch 9: val_loss did not improve from 0.61210\n",
      "\u001b[1m66/66\u001b[0m \u001b[32m━━━━━━━━━━━━━━━━━━━━\u001b[0m\u001b[37m\u001b[0m \u001b[1m2s\u001b[0m 31ms/step - amount_output_loss: 0.0988 - amount_output_mse: 0.2016 - condition_output_accuracy: 0.9963 - condition_output_loss: 0.0191 - loss: 0.6081 - val_amount_output_loss: 0.2133 - val_amount_output_mse: 0.4124 - val_condition_output_accuracy: 1.0000 - val_condition_output_loss: 0.0071 - val_loss: 0.6774 - learning_rate: 0.0010\n",
      "Epoch 10/200\n",
      "\u001b[1m65/66\u001b[0m \u001b[32m━━━━━━━━━━━━━━━━━━━\u001b[0m\u001b[37m━\u001b[0m \u001b[1m0s\u001b[0m 25ms/step - amount_output_loss: 0.0991 - amount_output_mse: 0.2003 - condition_output_accuracy: 1.0000 - condition_output_loss: 0.0091 - loss: 0.5677\n",
      "Epoch 10: val_loss did not improve from 0.61210\n",
      "\u001b[1m66/66\u001b[0m \u001b[32m━━━━━━━━━━━━━━━━━━━━\u001b[0m\u001b[37m\u001b[0m \u001b[1m2s\u001b[0m 31ms/step - amount_output_loss: 0.0990 - amount_output_mse: 0.2001 - condition_output_accuracy: 1.0000 - condition_output_loss: 0.0090 - loss: 0.5674 - val_amount_output_loss: 0.4634 - val_amount_output_mse: 1.0100 - val_condition_output_accuracy: 1.0000 - val_condition_output_loss: 0.0110 - val_loss: 0.9022 - learning_rate: 0.0010\n",
      "Epoch 11/200\n",
      "\u001b[1m66/66\u001b[0m \u001b[32m━━━━━━━━━━━━━━━━━━━━\u001b[0m\u001b[37m\u001b[0m \u001b[1m0s\u001b[0m 26ms/step - amount_output_loss: 0.0798 - amount_output_mse: 0.1603 - condition_output_accuracy: 1.0000 - condition_output_loss: 0.0076 - loss: 0.5176\n",
      "Epoch 11: val_loss improved from 0.61210 to 0.52774, saving model to models/best_model.keras\n",
      "\u001b[1m66/66\u001b[0m \u001b[32m━━━━━━━━━━━━━━━━━━━━\u001b[0m\u001b[37m\u001b[0m \u001b[1m2s\u001b[0m 36ms/step - amount_output_loss: 0.0799 - amount_output_mse: 0.1606 - condition_output_accuracy: 1.0000 - condition_output_loss: 0.0077 - loss: 0.5177 - val_amount_output_loss: 0.1194 - val_amount_output_mse: 0.2355 - val_condition_output_accuracy: 1.0000 - val_condition_output_loss: 0.0033 - val_loss: 0.5277 - learning_rate: 0.0010\n",
      "Epoch 12/200\n",
      "\u001b[1m65/66\u001b[0m \u001b[32m━━━━━━━━━━━━━━━━━━━\u001b[0m\u001b[37m━\u001b[0m \u001b[1m0s\u001b[0m 28ms/step - amount_output_loss: 0.0891 - amount_output_mse: 0.1814 - condition_output_accuracy: 0.9975 - condition_output_loss: 0.0117 - loss: 0.5041\n",
      "Epoch 12: val_loss did not improve from 0.52774\n",
      "\u001b[1m66/66\u001b[0m \u001b[32m━━━━━━━━━━━━━━━━━━━━\u001b[0m\u001b[37m\u001b[0m \u001b[1m2s\u001b[0m 33ms/step - amount_output_loss: 0.0892 - amount_output_mse: 0.1815 - condition_output_accuracy: 0.9975 - condition_output_loss: 0.0116 - loss: 0.5040 - val_amount_output_loss: 0.3274 - val_amount_output_mse: 0.6686 - val_condition_output_accuracy: 1.0000 - val_condition_output_loss: 0.0133 - val_loss: 0.7122 - learning_rate: 0.0010\n",
      "Epoch 13/200\n",
      "\u001b[1m65/66\u001b[0m \u001b[32m━━━━━━━━━━━━━━━━━━━\u001b[0m\u001b[37m━\u001b[0m \u001b[1m0s\u001b[0m 26ms/step - amount_output_loss: 0.0852 - amount_output_mse: 0.1726 - condition_output_accuracy: 0.9994 - condition_output_loss: 0.0080 - loss: 0.4723 \n",
      "Epoch 13: val_loss improved from 0.52774 to 0.48214, saving model to models/best_model.keras\n",
      "\u001b[1m66/66\u001b[0m \u001b[32m━━━━━━━━━━━━━━━━━━━━\u001b[0m\u001b[37m\u001b[0m \u001b[1m2s\u001b[0m 36ms/step - amount_output_loss: 0.0855 - amount_output_mse: 0.1732 - condition_output_accuracy: 0.9994 - condition_output_loss: 0.0081 - loss: 0.4725 - val_amount_output_loss: 0.1173 - val_amount_output_mse: 0.2452 - val_condition_output_accuracy: 1.0000 - val_condition_output_loss: 0.0036 - val_loss: 0.4821 - learning_rate: 0.0010\n",
      "Epoch 14/200\n",
      "\u001b[1m64/66\u001b[0m \u001b[32m━━━━━━━━━━━━━━━━━━━\u001b[0m\u001b[37m━\u001b[0m \u001b[1m0s\u001b[0m 26ms/step - amount_output_loss: 0.0886 - amount_output_mse: 0.1786 - condition_output_accuracy: 1.0000 - condition_output_loss: 0.0065 - loss: 0.4506\n",
      "Epoch 14: val_loss did not improve from 0.48214\n",
      "\u001b[1m66/66\u001b[0m \u001b[32m━━━━━━━━━━━━━━━━━━━━\u001b[0m\u001b[37m\u001b[0m \u001b[1m2s\u001b[0m 31ms/step - amount_output_loss: 0.0886 - amount_output_mse: 0.1785 - condition_output_accuracy: 1.0000 - condition_output_loss: 0.0065 - loss: 0.4502 - val_amount_output_loss: 0.1766 - val_amount_output_mse: 0.3774 - val_condition_output_accuracy: 1.0000 - val_condition_output_loss: 0.0016 - val_loss: 0.5190 - learning_rate: 0.0010\n",
      "Epoch 15/200\n",
      "\u001b[1m66/66\u001b[0m \u001b[32m━━━━━━━━━━━━━━━━━━━━\u001b[0m\u001b[37m\u001b[0m \u001b[1m0s\u001b[0m 25ms/step - amount_output_loss: 0.0893 - amount_output_mse: 0.1807 - condition_output_accuracy: 0.9992 - condition_output_loss: 0.0058 - loss: 0.4281\n",
      "Epoch 15: val_loss did not improve from 0.48214\n",
      "\u001b[1m66/66\u001b[0m \u001b[32m━━━━━━━━━━━━━━━━━━━━\u001b[0m\u001b[37m\u001b[0m \u001b[1m2s\u001b[0m 30ms/step - amount_output_loss: 0.0892 - amount_output_mse: 0.1807 - condition_output_accuracy: 0.9992 - condition_output_loss: 0.0058 - loss: 0.4280 - val_amount_output_loss: 0.2021 - val_amount_output_mse: 0.3915 - val_condition_output_accuracy: 1.0000 - val_condition_output_loss: 0.0016 - val_loss: 0.5129 - learning_rate: 0.0010\n",
      "Epoch 16/200\n",
      "\u001b[1m66/66\u001b[0m \u001b[32m━━━━━━━━━━━━━━━━━━━━\u001b[0m\u001b[37m\u001b[0m \u001b[1m0s\u001b[0m 26ms/step - amount_output_loss: 0.0677 - amount_output_mse: 0.1356 - condition_output_accuracy: 1.0000 - condition_output_loss: 0.0044 - loss: 0.3841\n",
      "Epoch 16: val_loss did not improve from 0.48214\n",
      "\u001b[1m66/66\u001b[0m \u001b[32m━━━━━━━━━━━━━━━━━━━━\u001b[0m\u001b[37m\u001b[0m \u001b[1m2s\u001b[0m 31ms/step - amount_output_loss: 0.0677 - amount_output_mse: 0.1357 - condition_output_accuracy: 1.0000 - condition_output_loss: 0.0044 - loss: 0.3840 - val_amount_output_loss: 0.1836 - val_amount_output_mse: 0.3933 - val_condition_output_accuracy: 1.0000 - val_condition_output_loss: 0.0028 - val_loss: 0.4855 - learning_rate: 0.0010\n",
      "Epoch 17/200\n",
      "\u001b[1m66/66\u001b[0m \u001b[32m━━━━━━━━━━━━━━━━━━━━\u001b[0m\u001b[37m\u001b[0m \u001b[1m0s\u001b[0m 26ms/step - amount_output_loss: 0.0609 - amount_output_mse: 0.1220 - condition_output_accuracy: 1.0000 - condition_output_loss: 0.0029 - loss: 0.3582\n",
      "Epoch 17: val_loss improved from 0.48214 to 0.42419, saving model to models/best_model.keras\n",
      "\u001b[1m66/66\u001b[0m \u001b[32m━━━━━━━━━━━━━━━━━━━━\u001b[0m\u001b[37m\u001b[0m \u001b[1m2s\u001b[0m 36ms/step - amount_output_loss: 0.0610 - amount_output_mse: 0.1221 - condition_output_accuracy: 1.0000 - condition_output_loss: 0.0029 - loss: 0.3582 - val_amount_output_loss: 0.1360 - val_amount_output_mse: 0.2850 - val_condition_output_accuracy: 1.0000 - val_condition_output_loss: 0.0012 - val_loss: 0.4242 - learning_rate: 5.0000e-04\n",
      "Epoch 18/200\n",
      "\u001b[1m66/66\u001b[0m \u001b[32m━━━━━━━━━━━━━━━━━━━━\u001b[0m\u001b[37m\u001b[0m \u001b[1m0s\u001b[0m 26ms/step - amount_output_loss: 0.0626 - amount_output_mse: 0.1258 - condition_output_accuracy: 1.0000 - condition_output_loss: 0.0046 - loss: 0.3513\n",
      "Epoch 18: val_loss did not improve from 0.42419\n",
      "\u001b[1m66/66\u001b[0m \u001b[32m━━━━━━━━━━━━━━━━━━━━\u001b[0m\u001b[37m\u001b[0m \u001b[1m2s\u001b[0m 31ms/step - amount_output_loss: 0.0626 - amount_output_mse: 0.1258 - condition_output_accuracy: 1.0000 - condition_output_loss: 0.0046 - loss: 0.3513 - val_amount_output_loss: 0.1698 - val_amount_output_mse: 0.3630 - val_condition_output_accuracy: 1.0000 - val_condition_output_loss: 0.0014 - val_loss: 0.4489 - learning_rate: 5.0000e-04\n",
      "Epoch 19/200\n",
      "\u001b[1m64/66\u001b[0m \u001b[32m━━━━━━━━━━━━━━━━━━━\u001b[0m\u001b[37m━\u001b[0m \u001b[1m0s\u001b[0m 26ms/step - amount_output_loss: 0.0543 - amount_output_mse: 0.1087 - condition_output_accuracy: 1.0000 - condition_output_loss: 0.0031 - loss: 0.3316\n",
      "Epoch 19: val_loss did not improve from 0.42419\n",
      "\u001b[1m66/66\u001b[0m \u001b[32m━━━━━━━━━━━━━━━━━━━━\u001b[0m\u001b[37m\u001b[0m \u001b[1m2s\u001b[0m 31ms/step - amount_output_loss: 0.0544 - amount_output_mse: 0.1091 - condition_output_accuracy: 1.0000 - condition_output_loss: 0.0031 - loss: 0.3316 - val_amount_output_loss: 0.1768 - val_amount_output_mse: 0.3823 - val_condition_output_accuracy: 1.0000 - val_condition_output_loss: 0.0011 - val_loss: 0.4468 - learning_rate: 5.0000e-04\n",
      "Epoch 20/200\n",
      "\u001b[1m66/66\u001b[0m \u001b[32m━━━━━━━━━━━━━━━━━━━━\u001b[0m\u001b[37m\u001b[0m \u001b[1m0s\u001b[0m 27ms/step - amount_output_loss: 0.0581 - amount_output_mse: 0.1162 - condition_output_accuracy: 1.0000 - condition_output_loss: 0.0033 - loss: 0.3259\n",
      "Epoch 20: val_loss did not improve from 0.42419\n",
      "\u001b[1m66/66\u001b[0m \u001b[32m━━━━━━━━━━━━━━━━━━━━\u001b[0m\u001b[37m\u001b[0m \u001b[1m2s\u001b[0m 32ms/step - amount_output_loss: 0.0581 - amount_output_mse: 0.1162 - condition_output_accuracy: 1.0000 - condition_output_loss: 0.0033 - loss: 0.3259 - val_amount_output_loss: 0.1992 - val_amount_output_mse: 0.4332 - val_condition_output_accuracy: 1.0000 - val_condition_output_loss: 8.2234e-04 - val_loss: 0.4599 - learning_rate: 5.0000e-04\n",
      "Epoch 21/200\n",
      "\u001b[1m66/66\u001b[0m \u001b[32m━━━━━━━━━━━━━━━━━━━━\u001b[0m\u001b[37m\u001b[0m \u001b[1m0s\u001b[0m 26ms/step - amount_output_loss: 0.0479 - amount_output_mse: 0.0962 - condition_output_accuracy: 1.0000 - condition_output_loss: 0.0029 - loss: 0.3070\n",
      "Epoch 21: val_loss improved from 0.42419 to 0.35196, saving model to models/best_model.keras\n",
      "\u001b[1m66/66\u001b[0m \u001b[32m━━━━━━━━━━━━━━━━━━━━\u001b[0m\u001b[37m\u001b[0m \u001b[1m2s\u001b[0m 36ms/step - amount_output_loss: 0.0479 - amount_output_mse: 0.0963 - condition_output_accuracy: 1.0000 - condition_output_loss: 0.0028 - loss: 0.3071 - val_amount_output_loss: 0.0985 - val_amount_output_mse: 0.2018 - val_condition_output_accuracy: 1.0000 - val_condition_output_loss: 8.6052e-04 - val_loss: 0.3520 - learning_rate: 2.5000e-04\n",
      "Epoch 22/200\n",
      "\u001b[1m65/66\u001b[0m \u001b[32m━━━━━━━━━━━━━━━━━━━\u001b[0m\u001b[37m━\u001b[0m \u001b[1m0s\u001b[0m 28ms/step - amount_output_loss: 0.0494 - amount_output_mse: 0.0988 - condition_output_accuracy: 1.0000 - condition_output_loss: 0.0028 - loss: 0.3036\n",
      "Epoch 22: val_loss improved from 0.35196 to 0.35161, saving model to models/best_model.keras\n",
      "\u001b[1m66/66\u001b[0m \u001b[32m━━━━━━━━━━━━━━━━━━━━\u001b[0m\u001b[37m\u001b[0m \u001b[1m3s\u001b[0m 38ms/step - amount_output_loss: 0.0494 - amount_output_mse: 0.0990 - condition_output_accuracy: 1.0000 - condition_output_loss: 0.0028 - loss: 0.3037 - val_amount_output_loss: 0.1071 - val_amount_output_mse: 0.2100 - val_condition_output_accuracy: 1.0000 - val_condition_output_loss: 8.0710e-04 - val_loss: 0.3516 - learning_rate: 2.5000e-04\n",
      "Epoch 23/200\n",
      "\u001b[1m66/66\u001b[0m \u001b[32m━━━━━━━━━━━━━━━━━━━━\u001b[0m\u001b[37m\u001b[0m \u001b[1m0s\u001b[0m 26ms/step - amount_output_loss: 0.0484 - amount_output_mse: 0.0973 - condition_output_accuracy: 1.0000 - condition_output_loss: 0.0033 - loss: 0.2983\n",
      "Epoch 23: val_loss improved from 0.35161 to 0.34223, saving model to models/best_model.keras\n",
      "\u001b[1m66/66\u001b[0m \u001b[32m━━━━━━━━━━━━━━━━━━━━\u001b[0m\u001b[37m\u001b[0m \u001b[1m2s\u001b[0m 36ms/step - amount_output_loss: 0.0484 - amount_output_mse: 0.0974 - condition_output_accuracy: 1.0000 - condition_output_loss: 0.0033 - loss: 0.2983 - val_amount_output_loss: 0.1020 - val_amount_output_mse: 0.1990 - val_condition_output_accuracy: 1.0000 - val_condition_output_loss: 9.5033e-04 - val_loss: 0.3422 - learning_rate: 2.5000e-04\n",
      "Epoch 24/200\n",
      "\u001b[1m66/66\u001b[0m \u001b[32m━━━━━━━━━━━━━━━━━━━━\u001b[0m\u001b[37m\u001b[0m \u001b[1m0s\u001b[0m 25ms/step - amount_output_loss: 0.0436 - amount_output_mse: 0.0873 - condition_output_accuracy: 1.0000 - condition_output_loss: 0.0027 - loss: 0.2882\n",
      "Epoch 24: val_loss did not improve from 0.34223\n",
      "\u001b[1m66/66\u001b[0m \u001b[32m━━━━━━━━━━━━━━━━━━━━\u001b[0m\u001b[37m\u001b[0m \u001b[1m2s\u001b[0m 30ms/step - amount_output_loss: 0.0437 - amount_output_mse: 0.0875 - condition_output_accuracy: 1.0000 - condition_output_loss: 0.0027 - loss: 0.2882 - val_amount_output_loss: 0.1057 - val_amount_output_mse: 0.2155 - val_condition_output_accuracy: 1.0000 - val_condition_output_loss: 7.9190e-04 - val_loss: 0.3443 - learning_rate: 2.5000e-04\n",
      "Epoch 25/200\n",
      "\u001b[1m66/66\u001b[0m \u001b[32m━━━━━━━━━━━━━━━━━━━━\u001b[0m\u001b[37m\u001b[0m \u001b[1m0s\u001b[0m 26ms/step - amount_output_loss: 0.0592 - amount_output_mse: 0.1195 - condition_output_accuracy: 1.0000 - condition_output_loss: 0.0070 - loss: 0.3033\n",
      "Epoch 25: val_loss improved from 0.34223 to 0.33434, saving model to models/best_model.keras\n",
      "\u001b[1m66/66\u001b[0m \u001b[32m━━━━━━━━━━━━━━━━━━━━\u001b[0m\u001b[37m\u001b[0m \u001b[1m3s\u001b[0m 37ms/step - amount_output_loss: 0.0591 - amount_output_mse: 0.1192 - condition_output_accuracy: 1.0000 - condition_output_loss: 0.0070 - loss: 0.3031 - val_amount_output_loss: 0.1048 - val_amount_output_mse: 0.2019 - val_condition_output_accuracy: 1.0000 - val_condition_output_loss: 7.1598e-04 - val_loss: 0.3343 - learning_rate: 2.5000e-04\n",
      "Epoch 26/200\n",
      "\u001b[1m65/66\u001b[0m \u001b[32m━━━━━━━━━━━━━━━━━━━\u001b[0m\u001b[37m━\u001b[0m \u001b[1m0s\u001b[0m 28ms/step - amount_output_loss: 0.0437 - amount_output_mse: 0.0876 - condition_output_accuracy: 1.0000 - condition_output_loss: 0.0027 - loss: 0.2789\n",
      "Epoch 26: val_loss did not improve from 0.33434\n",
      "\u001b[1m66/66\u001b[0m \u001b[32m━━━━━━━━━━━━━━━━━━━━\u001b[0m\u001b[37m\u001b[0m \u001b[1m2s\u001b[0m 33ms/step - amount_output_loss: 0.0438 - amount_output_mse: 0.0877 - condition_output_accuracy: 1.0000 - condition_output_loss: 0.0027 - loss: 0.2789 - val_amount_output_loss: 0.1298 - val_amount_output_mse: 0.2442 - val_condition_output_accuracy: 1.0000 - val_condition_output_loss: 6.2991e-04 - val_loss: 0.3500 - learning_rate: 2.5000e-04\n",
      "Epoch 27/200\n",
      "\u001b[1m65/66\u001b[0m \u001b[32m━━━━━━━━━━━━━━━━━━━\u001b[0m\u001b[37m━\u001b[0m \u001b[1m0s\u001b[0m 27ms/step - amount_output_loss: 0.0463 - amount_output_mse: 0.0927 - condition_output_accuracy: 1.0000 - condition_output_loss: 0.0028 - loss: 0.2770\n",
      "Epoch 27: val_loss improved from 0.33434 to 0.33228, saving model to models/best_model.keras\n",
      "\u001b[1m66/66\u001b[0m \u001b[32m━━━━━━━━━━━━━━━━━━━━\u001b[0m\u001b[37m\u001b[0m \u001b[1m3s\u001b[0m 37ms/step - amount_output_loss: 0.0465 - amount_output_mse: 0.0929 - condition_output_accuracy: 1.0000 - condition_output_loss: 0.0028 - loss: 0.2771 - val_amount_output_loss: 0.1072 - val_amount_output_mse: 0.2199 - val_condition_output_accuracy: 1.0000 - val_condition_output_loss: 7.4507e-04 - val_loss: 0.3323 - learning_rate: 2.5000e-04\n",
      "Epoch 28/200\n",
      "\u001b[1m65/66\u001b[0m \u001b[32m━━━━━━━━━━━━━━━━━━━\u001b[0m\u001b[37m━\u001b[0m \u001b[1m0s\u001b[0m 26ms/step - amount_output_loss: 0.0523 - amount_output_mse: 0.1050 - condition_output_accuracy: 1.0000 - condition_output_loss: 0.0041 - loss: 0.2796\n",
      "Epoch 28: val_loss did not improve from 0.33228\n",
      "\u001b[1m66/66\u001b[0m \u001b[32m━━━━━━━━━━━━━━━━━━━━\u001b[0m\u001b[37m\u001b[0m \u001b[1m2s\u001b[0m 32ms/step - amount_output_loss: 0.0522 - amount_output_mse: 0.1049 - condition_output_accuracy: 1.0000 - condition_output_loss: 0.0041 - loss: 0.2795 - val_amount_output_loss: 0.1177 - val_amount_output_mse: 0.2429 - val_condition_output_accuracy: 1.0000 - val_condition_output_loss: 5.2676e-04 - val_loss: 0.3383 - learning_rate: 2.5000e-04\n",
      "Epoch 29/200\n",
      "\u001b[1m65/66\u001b[0m \u001b[32m━━━━━━━━━━━━━━━━━━━\u001b[0m\u001b[37m━\u001b[0m \u001b[1m0s\u001b[0m 24ms/step - amount_output_loss: 0.0475 - amount_output_mse: 0.0957 - condition_output_accuracy: 1.0000 - condition_output_loss: 0.0028 - loss: 0.2689 \n",
      "Epoch 29: val_loss improved from 0.33228 to 0.31343, saving model to models/best_model.keras\n",
      "\u001b[1m66/66\u001b[0m \u001b[32m━━━━━━━━━━━━━━━━━━━━\u001b[0m\u001b[37m\u001b[0m \u001b[1m2s\u001b[0m 34ms/step - amount_output_loss: 0.0476 - amount_output_mse: 0.0959 - condition_output_accuracy: 1.0000 - condition_output_loss: 0.0028 - loss: 0.2691 - val_amount_output_loss: 0.0994 - val_amount_output_mse: 0.1973 - val_condition_output_accuracy: 1.0000 - val_condition_output_loss: 6.8703e-04 - val_loss: 0.3134 - learning_rate: 2.5000e-04\n",
      "Epoch 30/200\n",
      "\u001b[1m65/66\u001b[0m \u001b[32m━━━━━━━━━━━━━━━━━━━\u001b[0m\u001b[37m━\u001b[0m \u001b[1m0s\u001b[0m 26ms/step - amount_output_loss: 0.0429 - amount_output_mse: 0.0859 - condition_output_accuracy: 1.0000 - condition_output_loss: 0.0023 - loss: 0.2595\n",
      "Epoch 30: val_loss did not improve from 0.31343\n",
      "\u001b[1m66/66\u001b[0m \u001b[32m━━━━━━━━━━━━━━━━━━━━\u001b[0m\u001b[37m\u001b[0m \u001b[1m2s\u001b[0m 32ms/step - amount_output_loss: 0.0429 - amount_output_mse: 0.0858 - condition_output_accuracy: 1.0000 - condition_output_loss: 0.0023 - loss: 0.2595 - val_amount_output_loss: 0.1620 - val_amount_output_mse: 0.3153 - val_condition_output_accuracy: 1.0000 - val_condition_output_loss: 5.9125e-04 - val_loss: 0.3659 - learning_rate: 2.5000e-04\n",
      "Epoch 31/200\n",
      "\u001b[1m65/66\u001b[0m \u001b[32m━━━━━━━━━━━━━━━━━━━\u001b[0m\u001b[37m━\u001b[0m \u001b[1m0s\u001b[0m 27ms/step - amount_output_loss: 0.0529 - amount_output_mse: 0.1058 - condition_output_accuracy: 1.0000 - condition_output_loss: 0.0026 - loss: 0.2654\n",
      "Epoch 31: val_loss did not improve from 0.31343\n",
      "\u001b[1m66/66\u001b[0m \u001b[32m━━━━━━━━━━━━━━━━━━━━\u001b[0m\u001b[37m\u001b[0m \u001b[1m2s\u001b[0m 32ms/step - amount_output_loss: 0.0527 - amount_output_mse: 0.1054 - condition_output_accuracy: 1.0000 - condition_output_loss: 0.0026 - loss: 0.2651 - val_amount_output_loss: 0.1127 - val_amount_output_mse: 0.2307 - val_condition_output_accuracy: 1.0000 - val_condition_output_loss: 6.7099e-04 - val_loss: 0.3203 - learning_rate: 2.5000e-04\n",
      "Epoch 32/200\n",
      "\u001b[1m64/66\u001b[0m \u001b[32m━━━━━━━━━━━━━━━━━━━\u001b[0m\u001b[37m━\u001b[0m \u001b[1m0s\u001b[0m 26ms/step - amount_output_loss: 0.0377 - amount_output_mse: 0.0756 - condition_output_accuracy: 1.0000 - condition_output_loss: 0.0021 - loss: 0.2455\n",
      "Epoch 32: val_loss improved from 0.31343 to 0.31185, saving model to models/best_model.keras\n",
      "\u001b[1m66/66\u001b[0m \u001b[32m━━━━━━━━━━━━━━━━━━━━\u001b[0m\u001b[37m\u001b[0m \u001b[1m2s\u001b[0m 36ms/step - amount_output_loss: 0.0379 - amount_output_mse: 0.0760 - condition_output_accuracy: 1.0000 - condition_output_loss: 0.0021 - loss: 0.2457 - val_amount_output_loss: 0.1150 - val_amount_output_mse: 0.2195 - val_condition_output_accuracy: 1.0000 - val_condition_output_loss: 6.3942e-04 - val_loss: 0.3119 - learning_rate: 2.5000e-04\n",
      "Epoch 33/200\n",
      "\u001b[1m65/66\u001b[0m \u001b[32m━━━━━━━━━━━━━━━━━━━\u001b[0m\u001b[37m━\u001b[0m \u001b[1m0s\u001b[0m 26ms/step - amount_output_loss: 0.0465 - amount_output_mse: 0.0930 - condition_output_accuracy: 1.0000 - condition_output_loss: 0.0035 - loss: 0.2514 \n",
      "Epoch 33: val_loss did not improve from 0.31185\n",
      "\u001b[1m66/66\u001b[0m \u001b[32m━━━━━━━━━━━━━━━━━━━━\u001b[0m\u001b[37m\u001b[0m \u001b[1m2s\u001b[0m 31ms/step - amount_output_loss: 0.0464 - amount_output_mse: 0.0929 - condition_output_accuracy: 1.0000 - condition_output_loss: 0.0035 - loss: 0.2513 - val_amount_output_loss: 0.2017 - val_amount_output_mse: 0.4363 - val_condition_output_accuracy: 1.0000 - val_condition_output_loss: 7.3995e-04 - val_loss: 0.4022 - learning_rate: 2.5000e-04\n",
      "Epoch 34/200\n",
      "\u001b[1m65/66\u001b[0m \u001b[32m━━━━━━━━━━━━━━━━━━━\u001b[0m\u001b[37m━\u001b[0m \u001b[1m0s\u001b[0m 26ms/step - amount_output_loss: 0.0348 - amount_output_mse: 0.0696 - condition_output_accuracy: 1.0000 - condition_output_loss: 0.0022 - loss: 0.2343\n",
      "Epoch 34: val_loss did not improve from 0.31185\n",
      "\u001b[1m66/66\u001b[0m \u001b[32m━━━━━━━━━━━━━━━━━━━━\u001b[0m\u001b[37m\u001b[0m \u001b[1m2s\u001b[0m 31ms/step - amount_output_loss: 0.0349 - amount_output_mse: 0.0699 - condition_output_accuracy: 1.0000 - condition_output_loss: 0.0022 - loss: 0.2344 - val_amount_output_loss: 0.2125 - val_amount_output_mse: 0.4572 - val_condition_output_accuracy: 1.0000 - val_condition_output_loss: 5.7822e-04 - val_loss: 0.4093 - learning_rate: 2.5000e-04\n",
      "Epoch 35/200\n",
      "\u001b[1m64/66\u001b[0m \u001b[32m━━━━━━━━━━━━━━━━━━━\u001b[0m\u001b[37m━\u001b[0m \u001b[1m0s\u001b[0m 28ms/step - amount_output_loss: 0.0473 - amount_output_mse: 0.0947 - condition_output_accuracy: 1.0000 - condition_output_loss: 0.0029 - loss: 0.2434\n",
      "Epoch 35: val_loss did not improve from 0.31185\n",
      "\u001b[1m66/66\u001b[0m \u001b[32m━━━━━━━━━━━━━━━━━━━━\u001b[0m\u001b[37m\u001b[0m \u001b[1m2s\u001b[0m 33ms/step - amount_output_loss: 0.0473 - amount_output_mse: 0.0946 - condition_output_accuracy: 1.0000 - condition_output_loss: 0.0028 - loss: 0.2433 - val_amount_output_loss: 0.1878 - val_amount_output_mse: 0.4048 - val_condition_output_accuracy: 1.0000 - val_condition_output_loss: 6.1161e-04 - val_loss: 0.3797 - learning_rate: 2.5000e-04\n",
      "Epoch 36/200\n",
      "\u001b[1m65/66\u001b[0m \u001b[32m━━━━━━━━━━━━━━━━━━━\u001b[0m\u001b[37m━\u001b[0m \u001b[1m0s\u001b[0m 27ms/step - amount_output_loss: 0.0378 - amount_output_mse: 0.0756 - condition_output_accuracy: 1.0000 - condition_output_loss: 0.0019 - loss: 0.2294\n",
      "Epoch 36: val_loss did not improve from 0.31185\n",
      "\u001b[1m66/66\u001b[0m \u001b[32m━━━━━━━━━━━━━━━━━━━━\u001b[0m\u001b[37m\u001b[0m \u001b[1m2s\u001b[0m 33ms/step - amount_output_loss: 0.0378 - amount_output_mse: 0.0756 - condition_output_accuracy: 1.0000 - condition_output_loss: 0.0019 - loss: 0.2294 - val_amount_output_loss: 0.1999 - val_amount_output_mse: 0.4305 - val_condition_output_accuracy: 1.0000 - val_condition_output_loss: 5.6976e-04 - val_loss: 0.3908 - learning_rate: 1.2500e-04\n",
      "Epoch 37/200\n",
      "\u001b[1m66/66\u001b[0m \u001b[32m━━━━━━━━━━━━━━━━━━━━\u001b[0m\u001b[37m\u001b[0m \u001b[1m0s\u001b[0m 28ms/step - amount_output_loss: 0.0416 - amount_output_mse: 0.0833 - condition_output_accuracy: 1.0000 - condition_output_loss: 0.0031 - loss: 0.2322\n",
      "Epoch 37: val_loss improved from 0.31185 to 0.29217, saving model to models/best_model.keras\n",
      "\u001b[1m66/66\u001b[0m \u001b[32m━━━━━━━━━━━━━━━━━━━━\u001b[0m\u001b[37m\u001b[0m \u001b[1m3s\u001b[0m 39ms/step - amount_output_loss: 0.0415 - amount_output_mse: 0.0831 - condition_output_accuracy: 1.0000 - condition_output_loss: 0.0031 - loss: 0.2321 - val_amount_output_loss: 0.1107 - val_amount_output_mse: 0.2166 - val_condition_output_accuracy: 1.0000 - val_condition_output_loss: 4.7967e-04 - val_loss: 0.2922 - learning_rate: 1.2500e-04\n",
      "Epoch 38/200\n",
      "\u001b[1m65/66\u001b[0m \u001b[32m━━━━━━━━━━━━━━━━━━━\u001b[0m\u001b[37m━\u001b[0m \u001b[1m0s\u001b[0m 29ms/step - amount_output_loss: 0.0279 - amount_output_mse: 0.0558 - condition_output_accuracy: 1.0000 - condition_output_loss: 0.0017 - loss: 0.2150     \n",
      "Epoch 38: val_loss did not improve from 0.29217\n",
      "\u001b[1m66/66\u001b[0m \u001b[32m━━━━━━━━━━━━━━━━━━━━\u001b[0m\u001b[37m\u001b[0m \u001b[1m2s\u001b[0m 33ms/step - amount_output_loss: 0.0280 - amount_output_mse: 0.0561 - condition_output_accuracy: 1.0000 - condition_output_loss: 0.0017 - loss: 0.2151 - val_amount_output_loss: 0.1282 - val_amount_output_mse: 0.2675 - val_condition_output_accuracy: 1.0000 - val_condition_output_loss: 5.0095e-04 - val_loss: 0.3128 - learning_rate: 1.2500e-04\n",
      "Epoch 39/200\n",
      "\u001b[1m66/66\u001b[0m \u001b[32m━━━━━━━━━━━━━━━━━━━━\u001b[0m\u001b[37m\u001b[0m \u001b[1m0s\u001b[0m 27ms/step - amount_output_loss: 0.0387 - amount_output_mse: 0.0774 - condition_output_accuracy: 1.0000 - condition_output_loss: 0.0029 - loss: 0.2249\n",
      "Epoch 39: val_loss improved from 0.29217 to 0.28578, saving model to models/best_model.keras\n",
      "\u001b[1m66/66\u001b[0m \u001b[32m━━━━━━━━━━━━━━━━━━━━\u001b[0m\u001b[37m\u001b[0m \u001b[1m3s\u001b[0m 37ms/step - amount_output_loss: 0.0387 - amount_output_mse: 0.0774 - condition_output_accuracy: 1.0000 - condition_output_loss: 0.0029 - loss: 0.2249 - val_amount_output_loss: 0.1085 - val_amount_output_mse: 0.2139 - val_condition_output_accuracy: 1.0000 - val_condition_output_loss: 3.4874e-04 - val_loss: 0.2858 - learning_rate: 1.2500e-04\n",
      "Epoch 40/200\n",
      "\u001b[1m66/66\u001b[0m \u001b[32m━━━━━━━━━━━━━━━━━━━━\u001b[0m\u001b[37m\u001b[0m \u001b[1m0s\u001b[0m 26ms/step - amount_output_loss: 0.0334 - amount_output_mse: 0.0669 - condition_output_accuracy: 1.0000 - condition_output_loss: 0.0017 - loss: 0.2163\n",
      "Epoch 40: val_loss did not improve from 0.28578\n",
      "\u001b[1m66/66\u001b[0m \u001b[32m━━━━━━━━━━━━━━━━━━━━\u001b[0m\u001b[37m\u001b[0m \u001b[1m2s\u001b[0m 31ms/step - amount_output_loss: 0.0334 - amount_output_mse: 0.0669 - condition_output_accuracy: 1.0000 - condition_output_loss: 0.0017 - loss: 0.2163 - val_amount_output_loss: 0.1818 - val_amount_output_mse: 0.3440 - val_condition_output_accuracy: 1.0000 - val_condition_output_loss: 3.9822e-04 - val_loss: 0.3468 - learning_rate: 1.2500e-04\n",
      "Epoch 41/200\n",
      "\u001b[1m65/66\u001b[0m \u001b[32m━━━━━━━━━━━━━━━━━━━\u001b[0m\u001b[37m━\u001b[0m \u001b[1m0s\u001b[0m 27ms/step - amount_output_loss: 0.0355 - amount_output_mse: 0.0711 - condition_output_accuracy: 1.0000 - condition_output_loss: 0.0027 - loss: 0.2173\n",
      "Epoch 41: val_loss did not improve from 0.28578\n",
      "\u001b[1m66/66\u001b[0m \u001b[32m━━━━━━━━━━━━━━━━━━━━\u001b[0m\u001b[37m\u001b[0m \u001b[1m2s\u001b[0m 32ms/step - amount_output_loss: 0.0355 - amount_output_mse: 0.0710 - condition_output_accuracy: 1.0000 - condition_output_loss: 0.0026 - loss: 0.2173 - val_amount_output_loss: 0.1224 - val_amount_output_mse: 0.2479 - val_condition_output_accuracy: 1.0000 - val_condition_output_loss: 3.6921e-04 - val_loss: 0.2981 - learning_rate: 1.2500e-04\n",
      "Epoch 42/200\n",
      "\u001b[1m66/66\u001b[0m \u001b[32m━━━━━━━━━━━━━━━━━━━━\u001b[0m\u001b[37m\u001b[0m \u001b[1m0s\u001b[0m 29ms/step - amount_output_loss: 0.0376 - amount_output_mse: 0.0756 - condition_output_accuracy: 1.0000 - condition_output_loss: 0.0025 - loss: 0.2172\n",
      "Epoch 42: val_loss did not improve from 0.28578\n",
      "\u001b[1m66/66\u001b[0m \u001b[32m━━━━━━━━━━━━━━━━━━━━\u001b[0m\u001b[37m\u001b[0m \u001b[1m2s\u001b[0m 35ms/step - amount_output_loss: 0.0376 - amount_output_mse: 0.0755 - condition_output_accuracy: 1.0000 - condition_output_loss: 0.0025 - loss: 0.2171 - val_amount_output_loss: 0.1379 - val_amount_output_mse: 0.2870 - val_condition_output_accuracy: 1.0000 - val_condition_output_loss: 4.6115e-04 - val_loss: 0.3138 - learning_rate: 1.2500e-04\n",
      "Epoch 43/200\n",
      "\u001b[1m65/66\u001b[0m \u001b[32m━━━━━━━━━━━━━━━━━━━\u001b[0m\u001b[37m━\u001b[0m \u001b[1m0s\u001b[0m 29ms/step - amount_output_loss: 0.0296 - amount_output_mse: 0.0593 - condition_output_accuracy: 1.0000 - condition_output_loss: 0.0017 - loss: 0.2066\n",
      "Epoch 43: val_loss improved from 0.28578 to 0.27909, saving model to models/best_model.keras\n",
      "\u001b[1m66/66\u001b[0m \u001b[32m━━━━━━━━━━━━━━━━━━━━\u001b[0m\u001b[37m\u001b[0m \u001b[1m3s\u001b[0m 40ms/step - amount_output_loss: 0.0297 - amount_output_mse: 0.0594 - condition_output_accuracy: 1.0000 - condition_output_loss: 0.0017 - loss: 0.2066 - val_amount_output_loss: 0.1105 - val_amount_output_mse: 0.2130 - val_condition_output_accuracy: 1.0000 - val_condition_output_loss: 4.7032e-04 - val_loss: 0.2791 - learning_rate: 6.2500e-05\n",
      "Epoch 44/200\n",
      "\u001b[1m65/66\u001b[0m \u001b[32m━━━━━━━━━━━━━━━━━━━\u001b[0m\u001b[37m━\u001b[0m \u001b[1m0s\u001b[0m 32ms/step - amount_output_loss: 0.0309 - amount_output_mse: 0.0618 - condition_output_accuracy: 1.0000 - condition_output_loss: 0.0021 - loss: 0.2073\n",
      "Epoch 44: val_loss improved from 0.27909 to 0.27361, saving model to models/best_model.keras\n",
      "\u001b[1m66/66\u001b[0m \u001b[32m━━━━━━━━━━━━━━━━━━━━\u001b[0m\u001b[37m\u001b[0m \u001b[1m3s\u001b[0m 42ms/step - amount_output_loss: 0.0309 - amount_output_mse: 0.0618 - condition_output_accuracy: 1.0000 - condition_output_loss: 0.0021 - loss: 0.2073 - val_amount_output_loss: 0.1033 - val_amount_output_mse: 0.2032 - val_condition_output_accuracy: 1.0000 - val_condition_output_loss: 4.8242e-04 - val_loss: 0.2736 - learning_rate: 6.2500e-05\n",
      "Epoch 45/200\n",
      "\u001b[1m66/66\u001b[0m \u001b[32m━━━━━━━━━━━━━━━━━━━━\u001b[0m\u001b[37m\u001b[0m \u001b[1m0s\u001b[0m 29ms/step - amount_output_loss: 0.0280 - amount_output_mse: 0.0561 - condition_output_accuracy: 1.0000 - condition_output_loss: 0.0021 - loss: 0.2033\n",
      "Epoch 45: val_loss did not improve from 0.27361\n",
      "\u001b[1m66/66\u001b[0m \u001b[32m━━━━━━━━━━━━━━━━━━━━\u001b[0m\u001b[37m\u001b[0m \u001b[1m2s\u001b[0m 34ms/step - amount_output_loss: 0.0281 - amount_output_mse: 0.0562 - condition_output_accuracy: 1.0000 - condition_output_loss: 0.0021 - loss: 0.2034 - val_amount_output_loss: 0.1189 - val_amount_output_mse: 0.2250 - val_condition_output_accuracy: 1.0000 - val_condition_output_loss: 3.9933e-04 - val_loss: 0.2831 - learning_rate: 6.2500e-05\n",
      "Epoch 46/200\n",
      "\u001b[1m66/66\u001b[0m \u001b[32m━━━━━━━━━━━━━━━━━━━━\u001b[0m\u001b[37m\u001b[0m \u001b[1m0s\u001b[0m 31ms/step - amount_output_loss: 0.0292 - amount_output_mse: 0.0584 - condition_output_accuracy: 1.0000 - condition_output_loss: 0.0022 - loss: 0.2035\n",
      "Epoch 46: val_loss did not improve from 0.27361\n",
      "\u001b[1m66/66\u001b[0m \u001b[32m━━━━━━━━━━━━━━━━━━━━\u001b[0m\u001b[37m\u001b[0m \u001b[1m2s\u001b[0m 37ms/step - amount_output_loss: 0.0292 - amount_output_mse: 0.0584 - condition_output_accuracy: 1.0000 - condition_output_loss: 0.0022 - loss: 0.2035 - val_amount_output_loss: 0.1154 - val_amount_output_mse: 0.2242 - val_condition_output_accuracy: 1.0000 - val_condition_output_loss: 3.9325e-04 - val_loss: 0.2813 - learning_rate: 6.2500e-05\n",
      "Epoch 47/200\n",
      "\u001b[1m66/66\u001b[0m \u001b[32m━━━━━━━━━━━━━━━━━━━━\u001b[0m\u001b[37m\u001b[0m \u001b[1m0s\u001b[0m 28ms/step - amount_output_loss: 0.0268 - amount_output_mse: 0.0536 - condition_output_accuracy: 1.0000 - condition_output_loss: 0.0020 - loss: 0.1999\n",
      "Epoch 47: val_loss did not improve from 0.27361\n",
      "\u001b[1m66/66\u001b[0m \u001b[32m━━━━━━━━━━━━━━━━━━━━\u001b[0m\u001b[37m\u001b[0m \u001b[1m2s\u001b[0m 36ms/step - amount_output_loss: 0.0268 - amount_output_mse: 0.0536 - condition_output_accuracy: 1.0000 - condition_output_loss: 0.0020 - loss: 0.1999 - val_amount_output_loss: 0.1082 - val_amount_output_mse: 0.2152 - val_condition_output_accuracy: 1.0000 - val_condition_output_loss: 4.1218e-04 - val_loss: 0.2765 - learning_rate: 6.2500e-05\n",
      "Epoch 48/200\n",
      "\u001b[1m66/66\u001b[0m \u001b[32m━━━━━━━━━━━━━━━━━━━━\u001b[0m\u001b[37m\u001b[0m \u001b[1m0s\u001b[0m 29ms/step - amount_output_loss: 0.0270 - amount_output_mse: 0.0541 - condition_output_accuracy: 1.0000 - condition_output_loss: 0.0016 - loss: 0.1988     \n",
      "Epoch 48: val_loss improved from 0.27361 to 0.27332, saving model to models/best_model.keras\n",
      "\u001b[1m66/66\u001b[0m \u001b[32m━━━━━━━━━━━━━━━━━━━━\u001b[0m\u001b[37m\u001b[0m \u001b[1m3s\u001b[0m 39ms/step - amount_output_loss: 0.0270 - amount_output_mse: 0.0542 - condition_output_accuracy: 1.0000 - condition_output_loss: 0.0016 - loss: 0.1988 - val_amount_output_loss: 0.1062 - val_amount_output_mse: 0.2101 - val_condition_output_accuracy: 1.0000 - val_condition_output_loss: 4.2363e-04 - val_loss: 0.2733 - learning_rate: 3.1250e-05\n",
      "Epoch 49/200\n",
      "\u001b[1m64/66\u001b[0m \u001b[32m━━━━━━━━━━━━━━━━━━━\u001b[0m\u001b[37m━\u001b[0m \u001b[1m0s\u001b[0m 27ms/step - amount_output_loss: 0.0237 - amount_output_mse: 0.0475 - condition_output_accuracy: 1.0000 - condition_output_loss: 0.0014 - loss: 0.1948     \n",
      "Epoch 49: val_loss did not improve from 0.27332\n",
      "\u001b[1m66/66\u001b[0m \u001b[32m━━━━━━━━━━━━━━━━━━━━\u001b[0m\u001b[37m\u001b[0m \u001b[1m2s\u001b[0m 32ms/step - amount_output_loss: 0.0238 - amount_output_mse: 0.0477 - condition_output_accuracy: 1.0000 - condition_output_loss: 0.0014 - loss: 0.1948 - val_amount_output_loss: 0.1218 - val_amount_output_mse: 0.2477 - val_condition_output_accuracy: 1.0000 - val_condition_output_loss: 4.2304e-04 - val_loss: 0.2903 - learning_rate: 3.1250e-05\n",
      "Epoch 50/200\n",
      "\u001b[1m66/66\u001b[0m \u001b[32m━━━━━━━━━━━━━━━━━━━━\u001b[0m\u001b[37m\u001b[0m \u001b[1m0s\u001b[0m 27ms/step - amount_output_loss: 0.0272 - amount_output_mse: 0.0544 - condition_output_accuracy: 1.0000 - condition_output_loss: 0.0015 - loss: 0.1978    \n",
      "Epoch 50: val_loss improved from 0.27332 to 0.26788, saving model to models/best_model.keras\n",
      "\u001b[1m66/66\u001b[0m \u001b[32m━━━━━━━━━━━━━━━━━━━━\u001b[0m\u001b[37m\u001b[0m \u001b[1m3s\u001b[0m 37ms/step - amount_output_loss: 0.0272 - amount_output_mse: 0.0544 - condition_output_accuracy: 1.0000 - condition_output_loss: 0.0015 - loss: 0.1977 - val_amount_output_loss: 0.1032 - val_amount_output_mse: 0.2007 - val_condition_output_accuracy: 1.0000 - val_condition_output_loss: 4.0419e-04 - val_loss: 0.2679 - learning_rate: 3.1250e-05\n",
      "Epoch 51/200\n",
      "\u001b[1m65/66\u001b[0m \u001b[32m━━━━━━━━━━━━━━━━━━━\u001b[0m\u001b[37m━\u001b[0m \u001b[1m0s\u001b[0m 28ms/step - amount_output_loss: 0.0255 - amount_output_mse: 0.0510 - condition_output_accuracy: 1.0000 - condition_output_loss: 0.0014 - loss: 0.1954\n",
      "Epoch 51: val_loss did not improve from 0.26788\n",
      "\u001b[1m66/66\u001b[0m \u001b[32m━━━━━━━━━━━━━━━━━━━━\u001b[0m\u001b[37m\u001b[0m \u001b[1m2s\u001b[0m 33ms/step - amount_output_loss: 0.0255 - amount_output_mse: 0.0510 - condition_output_accuracy: 1.0000 - condition_output_loss: 0.0014 - loss: 0.1954 - val_amount_output_loss: 0.1084 - val_amount_output_mse: 0.2124 - val_condition_output_accuracy: 1.0000 - val_condition_output_loss: 4.0337e-04 - val_loss: 0.2726 - learning_rate: 3.1250e-05\n",
      "Epoch 52/200\n",
      "\u001b[1m65/66\u001b[0m \u001b[32m━━━━━━━━━━━━━━━━━━━\u001b[0m\u001b[37m━\u001b[0m \u001b[1m0s\u001b[0m 32ms/step - amount_output_loss: 0.0230 - amount_output_mse: 0.0461 - condition_output_accuracy: 1.0000 - condition_output_loss: 0.0013 - loss: 0.1923    \n",
      "Epoch 52: val_loss did not improve from 0.26788\n",
      "\u001b[1m66/66\u001b[0m \u001b[32m━━━━━━━━━━━━━━━━━━━━\u001b[0m\u001b[37m\u001b[0m \u001b[1m3s\u001b[0m 38ms/step - amount_output_loss: 0.0231 - amount_output_mse: 0.0462 - condition_output_accuracy: 1.0000 - condition_output_loss: 0.0013 - loss: 0.1924 - val_amount_output_loss: 0.1109 - val_amount_output_mse: 0.2229 - val_condition_output_accuracy: 1.0000 - val_condition_output_loss: 4.1726e-04 - val_loss: 0.2767 - learning_rate: 3.1250e-05\n",
      "Epoch 53/200\n",
      "\u001b[1m66/66\u001b[0m \u001b[32m━━━━━━━━━━━━━━━━━━━━\u001b[0m\u001b[37m\u001b[0m \u001b[1m0s\u001b[0m 28ms/step - amount_output_loss: 0.0234 - amount_output_mse: 0.0469 - condition_output_accuracy: 1.0000 - condition_output_loss: 0.0015 - loss: 0.1923    \n",
      "Epoch 53: val_loss did not improve from 0.26788\n",
      "\u001b[1m66/66\u001b[0m \u001b[32m━━━━━━━━━━━━━━━━━━━━\u001b[0m\u001b[37m\u001b[0m \u001b[1m2s\u001b[0m 33ms/step - amount_output_loss: 0.0235 - amount_output_mse: 0.0470 - condition_output_accuracy: 1.0000 - condition_output_loss: 0.0015 - loss: 0.1924 - val_amount_output_loss: 0.1112 - val_amount_output_mse: 0.2221 - val_condition_output_accuracy: 1.0000 - val_condition_output_loss: 4.0803e-04 - val_loss: 0.2756 - learning_rate: 3.1250e-05\n",
      "Epoch 54/200\n",
      "\u001b[1m66/66\u001b[0m \u001b[32m━━━━━━━━━━━━━━━━━━━━\u001b[0m\u001b[37m\u001b[0m \u001b[1m0s\u001b[0m 29ms/step - amount_output_loss: 0.0260 - amount_output_mse: 0.0522 - condition_output_accuracy: 1.0000 - condition_output_loss: 0.0021 - loss: 0.1950 \n",
      "Epoch 54: val_loss did not improve from 0.26788\n",
      "\u001b[1m66/66\u001b[0m \u001b[32m━━━━━━━━━━━━━━━━━━━━\u001b[0m\u001b[37m\u001b[0m \u001b[1m2s\u001b[0m 34ms/step - amount_output_loss: 0.0261 - amount_output_mse: 0.0524 - condition_output_accuracy: 1.0000 - condition_output_loss: 0.0021 - loss: 0.1951 - val_amount_output_loss: 0.1132 - val_amount_output_mse: 0.2188 - val_condition_output_accuracy: 1.0000 - val_condition_output_loss: 3.7237e-04 - val_loss: 0.2741 - learning_rate: 1.5625e-05\n",
      "Epoch 55/200\n",
      "\u001b[1m66/66\u001b[0m \u001b[32m━━━━━━━━━━━━━━━━━━━━\u001b[0m\u001b[37m\u001b[0m \u001b[1m0s\u001b[0m 27ms/step - amount_output_loss: 0.0296 - amount_output_mse: 0.0597 - condition_output_accuracy: 1.0000 - condition_output_loss: 0.0029 - loss: 0.1991\n",
      "Epoch 55: val_loss did not improve from 0.26788\n",
      "\u001b[1m66/66\u001b[0m \u001b[32m━━━━━━━━━━━━━━━━━━━━\u001b[0m\u001b[37m\u001b[0m \u001b[1m2s\u001b[0m 33ms/step - amount_output_loss: 0.0296 - amount_output_mse: 0.0599 - condition_output_accuracy: 1.0000 - condition_output_loss: 0.0029 - loss: 0.1992 - val_amount_output_loss: 0.1136 - val_amount_output_mse: 0.2213 - val_condition_output_accuracy: 1.0000 - val_condition_output_loss: 3.6773e-04 - val_loss: 0.2749 - learning_rate: 1.5625e-05\n"
     ]
    },
    {
     "name": "stderr",
     "output_type": "stream",
     "text": [
      "2025/02/12 18:44:57 WARNING mlflow.tensorflow: You are saving a TensorFlow Core model or Keras model without a signature. Inference with mlflow.pyfunc.spark_udf() will not work unless the model's pyfunc representation accepts pandas DataFrames as inference inputs.\n",
      "2025/02/12 18:45:26 WARNING mlflow.models.model: Model logged without a signature and input example. Please set `input_example` parameter when logging the model to auto infer the model signature.\n"
     ]
    },
    {
     "name": "stdout",
     "output_type": "stream",
     "text": [
      "Trained model saved and logged in MLflow at models/model_1739365952.keras\n"
     ]
    }
   ],
   "source": [
    "with mlflow.start_run():\n",
    "    # Log hyperparameters\n",
    "    mlflow.log_param('learning_rate', 0.001)\n",
    "    mlflow.log_param('epochs', 200)\n",
    "    mlflow.log_param('batch_size', 16)\n",
    "\n",
    "    # Train the model before saving/logging\n",
    "    history = model.fit(\n",
    "        [image_features, structured_data_scaled],  # Inputs\n",
    "        {'condition_output': condition_labels, 'amount_output': amount_labels},  # Outputs\n",
    "        epochs=200,\n",
    "        batch_size=16,\n",
    "        validation_split=0.2,\n",
    "        callbacks=[early_stopping, reduce_lr, checkpoint],  # Callbacks\n",
    "        verbose=1\n",
    "    )\n",
    "\n",
    "    # Log final training metrics (avoid KeyErrors)\n",
    "    mlflow.log_metric('condition_output_accuracy', history.history.get('condition_output_accuracy', [None])[-1])\n",
    "    mlflow.log_metric('amount_output_mse', history.history.get('amount_output_mse', [None])[-1])\n",
    "    \n",
    "    # Optionally log validation metrics\n",
    "    mlflow.log_metric('val_condition_output_accuracy', history.history.get('val_condition_output_accuracy', [None])[-1])\n",
    "    mlflow.log_metric('val_amount_output_mse', history.history.get('val_amount_output_mse', [None])[-1])\n",
    "\n",
    "    # Save and log trained model with a unique filename\n",
    "    model.save(model_path)\n",
    "    mlflow.tensorflow.log_model(model, artifact_path=\"model\")  # Log trained model\n",
    "\n",
    "    print(f\"Trained model saved and logged in MLflow at {model_path}\")\n"
   ]
  },
  {
   "cell_type": "code",
   "execution_count": 23,
   "id": "d9d263a6-f6e2-46b0-a5c7-08d0b017e36b",
   "metadata": {},
   "outputs": [
    {
     "data": {
      "image/png": "[encoded data removed]",
      "text/plain": [
       "<Figure size 640x480 with 1 Axes>"
      ]
     },
     "metadata": {},
     "output_type": "display_data"
    }
   ],
   "source": [
    "# Plot training and validation loss\n",
    "import matplotlib.pyplot as plt\n",
    "plt.plot(history.history['loss'], label='Training Loss')\n",
    "plt.plot(history.history['val_loss'], label='Validation Loss')\n",
    "plt.xlabel('Epochs')\n",
    "plt.ylabel('Loss')\n",
    "plt.legend()\n",
    "plt.title('Training and Validation Loss')\n",
    "plt.show()\n"
   ]
  },
  {
   "cell_type": "code",
   "execution_count": 24,
   "id": "e7fc882d-9a55-4812-a282-cd79a97ae49d",
   "metadata": {},
   "outputs": [
    {
     "name": "stdout",
     "output_type": "stream",
     "text": [
      "Final Training and Validation Metrics:\n",
      "\n",
      "Training Metrics:\n",
      "amount_output_loss: 0.0347\n",
      "amount_output_mse: 0.0709\n",
      "condition_output_accuracy: 1.0000\n",
      "condition_output_loss: 0.0036\n",
      "loss: 0.2050\n",
      "learning_rate: 0.0000\n",
      "\n",
      "Validation Metrics:\n",
      "val_amount_output_loss: 0.1136\n",
      "val_amount_output_mse: 0.2213\n",
      "val_condition_output_accuracy: 1.0000\n",
      "val_condition_output_loss: 0.0004\n",
      "val_loss: 0.2749\n"
     ]
    }
   ],
   "source": [
    "# Print the final training and validation metrics and losses\n",
    "print(\"Final Training and Validation Metrics:\")\n",
    "\n",
    "# Print the final training metrics\n",
    "print(\"\\nTraining Metrics:\")\n",
    "for metric, values in history.history.items():\n",
    "    if 'val_' not in metric:  # Training metrics do not contain 'val_'\n",
    "        print(f\"{metric}: {values[-1]:.4f}\")  # Print the last value for each training metric\n",
    "\n",
    "# Print the final validation metrics\n",
    "print(\"\\nValidation Metrics:\")\n",
    "for metric, values in history.history.items():\n",
    "    if 'val_' in metric:  # Validation metrics contain 'val_'\n",
    "        print(f\"{metric}: {values[-1]:.4f}\")  # Print the last value for each validation metric\n"
   ]
  },
  {
   "cell_type": "code",
   "execution_count": null,
   "id": "350a0d40-f7af-4e2a-a378-6a9c6e546859",
   "metadata": {},
   "outputs": [],
   "source": []
  },
  {
   "cell_type": "code",
   "execution_count": null,
   "id": "8f77829e-df9a-45c6-96a9-c59d0b5a924b",
   "metadata": {},
   "outputs": [],
   "source": []
  }
 ],
 "metadata": {
  "kernelspec": {
   "display_name": "Python 3.11",
   "language": "python",
   "name": "python3.11"
  },
  "language_info": {
   "codemirror_mode": {
    "name": "ipython",
    "version": 3
   },
   "file_extension": ".py",
   "mimetype": "text/x-python",
   "name": "python",
   "nbconvert_exporter": "python",
   "pygments_lexer": "ipython3",
   "version": "3.11.0"
  }
 },
 "nbformat": 4,
 "nbformat_minor": 5
}
