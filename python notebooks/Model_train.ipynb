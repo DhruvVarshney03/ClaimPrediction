{
 "cells": [
  {
   "cell_type": "code",
   "execution_count": 1,
   "id": "841bb3b3-7125-4c05-8b2c-2710537a1a71",
   "metadata": {},
   "outputs": [],
   "source": [
    "import numpy as np\n",
    "import pandas as pd\n",
    "import tensorflow as tf\n",
    "from tensorflow.keras import layers, Model\n",
    "from tensorflow.keras.layers import Input, Dense, Flatten, Concatenate, Dropout, BatchNormalization, LeakyReLU\n",
    "from tensorflow.keras.optimizers import Adam\n",
    "from tensorflow.keras.callbacks import EarlyStopping, ReduceLROnPlateau, ModelCheckpoint\n",
    "from tensorflow.keras.regularizers import l2\n"
   ]
  },
  {
   "cell_type": "markdown",
   "id": "d3a2883e-d396-46f7-8134-8a54cf5bfcbc",
   "metadata": {},
   "source": [
    "### Load Processed Data"
   ]
  },
  {
   "cell_type": "code",
   "execution_count": 2,
   "id": "a9a70b95-f488-48e5-a563-0eba85413b28",
   "metadata": {},
   "outputs": [],
   "source": [
    "data = pd.read_pickle(r\"C:\\Users\\varsh\\OneDrive\\Desktop\\notebook\\Fast_Furious_Insured\\api\\processed_data\\final_train_data.pkl\")"
   ]
  },
  {
   "cell_type": "code",
   "execution_count": 3,
   "id": "d5115236-3a8a-4d5e-9b26-8ab95a9ef668",
   "metadata": {},
   "outputs": [
    {
     "data": {
      "text/plain": [
       "(1310, 2066)"
      ]
     },
     "execution_count": 3,
     "metadata": {},
     "output_type": "execute_result"
    }
   ],
   "source": [
    "data.dtypes\n",
    "data.shape"
   ]
  },
  {
   "cell_type": "code",
   "execution_count": 4,
   "id": "3e3c3977-a9f1-4052-875c-1c58a5569ce0",
   "metadata": {},
   "outputs": [],
   "source": [
    "# Extract structured data (already encoded & scaled)\n",
    "# Extract first 18 columns, excluding columns 1, 6, and 7\n",
    "structured_data = data.iloc[:, :18]  # First 18 columns\n",
    "structured_data = structured_data.drop(columns=[data.columns[0], data.columns[5], data.columns[6]])\n",
    "structured_data_scaled = structured_data.values\n"
   ]
  },
  {
   "cell_type": "code",
   "execution_count": null,
   "id": "7bd3b639-7bc5-47c4-baea-1679e1114663",
   "metadata": {},
   "outputs": [],
   "source": []
  },
  {
   "cell_type": "code",
   "execution_count": 5,
   "id": "0bad21c8-98c8-47b3-8a3f-f70ee6adc9ae",
   "metadata": {},
   "outputs": [],
   "source": [
    "# Extract image features\n",
    "image_features = data.iloc[:, 18:].values"
   ]
  },
  {
   "cell_type": "code",
   "execution_count": 6,
   "id": "1d0adeb8-e50b-4b8d-b4af-5483b76556d1",
   "metadata": {},
   "outputs": [
    {
     "data": {
      "text/plain": [
       "(1310, 2048)"
      ]
     },
     "execution_count": 6,
     "metadata": {},
     "output_type": "execute_result"
    }
   ],
   "source": [
    "image_features.shape"
   ]
  },
  {
   "cell_type": "code",
   "execution_count": 7,
   "id": "57740ae8-57f0-49e0-b7be-f2ee520f8cc4",
   "metadata": {},
   "outputs": [],
   "source": [
    "# Extract labels\n",
    "condition_labels = data['Condition'].values  # Binary classification target\n",
    "amount_labels = data['Amount'].values.reshape(-1, 1)  # Regression target"
   ]
  },
  {
   "cell_type": "code",
   "execution_count": 8,
   "id": "c4930818-54eb-40bc-94a7-56668f76783a",
   "metadata": {},
   "outputs": [
    {
     "name": "stdout",
     "output_type": "stream",
     "text": [
      "0 0\n"
     ]
    }
   ],
   "source": [
    "print(np.isnan(image_features).sum(), np.isnan(structured_data_scaled).sum())"
   ]
  },
  {
   "cell_type": "code",
   "execution_count": null,
   "id": "45c62cce-fac2-404d-a6be-853de84c30c2",
   "metadata": {},
   "outputs": [],
   "source": []
  },
  {
   "cell_type": "markdown",
   "id": "bd193549-e5ea-4105-8ba9-647f208a5365",
   "metadata": {},
   "source": [
    "### Build Model"
   ]
  },
  {
   "cell_type": "code",
   "execution_count": 9,
   "id": "22d2e40e-efe3-4dd4-8dac-e22037be7de4",
   "metadata": {},
   "outputs": [],
   "source": [
    "image_input = Input(shape=(image_features.shape[1],), name='image_input')\n",
    "x = Dense(512, kernel_initializer='he_normal', kernel_regularizer=l2(0.00095))(image_input)\n",
    "x = BatchNormalization()(x)\n",
    "x = LeakyReLU(negative_slope=0.1)(x)\n",
    "x = Dropout(0.2)(x)\n",
    "\n",
    "x = Dense(256, kernel_initializer='he_normal', kernel_regularizer=l2(0.00095))(x)\n",
    "x = BatchNormalization()(x)\n",
    "x = LeakyReLU(negative_slope=0.1)(x)\n",
    "x = Dropout(0.2)(x)"
   ]
  },
  {
   "cell_type": "code",
   "execution_count": 10,
   "id": "88445203-bd37-4365-b5a9-f6a48199ac8a",
   "metadata": {},
   "outputs": [],
   "source": [
    "structured_input = Input(shape=(structured_data_scaled.shape[1],), name='structured_input')\n",
    "y = Dense(128, kernel_initializer='he_normal', kernel_regularizer=l2(0.00095))(structured_input)\n",
    "y = BatchNormalization()(y)\n",
    "y = LeakyReLU(negative_slope=0.1)(y)\n",
    "y = Dropout(0.2)(y)\n",
    "\n",
    "y = Dense(64, kernel_initializer='he_normal', kernel_regularizer=l2(0.00095))(y)\n",
    "y = BatchNormalization()(y)\n",
    "y = LeakyReLU(negative_slope=0.1)(y)\n",
    "y = Dropout(0.2)(y)\n"
   ]
  },
  {
   "cell_type": "code",
   "execution_count": 11,
   "id": "33daa643-4d32-4701-9e2d-5ef2f72c53da",
   "metadata": {},
   "outputs": [],
   "source": [
    "combined = Concatenate()([x, y])\n",
    "\n",
    "z = Dense(128, kernel_initializer='he_normal', kernel_regularizer=l2(0.00095))(combined)\n",
    "z = BatchNormalization()(z)\n",
    "z = LeakyReLU(negative_slope=0.1)(z)\n",
    "z = Dropout(0.2)(z)\n",
    "\n",
    "z = Dense(64, kernel_initializer='he_normal', kernel_regularizer=l2(0.00095))(z)\n",
    "z = BatchNormalization()(z)\n",
    "z = LeakyReLU(negative_slope=0.1)(z)\n",
    "z = Dropout(0.2)(z)\n",
    "\n",
    "\n"
   ]
  },
  {
   "cell_type": "code",
   "execution_count": 12,
   "id": "59d21550-e6a1-4d6c-8758-accc3b86f51b",
   "metadata": {},
   "outputs": [],
   "source": [
    "# Output 1: Condition (Binary Classification)\n",
    "condition_output = Dense(1, activation='sigmoid', name='condition_output')(z)"
   ]
  },
  {
   "cell_type": "code",
   "execution_count": 13,
   "id": "19e5f437-4d2d-429d-bc38-2da646333e68",
   "metadata": {},
   "outputs": [],
   "source": [
    "# Output 2: Amount (Regression)\n",
    "amount_output = Dense(1, activation='linear', name='amount_output')(z)"
   ]
  },
  {
   "cell_type": "code",
   "execution_count": 14,
   "id": "a5bcfcf1-22bc-4109-b38d-e96410d861ba",
   "metadata": {},
   "outputs": [],
   "source": [
    "# Define the Model\n",
    "model = Model(inputs=[image_input, structured_input], outputs=[condition_output, amount_output])"
   ]
  },
  {
   "cell_type": "code",
   "execution_count": 15,
   "id": "ca9b532b-8131-4cf9-b4fc-11d27ecc999b",
   "metadata": {},
   "outputs": [],
   "source": [
    "# Compile the Model\n",
    "model.compile(optimizer=Adam(learning_rate=0.00095),\n",
    "              loss={'condition_output': 'binary_crossentropy', 'amount_output':tf.keras.losses.Huber()},\n",
    "              metrics={'condition_output': 'accuracy', 'amount_output': 'mse'})"
   ]
  },
  {
   "cell_type": "code",
   "execution_count": 23,
   "id": "99582ed9-145d-415a-a758-48d6ff12284c",
   "metadata": {},
   "outputs": [],
   "source": [
    "#callback\n",
    "early_stopping = EarlyStopping(monitor='val_loss', patience=5, restore_best_weights=True)\n",
    "reduce_lr = ReduceLROnPlateau(monitor='val_loss', factor=0.5, patience=3, min_lr=1e-6)\n",
    "checkpoint = ModelCheckpoint(r'C:\\Users\\varsh\\OneDrive\\Desktop\\notebook\\Fast_Furious_Insured\\api\\models\\best_model.keras', monitor='val_loss', save_best_only=True, mode='min', verbose=1)"
   ]
  },
  {
   "cell_type": "markdown",
   "id": "82412ff1-0914-41b3-b866-e1a7054aabbe",
   "metadata": {},
   "source": [
    "### Train Model"
   ]
  },
  {
   "cell_type": "code",
   "execution_count": 24,
   "id": "a540b812-e4e9-4a06-adfd-699e5b1df439",
   "metadata": {},
   "outputs": [
    {
     "data": {
      "text/html": [
       "<pre style=\"white-space:pre;overflow-x:auto;line-height:normal;font-family:Menlo,'DejaVu Sans Mono',consolas,'Courier New',monospace\"><span style=\"font-weight: bold\">Model: \"functional\"</span>\n",
       "</pre>\n"
      ],
      "text/plain": [
       "\u001b[1mModel: \"functional\"\u001b[0m\n"
      ]
     },
     "metadata": {},
     "output_type": "display_data"
    },
    {
     "data": {
      "text/html": [
       "<pre style=\"white-space:pre;overflow-x:auto;line-height:normal;font-family:Menlo,'DejaVu Sans Mono',consolas,'Courier New',monospace\">┏━━━━━━━━━━━━━━━━━━━━━━━━━━━━━━━┳━━━━━━━━━━━━━━━━━━━━━━━━━━━┳━━━━━━━━━━━━━━━━━┳━━━━━━━━━━━━━━━━━━━━━━━━━━━━┓\n",
       "┃<span style=\"font-weight: bold\"> Layer (type)                  </span>┃<span style=\"font-weight: bold\"> Output Shape              </span>┃<span style=\"font-weight: bold\">         Param # </span>┃<span style=\"font-weight: bold\"> Connected to               </span>┃\n",
       "┡━━━━━━━━━━━━━━━━━━━━━━━━━━━━━━━╇━━━━━━━━━━━━━━━━━━━━━━━━━━━╇━━━━━━━━━━━━━━━━━╇━━━━━━━━━━━━━━━━━━━━━━━━━━━━┩\n",
       "│ image_input (<span style=\"color: #0087ff; text-decoration-color: #0087ff\">InputLayer</span>)      │ (<span style=\"color: #00d7ff; text-decoration-color: #00d7ff\">None</span>, <span style=\"color: #00af00; text-decoration-color: #00af00\">2048</span>)              │               <span style=\"color: #00af00; text-decoration-color: #00af00\">0</span> │ -                          │\n",
       "├───────────────────────────────┼───────────────────────────┼─────────────────┼────────────────────────────┤\n",
       "│ structured_input (<span style=\"color: #0087ff; text-decoration-color: #0087ff\">InputLayer</span>) │ (<span style=\"color: #00d7ff; text-decoration-color: #00d7ff\">None</span>, <span style=\"color: #00af00; text-decoration-color: #00af00\">15</span>)                │               <span style=\"color: #00af00; text-decoration-color: #00af00\">0</span> │ -                          │\n",
       "├───────────────────────────────┼───────────────────────────┼─────────────────┼────────────────────────────┤\n",
       "│ dense (<span style=\"color: #0087ff; text-decoration-color: #0087ff\">Dense</span>)                 │ (<span style=\"color: #00d7ff; text-decoration-color: #00d7ff\">None</span>, <span style=\"color: #00af00; text-decoration-color: #00af00\">512</span>)               │       <span style=\"color: #00af00; text-decoration-color: #00af00\">1,049,088</span> │ image_input[<span style=\"color: #00af00; text-decoration-color: #00af00\">0</span>][<span style=\"color: #00af00; text-decoration-color: #00af00\">0</span>]          │\n",
       "├───────────────────────────────┼───────────────────────────┼─────────────────┼────────────────────────────┤\n",
       "│ dense_2 (<span style=\"color: #0087ff; text-decoration-color: #0087ff\">Dense</span>)               │ (<span style=\"color: #00d7ff; text-decoration-color: #00d7ff\">None</span>, <span style=\"color: #00af00; text-decoration-color: #00af00\">128</span>)               │           <span style=\"color: #00af00; text-decoration-color: #00af00\">2,048</span> │ structured_input[<span style=\"color: #00af00; text-decoration-color: #00af00\">0</span>][<span style=\"color: #00af00; text-decoration-color: #00af00\">0</span>]     │\n",
       "├───────────────────────────────┼───────────────────────────┼─────────────────┼────────────────────────────┤\n",
       "│ batch_normalization           │ (<span style=\"color: #00d7ff; text-decoration-color: #00d7ff\">None</span>, <span style=\"color: #00af00; text-decoration-color: #00af00\">512</span>)               │           <span style=\"color: #00af00; text-decoration-color: #00af00\">2,048</span> │ dense[<span style=\"color: #00af00; text-decoration-color: #00af00\">0</span>][<span style=\"color: #00af00; text-decoration-color: #00af00\">0</span>]                │\n",
       "│ (<span style=\"color: #0087ff; text-decoration-color: #0087ff\">BatchNormalization</span>)          │                           │                 │                            │\n",
       "├───────────────────────────────┼───────────────────────────┼─────────────────┼────────────────────────────┤\n",
       "│ batch_normalization_2         │ (<span style=\"color: #00d7ff; text-decoration-color: #00d7ff\">None</span>, <span style=\"color: #00af00; text-decoration-color: #00af00\">128</span>)               │             <span style=\"color: #00af00; text-decoration-color: #00af00\">512</span> │ dense_2[<span style=\"color: #00af00; text-decoration-color: #00af00\">0</span>][<span style=\"color: #00af00; text-decoration-color: #00af00\">0</span>]              │\n",
       "│ (<span style=\"color: #0087ff; text-decoration-color: #0087ff\">BatchNormalization</span>)          │                           │                 │                            │\n",
       "├───────────────────────────────┼───────────────────────────┼─────────────────┼────────────────────────────┤\n",
       "│ leaky_re_lu (<span style=\"color: #0087ff; text-decoration-color: #0087ff\">LeakyReLU</span>)       │ (<span style=\"color: #00d7ff; text-decoration-color: #00d7ff\">None</span>, <span style=\"color: #00af00; text-decoration-color: #00af00\">512</span>)               │               <span style=\"color: #00af00; text-decoration-color: #00af00\">0</span> │ batch_normalization[<span style=\"color: #00af00; text-decoration-color: #00af00\">0</span>][<span style=\"color: #00af00; text-decoration-color: #00af00\">0</span>]  │\n",
       "├───────────────────────────────┼───────────────────────────┼─────────────────┼────────────────────────────┤\n",
       "│ leaky_re_lu_2 (<span style=\"color: #0087ff; text-decoration-color: #0087ff\">LeakyReLU</span>)     │ (<span style=\"color: #00d7ff; text-decoration-color: #00d7ff\">None</span>, <span style=\"color: #00af00; text-decoration-color: #00af00\">128</span>)               │               <span style=\"color: #00af00; text-decoration-color: #00af00\">0</span> │ batch_normalization_2[<span style=\"color: #00af00; text-decoration-color: #00af00\">0</span>][<span style=\"color: #00af00; text-decoration-color: #00af00\">…</span> │\n",
       "├───────────────────────────────┼───────────────────────────┼─────────────────┼────────────────────────────┤\n",
       "│ dropout (<span style=\"color: #0087ff; text-decoration-color: #0087ff\">Dropout</span>)             │ (<span style=\"color: #00d7ff; text-decoration-color: #00d7ff\">None</span>, <span style=\"color: #00af00; text-decoration-color: #00af00\">512</span>)               │               <span style=\"color: #00af00; text-decoration-color: #00af00\">0</span> │ leaky_re_lu[<span style=\"color: #00af00; text-decoration-color: #00af00\">0</span>][<span style=\"color: #00af00; text-decoration-color: #00af00\">0</span>]          │\n",
       "├───────────────────────────────┼───────────────────────────┼─────────────────┼────────────────────────────┤\n",
       "│ dropout_2 (<span style=\"color: #0087ff; text-decoration-color: #0087ff\">Dropout</span>)           │ (<span style=\"color: #00d7ff; text-decoration-color: #00d7ff\">None</span>, <span style=\"color: #00af00; text-decoration-color: #00af00\">128</span>)               │               <span style=\"color: #00af00; text-decoration-color: #00af00\">0</span> │ leaky_re_lu_2[<span style=\"color: #00af00; text-decoration-color: #00af00\">0</span>][<span style=\"color: #00af00; text-decoration-color: #00af00\">0</span>]        │\n",
       "├───────────────────────────────┼───────────────────────────┼─────────────────┼────────────────────────────┤\n",
       "│ dense_1 (<span style=\"color: #0087ff; text-decoration-color: #0087ff\">Dense</span>)               │ (<span style=\"color: #00d7ff; text-decoration-color: #00d7ff\">None</span>, <span style=\"color: #00af00; text-decoration-color: #00af00\">256</span>)               │         <span style=\"color: #00af00; text-decoration-color: #00af00\">131,328</span> │ dropout[<span style=\"color: #00af00; text-decoration-color: #00af00\">0</span>][<span style=\"color: #00af00; text-decoration-color: #00af00\">0</span>]              │\n",
       "├───────────────────────────────┼───────────────────────────┼─────────────────┼────────────────────────────┤\n",
       "│ dense_3 (<span style=\"color: #0087ff; text-decoration-color: #0087ff\">Dense</span>)               │ (<span style=\"color: #00d7ff; text-decoration-color: #00d7ff\">None</span>, <span style=\"color: #00af00; text-decoration-color: #00af00\">64</span>)                │           <span style=\"color: #00af00; text-decoration-color: #00af00\">8,256</span> │ dropout_2[<span style=\"color: #00af00; text-decoration-color: #00af00\">0</span>][<span style=\"color: #00af00; text-decoration-color: #00af00\">0</span>]            │\n",
       "├───────────────────────────────┼───────────────────────────┼─────────────────┼────────────────────────────┤\n",
       "│ batch_normalization_1         │ (<span style=\"color: #00d7ff; text-decoration-color: #00d7ff\">None</span>, <span style=\"color: #00af00; text-decoration-color: #00af00\">256</span>)               │           <span style=\"color: #00af00; text-decoration-color: #00af00\">1,024</span> │ dense_1[<span style=\"color: #00af00; text-decoration-color: #00af00\">0</span>][<span style=\"color: #00af00; text-decoration-color: #00af00\">0</span>]              │\n",
       "│ (<span style=\"color: #0087ff; text-decoration-color: #0087ff\">BatchNormalization</span>)          │                           │                 │                            │\n",
       "├───────────────────────────────┼───────────────────────────┼─────────────────┼────────────────────────────┤\n",
       "│ batch_normalization_3         │ (<span style=\"color: #00d7ff; text-decoration-color: #00d7ff\">None</span>, <span style=\"color: #00af00; text-decoration-color: #00af00\">64</span>)                │             <span style=\"color: #00af00; text-decoration-color: #00af00\">256</span> │ dense_3[<span style=\"color: #00af00; text-decoration-color: #00af00\">0</span>][<span style=\"color: #00af00; text-decoration-color: #00af00\">0</span>]              │\n",
       "│ (<span style=\"color: #0087ff; text-decoration-color: #0087ff\">BatchNormalization</span>)          │                           │                 │                            │\n",
       "├───────────────────────────────┼───────────────────────────┼─────────────────┼────────────────────────────┤\n",
       "│ leaky_re_lu_1 (<span style=\"color: #0087ff; text-decoration-color: #0087ff\">LeakyReLU</span>)     │ (<span style=\"color: #00d7ff; text-decoration-color: #00d7ff\">None</span>, <span style=\"color: #00af00; text-decoration-color: #00af00\">256</span>)               │               <span style=\"color: #00af00; text-decoration-color: #00af00\">0</span> │ batch_normalization_1[<span style=\"color: #00af00; text-decoration-color: #00af00\">0</span>][<span style=\"color: #00af00; text-decoration-color: #00af00\">…</span> │\n",
       "├───────────────────────────────┼───────────────────────────┼─────────────────┼────────────────────────────┤\n",
       "│ leaky_re_lu_3 (<span style=\"color: #0087ff; text-decoration-color: #0087ff\">LeakyReLU</span>)     │ (<span style=\"color: #00d7ff; text-decoration-color: #00d7ff\">None</span>, <span style=\"color: #00af00; text-decoration-color: #00af00\">64</span>)                │               <span style=\"color: #00af00; text-decoration-color: #00af00\">0</span> │ batch_normalization_3[<span style=\"color: #00af00; text-decoration-color: #00af00\">0</span>][<span style=\"color: #00af00; text-decoration-color: #00af00\">…</span> │\n",
       "├───────────────────────────────┼───────────────────────────┼─────────────────┼────────────────────────────┤\n",
       "│ dropout_1 (<span style=\"color: #0087ff; text-decoration-color: #0087ff\">Dropout</span>)           │ (<span style=\"color: #00d7ff; text-decoration-color: #00d7ff\">None</span>, <span style=\"color: #00af00; text-decoration-color: #00af00\">256</span>)               │               <span style=\"color: #00af00; text-decoration-color: #00af00\">0</span> │ leaky_re_lu_1[<span style=\"color: #00af00; text-decoration-color: #00af00\">0</span>][<span style=\"color: #00af00; text-decoration-color: #00af00\">0</span>]        │\n",
       "├───────────────────────────────┼───────────────────────────┼─────────────────┼────────────────────────────┤\n",
       "│ dropout_3 (<span style=\"color: #0087ff; text-decoration-color: #0087ff\">Dropout</span>)           │ (<span style=\"color: #00d7ff; text-decoration-color: #00d7ff\">None</span>, <span style=\"color: #00af00; text-decoration-color: #00af00\">64</span>)                │               <span style=\"color: #00af00; text-decoration-color: #00af00\">0</span> │ leaky_re_lu_3[<span style=\"color: #00af00; text-decoration-color: #00af00\">0</span>][<span style=\"color: #00af00; text-decoration-color: #00af00\">0</span>]        │\n",
       "├───────────────────────────────┼───────────────────────────┼─────────────────┼────────────────────────────┤\n",
       "│ concatenate (<span style=\"color: #0087ff; text-decoration-color: #0087ff\">Concatenate</span>)     │ (<span style=\"color: #00d7ff; text-decoration-color: #00d7ff\">None</span>, <span style=\"color: #00af00; text-decoration-color: #00af00\">320</span>)               │               <span style=\"color: #00af00; text-decoration-color: #00af00\">0</span> │ dropout_1[<span style=\"color: #00af00; text-decoration-color: #00af00\">0</span>][<span style=\"color: #00af00; text-decoration-color: #00af00\">0</span>],           │\n",
       "│                               │                           │                 │ dropout_3[<span style=\"color: #00af00; text-decoration-color: #00af00\">0</span>][<span style=\"color: #00af00; text-decoration-color: #00af00\">0</span>]            │\n",
       "├───────────────────────────────┼───────────────────────────┼─────────────────┼────────────────────────────┤\n",
       "│ dense_4 (<span style=\"color: #0087ff; text-decoration-color: #0087ff\">Dense</span>)               │ (<span style=\"color: #00d7ff; text-decoration-color: #00d7ff\">None</span>, <span style=\"color: #00af00; text-decoration-color: #00af00\">128</span>)               │          <span style=\"color: #00af00; text-decoration-color: #00af00\">41,088</span> │ concatenate[<span style=\"color: #00af00; text-decoration-color: #00af00\">0</span>][<span style=\"color: #00af00; text-decoration-color: #00af00\">0</span>]          │\n",
       "├───────────────────────────────┼───────────────────────────┼─────────────────┼────────────────────────────┤\n",
       "│ batch_normalization_4         │ (<span style=\"color: #00d7ff; text-decoration-color: #00d7ff\">None</span>, <span style=\"color: #00af00; text-decoration-color: #00af00\">128</span>)               │             <span style=\"color: #00af00; text-decoration-color: #00af00\">512</span> │ dense_4[<span style=\"color: #00af00; text-decoration-color: #00af00\">0</span>][<span style=\"color: #00af00; text-decoration-color: #00af00\">0</span>]              │\n",
       "│ (<span style=\"color: #0087ff; text-decoration-color: #0087ff\">BatchNormalization</span>)          │                           │                 │                            │\n",
       "├───────────────────────────────┼───────────────────────────┼─────────────────┼────────────────────────────┤\n",
       "│ leaky_re_lu_4 (<span style=\"color: #0087ff; text-decoration-color: #0087ff\">LeakyReLU</span>)     │ (<span style=\"color: #00d7ff; text-decoration-color: #00d7ff\">None</span>, <span style=\"color: #00af00; text-decoration-color: #00af00\">128</span>)               │               <span style=\"color: #00af00; text-decoration-color: #00af00\">0</span> │ batch_normalization_4[<span style=\"color: #00af00; text-decoration-color: #00af00\">0</span>][<span style=\"color: #00af00; text-decoration-color: #00af00\">…</span> │\n",
       "├───────────────────────────────┼───────────────────────────┼─────────────────┼────────────────────────────┤\n",
       "│ dropout_4 (<span style=\"color: #0087ff; text-decoration-color: #0087ff\">Dropout</span>)           │ (<span style=\"color: #00d7ff; text-decoration-color: #00d7ff\">None</span>, <span style=\"color: #00af00; text-decoration-color: #00af00\">128</span>)               │               <span style=\"color: #00af00; text-decoration-color: #00af00\">0</span> │ leaky_re_lu_4[<span style=\"color: #00af00; text-decoration-color: #00af00\">0</span>][<span style=\"color: #00af00; text-decoration-color: #00af00\">0</span>]        │\n",
       "├───────────────────────────────┼───────────────────────────┼─────────────────┼────────────────────────────┤\n",
       "│ dense_5 (<span style=\"color: #0087ff; text-decoration-color: #0087ff\">Dense</span>)               │ (<span style=\"color: #00d7ff; text-decoration-color: #00d7ff\">None</span>, <span style=\"color: #00af00; text-decoration-color: #00af00\">64</span>)                │           <span style=\"color: #00af00; text-decoration-color: #00af00\">8,256</span> │ dropout_4[<span style=\"color: #00af00; text-decoration-color: #00af00\">0</span>][<span style=\"color: #00af00; text-decoration-color: #00af00\">0</span>]            │\n",
       "├───────────────────────────────┼───────────────────────────┼─────────────────┼────────────────────────────┤\n",
       "│ batch_normalization_5         │ (<span style=\"color: #00d7ff; text-decoration-color: #00d7ff\">None</span>, <span style=\"color: #00af00; text-decoration-color: #00af00\">64</span>)                │             <span style=\"color: #00af00; text-decoration-color: #00af00\">256</span> │ dense_5[<span style=\"color: #00af00; text-decoration-color: #00af00\">0</span>][<span style=\"color: #00af00; text-decoration-color: #00af00\">0</span>]              │\n",
       "│ (<span style=\"color: #0087ff; text-decoration-color: #0087ff\">BatchNormalization</span>)          │                           │                 │                            │\n",
       "├───────────────────────────────┼───────────────────────────┼─────────────────┼────────────────────────────┤\n",
       "│ leaky_re_lu_5 (<span style=\"color: #0087ff; text-decoration-color: #0087ff\">LeakyReLU</span>)     │ (<span style=\"color: #00d7ff; text-decoration-color: #00d7ff\">None</span>, <span style=\"color: #00af00; text-decoration-color: #00af00\">64</span>)                │               <span style=\"color: #00af00; text-decoration-color: #00af00\">0</span> │ batch_normalization_5[<span style=\"color: #00af00; text-decoration-color: #00af00\">0</span>][<span style=\"color: #00af00; text-decoration-color: #00af00\">…</span> │\n",
       "├───────────────────────────────┼───────────────────────────┼─────────────────┼────────────────────────────┤\n",
       "│ dropout_5 (<span style=\"color: #0087ff; text-decoration-color: #0087ff\">Dropout</span>)           │ (<span style=\"color: #00d7ff; text-decoration-color: #00d7ff\">None</span>, <span style=\"color: #00af00; text-decoration-color: #00af00\">64</span>)                │               <span style=\"color: #00af00; text-decoration-color: #00af00\">0</span> │ leaky_re_lu_5[<span style=\"color: #00af00; text-decoration-color: #00af00\">0</span>][<span style=\"color: #00af00; text-decoration-color: #00af00\">0</span>]        │\n",
       "├───────────────────────────────┼───────────────────────────┼─────────────────┼────────────────────────────┤\n",
       "│ condition_output (<span style=\"color: #0087ff; text-decoration-color: #0087ff\">Dense</span>)      │ (<span style=\"color: #00d7ff; text-decoration-color: #00d7ff\">None</span>, <span style=\"color: #00af00; text-decoration-color: #00af00\">1</span>)                 │              <span style=\"color: #00af00; text-decoration-color: #00af00\">65</span> │ dropout_5[<span style=\"color: #00af00; text-decoration-color: #00af00\">0</span>][<span style=\"color: #00af00; text-decoration-color: #00af00\">0</span>]            │\n",
       "├───────────────────────────────┼───────────────────────────┼─────────────────┼────────────────────────────┤\n",
       "│ amount_output (<span style=\"color: #0087ff; text-decoration-color: #0087ff\">Dense</span>)         │ (<span style=\"color: #00d7ff; text-decoration-color: #00d7ff\">None</span>, <span style=\"color: #00af00; text-decoration-color: #00af00\">1</span>)                 │              <span style=\"color: #00af00; text-decoration-color: #00af00\">65</span> │ dropout_5[<span style=\"color: #00af00; text-decoration-color: #00af00\">0</span>][<span style=\"color: #00af00; text-decoration-color: #00af00\">0</span>]            │\n",
       "└───────────────────────────────┴───────────────────────────┴─────────────────┴────────────────────────────┘\n",
       "</pre>\n"
      ],
      "text/plain": [
       "┏━━━━━━━━━━━━━━━━━━━━━━━━━━━━━━━┳━━━━━━━━━━━━━━━━━━━━━━━━━━━┳━━━━━━━━━━━━━━━━━┳━━━━━━━━━━━━━━━━━━━━━━━━━━━━┓\n",
       "┃\u001b[1m \u001b[0m\u001b[1mLayer (type)                 \u001b[0m\u001b[1m \u001b[0m┃\u001b[1m \u001b[0m\u001b[1mOutput Shape             \u001b[0m\u001b[1m \u001b[0m┃\u001b[1m \u001b[0m\u001b[1m        Param #\u001b[0m\u001b[1m \u001b[0m┃\u001b[1m \u001b[0m\u001b[1mConnected to              \u001b[0m\u001b[1m \u001b[0m┃\n",
       "┡━━━━━━━━━━━━━━━━━━━━━━━━━━━━━━━╇━━━━━━━━━━━━━━━━━━━━━━━━━━━╇━━━━━━━━━━━━━━━━━╇━━━━━━━━━━━━━━━━━━━━━━━━━━━━┩\n",
       "│ image_input (\u001b[38;5;33mInputLayer\u001b[0m)      │ (\u001b[38;5;45mNone\u001b[0m, \u001b[38;5;34m2048\u001b[0m)              │               \u001b[38;5;34m0\u001b[0m │ -                          │\n",
       "├───────────────────────────────┼───────────────────────────┼─────────────────┼────────────────────────────┤\n",
       "│ structured_input (\u001b[38;5;33mInputLayer\u001b[0m) │ (\u001b[38;5;45mNone\u001b[0m, \u001b[38;5;34m15\u001b[0m)                │               \u001b[38;5;34m0\u001b[0m │ -                          │\n",
       "├───────────────────────────────┼───────────────────────────┼─────────────────┼────────────────────────────┤\n",
       "│ dense (\u001b[38;5;33mDense\u001b[0m)                 │ (\u001b[38;5;45mNone\u001b[0m, \u001b[38;5;34m512\u001b[0m)               │       \u001b[38;5;34m1,049,088\u001b[0m │ image_input[\u001b[38;5;34m0\u001b[0m][\u001b[38;5;34m0\u001b[0m]          │\n",
       "├───────────────────────────────┼───────────────────────────┼─────────────────┼────────────────────────────┤\n",
       "│ dense_2 (\u001b[38;5;33mDense\u001b[0m)               │ (\u001b[38;5;45mNone\u001b[0m, \u001b[38;5;34m128\u001b[0m)               │           \u001b[38;5;34m2,048\u001b[0m │ structured_input[\u001b[38;5;34m0\u001b[0m][\u001b[38;5;34m0\u001b[0m]     │\n",
       "├───────────────────────────────┼───────────────────────────┼─────────────────┼────────────────────────────┤\n",
       "│ batch_normalization           │ (\u001b[38;5;45mNone\u001b[0m, \u001b[38;5;34m512\u001b[0m)               │           \u001b[38;5;34m2,048\u001b[0m │ dense[\u001b[38;5;34m0\u001b[0m][\u001b[38;5;34m0\u001b[0m]                │\n",
       "│ (\u001b[38;5;33mBatchNormalization\u001b[0m)          │                           │                 │                            │\n",
       "├───────────────────────────────┼───────────────────────────┼─────────────────┼────────────────────────────┤\n",
       "│ batch_normalization_2         │ (\u001b[38;5;45mNone\u001b[0m, \u001b[38;5;34m128\u001b[0m)               │             \u001b[38;5;34m512\u001b[0m │ dense_2[\u001b[38;5;34m0\u001b[0m][\u001b[38;5;34m0\u001b[0m]              │\n",
       "│ (\u001b[38;5;33mBatchNormalization\u001b[0m)          │                           │                 │                            │\n",
       "├───────────────────────────────┼───────────────────────────┼─────────────────┼────────────────────────────┤\n",
       "│ leaky_re_lu (\u001b[38;5;33mLeakyReLU\u001b[0m)       │ (\u001b[38;5;45mNone\u001b[0m, \u001b[38;5;34m512\u001b[0m)               │               \u001b[38;5;34m0\u001b[0m │ batch_normalization[\u001b[38;5;34m0\u001b[0m][\u001b[38;5;34m0\u001b[0m]  │\n",
       "├───────────────────────────────┼───────────────────────────┼─────────────────┼────────────────────────────┤\n",
       "│ leaky_re_lu_2 (\u001b[38;5;33mLeakyReLU\u001b[0m)     │ (\u001b[38;5;45mNone\u001b[0m, \u001b[38;5;34m128\u001b[0m)               │               \u001b[38;5;34m0\u001b[0m │ batch_normalization_2[\u001b[38;5;34m0\u001b[0m][\u001b[38;5;34m…\u001b[0m │\n",
       "├───────────────────────────────┼───────────────────────────┼─────────────────┼────────────────────────────┤\n",
       "│ dropout (\u001b[38;5;33mDropout\u001b[0m)             │ (\u001b[38;5;45mNone\u001b[0m, \u001b[38;5;34m512\u001b[0m)               │               \u001b[38;5;34m0\u001b[0m │ leaky_re_lu[\u001b[38;5;34m0\u001b[0m][\u001b[38;5;34m0\u001b[0m]          │\n",
       "├───────────────────────────────┼───────────────────────────┼─────────────────┼────────────────────────────┤\n",
       "│ dropout_2 (\u001b[38;5;33mDropout\u001b[0m)           │ (\u001b[38;5;45mNone\u001b[0m, \u001b[38;5;34m128\u001b[0m)               │               \u001b[38;5;34m0\u001b[0m │ leaky_re_lu_2[\u001b[38;5;34m0\u001b[0m][\u001b[38;5;34m0\u001b[0m]        │\n",
       "├───────────────────────────────┼───────────────────────────┼─────────────────┼────────────────────────────┤\n",
       "│ dense_1 (\u001b[38;5;33mDense\u001b[0m)               │ (\u001b[38;5;45mNone\u001b[0m, \u001b[38;5;34m256\u001b[0m)               │         \u001b[38;5;34m131,328\u001b[0m │ dropout[\u001b[38;5;34m0\u001b[0m][\u001b[38;5;34m0\u001b[0m]              │\n",
       "├───────────────────────────────┼───────────────────────────┼─────────────────┼────────────────────────────┤\n",
       "│ dense_3 (\u001b[38;5;33mDense\u001b[0m)               │ (\u001b[38;5;45mNone\u001b[0m, \u001b[38;5;34m64\u001b[0m)                │           \u001b[38;5;34m8,256\u001b[0m │ dropout_2[\u001b[38;5;34m0\u001b[0m][\u001b[38;5;34m0\u001b[0m]            │\n",
       "├───────────────────────────────┼───────────────────────────┼─────────────────┼────────────────────────────┤\n",
       "│ batch_normalization_1         │ (\u001b[38;5;45mNone\u001b[0m, \u001b[38;5;34m256\u001b[0m)               │           \u001b[38;5;34m1,024\u001b[0m │ dense_1[\u001b[38;5;34m0\u001b[0m][\u001b[38;5;34m0\u001b[0m]              │\n",
       "│ (\u001b[38;5;33mBatchNormalization\u001b[0m)          │                           │                 │                            │\n",
       "├───────────────────────────────┼───────────────────────────┼─────────────────┼────────────────────────────┤\n",
       "│ batch_normalization_3         │ (\u001b[38;5;45mNone\u001b[0m, \u001b[38;5;34m64\u001b[0m)                │             \u001b[38;5;34m256\u001b[0m │ dense_3[\u001b[38;5;34m0\u001b[0m][\u001b[38;5;34m0\u001b[0m]              │\n",
       "│ (\u001b[38;5;33mBatchNormalization\u001b[0m)          │                           │                 │                            │\n",
       "├───────────────────────────────┼───────────────────────────┼─────────────────┼────────────────────────────┤\n",
       "│ leaky_re_lu_1 (\u001b[38;5;33mLeakyReLU\u001b[0m)     │ (\u001b[38;5;45mNone\u001b[0m, \u001b[38;5;34m256\u001b[0m)               │               \u001b[38;5;34m0\u001b[0m │ batch_normalization_1[\u001b[38;5;34m0\u001b[0m][\u001b[38;5;34m…\u001b[0m │\n",
       "├───────────────────────────────┼───────────────────────────┼─────────────────┼────────────────────────────┤\n",
       "│ leaky_re_lu_3 (\u001b[38;5;33mLeakyReLU\u001b[0m)     │ (\u001b[38;5;45mNone\u001b[0m, \u001b[38;5;34m64\u001b[0m)                │               \u001b[38;5;34m0\u001b[0m │ batch_normalization_3[\u001b[38;5;34m0\u001b[0m][\u001b[38;5;34m…\u001b[0m │\n",
       "├───────────────────────────────┼───────────────────────────┼─────────────────┼────────────────────────────┤\n",
       "│ dropout_1 (\u001b[38;5;33mDropout\u001b[0m)           │ (\u001b[38;5;45mNone\u001b[0m, \u001b[38;5;34m256\u001b[0m)               │               \u001b[38;5;34m0\u001b[0m │ leaky_re_lu_1[\u001b[38;5;34m0\u001b[0m][\u001b[38;5;34m0\u001b[0m]        │\n",
       "├───────────────────────────────┼───────────────────────────┼─────────────────┼────────────────────────────┤\n",
       "│ dropout_3 (\u001b[38;5;33mDropout\u001b[0m)           │ (\u001b[38;5;45mNone\u001b[0m, \u001b[38;5;34m64\u001b[0m)                │               \u001b[38;5;34m0\u001b[0m │ leaky_re_lu_3[\u001b[38;5;34m0\u001b[0m][\u001b[38;5;34m0\u001b[0m]        │\n",
       "├───────────────────────────────┼───────────────────────────┼─────────────────┼────────────────────────────┤\n",
       "│ concatenate (\u001b[38;5;33mConcatenate\u001b[0m)     │ (\u001b[38;5;45mNone\u001b[0m, \u001b[38;5;34m320\u001b[0m)               │               \u001b[38;5;34m0\u001b[0m │ dropout_1[\u001b[38;5;34m0\u001b[0m][\u001b[38;5;34m0\u001b[0m],           │\n",
       "│                               │                           │                 │ dropout_3[\u001b[38;5;34m0\u001b[0m][\u001b[38;5;34m0\u001b[0m]            │\n",
       "├───────────────────────────────┼───────────────────────────┼─────────────────┼────────────────────────────┤\n",
       "│ dense_4 (\u001b[38;5;33mDense\u001b[0m)               │ (\u001b[38;5;45mNone\u001b[0m, \u001b[38;5;34m128\u001b[0m)               │          \u001b[38;5;34m41,088\u001b[0m │ concatenate[\u001b[38;5;34m0\u001b[0m][\u001b[38;5;34m0\u001b[0m]          │\n",
       "├───────────────────────────────┼───────────────────────────┼─────────────────┼────────────────────────────┤\n",
       "│ batch_normalization_4         │ (\u001b[38;5;45mNone\u001b[0m, \u001b[38;5;34m128\u001b[0m)               │             \u001b[38;5;34m512\u001b[0m │ dense_4[\u001b[38;5;34m0\u001b[0m][\u001b[38;5;34m0\u001b[0m]              │\n",
       "│ (\u001b[38;5;33mBatchNormalization\u001b[0m)          │                           │                 │                            │\n",
       "├───────────────────────────────┼───────────────────────────┼─────────────────┼────────────────────────────┤\n",
       "│ leaky_re_lu_4 (\u001b[38;5;33mLeakyReLU\u001b[0m)     │ (\u001b[38;5;45mNone\u001b[0m, \u001b[38;5;34m128\u001b[0m)               │               \u001b[38;5;34m0\u001b[0m │ batch_normalization_4[\u001b[38;5;34m0\u001b[0m][\u001b[38;5;34m…\u001b[0m │\n",
       "├───────────────────────────────┼───────────────────────────┼─────────────────┼────────────────────────────┤\n",
       "│ dropout_4 (\u001b[38;5;33mDropout\u001b[0m)           │ (\u001b[38;5;45mNone\u001b[0m, \u001b[38;5;34m128\u001b[0m)               │               \u001b[38;5;34m0\u001b[0m │ leaky_re_lu_4[\u001b[38;5;34m0\u001b[0m][\u001b[38;5;34m0\u001b[0m]        │\n",
       "├───────────────────────────────┼───────────────────────────┼─────────────────┼────────────────────────────┤\n",
       "│ dense_5 (\u001b[38;5;33mDense\u001b[0m)               │ (\u001b[38;5;45mNone\u001b[0m, \u001b[38;5;34m64\u001b[0m)                │           \u001b[38;5;34m8,256\u001b[0m │ dropout_4[\u001b[38;5;34m0\u001b[0m][\u001b[38;5;34m0\u001b[0m]            │\n",
       "├───────────────────────────────┼───────────────────────────┼─────────────────┼────────────────────────────┤\n",
       "│ batch_normalization_5         │ (\u001b[38;5;45mNone\u001b[0m, \u001b[38;5;34m64\u001b[0m)                │             \u001b[38;5;34m256\u001b[0m │ dense_5[\u001b[38;5;34m0\u001b[0m][\u001b[38;5;34m0\u001b[0m]              │\n",
       "│ (\u001b[38;5;33mBatchNormalization\u001b[0m)          │                           │                 │                            │\n",
       "├───────────────────────────────┼───────────────────────────┼─────────────────┼────────────────────────────┤\n",
       "│ leaky_re_lu_5 (\u001b[38;5;33mLeakyReLU\u001b[0m)     │ (\u001b[38;5;45mNone\u001b[0m, \u001b[38;5;34m64\u001b[0m)                │               \u001b[38;5;34m0\u001b[0m │ batch_normalization_5[\u001b[38;5;34m0\u001b[0m][\u001b[38;5;34m…\u001b[0m │\n",
       "├───────────────────────────────┼───────────────────────────┼─────────────────┼────────────────────────────┤\n",
       "│ dropout_5 (\u001b[38;5;33mDropout\u001b[0m)           │ (\u001b[38;5;45mNone\u001b[0m, \u001b[38;5;34m64\u001b[0m)                │               \u001b[38;5;34m0\u001b[0m │ leaky_re_lu_5[\u001b[38;5;34m0\u001b[0m][\u001b[38;5;34m0\u001b[0m]        │\n",
       "├───────────────────────────────┼───────────────────────────┼─────────────────┼────────────────────────────┤\n",
       "│ condition_output (\u001b[38;5;33mDense\u001b[0m)      │ (\u001b[38;5;45mNone\u001b[0m, \u001b[38;5;34m1\u001b[0m)                 │              \u001b[38;5;34m65\u001b[0m │ dropout_5[\u001b[38;5;34m0\u001b[0m][\u001b[38;5;34m0\u001b[0m]            │\n",
       "├───────────────────────────────┼───────────────────────────┼─────────────────┼────────────────────────────┤\n",
       "│ amount_output (\u001b[38;5;33mDense\u001b[0m)         │ (\u001b[38;5;45mNone\u001b[0m, \u001b[38;5;34m1\u001b[0m)                 │              \u001b[38;5;34m65\u001b[0m │ dropout_5[\u001b[38;5;34m0\u001b[0m][\u001b[38;5;34m0\u001b[0m]            │\n",
       "└───────────────────────────────┴───────────────────────────┴─────────────────┴────────────────────────────┘\n"
      ]
     },
     "metadata": {},
     "output_type": "display_data"
    },
    {
     "data": {
      "text/html": [
       "<pre style=\"white-space:pre;overflow-x:auto;line-height:normal;font-family:Menlo,'DejaVu Sans Mono',consolas,'Courier New',monospace\"><span style=\"font-weight: bold\"> Total params: </span><span style=\"color: #00af00; text-decoration-color: #00af00\">3,729,800</span> (14.23 MB)\n",
       "</pre>\n"
      ],
      "text/plain": [
       "\u001b[1m Total params: \u001b[0m\u001b[38;5;34m3,729,800\u001b[0m (14.23 MB)\n"
      ]
     },
     "metadata": {},
     "output_type": "display_data"
    },
    {
     "data": {
      "text/html": [
       "<pre style=\"white-space:pre;overflow-x:auto;line-height:normal;font-family:Menlo,'DejaVu Sans Mono',consolas,'Courier New',monospace\"><span style=\"font-weight: bold\"> Trainable params: </span><span style=\"color: #00af00; text-decoration-color: #00af00\">1,242,498</span> (4.74 MB)\n",
       "</pre>\n"
      ],
      "text/plain": [
       "\u001b[1m Trainable params: \u001b[0m\u001b[38;5;34m1,242,498\u001b[0m (4.74 MB)\n"
      ]
     },
     "metadata": {},
     "output_type": "display_data"
    },
    {
     "data": {
      "text/html": [
       "<pre style=\"white-space:pre;overflow-x:auto;line-height:normal;font-family:Menlo,'DejaVu Sans Mono',consolas,'Courier New',monospace\"><span style=\"font-weight: bold\"> Non-trainable params: </span><span style=\"color: #00af00; text-decoration-color: #00af00\">2,304</span> (9.00 KB)\n",
       "</pre>\n"
      ],
      "text/plain": [
       "\u001b[1m Non-trainable params: \u001b[0m\u001b[38;5;34m2,304\u001b[0m (9.00 KB)\n"
      ]
     },
     "metadata": {},
     "output_type": "display_data"
    },
    {
     "data": {
      "text/html": [
       "<pre style=\"white-space:pre;overflow-x:auto;line-height:normal;font-family:Menlo,'DejaVu Sans Mono',consolas,'Courier New',monospace\"><span style=\"font-weight: bold\"> Optimizer params: </span><span style=\"color: #00af00; text-decoration-color: #00af00\">2,484,998</span> (9.48 MB)\n",
       "</pre>\n"
      ],
      "text/plain": [
       "\u001b[1m Optimizer params: \u001b[0m\u001b[38;5;34m2,484,998\u001b[0m (9.48 MB)\n"
      ]
     },
     "metadata": {},
     "output_type": "display_data"
    }
   ],
   "source": [
    "# Print the model summary\n",
    "model.summary()"
   ]
  },
  {
   "cell_type": "code",
   "execution_count": 25,
   "id": "2d276e33-0d18-4398-9fef-4a2b714d8234",
   "metadata": {},
   "outputs": [],
   "source": [
    "import time\n",
    "import mlflow\n",
    "import mlflow.tensorflow\n",
    "\n"
   ]
  },
  {
   "cell_type": "code",
   "execution_count": 26,
   "id": "00d8876f-73d3-416d-a16a-338184012a8c",
   "metadata": {},
   "outputs": [],
   "source": [
    "# from mlflow.models.signature import ModelSignature\n",
    "# from mlflow.types import Schema, ColSpec\n",
    "\n",
    "# # Define the input and output schema explicitly\n",
    "# input_schema = Schema([\n",
    "#     ColSpec(type=\"array\", type=\"float32\", shape=(None, image_features.shape[1])),\n",
    "#     ColSpec(type=\"array\", type=\"float32\", shape=(None, structured_data_scaled.shape[1]))\n",
    "# ])\n",
    "\n",
    "# output_schema = Schema([\n",
    "#     ColSpec(type=\"array\", dtype=\"float32\", shape=(None, 1)),  # For condition_output\n",
    "#     ColSpec(type=\"array\", dtype=\"float32\", shape=(None, 1))   # For amount_output\n",
    "# ])\n",
    "\n",
    "# # Create ModelSignature object\n",
    "# signature = ModelSignature(inputs=input_schema, outputs=output_schema)\n"
   ]
  },
  {
   "cell_type": "code",
   "execution_count": 28,
   "id": "9bfc4247-b21f-4a97-9b94-cf5724d09378",
   "metadata": {},
   "outputs": [],
   "source": [
    "# Generate a unique model filename using the current timestamp\n",
    "timestamp = int(time.time())\n",
    "model_path = f'C:/Users/varsh/OneDrive/Desktop/notebook/Fast_Furious_Insured/api/models/model_{timestamp}.keras'  # Unique filename using timestamp\n",
    "\n",
    "# Start a new MLflow run to track the model and metrics\n"
   ]
  },
  {
   "cell_type": "code",
   "execution_count": 29,
   "id": "d7ff2ea8-da71-465d-834c-005c673a2ddc",
   "metadata": {},
   "outputs": [
    {
     "name": "stdout",
     "output_type": "stream",
     "text": [
      "Epoch 1/200\n",
      "\u001b[1m66/66\u001b[0m \u001b[32m━━━━━━━━━━━━━━━━━━━━\u001b[0m\u001b[37m\u001b[0m \u001b[1m0s\u001b[0m 30ms/step - amount_output_loss: 0.5631 - amount_output_mse: 1.6996 - condition_output_accuracy: 0.5046 - condition_output_loss: 0.7817 - loss: 3.1993\n",
      "Epoch 1: val_loss improved from inf to 2.31321, saving model to C:\\Users\\varsh\\OneDrive\\Desktop\\notebook\\Fast_Furious_Insured\\api\\models\\best_model.keras\n",
      "\u001b[1m66/66\u001b[0m \u001b[32m━━━━━━━━━━━━━━━━━━━━\u001b[0m\u001b[37m\u001b[0m \u001b[1m4s\u001b[0m 66ms/step - amount_output_loss: 0.5615 - amount_output_mse: 1.6929 - condition_output_accuracy: 0.5072 - condition_output_loss: 0.7790 - loss: 3.1924 - val_amount_output_loss: 0.1594 - val_amount_output_mse: 0.3709 - val_condition_output_accuracy: 0.5458 - val_condition_output_loss: 0.6584 - val_loss: 2.3132 - learning_rate: 9.5000e-04\n",
      "Epoch 2/200\n",
      "\u001b[1m66/66\u001b[0m \u001b[32m━━━━━━━━━━━━━━━━━━━━\u001b[0m\u001b[37m\u001b[0m \u001b[1m0s\u001b[0m 31ms/step - amount_output_loss: 0.2954 - amount_output_mse: 0.6842 - condition_output_accuracy: 0.9339 - condition_output_loss: 0.2663 - loss: 2.0256\n",
      "Epoch 2: val_loss improved from 2.31321 to 1.75909, saving model to C:\\Users\\varsh\\OneDrive\\Desktop\\notebook\\Fast_Furious_Insured\\api\\models\\best_model.keras\n",
      "\u001b[1m66/66\u001b[0m \u001b[32m━━━━━━━━━━━━━━━━━━━━\u001b[0m\u001b[37m\u001b[0m \u001b[1m3s\u001b[0m 45ms/step - amount_output_loss: 0.2954 - amount_output_mse: 0.6842 - condition_output_accuracy: 0.9342 - condition_output_loss: 0.2656 - loss: 2.0245 - val_amount_output_loss: 0.1621 - val_amount_output_mse: 0.4463 - val_condition_output_accuracy: 1.0000 - val_condition_output_loss: 0.2031 - val_loss: 1.7591 - learning_rate: 9.5000e-04\n",
      "Epoch 3/200\n",
      "\u001b[1m66/66\u001b[0m \u001b[32m━━━━━━━━━━━━━━━━━━━━\u001b[0m\u001b[37m\u001b[0m \u001b[1m0s\u001b[0m 35ms/step - amount_output_loss: 0.2643 - amount_output_mse: 0.6200 - condition_output_accuracy: 0.9891 - condition_output_loss: 0.1178 - loss: 1.7515\n",
      "Epoch 3: val_loss improved from 1.75909 to 1.54647, saving model to C:\\Users\\varsh\\OneDrive\\Desktop\\notebook\\Fast_Furious_Insured\\api\\models\\best_model.keras\n",
      "\u001b[1m66/66\u001b[0m \u001b[32m━━━━━━━━━━━━━━━━━━━━\u001b[0m\u001b[37m\u001b[0m \u001b[1m3s\u001b[0m 48ms/step - amount_output_loss: 0.2642 - amount_output_mse: 0.6197 - condition_output_accuracy: 0.9891 - condition_output_loss: 0.1177 - loss: 1.7511 - val_amount_output_loss: 0.1574 - val_amount_output_mse: 0.3864 - val_condition_output_accuracy: 1.0000 - val_condition_output_loss: 0.0775 - val_loss: 1.5465 - learning_rate: 9.5000e-04\n",
      "Epoch 4/200\n",
      "\u001b[1m65/66\u001b[0m \u001b[32m━━━━━━━━━━━━━━━━━━━\u001b[0m\u001b[37m━\u001b[0m \u001b[1m0s\u001b[0m 35ms/step - amount_output_loss: 0.2575 - amount_output_mse: 0.6003 - condition_output_accuracy: 0.9872 - condition_output_loss: 0.0921 - loss: 1.6389\n",
      "Epoch 4: val_loss improved from 1.54647 to 1.41153, saving model to C:\\Users\\varsh\\OneDrive\\Desktop\\notebook\\Fast_Furious_Insured\\api\\models\\best_model.keras\n",
      "\u001b[1m66/66\u001b[0m \u001b[32m━━━━━━━━━━━━━━━━━━━━\u001b[0m\u001b[37m\u001b[0m \u001b[1m3s\u001b[0m 48ms/step - amount_output_loss: 0.2571 - amount_output_mse: 0.5996 - condition_output_accuracy: 0.9873 - condition_output_loss: 0.0917 - loss: 1.6376 - val_amount_output_loss: 0.1508 - val_amount_output_mse: 0.3664 - val_condition_output_accuracy: 1.0000 - val_condition_output_loss: 0.0265 - val_loss: 1.4115 - learning_rate: 9.5000e-04\n",
      "Epoch 5/200\n",
      "\u001b[1m66/66\u001b[0m \u001b[32m━━━━━━━━━━━━━━━━━━━━\u001b[0m\u001b[37m\u001b[0m \u001b[1m0s\u001b[0m 34ms/step - amount_output_loss: 0.2303 - amount_output_mse: 0.5209 - condition_output_accuracy: 0.9955 - condition_output_loss: 0.0564 - loss: 1.5004\n",
      "Epoch 5: val_loss improved from 1.41153 to 1.29974, saving model to C:\\Users\\varsh\\OneDrive\\Desktop\\notebook\\Fast_Furious_Insured\\api\\models\\best_model.keras\n",
      "\u001b[1m66/66\u001b[0m \u001b[32m━━━━━━━━━━━━━━━━━━━━\u001b[0m\u001b[37m\u001b[0m \u001b[1m3s\u001b[0m 45ms/step - amount_output_loss: 0.2301 - amount_output_mse: 0.5204 - condition_output_accuracy: 0.9954 - condition_output_loss: 0.0564 - loss: 1.5000 - val_amount_output_loss: 0.1167 - val_amount_output_mse: 0.2489 - val_condition_output_accuracy: 1.0000 - val_condition_output_loss: 0.0215 - val_loss: 1.2997 - learning_rate: 9.5000e-04\n",
      "Epoch 6/200\n",
      "\u001b[1m66/66\u001b[0m \u001b[32m━━━━━━━━━━━━━━━━━━━━\u001b[0m\u001b[37m\u001b[0m \u001b[1m0s\u001b[0m 31ms/step - amount_output_loss: 0.2248 - amount_output_mse: 0.5152 - condition_output_accuracy: 0.9814 - condition_output_loss: 0.0697 - loss: 1.4382\n",
      "Epoch 6: val_loss improved from 1.29974 to 1.28890, saving model to C:\\Users\\varsh\\OneDrive\\Desktop\\notebook\\Fast_Furious_Insured\\api\\models\\best_model.keras\n",
      "\u001b[1m66/66\u001b[0m \u001b[32m━━━━━━━━━━━━━━━━━━━━\u001b[0m\u001b[37m\u001b[0m \u001b[1m3s\u001b[0m 43ms/step - amount_output_loss: 0.2245 - amount_output_mse: 0.5145 - condition_output_accuracy: 0.9816 - condition_output_loss: 0.0695 - loss: 1.4375 - val_amount_output_loss: 0.1780 - val_amount_output_mse: 0.4540 - val_condition_output_accuracy: 1.0000 - val_condition_output_loss: 0.0148 - val_loss: 1.2889 - learning_rate: 9.5000e-04\n",
      "Epoch 7/200\n",
      "\u001b[1m66/66\u001b[0m \u001b[32m━━━━━━━━━━━━━━━━━━━━\u001b[0m\u001b[37m\u001b[0m \u001b[1m0s\u001b[0m 31ms/step - amount_output_loss: 0.1935 - amount_output_mse: 0.4318 - condition_output_accuracy: 0.9974 - condition_output_loss: 0.0364 - loss: 1.3068\n",
      "Epoch 7: val_loss improved from 1.28890 to 1.17684, saving model to C:\\Users\\varsh\\OneDrive\\Desktop\\notebook\\Fast_Furious_Insured\\api\\models\\best_model.keras\n",
      "\u001b[1m66/66\u001b[0m \u001b[32m━━━━━━━━━━━━━━━━━━━━\u001b[0m\u001b[37m\u001b[0m \u001b[1m3s\u001b[0m 42ms/step - amount_output_loss: 0.1935 - amount_output_mse: 0.4319 - condition_output_accuracy: 0.9974 - condition_output_loss: 0.0364 - loss: 1.3065 - val_amount_output_loss: 0.1371 - val_amount_output_mse: 0.3113 - val_condition_output_accuracy: 1.0000 - val_condition_output_loss: 0.0099 - val_loss: 1.1768 - learning_rate: 9.5000e-04\n",
      "Epoch 8/200\n",
      "\u001b[1m65/66\u001b[0m \u001b[32m━━━━━━━━━━━━━━━━━━━\u001b[0m\u001b[37m━\u001b[0m \u001b[1m0s\u001b[0m 31ms/step - amount_output_loss: 0.1931 - amount_output_mse: 0.4310 - condition_output_accuracy: 0.9945 - condition_output_loss: 0.0328 - loss: 1.2384\n",
      "Epoch 8: val_loss improved from 1.17684 to 1.08173, saving model to C:\\Users\\varsh\\OneDrive\\Desktop\\notebook\\Fast_Furious_Insured\\api\\models\\best_model.keras\n",
      "\u001b[1m66/66\u001b[0m \u001b[32m━━━━━━━━━━━━━━━━━━━━\u001b[0m\u001b[37m\u001b[0m \u001b[1m3s\u001b[0m 43ms/step - amount_output_loss: 0.1931 - amount_output_mse: 0.4308 - condition_output_accuracy: 0.9945 - condition_output_loss: 0.0328 - loss: 1.2379 - val_amount_output_loss: 0.1084 - val_amount_output_mse: 0.2246 - val_condition_output_accuracy: 1.0000 - val_condition_output_loss: 0.0077 - val_loss: 1.0817 - learning_rate: 9.5000e-04\n",
      "Epoch 9/200\n",
      "\u001b[1m65/66\u001b[0m \u001b[32m━━━━━━━━━━━━━━━━━━━\u001b[0m\u001b[37m━\u001b[0m \u001b[1m0s\u001b[0m 31ms/step - amount_output_loss: 0.1681 - amount_output_mse: 0.3662 - condition_output_accuracy: 0.9921 - condition_output_loss: 0.0332 - loss: 1.1518\n",
      "Epoch 9: val_loss improved from 1.08173 to 1.02209, saving model to C:\\Users\\varsh\\OneDrive\\Desktop\\notebook\\Fast_Furious_Insured\\api\\models\\best_model.keras\n",
      "\u001b[1m66/66\u001b[0m \u001b[32m━━━━━━━━━━━━━━━━━━━━\u001b[0m\u001b[37m\u001b[0m \u001b[1m3s\u001b[0m 43ms/step - amount_output_loss: 0.1683 - amount_output_mse: 0.3668 - condition_output_accuracy: 0.9922 - condition_output_loss: 0.0332 - loss: 1.1515 - val_amount_output_loss: 0.1104 - val_amount_output_mse: 0.2277 - val_condition_output_accuracy: 1.0000 - val_condition_output_loss: 0.0051 - val_loss: 1.0221 - learning_rate: 9.5000e-04\n",
      "Epoch 10/200\n",
      "\u001b[1m66/66\u001b[0m \u001b[32m━━━━━━━━━━━━━━━━━━━━\u001b[0m\u001b[37m\u001b[0m \u001b[1m0s\u001b[0m 32ms/step - amount_output_loss: 0.1694 - amount_output_mse: 0.3731 - condition_output_accuracy: 0.9974 - condition_output_loss: 0.0244 - loss: 1.0850\n",
      "Epoch 10: val_loss improved from 1.02209 to 1.00681, saving model to C:\\Users\\varsh\\OneDrive\\Desktop\\notebook\\Fast_Furious_Insured\\api\\models\\best_model.keras\n",
      "\u001b[1m66/66\u001b[0m \u001b[32m━━━━━━━━━━━━━━━━━━━━\u001b[0m\u001b[37m\u001b[0m \u001b[1m3s\u001b[0m 43ms/step - amount_output_loss: 0.1695 - amount_output_mse: 0.3732 - condition_output_accuracy: 0.9974 - condition_output_loss: 0.0243 - loss: 1.0848 - val_amount_output_loss: 0.1521 - val_amount_output_mse: 0.3550 - val_condition_output_accuracy: 1.0000 - val_condition_output_loss: 0.0045 - val_loss: 1.0068 - learning_rate: 9.5000e-04\n",
      "Epoch 11/200\n",
      "\u001b[1m65/66\u001b[0m \u001b[32m━━━━━━━━━━━━━━━━━━━\u001b[0m\u001b[37m━\u001b[0m \u001b[1m0s\u001b[0m 30ms/step - amount_output_loss: 0.1608 - amount_output_mse: 0.3489 - condition_output_accuracy: 0.9945 - condition_output_loss: 0.0336 - loss: 1.0291\n",
      "Epoch 11: val_loss improved from 1.00681 to 0.92341, saving model to C:\\Users\\varsh\\OneDrive\\Desktop\\notebook\\Fast_Furious_Insured\\api\\models\\best_model.keras\n",
      "\u001b[1m66/66\u001b[0m \u001b[32m━━━━━━━━━━━━━━━━━━━━\u001b[0m\u001b[37m\u001b[0m \u001b[1m3s\u001b[0m 41ms/step - amount_output_loss: 0.1607 - amount_output_mse: 0.3486 - condition_output_accuracy: 0.9945 - condition_output_loss: 0.0335 - loss: 1.0284 - val_amount_output_loss: 0.1203 - val_amount_output_mse: 0.2529 - val_condition_output_accuracy: 1.0000 - val_condition_output_loss: 0.0090 - val_loss: 0.9234 - learning_rate: 9.5000e-04\n",
      "Epoch 12/200\n",
      "\u001b[1m65/66\u001b[0m \u001b[32m━━━━━━━━━━━━━━━━━━━\u001b[0m\u001b[37m━\u001b[0m \u001b[1m0s\u001b[0m 31ms/step - amount_output_loss: 0.1749 - amount_output_mse: 0.3905 - condition_output_accuracy: 0.9976 - condition_output_loss: 0.0228 - loss: 0.9789\n",
      "Epoch 12: val_loss improved from 0.92341 to 0.84481, saving model to C:\\Users\\varsh\\OneDrive\\Desktop\\notebook\\Fast_Furious_Insured\\api\\models\\best_model.keras\n",
      "\u001b[1m66/66\u001b[0m \u001b[32m━━━━━━━━━━━━━━━━━━━━\u001b[0m\u001b[37m\u001b[0m \u001b[1m3s\u001b[0m 42ms/step - amount_output_loss: 0.1743 - amount_output_mse: 0.3890 - condition_output_accuracy: 0.9976 - condition_output_loss: 0.0227 - loss: 0.9779 - val_amount_output_loss: 0.0980 - val_amount_output_mse: 0.1987 - val_condition_output_accuracy: 1.0000 - val_condition_output_loss: 0.0043 - val_loss: 0.8448 - learning_rate: 9.5000e-04\n",
      "Epoch 13/200\n",
      "\u001b[1m65/66\u001b[0m \u001b[32m━━━━━━━━━━━━━━━━━━━\u001b[0m\u001b[37m━\u001b[0m \u001b[1m0s\u001b[0m 31ms/step - amount_output_loss: 0.1353 - amount_output_mse: 0.2845 - condition_output_accuracy: 0.9980 - condition_output_loss: 0.0177 - loss: 0.8832\n",
      "Epoch 13: val_loss improved from 0.84481 to 0.79159, saving model to C:\\Users\\varsh\\OneDrive\\Desktop\\notebook\\Fast_Furious_Insured\\api\\models\\best_model.keras\n",
      "\u001b[1m66/66\u001b[0m \u001b[32m━━━━━━━━━━━━━━━━━━━━\u001b[0m\u001b[37m\u001b[0m \u001b[1m3s\u001b[0m 42ms/step - amount_output_loss: 0.1357 - amount_output_mse: 0.2853 - condition_output_accuracy: 0.9980 - condition_output_loss: 0.0176 - loss: 0.8831 - val_amount_output_loss: 0.0968 - val_amount_output_mse: 0.1936 - val_condition_output_accuracy: 1.0000 - val_condition_output_loss: 0.0027 - val_loss: 0.7916 - learning_rate: 9.5000e-04\n",
      "Epoch 14/200\n",
      "\u001b[1m65/66\u001b[0m \u001b[32m━━━━━━━━━━━━━━━━━━━\u001b[0m\u001b[37m━\u001b[0m \u001b[1m0s\u001b[0m 31ms/step - amount_output_loss: 0.1494 - amount_output_mse: 0.3259 - condition_output_accuracy: 0.9984 - condition_output_loss: 0.0158 - loss: 0.8466\n",
      "Epoch 14: val_loss improved from 0.79159 to 0.73264, saving model to C:\\Users\\varsh\\OneDrive\\Desktop\\notebook\\Fast_Furious_Insured\\api\\models\\best_model.keras\n",
      "\u001b[1m66/66\u001b[0m \u001b[32m━━━━━━━━━━━━━━━━━━━━\u001b[0m\u001b[37m\u001b[0m \u001b[1m3s\u001b[0m 43ms/step - amount_output_loss: 0.1490 - amount_output_mse: 0.3248 - condition_output_accuracy: 0.9984 - condition_output_loss: 0.0158 - loss: 0.8459 - val_amount_output_loss: 0.0833 - val_amount_output_mse: 0.1682 - val_condition_output_accuracy: 1.0000 - val_condition_output_loss: 0.0031 - val_loss: 0.7326 - learning_rate: 9.5000e-04\n",
      "Epoch 15/200\n",
      "\u001b[1m65/66\u001b[0m \u001b[32m━━━━━━━━━━━━━━━━━━━\u001b[0m\u001b[37m━\u001b[0m \u001b[1m0s\u001b[0m 31ms/step - amount_output_loss: 0.1323 - amount_output_mse: 0.2775 - condition_output_accuracy: 1.0000 - condition_output_loss: 0.0103 - loss: 0.7783\n",
      "Epoch 15: val_loss improved from 0.73264 to 0.70788, saving model to C:\\Users\\varsh\\OneDrive\\Desktop\\notebook\\Fast_Furious_Insured\\api\\models\\best_model.keras\n",
      "\u001b[1m66/66\u001b[0m \u001b[32m━━━━━━━━━━━━━━━━━━━━\u001b[0m\u001b[37m\u001b[0m \u001b[1m3s\u001b[0m 42ms/step - amount_output_loss: 0.1323 - amount_output_mse: 0.2776 - condition_output_accuracy: 1.0000 - condition_output_loss: 0.0103 - loss: 0.7780 - val_amount_output_loss: 0.1019 - val_amount_output_mse: 0.2081 - val_condition_output_accuracy: 1.0000 - val_condition_output_loss: 0.0033 - val_loss: 0.7079 - learning_rate: 9.5000e-04\n",
      "Epoch 16/200\n",
      "\u001b[1m66/66\u001b[0m \u001b[32m━━━━━━━━━━━━━━━━━━━━\u001b[0m\u001b[37m\u001b[0m \u001b[1m0s\u001b[0m 37ms/step - amount_output_loss: 0.1407 - amount_output_mse: 0.3001 - condition_output_accuracy: 1.0000 - condition_output_loss: 0.0090 - loss: 0.7414\n",
      "Epoch 16: val_loss improved from 0.70788 to 0.67743, saving model to C:\\Users\\varsh\\OneDrive\\Desktop\\notebook\\Fast_Furious_Insured\\api\\models\\best_model.keras\n",
      "\u001b[1m66/66\u001b[0m \u001b[32m━━━━━━━━━━━━━━━━━━━━\u001b[0m\u001b[37m\u001b[0m \u001b[1m3s\u001b[0m 48ms/step - amount_output_loss: 0.1408 - amount_output_mse: 0.3003 - condition_output_accuracy: 1.0000 - condition_output_loss: 0.0090 - loss: 0.7414 - val_amount_output_loss: 0.1159 - val_amount_output_mse: 0.2351 - val_condition_output_accuracy: 1.0000 - val_condition_output_loss: 0.0015 - val_loss: 0.6774 - learning_rate: 9.5000e-04\n",
      "Epoch 17/200\n",
      "\u001b[1m65/66\u001b[0m \u001b[32m━━━━━━━━━━━━━━━━━━━\u001b[0m\u001b[37m━\u001b[0m \u001b[1m0s\u001b[0m 32ms/step - amount_output_loss: 0.1249 - amount_output_mse: 0.2635 - condition_output_accuracy: 0.9972 - condition_output_loss: 0.0142 - loss: 0.6906\n",
      "Epoch 17: val_loss improved from 0.67743 to 0.66395, saving model to C:\\Users\\varsh\\OneDrive\\Desktop\\notebook\\Fast_Furious_Insured\\api\\models\\best_model.keras\n",
      "\u001b[1m66/66\u001b[0m \u001b[32m━━━━━━━━━━━━━━━━━━━━\u001b[0m\u001b[37m\u001b[0m \u001b[1m3s\u001b[0m 44ms/step - amount_output_loss: 0.1256 - amount_output_mse: 0.2653 - condition_output_accuracy: 0.9972 - condition_output_loss: 0.0143 - loss: 0.6912 - val_amount_output_loss: 0.1387 - val_amount_output_mse: 0.2865 - val_condition_output_accuracy: 1.0000 - val_condition_output_loss: 0.0014 - val_loss: 0.6640 - learning_rate: 9.5000e-04\n",
      "Epoch 18/200\n",
      "\u001b[1m65/66\u001b[0m \u001b[32m━━━━━━━━━━━━━━━━━━━\u001b[0m\u001b[37m━\u001b[0m \u001b[1m0s\u001b[0m 32ms/step - amount_output_loss: 0.1347 - amount_output_mse: 0.2819 - condition_output_accuracy: 0.9986 - condition_output_loss: 0.0133 - loss: 0.6643\n",
      "Epoch 18: val_loss improved from 0.66395 to 0.58911, saving model to C:\\Users\\varsh\\OneDrive\\Desktop\\notebook\\Fast_Furious_Insured\\api\\models\\best_model.keras\n",
      "\u001b[1m66/66\u001b[0m \u001b[32m━━━━━━━━━━━━━━━━━━━━\u001b[0m\u001b[37m\u001b[0m \u001b[1m3s\u001b[0m 43ms/step - amount_output_loss: 0.1346 - amount_output_mse: 0.2816 - condition_output_accuracy: 0.9986 - condition_output_loss: 0.0133 - loss: 0.6638 - val_amount_output_loss: 0.0989 - val_amount_output_mse: 0.1970 - val_condition_output_accuracy: 1.0000 - val_condition_output_loss: 0.0026 - val_loss: 0.5891 - learning_rate: 9.5000e-04\n",
      "Epoch 19/200\n",
      "\u001b[1m65/66\u001b[0m \u001b[32m━━━━━━━━━━━━━━━━━━━\u001b[0m\u001b[37m━\u001b[0m \u001b[1m0s\u001b[0m 32ms/step - amount_output_loss: 0.1256 - amount_output_mse: 0.2621 - condition_output_accuracy: 0.9986 - condition_output_loss: 0.0114 - loss: 0.6176\n",
      "Epoch 19: val_loss improved from 0.58911 to 0.55880, saving model to C:\\Users\\varsh\\OneDrive\\Desktop\\notebook\\Fast_Furious_Insured\\api\\models\\best_model.keras\n",
      "\u001b[1m66/66\u001b[0m \u001b[32m━━━━━━━━━━━━━━━━━━━━\u001b[0m\u001b[37m\u001b[0m \u001b[1m3s\u001b[0m 44ms/step - amount_output_loss: 0.1261 - amount_output_mse: 0.2633 - condition_output_accuracy: 0.9985 - condition_output_loss: 0.0116 - loss: 0.6179 - val_amount_output_loss: 0.1021 - val_amount_output_mse: 0.2098 - val_condition_output_accuracy: 1.0000 - val_condition_output_loss: 0.0015 - val_loss: 0.5588 - learning_rate: 9.5000e-04\n",
      "Epoch 20/200\n",
      "\u001b[1m65/66\u001b[0m \u001b[32m━━━━━━━━━━━━━━━━━━━\u001b[0m\u001b[37m━\u001b[0m \u001b[1m0s\u001b[0m 31ms/step - amount_output_loss: 0.1385 - amount_output_mse: 0.2928 - condition_output_accuracy: 0.9977 - condition_output_loss: 0.0114 - loss: 0.5977\n",
      "Epoch 20: val_loss improved from 0.55880 to 0.51761, saving model to C:\\Users\\varsh\\OneDrive\\Desktop\\notebook\\Fast_Furious_Insured\\api\\models\\best_model.keras\n",
      "\u001b[1m66/66\u001b[0m \u001b[32m━━━━━━━━━━━━━━━━━━━━\u001b[0m\u001b[37m\u001b[0m \u001b[1m3s\u001b[0m 44ms/step - amount_output_loss: 0.1381 - amount_output_mse: 0.2919 - condition_output_accuracy: 0.9977 - condition_output_loss: 0.0114 - loss: 0.5971 - val_amount_output_loss: 0.0918 - val_amount_output_mse: 0.1877 - val_condition_output_accuracy: 1.0000 - val_condition_output_loss: 6.7270e-04 - val_loss: 0.5176 - learning_rate: 9.5000e-04\n",
      "Epoch 21/200\n",
      "\u001b[1m65/66\u001b[0m \u001b[32m━━━━━━━━━━━━━━━━━━━\u001b[0m\u001b[37m━\u001b[0m \u001b[1m0s\u001b[0m 34ms/step - amount_output_loss: 0.1414 - amount_output_mse: 0.2971 - condition_output_accuracy: 0.9953 - condition_output_loss: 0.0179 - loss: 0.5777\n",
      "Epoch 21: val_loss did not improve from 0.51761\n",
      "\u001b[1m66/66\u001b[0m \u001b[32m━━━━━━━━━━━━━━━━━━━━\u001b[0m\u001b[37m\u001b[0m \u001b[1m3s\u001b[0m 39ms/step - amount_output_loss: 0.1413 - amount_output_mse: 0.2967 - condition_output_accuracy: 0.9954 - condition_output_loss: 0.0177 - loss: 0.5771 - val_amount_output_loss: 0.1274 - val_amount_output_mse: 0.2466 - val_condition_output_accuracy: 1.0000 - val_condition_output_loss: 0.0011 - val_loss: 0.5209 - learning_rate: 9.5000e-04\n",
      "Epoch 22/200\n",
      "\u001b[1m65/66\u001b[0m \u001b[32m━━━━━━━━━━━━━━━━━━━\u001b[0m\u001b[37m━\u001b[0m \u001b[1m0s\u001b[0m 31ms/step - amount_output_loss: 0.1353 - amount_output_mse: 0.2846 - condition_output_accuracy: 1.0000 - condition_output_loss: 0.0119 - loss: 0.5376\n",
      "Epoch 22: val_loss improved from 0.51761 to 0.45467, saving model to C:\\Users\\varsh\\OneDrive\\Desktop\\notebook\\Fast_Furious_Insured\\api\\models\\best_model.keras\n",
      "\u001b[1m66/66\u001b[0m \u001b[32m━━━━━━━━━━━━━━━━━━━━\u001b[0m\u001b[37m\u001b[0m \u001b[1m3s\u001b[0m 42ms/step - amount_output_loss: 0.1353 - amount_output_mse: 0.2848 - condition_output_accuracy: 1.0000 - condition_output_loss: 0.0118 - loss: 0.5373 - val_amount_output_loss: 0.0869 - val_amount_output_mse: 0.1710 - val_condition_output_accuracy: 1.0000 - val_condition_output_loss: 3.4029e-04 - val_loss: 0.4547 - learning_rate: 9.5000e-04\n",
      "Epoch 23/200\n",
      "\u001b[1m65/66\u001b[0m \u001b[32m━━━━━━━━━━━━━━━━━━━\u001b[0m\u001b[37m━\u001b[0m \u001b[1m0s\u001b[0m 31ms/step - amount_output_loss: 0.1242 - amount_output_mse: 0.2603 - condition_output_accuracy: 1.0000 - condition_output_loss: 0.0058 - loss: 0.4935\n",
      "Epoch 23: val_loss did not improve from 0.45467\n",
      "\u001b[1m66/66\u001b[0m \u001b[32m━━━━━━━━━━━━━━━━━━━━\u001b[0m\u001b[37m\u001b[0m \u001b[1m2s\u001b[0m 36ms/step - amount_output_loss: 0.1240 - amount_output_mse: 0.2598 - condition_output_accuracy: 1.0000 - condition_output_loss: 0.0059 - loss: 0.4931 - val_amount_output_loss: 0.1381 - val_amount_output_mse: 0.2897 - val_condition_output_accuracy: 1.0000 - val_condition_output_loss: 9.3026e-04 - val_loss: 0.4832 - learning_rate: 9.5000e-04\n",
      "Epoch 24/200\n",
      "\u001b[1m65/66\u001b[0m \u001b[32m━━━━━━━━━━━━━━━━━━━\u001b[0m\u001b[37m━\u001b[0m \u001b[1m0s\u001b[0m 31ms/step - amount_output_loss: 0.1331 - amount_output_mse: 0.2779 - condition_output_accuracy: 0.9977 - condition_output_loss: 0.0100 - loss: 0.4814\n",
      "Epoch 24: val_loss did not improve from 0.45467\n",
      "\u001b[1m66/66\u001b[0m \u001b[32m━━━━━━━━━━━━━━━━━━━━\u001b[0m\u001b[37m\u001b[0m \u001b[1m2s\u001b[0m 36ms/step - amount_output_loss: 0.1330 - amount_output_mse: 0.2778 - condition_output_accuracy: 0.9977 - condition_output_loss: 0.0100 - loss: 0.4812 - val_amount_output_loss: 0.1519 - val_amount_output_mse: 0.2988 - val_condition_output_accuracy: 1.0000 - val_condition_output_loss: 0.0012 - val_loss: 0.4719 - learning_rate: 9.5000e-04\n",
      "Epoch 25/200\n",
      "\u001b[1m65/66\u001b[0m \u001b[32m━━━━━━━━━━━━━━━━━━━\u001b[0m\u001b[37m━\u001b[0m \u001b[1m0s\u001b[0m 31ms/step - amount_output_loss: 0.1125 - amount_output_mse: 0.2298 - condition_output_accuracy: 1.0000 - condition_output_loss: 0.0041 - loss: 0.4329\n",
      "Epoch 25: val_loss improved from 0.45467 to 0.41808, saving model to C:\\Users\\varsh\\OneDrive\\Desktop\\notebook\\Fast_Furious_Insured\\api\\models\\best_model.keras\n",
      "\u001b[1m66/66\u001b[0m \u001b[32m━━━━━━━━━━━━━━━━━━━━\u001b[0m\u001b[37m\u001b[0m \u001b[1m3s\u001b[0m 43ms/step - amount_output_loss: 0.1127 - amount_output_mse: 0.2302 - condition_output_accuracy: 0.9999 - condition_output_loss: 0.0041 - loss: 0.4329 - val_amount_output_loss: 0.1171 - val_amount_output_mse: 0.2440 - val_condition_output_accuracy: 1.0000 - val_condition_output_loss: 0.0011 - val_loss: 0.4181 - learning_rate: 9.5000e-04\n",
      "Epoch 26/200\n",
      "\u001b[1m65/66\u001b[0m \u001b[32m━━━━━━━━━━━━━━━━━━━\u001b[0m\u001b[37m━\u001b[0m \u001b[1m0s\u001b[0m 38ms/step - amount_output_loss: 0.1098 - amount_output_mse: 0.2288 - condition_output_accuracy: 1.0000 - condition_output_loss: 0.0050 - loss: 0.4086\n",
      "Epoch 26: val_loss did not improve from 0.41808\n",
      "\u001b[1m66/66\u001b[0m \u001b[32m━━━━━━━━━━━━━━━━━━━━\u001b[0m\u001b[37m\u001b[0m \u001b[1m3s\u001b[0m 43ms/step - amount_output_loss: 0.1099 - amount_output_mse: 0.2289 - condition_output_accuracy: 1.0000 - condition_output_loss: 0.0050 - loss: 0.4085 - val_amount_output_loss: 0.2213 - val_amount_output_mse: 0.4286 - val_condition_output_accuracy: 1.0000 - val_condition_output_loss: 0.0017 - val_loss: 0.4925 - learning_rate: 9.5000e-04\n",
      "Epoch 27/200\n",
      "\u001b[1m65/66\u001b[0m \u001b[32m━━━━━━━━━━━━━━━━━━━\u001b[0m\u001b[37m━\u001b[0m \u001b[1m0s\u001b[0m 31ms/step - amount_output_loss: 0.1160 - amount_output_mse: 0.2389 - condition_output_accuracy: 0.9992 - condition_output_loss: 0.0055 - loss: 0.3953\n",
      "Epoch 27: val_loss improved from 0.41808 to 0.36624, saving model to C:\\Users\\varsh\\OneDrive\\Desktop\\notebook\\Fast_Furious_Insured\\api\\models\\best_model.keras\n",
      "\u001b[1m66/66\u001b[0m \u001b[32m━━━━━━━━━━━━━━━━━━━━\u001b[0m\u001b[37m\u001b[0m \u001b[1m3s\u001b[0m 42ms/step - amount_output_loss: 0.1162 - amount_output_mse: 0.2392 - condition_output_accuracy: 0.9992 - condition_output_loss: 0.0055 - loss: 0.3954 - val_amount_output_loss: 0.1055 - val_amount_output_mse: 0.2151 - val_condition_output_accuracy: 1.0000 - val_condition_output_loss: 5.5682e-04 - val_loss: 0.3662 - learning_rate: 9.5000e-04\n",
      "Epoch 28/200\n",
      "\u001b[1m66/66\u001b[0m \u001b[32m━━━━━━━━━━━━━━━━━━━━\u001b[0m\u001b[37m\u001b[0m \u001b[1m0s\u001b[0m 34ms/step - amount_output_loss: 0.1186 - amount_output_mse: 0.2655 - condition_output_accuracy: 0.9972 - condition_output_loss: 0.0324 - loss: 0.4067\n",
      "Epoch 28: val_loss improved from 0.36624 to 0.33392, saving model to C:\\Users\\varsh\\OneDrive\\Desktop\\notebook\\Fast_Furious_Insured\\api\\models\\best_model.keras\n",
      "\u001b[1m66/66\u001b[0m \u001b[32m━━━━━━━━━━━━━━━━━━━━\u001b[0m\u001b[37m\u001b[0m \u001b[1m3s\u001b[0m 46ms/step - amount_output_loss: 0.1186 - amount_output_mse: 0.2653 - condition_output_accuracy: 0.9972 - condition_output_loss: 0.0321 - loss: 0.4064 - val_amount_output_loss: 0.0930 - val_amount_output_mse: 0.1833 - val_condition_output_accuracy: 1.0000 - val_condition_output_loss: 5.9146e-04 - val_loss: 0.3339 - learning_rate: 9.5000e-04\n",
      "Epoch 29/200\n",
      "\u001b[1m65/66\u001b[0m \u001b[32m━━━━━━━━━━━━━━━━━━━\u001b[0m\u001b[37m━\u001b[0m \u001b[1m0s\u001b[0m 35ms/step - amount_output_loss: 0.1291 - amount_output_mse: 0.2760 - condition_output_accuracy: 0.9986 - condition_output_loss: 0.0081 - loss: 0.3759\n",
      "Epoch 29: val_loss did not improve from 0.33392\n",
      "\u001b[1m66/66\u001b[0m \u001b[32m━━━━━━━━━━━━━━━━━━━━\u001b[0m\u001b[37m\u001b[0m \u001b[1m3s\u001b[0m 41ms/step - amount_output_loss: 0.1289 - amount_output_mse: 0.2757 - condition_output_accuracy: 0.9986 - condition_output_loss: 0.0081 - loss: 0.3757 - val_amount_output_loss: 0.1724 - val_amount_output_mse: 0.3632 - val_condition_output_accuracy: 1.0000 - val_condition_output_loss: 6.8280e-04 - val_loss: 0.4042 - learning_rate: 9.5000e-04\n",
      "Epoch 30/200\n",
      "\u001b[1m65/66\u001b[0m \u001b[32m━━━━━━━━━━━━━━━━━━━\u001b[0m\u001b[37m━\u001b[0m \u001b[1m0s\u001b[0m 33ms/step - amount_output_loss: 0.1339 - amount_output_mse: 0.2856 - condition_output_accuracy: 1.0000 - condition_output_loss: 0.0066 - loss: 0.3653\n",
      "Epoch 30: val_loss improved from 0.33392 to 0.29806, saving model to C:\\Users\\varsh\\OneDrive\\Desktop\\notebook\\Fast_Furious_Insured\\api\\models\\best_model.keras\n",
      "\u001b[1m66/66\u001b[0m \u001b[32m━━━━━━━━━━━━━━━━━━━━\u001b[0m\u001b[37m\u001b[0m \u001b[1m3s\u001b[0m 45ms/step - amount_output_loss: 0.1338 - amount_output_mse: 0.2853 - condition_output_accuracy: 1.0000 - condition_output_loss: 0.0066 - loss: 0.3651 - val_amount_output_loss: 0.0874 - val_amount_output_mse: 0.1704 - val_condition_output_accuracy: 1.0000 - val_condition_output_loss: 1.8645e-04 - val_loss: 0.2981 - learning_rate: 9.5000e-04\n",
      "Epoch 31/200\n",
      "\u001b[1m65/66\u001b[0m \u001b[32m━━━━━━━━━━━━━━━━━━━\u001b[0m\u001b[37m━\u001b[0m \u001b[1m0s\u001b[0m 33ms/step - amount_output_loss: 0.1158 - amount_output_mse: 0.2419 - condition_output_accuracy: 0.9997 - condition_output_loss: 0.0039 - loss: 0.3296\n",
      "Epoch 31: val_loss did not improve from 0.29806\n",
      "\u001b[1m66/66\u001b[0m \u001b[32m━━━━━━━━━━━━━━━━━━━━\u001b[0m\u001b[37m\u001b[0m \u001b[1m3s\u001b[0m 40ms/step - amount_output_loss: 0.1163 - amount_output_mse: 0.2430 - condition_output_accuracy: 0.9997 - condition_output_loss: 0.0039 - loss: 0.3300 - val_amount_output_loss: 0.2233 - val_amount_output_mse: 0.4353 - val_condition_output_accuracy: 1.0000 - val_condition_output_loss: 0.0011 - val_loss: 0.4184 - learning_rate: 9.5000e-04\n",
      "Epoch 32/200\n",
      "\u001b[1m65/66\u001b[0m \u001b[32m━━━━━━━━━━━━━━━━━━━\u001b[0m\u001b[37m━\u001b[0m \u001b[1m0s\u001b[0m 32ms/step - amount_output_loss: 0.1125 - amount_output_mse: 0.2333 - condition_output_accuracy: 0.9998 - condition_output_loss: 0.0027 - loss: 0.3140    \n",
      "Epoch 32: val_loss improved from 0.29806 to 0.27182, saving model to C:\\Users\\varsh\\OneDrive\\Desktop\\notebook\\Fast_Furious_Insured\\api\\models\\best_model.keras\n",
      "\u001b[1m66/66\u001b[0m \u001b[32m━━━━━━━━━━━━━━━━━━━━\u001b[0m\u001b[37m\u001b[0m \u001b[1m3s\u001b[0m 43ms/step - amount_output_loss: 0.1125 - amount_output_mse: 0.2336 - condition_output_accuracy: 0.9998 - condition_output_loss: 0.0027 - loss: 0.3140 - val_amount_output_loss: 0.0811 - val_amount_output_mse: 0.1648 - val_condition_output_accuracy: 1.0000 - val_condition_output_loss: 4.5119e-04 - val_loss: 0.2718 - learning_rate: 9.5000e-04\n",
      "Epoch 33/200\n",
      "\u001b[1m65/66\u001b[0m \u001b[32m━━━━━━━━━━━━━━━━━━━\u001b[0m\u001b[37m━\u001b[0m \u001b[1m0s\u001b[0m 32ms/step - amount_output_loss: 0.1203 - amount_output_mse: 0.2497 - condition_output_accuracy: 1.0000 - condition_output_loss: 0.0050 - loss: 0.3131\n",
      "Epoch 33: val_loss did not improve from 0.27182\n",
      "\u001b[1m66/66\u001b[0m \u001b[32m━━━━━━━━━━━━━━━━━━━━\u001b[0m\u001b[37m\u001b[0m \u001b[1m3s\u001b[0m 38ms/step - amount_output_loss: 0.1201 - amount_output_mse: 0.2493 - condition_output_accuracy: 1.0000 - condition_output_loss: 0.0050 - loss: 0.3128 - val_amount_output_loss: 0.2015 - val_amount_output_mse: 0.4038 - val_condition_output_accuracy: 1.0000 - val_condition_output_loss: 4.4715e-04 - val_loss: 0.3746 - learning_rate: 9.5000e-04\n",
      "Epoch 34/200\n",
      "\u001b[1m65/66\u001b[0m \u001b[32m━━━━━━━━━━━━━━━━━━━\u001b[0m\u001b[37m━\u001b[0m \u001b[1m0s\u001b[0m 32ms/step - amount_output_loss: 0.1193 - amount_output_mse: 0.2514 - condition_output_accuracy: 0.9982 - condition_output_loss: 0.0058 - loss: 0.3022\n",
      "Epoch 34: val_loss did not improve from 0.27182\n",
      "\u001b[1m66/66\u001b[0m \u001b[32m━━━━━━━━━━━━━━━━━━━━\u001b[0m\u001b[37m\u001b[0m \u001b[1m3s\u001b[0m 37ms/step - amount_output_loss: 0.1194 - amount_output_mse: 0.2516 - condition_output_accuracy: 0.9982 - condition_output_loss: 0.0058 - loss: 0.3022 - val_amount_output_loss: 0.1183 - val_amount_output_mse: 0.2464 - val_condition_output_accuracy: 1.0000 - val_condition_output_loss: 9.7670e-05 - val_loss: 0.2890 - learning_rate: 9.5000e-04\n",
      "Epoch 35/200\n",
      "\u001b[1m65/66\u001b[0m \u001b[32m━━━━━━━━━━━━━━━━━━━\u001b[0m\u001b[37m━\u001b[0m \u001b[1m0s\u001b[0m 31ms/step - amount_output_loss: 0.1262 - amount_output_mse: 0.2622 - condition_output_accuracy: 0.9973 - condition_output_loss: 0.0072 - loss: 0.3006\n",
      "Epoch 35: val_loss did not improve from 0.27182\n",
      "\u001b[1m66/66\u001b[0m \u001b[32m━━━━━━━━━━━━━━━━━━━━\u001b[0m\u001b[37m\u001b[0m \u001b[1m2s\u001b[0m 36ms/step - amount_output_loss: 0.1263 - amount_output_mse: 0.2626 - condition_output_accuracy: 0.9973 - condition_output_loss: 0.0072 - loss: 0.3007 - val_amount_output_loss: 0.1692 - val_amount_output_mse: 0.3596 - val_condition_output_accuracy: 1.0000 - val_condition_output_loss: 2.4793e-04 - val_loss: 0.3308 - learning_rate: 9.5000e-04\n",
      "Epoch 36/200\n",
      "\u001b[1m65/66\u001b[0m \u001b[32m━━━━━━━━━━━━━━━━━━━\u001b[0m\u001b[37m━\u001b[0m \u001b[1m0s\u001b[0m 34ms/step - amount_output_loss: 0.0896 - amount_output_mse: 0.1837 - condition_output_accuracy: 1.0000 - condition_output_loss: 0.0019 - loss: 0.2505\n",
      "Epoch 36: val_loss improved from 0.27182 to 0.26689, saving model to C:\\Users\\varsh\\OneDrive\\Desktop\\notebook\\Fast_Furious_Insured\\api\\models\\best_model.keras\n",
      "\u001b[1m66/66\u001b[0m \u001b[32m━━━━━━━━━━━━━━━━━━━━\u001b[0m\u001b[37m\u001b[0m \u001b[1m3s\u001b[0m 46ms/step - amount_output_loss: 0.0901 - amount_output_mse: 0.1846 - condition_output_accuracy: 1.0000 - condition_output_loss: 0.0020 - loss: 0.2509 - val_amount_output_loss: 0.1176 - val_amount_output_mse: 0.2266 - val_condition_output_accuracy: 1.0000 - val_condition_output_loss: 1.6478e-04 - val_loss: 0.2669 - learning_rate: 4.7500e-04\n",
      "Epoch 37/200\n",
      "\u001b[1m65/66\u001b[0m \u001b[32m━━━━━━━━━━━━━━━━━━━\u001b[0m\u001b[37m━\u001b[0m \u001b[1m0s\u001b[0m 32ms/step - amount_output_loss: 0.1008 - amount_output_mse: 0.2045 - condition_output_accuracy: 0.9999 - condition_output_loss: 0.0021 - loss: 0.2559    \n",
      "Epoch 37: val_loss improved from 0.26689 to 0.24527, saving model to C:\\Users\\varsh\\OneDrive\\Desktop\\notebook\\Fast_Furious_Insured\\api\\models\\best_model.keras\n",
      "\u001b[1m66/66\u001b[0m \u001b[32m━━━━━━━━━━━━━━━━━━━━\u001b[0m\u001b[37m\u001b[0m \u001b[1m3s\u001b[0m 44ms/step - amount_output_loss: 0.1010 - amount_output_mse: 0.2051 - condition_output_accuracy: 0.9998 - condition_output_loss: 0.0022 - loss: 0.2562 - val_amount_output_loss: 0.0965 - val_amount_output_mse: 0.1969 - val_condition_output_accuracy: 1.0000 - val_condition_output_loss: 1.8998e-04 - val_loss: 0.2453 - learning_rate: 4.7500e-04\n",
      "Epoch 38/200\n",
      "\u001b[1m65/66\u001b[0m \u001b[32m━━━━━━━━━━━━━━━━━━━\u001b[0m\u001b[37m━\u001b[0m \u001b[1m0s\u001b[0m 32ms/step - amount_output_loss: 0.1021 - amount_output_mse: 0.2098 - condition_output_accuracy: 1.0000 - condition_output_loss: 0.0020 - loss: 0.2517    \n",
      "Epoch 38: val_loss improved from 0.24527 to 0.23599, saving model to C:\\Users\\varsh\\OneDrive\\Desktop\\notebook\\Fast_Furious_Insured\\api\\models\\best_model.keras\n",
      "\u001b[1m66/66\u001b[0m \u001b[32m━━━━━━━━━━━━━━━━━━━━\u001b[0m\u001b[37m\u001b[0m \u001b[1m3s\u001b[0m 43ms/step - amount_output_loss: 0.1024 - amount_output_mse: 0.2105 - condition_output_accuracy: 1.0000 - condition_output_loss: 0.0021 - loss: 0.2519 - val_amount_output_loss: 0.0932 - val_amount_output_mse: 0.1889 - val_condition_output_accuracy: 1.0000 - val_condition_output_loss: 1.9623e-04 - val_loss: 0.2360 - learning_rate: 4.7500e-04\n",
      "Epoch 39/200\n",
      "\u001b[1m65/66\u001b[0m \u001b[32m━━━━━━━━━━━━━━━━━━━\u001b[0m\u001b[37m━\u001b[0m \u001b[1m0s\u001b[0m 33ms/step - amount_output_loss: 0.1174 - amount_output_mse: 0.2467 - condition_output_accuracy: 1.0000 - condition_output_loss: 0.0032 - loss: 0.2628\n",
      "Epoch 39: val_loss did not improve from 0.23599\n",
      "\u001b[1m66/66\u001b[0m \u001b[32m━━━━━━━━━━━━━━━━━━━━\u001b[0m\u001b[37m\u001b[0m \u001b[1m3s\u001b[0m 38ms/step - amount_output_loss: 0.1169 - amount_output_mse: 0.2457 - condition_output_accuracy: 1.0000 - condition_output_loss: 0.0032 - loss: 0.2623 - val_amount_output_loss: 0.1527 - val_amount_output_mse: 0.3228 - val_condition_output_accuracy: 1.0000 - val_condition_output_loss: 1.7047e-04 - val_loss: 0.2919 - learning_rate: 4.7500e-04\n",
      "Epoch 40/200\n",
      "\u001b[1m65/66\u001b[0m \u001b[32m━━━━━━━━━━━━━━━━━━━\u001b[0m\u001b[37m━\u001b[0m \u001b[1m0s\u001b[0m 31ms/step - amount_output_loss: 0.1062 - amount_output_mse: 0.2196 - condition_output_accuracy: 1.0000 - condition_output_loss: 0.0018 - loss: 0.2452\n",
      "Epoch 40: val_loss did not improve from 0.23599\n",
      "\u001b[1m66/66\u001b[0m \u001b[32m━━━━━━━━━━━━━━━━━━━━\u001b[0m\u001b[37m\u001b[0m \u001b[1m2s\u001b[0m 36ms/step - amount_output_loss: 0.1062 - amount_output_mse: 0.2197 - condition_output_accuracy: 1.0000 - condition_output_loss: 0.0018 - loss: 0.2452 - val_amount_output_loss: 0.1059 - val_amount_output_mse: 0.2189 - val_condition_output_accuracy: 1.0000 - val_condition_output_loss: 1.6780e-04 - val_loss: 0.2398 - learning_rate: 4.7500e-04\n",
      "Epoch 41/200\n",
      "\u001b[1m65/66\u001b[0m \u001b[32m━━━━━━━━━━━━━━━━━━━\u001b[0m\u001b[37m━\u001b[0m \u001b[1m0s\u001b[0m 31ms/step - amount_output_loss: 0.1006 - amount_output_mse: 0.2070 - condition_output_accuracy: 1.0000 - condition_output_loss: 0.0022 - loss: 0.2350\n",
      "Epoch 41: val_loss improved from 0.23599 to 0.22395, saving model to C:\\Users\\varsh\\OneDrive\\Desktop\\notebook\\Fast_Furious_Insured\\api\\models\\best_model.keras\n",
      "\u001b[1m66/66\u001b[0m \u001b[32m━━━━━━━━━━━━━━━━━━━━\u001b[0m\u001b[37m\u001b[0m \u001b[1m3s\u001b[0m 43ms/step - amount_output_loss: 0.1006 - amount_output_mse: 0.2070 - condition_output_accuracy: 1.0000 - condition_output_loss: 0.0022 - loss: 0.2350 - val_amount_output_loss: 0.0994 - val_amount_output_mse: 0.1911 - val_condition_output_accuracy: 1.0000 - val_condition_output_loss: 3.0982e-04 - val_loss: 0.2240 - learning_rate: 4.7500e-04\n",
      "Epoch 42/200\n",
      "\u001b[1m65/66\u001b[0m \u001b[32m━━━━━━━━━━━━━━━━━━━\u001b[0m\u001b[37m━\u001b[0m \u001b[1m0s\u001b[0m 32ms/step - amount_output_loss: 0.0977 - amount_output_mse: 0.2023 - condition_output_accuracy: 1.0000 - condition_output_loss: 0.0015 - loss: 0.2269\n",
      "Epoch 42: val_loss did not improve from 0.22395\n",
      "\u001b[1m66/66\u001b[0m \u001b[32m━━━━━━━━━━━━━━━━━━━━\u001b[0m\u001b[37m\u001b[0m \u001b[1m3s\u001b[0m 38ms/step - amount_output_loss: 0.0979 - amount_output_mse: 0.2025 - condition_output_accuracy: 1.0000 - condition_output_loss: 0.0015 - loss: 0.2271 - val_amount_output_loss: 0.1306 - val_amount_output_mse: 0.2725 - val_condition_output_accuracy: 1.0000 - val_condition_output_loss: 1.1242e-04 - val_loss: 0.2564 - learning_rate: 4.7500e-04\n",
      "Epoch 43/200\n",
      "\u001b[1m65/66\u001b[0m \u001b[32m━━━━━━━━━━━━━━━━━━━\u001b[0m\u001b[37m━\u001b[0m \u001b[1m0s\u001b[0m 32ms/step - amount_output_loss: 0.0911 - amount_output_mse: 0.1886 - condition_output_accuracy: 0.9991 - condition_output_loss: 0.0033 - loss: 0.2181\n",
      "Epoch 43: val_loss did not improve from 0.22395\n",
      "\u001b[1m66/66\u001b[0m \u001b[32m━━━━━━━━━━━━━━━━━━━━\u001b[0m\u001b[37m\u001b[0m \u001b[1m3s\u001b[0m 38ms/step - amount_output_loss: 0.0914 - amount_output_mse: 0.1893 - condition_output_accuracy: 0.9991 - condition_output_loss: 0.0033 - loss: 0.2184 - val_amount_output_loss: 0.1288 - val_amount_output_mse: 0.2670 - val_condition_output_accuracy: 1.0000 - val_condition_output_loss: 1.0916e-04 - val_loss: 0.2505 - learning_rate: 4.7500e-04\n",
      "Epoch 44/200\n",
      "\u001b[1m65/66\u001b[0m \u001b[32m━━━━━━━━━━━━━━━━━━━\u001b[0m\u001b[37m━\u001b[0m \u001b[1m0s\u001b[0m 31ms/step - amount_output_loss: 0.1026 - amount_output_mse: 0.2101 - condition_output_accuracy: 1.0000 - condition_output_loss: 0.0019 - loss: 0.2249\n",
      "Epoch 44: val_loss did not improve from 0.22395\n",
      "\u001b[1m66/66\u001b[0m \u001b[32m━━━━━━━━━━━━━━━━━━━━\u001b[0m\u001b[37m\u001b[0m \u001b[1m2s\u001b[0m 37ms/step - amount_output_loss: 0.1029 - amount_output_mse: 0.2107 - condition_output_accuracy: 1.0000 - condition_output_loss: 0.0020 - loss: 0.2252 - val_amount_output_loss: 0.1223 - val_amount_output_mse: 0.2558 - val_condition_output_accuracy: 1.0000 - val_condition_output_loss: 9.6121e-05 - val_loss: 0.2417 - learning_rate: 4.7500e-04\n",
      "Epoch 45/200\n",
      "\u001b[1m65/66\u001b[0m \u001b[32m━━━━━━━━━━━━━━━━━━━\u001b[0m\u001b[37m━\u001b[0m \u001b[1m0s\u001b[0m 31ms/step - amount_output_loss: 0.0899 - amount_output_mse: 0.1887 - condition_output_accuracy: 1.0000 - condition_output_loss: 0.0016 - loss: 0.2087    \n",
      "Epoch 45: val_loss improved from 0.22395 to 0.21401, saving model to C:\\Users\\varsh\\OneDrive\\Desktop\\notebook\\Fast_Furious_Insured\\api\\models\\best_model.keras\n",
      "\u001b[1m66/66\u001b[0m \u001b[32m━━━━━━━━━━━━━━━━━━━━\u001b[0m\u001b[37m\u001b[0m \u001b[1m3s\u001b[0m 43ms/step - amount_output_loss: 0.0902 - amount_output_mse: 0.1892 - condition_output_accuracy: 1.0000 - condition_output_loss: 0.0016 - loss: 0.2089 - val_amount_output_loss: 0.0983 - val_amount_output_mse: 0.2027 - val_condition_output_accuracy: 1.0000 - val_condition_output_loss: 1.2590e-04 - val_loss: 0.2140 - learning_rate: 2.3750e-04\n",
      "Epoch 46/200\n",
      "\u001b[1m65/66\u001b[0m \u001b[32m━━━━━━━━━━━━━━━━━━━\u001b[0m\u001b[37m━\u001b[0m \u001b[1m0s\u001b[0m 32ms/step - amount_output_loss: 0.0852 - amount_output_mse: 0.1728 - condition_output_accuracy: 1.0000 - condition_output_loss: 0.0013 - loss: 0.2009    \n",
      "Epoch 46: val_loss improved from 0.21401 to 0.20210, saving model to C:\\Users\\varsh\\OneDrive\\Desktop\\notebook\\Fast_Furious_Insured\\api\\models\\best_model.keras\n",
      "\u001b[1m66/66\u001b[0m \u001b[32m━━━━━━━━━━━━━━━━━━━━\u001b[0m\u001b[37m\u001b[0m \u001b[1m3s\u001b[0m 44ms/step - amount_output_loss: 0.0852 - amount_output_mse: 0.1728 - condition_output_accuracy: 1.0000 - condition_output_loss: 0.0013 - loss: 0.2009 - val_amount_output_loss: 0.0906 - val_amount_output_mse: 0.1828 - val_condition_output_accuracy: 1.0000 - val_condition_output_loss: 1.5539e-04 - val_loss: 0.2021 - learning_rate: 2.3750e-04\n",
      "Epoch 47/200\n",
      "\u001b[1m65/66\u001b[0m \u001b[32m━━━━━━━━━━━━━━━━━━━\u001b[0m\u001b[37m━\u001b[0m \u001b[1m0s\u001b[0m 32ms/step - amount_output_loss: 0.0877 - amount_output_mse: 0.1817 - condition_output_accuracy: 1.0000 - condition_output_loss: 0.0027 - loss: 0.2022    \n",
      "Epoch 47: val_loss did not improve from 0.20210\n",
      "\u001b[1m66/66\u001b[0m \u001b[32m━━━━━━━━━━━━━━━━━━━━\u001b[0m\u001b[37m\u001b[0m \u001b[1m3s\u001b[0m 37ms/step - amount_output_loss: 0.0878 - amount_output_mse: 0.1820 - condition_output_accuracy: 1.0000 - condition_output_loss: 0.0027 - loss: 0.2023 - val_amount_output_loss: 0.1352 - val_amount_output_mse: 0.2828 - val_condition_output_accuracy: 1.0000 - val_condition_output_loss: 8.3872e-05 - val_loss: 0.2462 - learning_rate: 2.3750e-04\n",
      "Epoch 48/200\n",
      "\u001b[1m65/66\u001b[0m \u001b[32m━━━━━━━━━━━━━━━━━━━\u001b[0m\u001b[37m━\u001b[0m \u001b[1m0s\u001b[0m 32ms/step - amount_output_loss: 0.0865 - amount_output_mse: 0.1747 - condition_output_accuracy: 1.0000 - condition_output_loss: 9.6684e-04 - loss: 0.1970\n",
      "Epoch 48: val_loss did not improve from 0.20210\n",
      "\u001b[1m66/66\u001b[0m \u001b[32m━━━━━━━━━━━━━━━━━━━━\u001b[0m\u001b[37m\u001b[0m \u001b[1m3s\u001b[0m 38ms/step - amount_output_loss: 0.0867 - amount_output_mse: 0.1751 - condition_output_accuracy: 1.0000 - condition_output_loss: 0.0010 - loss: 0.1972 - val_amount_output_loss: 0.0964 - val_amount_output_mse: 0.1967 - val_condition_output_accuracy: 1.0000 - val_condition_output_loss: 1.2371e-04 - val_loss: 0.2041 - learning_rate: 2.3750e-04\n",
      "Epoch 49/200\n",
      "\u001b[1m65/66\u001b[0m \u001b[32m━━━━━━━━━━━━━━━━━━━\u001b[0m\u001b[37m━\u001b[0m \u001b[1m0s\u001b[0m 35ms/step - amount_output_loss: 0.0950 - amount_output_mse: 0.1951 - condition_output_accuracy: 1.0000 - condition_output_loss: 0.0015 - loss: 0.2039     \n",
      "Epoch 49: val_loss did not improve from 0.20210\n",
      "\u001b[1m66/66\u001b[0m \u001b[32m━━━━━━━━━━━━━━━━━━━━\u001b[0m\u001b[37m\u001b[0m \u001b[1m3s\u001b[0m 40ms/step - amount_output_loss: 0.0949 - amount_output_mse: 0.1948 - condition_output_accuracy: 1.0000 - condition_output_loss: 0.0015 - loss: 0.2038 - val_amount_output_loss: 0.1119 - val_amount_output_mse: 0.2315 - val_condition_output_accuracy: 1.0000 - val_condition_output_loss: 1.2364e-04 - val_loss: 0.2187 - learning_rate: 2.3750e-04\n",
      "Epoch 50/200\n",
      "\u001b[1m65/66\u001b[0m \u001b[32m━━━━━━━━━━━━━━━━━━━\u001b[0m\u001b[37m━\u001b[0m \u001b[1m0s\u001b[0m 42ms/step - amount_output_loss: 0.0840 - amount_output_mse: 0.1702 - condition_output_accuracy: 0.9997 - condition_output_loss: 0.0014 - loss: 0.1909    \n",
      "Epoch 50: val_loss did not improve from 0.20210\n",
      "\u001b[1m66/66\u001b[0m \u001b[32m━━━━━━━━━━━━━━━━━━━━\u001b[0m\u001b[37m\u001b[0m \u001b[1m3s\u001b[0m 50ms/step - amount_output_loss: 0.0840 - amount_output_mse: 0.1702 - condition_output_accuracy: 0.9997 - condition_output_loss: 0.0014 - loss: 0.1909 - val_amount_output_loss: 0.1141 - val_amount_output_mse: 0.2380 - val_condition_output_accuracy: 1.0000 - val_condition_output_loss: 1.0947e-04 - val_loss: 0.2197 - learning_rate: 1.1875e-04\n",
      "Epoch 51/200\n",
      "\u001b[1m66/66\u001b[0m \u001b[32m━━━━━━━━━━━━━━━━━━━━\u001b[0m\u001b[37m\u001b[0m \u001b[1m0s\u001b[0m 37ms/step - amount_output_loss: 0.1030 - amount_output_mse: 0.2103 - condition_output_accuracy: 1.0000 - condition_output_loss: 0.0013 - loss: 0.2087\n",
      "Epoch 51: val_loss improved from 0.20210 to 0.18884, saving model to C:\\Users\\varsh\\OneDrive\\Desktop\\notebook\\Fast_Furious_Insured\\api\\models\\best_model.keras\n",
      "\u001b[1m66/66\u001b[0m \u001b[32m━━━━━━━━━━━━━━━━━━━━\u001b[0m\u001b[37m\u001b[0m \u001b[1m3s\u001b[0m 50ms/step - amount_output_loss: 0.1028 - amount_output_mse: 0.2099 - condition_output_accuracy: 1.0000 - condition_output_loss: 0.0013 - loss: 0.2085 - val_amount_output_loss: 0.0876 - val_amount_output_mse: 0.1730 - val_condition_output_accuracy: 1.0000 - val_condition_output_loss: 1.6798e-04 - val_loss: 0.1888 - learning_rate: 1.1875e-04\n",
      "Epoch 52/200\n",
      "\u001b[1m65/66\u001b[0m \u001b[32m━━━━━━━━━━━━━━━━━━━\u001b[0m\u001b[37m━\u001b[0m \u001b[1m0s\u001b[0m 37ms/step - amount_output_loss: 0.0780 - amount_output_mse: 0.1579 - condition_output_accuracy: 1.0000 - condition_output_loss: 0.0016 - loss: 0.1828\n",
      "Epoch 52: val_loss did not improve from 0.18884\n",
      "\u001b[1m66/66\u001b[0m \u001b[32m━━━━━━━━━━━━━━━━━━━━\u001b[0m\u001b[37m\u001b[0m \u001b[1m3s\u001b[0m 43ms/step - amount_output_loss: 0.0781 - amount_output_mse: 0.1582 - condition_output_accuracy: 1.0000 - condition_output_loss: 0.0017 - loss: 0.1829 - val_amount_output_loss: 0.1175 - val_amount_output_mse: 0.2445 - val_condition_output_accuracy: 1.0000 - val_condition_output_loss: 8.6756e-05 - val_loss: 0.2206 - learning_rate: 1.1875e-04\n",
      "Epoch 53/200\n",
      "\u001b[1m65/66\u001b[0m \u001b[32m━━━━━━━━━━━━━━━━━━━\u001b[0m\u001b[37m━\u001b[0m \u001b[1m0s\u001b[0m 37ms/step - amount_output_loss: 0.0772 - amount_output_mse: 0.1554 - condition_output_accuracy: 1.0000 - condition_output_loss: 0.0013 - loss: 0.1804\n",
      "Epoch 53: val_loss did not improve from 0.18884\n",
      "\u001b[1m66/66\u001b[0m \u001b[32m━━━━━━━━━━━━━━━━━━━━\u001b[0m\u001b[37m\u001b[0m \u001b[1m3s\u001b[0m 43ms/step - amount_output_loss: 0.0774 - amount_output_mse: 0.1556 - condition_output_accuracy: 1.0000 - condition_output_loss: 0.0013 - loss: 0.1805 - val_amount_output_loss: 0.1069 - val_amount_output_mse: 0.2217 - val_condition_output_accuracy: 1.0000 - val_condition_output_loss: 9.4727e-05 - val_loss: 0.2088 - learning_rate: 1.1875e-04\n",
      "Epoch 54/200\n",
      "\u001b[1m65/66\u001b[0m \u001b[32m━━━━━━━━━━━━━━━━━━━\u001b[0m\u001b[37m━\u001b[0m \u001b[1m0s\u001b[0m 35ms/step - amount_output_loss: 0.0729 - amount_output_mse: 0.1480 - condition_output_accuracy: 1.0000 - condition_output_loss: 0.0013 - loss: 0.1749    \n",
      "Epoch 54: val_loss did not improve from 0.18884\n",
      "\u001b[1m66/66\u001b[0m \u001b[32m━━━━━━━━━━━━━━━━━━━━\u001b[0m\u001b[37m\u001b[0m \u001b[1m3s\u001b[0m 41ms/step - amount_output_loss: 0.0730 - amount_output_mse: 0.1482 - condition_output_accuracy: 1.0000 - condition_output_loss: 0.0013 - loss: 0.1750 - val_amount_output_loss: 0.1240 - val_amount_output_mse: 0.2584 - val_condition_output_accuracy: 1.0000 - val_condition_output_loss: 9.5042e-05 - val_loss: 0.2248 - learning_rate: 1.1875e-04\n",
      "Epoch 55/200\n",
      "\u001b[1m65/66\u001b[0m \u001b[32m━━━━━━━━━━━━━━━━━━━\u001b[0m\u001b[37m━\u001b[0m \u001b[1m0s\u001b[0m 32ms/step - amount_output_loss: 0.0703 - amount_output_mse: 0.1416 - condition_output_accuracy: 1.0000 - condition_output_loss: 0.0012 - loss: 0.1711\n",
      "Epoch 55: val_loss did not improve from 0.18884\n",
      "\u001b[1m66/66\u001b[0m \u001b[32m━━━━━━━━━━━━━━━━━━━━\u001b[0m\u001b[37m\u001b[0m \u001b[1m3s\u001b[0m 38ms/step - amount_output_loss: 0.0705 - amount_output_mse: 0.1420 - condition_output_accuracy: 1.0000 - condition_output_loss: 0.0012 - loss: 0.1713 - val_amount_output_loss: 0.1088 - val_amount_output_mse: 0.2258 - val_condition_output_accuracy: 1.0000 - val_condition_output_loss: 1.0555e-04 - val_loss: 0.2085 - learning_rate: 5.9375e-05\n",
      "Epoch 56/200\n",
      "\u001b[1m65/66\u001b[0m \u001b[32m━━━━━━━━━━━━━━━━━━━\u001b[0m\u001b[37m━\u001b[0m \u001b[1m0s\u001b[0m 32ms/step - amount_output_loss: 0.0878 - amount_output_mse: 0.1780 - condition_output_accuracy: 1.0000 - condition_output_loss: 0.0021 - loss: 0.1889\n",
      "Epoch 56: val_loss did not improve from 0.18884\n",
      "\u001b[1m66/66\u001b[0m \u001b[32m━━━━━━━━━━━━━━━━━━━━\u001b[0m\u001b[37m\u001b[0m \u001b[1m3s\u001b[0m 38ms/step - amount_output_loss: 0.0878 - amount_output_mse: 0.1781 - condition_output_accuracy: 1.0000 - condition_output_loss: 0.0021 - loss: 0.1889 - val_amount_output_loss: 0.0928 - val_amount_output_mse: 0.1868 - val_condition_output_accuracy: 1.0000 - val_condition_output_loss: 1.3004e-04 - val_loss: 0.1902 - learning_rate: 5.9375e-05\n"
     ]
    },
    {
     "name": "stderr",
     "output_type": "stream",
     "text": [
      "2025/02/14 13:22:01 WARNING mlflow.tensorflow: You are saving a TensorFlow Core model or Keras model without a signature. Inference with mlflow.pyfunc.spark_udf() will not work unless the model's pyfunc representation accepts pandas DataFrames as inference inputs.\n",
      "2025/02/14 13:22:39 WARNING mlflow.models.model: Model logged without a signature and input example. Please set `input_example` parameter when logging the model to auto infer the model signature.\n"
     ]
    },
    {
     "name": "stdout",
     "output_type": "stream",
     "text": [
      "Trained model saved and logged in MLflow at C:/Users/varsh/OneDrive/Desktop/notebook/Fast_Furious_Insured/api/models/model_1739519356.keras\n"
     ]
    }
   ],
   "source": [
    "with mlflow.start_run():\n",
    "    # Log hyperparameters\n",
    "    mlflow.log_param('learning_rate', 0.00095)\n",
    "    mlflow.log_param('epochs', 200)\n",
    "    mlflow.log_param('batch_size', 16)\n",
    "\n",
    "    # Train the model before saving/logging\n",
    "    history = model.fit(\n",
    "        [image_features, structured_data_scaled],  # Inputs\n",
    "        {'condition_output': condition_labels, 'amount_output': amount_labels},  # Outputs\n",
    "        epochs=200,\n",
    "        batch_size=16,\n",
    "        validation_split=0.2,\n",
    "        callbacks=[early_stopping, reduce_lr, checkpoint],  # Callbacks\n",
    "        verbose=1\n",
    "    )\n",
    "\n",
    "    # Log final training metrics (avoid KeyErrors)\n",
    "    mlflow.log_metric('condition_output_accuracy', history.history.get('condition_output_accuracy', [None])[-1])\n",
    "    mlflow.log_metric('amount_output_mse', history.history.get('amount_output_mse', [None])[-1])\n",
    "    \n",
    "    # Optionally log validation metrics\n",
    "    mlflow.log_metric('val_condition_output_accuracy', history.history.get('val_condition_output_accuracy', [None])[-1])\n",
    "    mlflow.log_metric('val_amount_output_mse', history.history.get('val_amount_output_mse', [None])[-1])\n",
    "\n",
    "    # Save and log trained model with a unique filename\n",
    "    model.save(model_path)\n",
    "    mlflow.tensorflow.log_model(model, artifact_path=\"model\")  # Log trained model\n",
    "\n",
    "    print(f\"Trained model saved and logged in MLflow at {model_path}\")\n"
   ]
  },
  {
   "cell_type": "code",
   "execution_count": 30,
   "id": "d9d263a6-f6e2-46b0-a5c7-08d0b017e36b",
   "metadata": {},
   "outputs": [
    {
     "data": {
      "image/png": "[encoded data removed]",
      "text/plain": [
       "<Figure size 640x480 with 1 Axes>"
      ]
     },
     "metadata": {},
     "output_type": "display_data"
    }
   ],
   "source": [
    "# Plot training and validation loss\n",
    "import matplotlib.pyplot as plt\n",
    "plt.plot(history.history['loss'], label='Training Loss')\n",
    "plt.plot(history.history['val_loss'], label='Validation Loss')\n",
    "plt.xlabel('Epochs')\n",
    "plt.ylabel('Loss')\n",
    "plt.legend()\n",
    "plt.title('Training and Validation Loss')\n",
    "plt.show()\n"
   ]
  },
  {
   "cell_type": "code",
   "execution_count": 31,
   "id": "e7fc882d-9a55-4812-a282-cd79a97ae49d",
   "metadata": {},
   "outputs": [
    {
     "name": "stdout",
     "output_type": "stream",
     "text": [
      "Final Training and Validation Metrics:\n",
      "\n",
      "Training Metrics:\n",
      "amount_output_loss: 0.0893\n",
      "amount_output_mse: 0.1804\n",
      "condition_output_accuracy: 1.0000\n",
      "condition_output_loss: 0.0017\n",
      "loss: 0.1895\n",
      "learning_rate: 0.0001\n",
      "\n",
      "Validation Metrics:\n",
      "val_amount_output_loss: 0.0928\n",
      "val_amount_output_mse: 0.1868\n",
      "val_condition_output_accuracy: 1.0000\n",
      "val_condition_output_loss: 0.0001\n",
      "val_loss: 0.1902\n"
     ]
    }
   ],
   "source": [
    "# Print the final training and validation metrics and losses\n",
    "print(\"Final Training and Validation Metrics:\")\n",
    "\n",
    "# Print the final training metrics\n",
    "print(\"\\nTraining Metrics:\")\n",
    "for metric, values in history.history.items():\n",
    "    if 'val_' not in metric:  # Training metrics do not contain 'val_'\n",
    "        print(f\"{metric}: {values[-1]:.4f}\")  # Print the last value for each training metric\n",
    "\n",
    "# Print the final validation metrics\n",
    "print(\"\\nValidation Metrics:\")\n",
    "for metric, values in history.history.items():\n",
    "    if 'val_' in metric:  # Validation metrics contain 'val_'\n",
    "        print(f\"{metric}: {values[-1]:.4f}\")  # Print the last value for each validation metric\n"
   ]
  },
  {
   "cell_type": "code",
   "execution_count": null,
   "id": "350a0d40-f7af-4e2a-a378-6a9c6e546859",
   "metadata": {},
   "outputs": [],
   "source": []
  },
  {
   "cell_type": "code",
   "execution_count": null,
   "id": "8f77829e-df9a-45c6-96a9-c59d0b5a924b",
   "metadata": {},
   "outputs": [],
   "source": []
  }
 ],
 "metadata": {
  "kernelspec": {
   "display_name": "Python 3.11",
   "language": "python",
   "name": "python3.11"
  },
  "language_info": {
   "codemirror_mode": {
    "name": "ipython",
    "version": 3
   },
   "file_extension": ".py",
   "mimetype": "text/x-python",
   "name": "python",
   "nbconvert_exporter": "python",
   "pygments_lexer": "ipython3",
   "version": "3.11.0"
  }
 },
 "nbformat": 4,
 "nbformat_minor": 5
}
