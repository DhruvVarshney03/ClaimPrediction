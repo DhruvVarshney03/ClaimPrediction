{
 "cells": [
  {
   "cell_type": "code",
   "execution_count": 1,
   "id": "841bb3b3-7125-4c05-8b2c-2710537a1a71",
   "metadata": {},
   "outputs": [],
   "source": [
    "import numpy as np\n",
    "import pandas as pd\n",
    "import tensorflow as tf\n",
    "from tensorflow.keras import layers, Model\n",
    "from tensorflow.keras.layers import Input, Dense, Flatten, Concatenate, Dropout, BatchNormalization, LeakyReLU, Multiply\n",
    "from tensorflow.keras.optimizers import Adam\n",
    "from tensorflow.keras.optimizers.schedules import CosineDecay\n",
    "from tensorflow.keras.callbacks import EarlyStopping, ModelCheckpoint, ReduceLROnPlateau\n",
    "from tensorflow.keras.metrics import AUC\n",
    "from tensorflow.keras.regularizers import l2\n",
    "import time\n",
    "import os\n",
    "import mlflow\n",
    "import mlflow.tensorflow"
   ]
  },
  {
   "cell_type": "markdown",
   "id": "d3a2883e-d396-46f7-8134-8a54cf5bfcbc",
   "metadata": {},
   "source": [
    "### Load Processed Data"
   ]
  },
  {
   "cell_type": "code",
   "execution_count": 2,
   "id": "a9a70b95-f488-48e5-a563-0eba85413b28",
   "metadata": {},
   "outputs": [],
   "source": [
    "data = pd.read_pickle(r\"C:\\Users\\varsh\\OneDrive\\Desktop\\notebook\\Fast_Furious_Insured\\api\\processed_data\\final_train_data.pkl\")"
   ]
  },
  {
   "cell_type": "code",
   "execution_count": 3,
   "id": "d5115236-3a8a-4d5e-9b26-8ab95a9ef668",
   "metadata": {},
   "outputs": [
    {
     "name": "stdout",
     "output_type": "stream",
     "text": [
      "Image_path          object\n",
      "Cost_of_vehicle    float64\n",
      "Min_coverage       float64\n",
      "Expiry_date        float64\n",
      "Max_coverage       float64\n",
      "                    ...   \n",
      "2043               float32\n",
      "2044               float32\n",
      "2045               float32\n",
      "2046               float32\n",
      "2047               float32\n",
      "Length: 2066, dtype: object\n",
      "(1310, 2066)\n",
      "                            Image_path  Cost_of_vehicle  Min_coverage  \\\n",
      "0  images/train_images/img_4513976.jpg         0.453657      0.453657   \n",
      "1  images/train_images/img_7764995.jpg         1.485276      1.485276   \n",
      "2   images/train_images/img_451308.jpg         1.350717      1.350717   \n",
      "3  images/train_images/img_7768372.jpg        -0.443403     -0.443403   \n",
      "4  images/train_images/img_7765274.jpg        -1.104984     -1.104984   \n",
      "\n",
      "   Expiry_date  Max_coverage  Condition    Amount  Insurance_company_A  \\\n",
      "0     0.694979      3.477133          0 -3.251022                  0.0   \n",
      "1     0.036866      0.210875          1  0.541665                  0.0   \n",
      "2    -1.333450      4.449064          0 -3.251022                  1.0   \n",
      "3    -1.345041     -0.389600          1  0.636131                  1.0   \n",
      "4     0.416794     -0.595577          1  0.696594                  0.0   \n",
      "\n",
      "   Insurance_company_AA  Insurance_company_AC  ...  2038  2039      2040  \\\n",
      "0                   0.0                   0.0  ...   0.0   0.0  0.391611   \n",
      "1                   0.0                   0.0  ...   0.0   0.0  0.353185   \n",
      "2                   0.0                   0.0  ...   0.0   0.0  0.317310   \n",
      "3                   0.0                   0.0  ...   0.0   0.0  0.304931   \n",
      "4                   0.0                   1.0  ...   0.0   0.0  0.415673   \n",
      "\n",
      "   2041  2042  2043      2044  2045      2046  2047  \n",
      "0   0.0   0.0   0.0  0.001786   0.0  0.000000   0.0  \n",
      "1   0.0   0.0   0.0  0.000000   0.0  0.000000   0.0  \n",
      "2   0.0   0.0   0.0  0.000000   0.0  0.000000   0.0  \n",
      "3   0.0   0.0   0.0  0.000000   0.0  0.002559   0.0  \n",
      "4   0.0   0.0   0.0  0.000000   0.0  0.000000   0.0  \n",
      "\n",
      "[5 rows x 2066 columns]\n"
     ]
    }
   ],
   "source": [
    "print(data.dtypes)\n",
    "print(data.shape)\n",
    "print(data.head())"
   ]
  },
  {
   "cell_type": "code",
   "execution_count": 4,
   "id": "3e3c3977-a9f1-4052-875c-1c58a5569ce0",
   "metadata": {},
   "outputs": [],
   "source": [
    "# Extract structured data (already encoded & scaled)\n",
    "# Extract first 18 columns, excluding columns 1, 6, and 7\n",
    "structured_data = data.iloc[:, :18]  # First 18 columns\n",
    "structured_data = structured_data.drop(columns=[data.columns[0], data.columns[5], data.columns[6]])\n",
    "structured_data_scaled = structured_data.values\n"
   ]
  },
  {
   "cell_type": "code",
   "execution_count": 5,
   "id": "0bad21c8-98c8-47b3-8a3f-f70ee6adc9ae",
   "metadata": {},
   "outputs": [],
   "source": [
    "# Extract image features\n",
    "image_features = data.iloc[:, 18:].values"
   ]
  },
  {
   "cell_type": "code",
   "execution_count": 6,
   "id": "1d0adeb8-e50b-4b8d-b4af-5483b76556d1",
   "metadata": {},
   "outputs": [
    {
     "data": {
      "text/plain": [
       "(1310, 2048)"
      ]
     },
     "execution_count": 6,
     "metadata": {},
     "output_type": "execute_result"
    }
   ],
   "source": [
    "image_features.shape"
   ]
  },
  {
   "cell_type": "code",
   "execution_count": 7,
   "id": "57740ae8-57f0-49e0-b7be-f2ee520f8cc4",
   "metadata": {},
   "outputs": [],
   "source": [
    "# Extract labels\n",
    "condition_labels = data['Condition'].values  # Binary classification target\n",
    "amount_labels = data['Amount'].values.reshape(-1, 1)  # Regression target"
   ]
  },
  {
   "cell_type": "code",
   "execution_count": 8,
   "id": "fc5a158c-bc2f-4bde-8dd5-3d708686c7b7",
   "metadata": {},
   "outputs": [],
   "source": [
    "# Check for NaNs before training\n",
    "assert not np.any(pd.isna(condition_labels)), \"Condition labels contain NaNs!\"\n",
    "assert not np.any(pd.isna(amount_labels)), \"Amount labels contain NaNs!\"\n"
   ]
  },
  {
   "cell_type": "code",
   "execution_count": 9,
   "id": "c4930818-54eb-40bc-94a7-56668f76783a",
   "metadata": {},
   "outputs": [
    {
     "name": "stdout",
     "output_type": "stream",
     "text": [
      "0 0\n"
     ]
    }
   ],
   "source": [
    "print(np.isnan(image_features).sum(), np.isnan(structured_data_scaled).sum())"
   ]
  },
  {
   "cell_type": "code",
   "execution_count": null,
   "id": "20b1b618-10af-4392-b3d4-56b9b29655f5",
   "metadata": {},
   "outputs": [],
   "source": []
  },
  {
   "cell_type": "markdown",
   "id": "bd193549-e5ea-4105-8ba9-647f208a5365",
   "metadata": {},
   "source": [
    "### Build Model"
   ]
  },
  {
   "cell_type": "code",
   "execution_count": 10,
   "id": "22d2e40e-efe3-4dd4-8dac-e22037be7de4",
   "metadata": {},
   "outputs": [],
   "source": [
    "#Image Feature Branch\n",
    "image_input = Input(shape=(image_features.shape[1],), name='image_input')\n",
    "x = Dense(2048, kernel_initializer='he_normal', kernel_regularizer=l2(0.00095))(image_input)\n",
    "x = BatchNormalization()(x)\n",
    "x = LeakyReLU(negative_slope=0.1)(x)\n",
    "x = Dropout(0.2)(x)\n",
    "\n",
    "x = Dense(1024, kernel_initializer='he_normal', kernel_regularizer=l2(0.00095))(x)\n",
    "x = BatchNormalization()(x)\n",
    "x = LeakyReLU(negative_slope=0.1)(x)\n",
    "x = Dropout(0.2)(x)\n",
    "\n",
    "x = Dense(512, kernel_initializer='he_normal', kernel_regularizer=l2(0.00095))(x)\n",
    "x = BatchNormalization()(x)\n",
    "x = LeakyReLU(negative_slope=0.1)(x)\n",
    "x = Dropout(0.2)(x)"
   ]
  },
  {
   "cell_type": "code",
   "execution_count": 11,
   "id": "88445203-bd37-4365-b5a9-f6a48199ac8a",
   "metadata": {},
   "outputs": [],
   "source": [
    "#Structured Data Branch\n",
    "structured_input = Input(shape=(structured_data_scaled.shape[1],), name='structured_input')\n",
    "y = Dense(256, kernel_initializer='he_normal', kernel_regularizer=l2(0.00095))(structured_input)\n",
    "y = BatchNormalization()(y)\n",
    "y = LeakyReLU(negative_slope=0.1)(y)\n",
    "y = Dropout(0.2)(y)\n",
    "\n",
    "y = Dense(128, kernel_initializer='he_normal', kernel_regularizer=l2(0.00095))(y)\n",
    "y = BatchNormalization()(y)\n",
    "y = LeakyReLU(negative_slope=0.1)(y)\n",
    "y = Dropout(0.2)(y)\n"
   ]
  },
  {
   "cell_type": "code",
   "execution_count": 12,
   "id": "33daa643-4d32-4701-9e2d-5ef2f72c53da",
   "metadata": {},
   "outputs": [],
   "source": [
    "combined = Concatenate()([x, y])\n",
    "\n",
    "z = Dense(256, kernel_initializer='he_normal', kernel_regularizer=l2(0.00095))(combined)\n",
    "z = BatchNormalization()(z)\n",
    "z = LeakyReLU(negative_slope=0.1)(z)\n",
    "z = Dropout(0.2)(z)\n",
    "\n",
    "z = Dense(128, kernel_initializer='he_normal', kernel_regularizer=l2(0.00095))(z)\n",
    "z = BatchNormalization()(z)\n",
    "z = LeakyReLU(negative_slope=0.1)(z)\n",
    "z = Dropout(0.2)(z)\n",
    "\n",
    "\n"
   ]
  },
  {
   "cell_type": "code",
   "execution_count": 13,
   "id": "59d21550-e6a1-4d6c-8758-accc3b86f51b",
   "metadata": {},
   "outputs": [],
   "source": [
    "# Output 1: Condition (Binary Classification)\n",
    "condition_output = Dense(1, activation='sigmoid', name='condition_output')(z)"
   ]
  },
  {
   "cell_type": "code",
   "execution_count": 14,
   "id": "19e5f437-4d2d-429d-bc38-2da646333e68",
   "metadata": {},
   "outputs": [],
   "source": [
    "# Output 2: Amount (Regression)\n",
    "amount_output = Dense(1, activation='linear', name='amount_output')(z)"
   ]
  },
  {
   "cell_type": "code",
   "execution_count": 15,
   "id": "a5bcfcf1-22bc-4109-b38d-e96410d861ba",
   "metadata": {},
   "outputs": [],
   "source": [
    "# Define the Model\n",
    "model = Model(inputs=[image_input, structured_input], outputs=[condition_output, amount_output])"
   ]
  },
  {
   "cell_type": "code",
   "execution_count": 16,
   "id": "8bccf273-0821-49b8-9fe4-b0d9bb987500",
   "metadata": {},
   "outputs": [],
   "source": [
    "# CosineDecay for Adaptive Learning Rate\n",
    "lr_schedule = CosineDecay(initial_learning_rate=0.001, decay_steps=1000, alpha=0.0001)"
   ]
  },
  {
   "cell_type": "code",
   "execution_count": 17,
   "id": "6f29925e-b988-4f7a-9705-009ab5f5c36f",
   "metadata": {},
   "outputs": [],
   "source": [
    "# from tensorflow.keras.saving import register_keras_serializable\n",
    "\n",
    "# @register_keras_serializable()\n",
    "# def weighted_huber_loss(y_true, y_pred):\n",
    "#     delta = 5000  # Adjust as needed\n",
    "#     weights = 1 + (y_true / tf.reduce_max(y_true))  # Higher weight for high claims\n",
    "#     huber = tf.keras.losses.Huber(delta=delta)(y_true, y_pred)\n",
    "#     return tf.reduce_mean(huber * weights)"
   ]
  },
  {
   "cell_type": "code",
   "execution_count": 18,
   "id": "ca9b532b-8131-4cf9-b4fc-11d27ecc999b",
   "metadata": {},
   "outputs": [],
   "source": [
    "# Compile the Model\n",
    "# Loss Weights to balance binary classification and regression loss\n",
    "#loss_weights = {'condition_output': 1.0, 'amount_output': 0.1}\n",
    "\n",
    "model.compile(optimizer=Adam(learning_rate=lr_schedule, clipnorm=1.0),\n",
    "              loss={'condition_output': 'binary_crossentropy', 'amount_output':tf.keras.losses.Huber(delta=5000.0)},\n",
    "              metrics={'condition_output': AUC(), 'amount_output':'mae'}  # Or another suitable metric\n",
    ")"
   ]
  },
  {
   "cell_type": "code",
   "execution_count": 19,
   "id": "99582ed9-145d-415a-a758-48d6ff12284c",
   "metadata": {},
   "outputs": [],
   "source": [
    "#callback\n",
    "early_stopping = EarlyStopping(monitor='val_loss', patience=5, restore_best_weights=True)\n",
    "#reduce_lr = ReduceLROnPlateau(monitor='val_loss', factor=0.5, patience=3, min_lr=1e-6)\n",
    "best_model_path = r'C:\\Users\\varsh\\OneDrive\\Desktop\\notebook\\Fast_Furious_Insured\\api\\models\\best_model.keras'\n",
    "\n",
    "checkpoint = ModelCheckpoint(\n",
    "    best_model_path,\n",
    "    monitor='val_loss',  # Monitor validation loss\n",
    "    save_best_only=True,  # Save only the best model (based on validation loss)\n",
    "    mode='min',  # We want to minimize the validation loss\n",
    "    verbose=1\n",
    ")\n"
   ]
  },
  {
   "cell_type": "markdown",
   "id": "82412ff1-0914-41b3-b866-e1a7054aabbe",
   "metadata": {},
   "source": [
    "### Train Model"
   ]
  },
  {
   "cell_type": "code",
   "execution_count": 20,
   "id": "6b56657d-afef-4eed-92e5-835f769898c3",
   "metadata": {},
   "outputs": [
    {
     "name": "stdout",
     "output_type": "stream",
     "text": [
      "(1310,) (1310, 1)\n"
     ]
    }
   ],
   "source": [
    "print(condition_labels.shape, amount_labels.shape)"
   ]
  },
  {
   "cell_type": "code",
   "execution_count": 21,
   "id": "a540b812-e4e9-4a06-adfd-699e5b1df439",
   "metadata": {},
   "outputs": [],
   "source": [
    "# Print the model summary\n",
    "#model.summary()"
   ]
  },
  {
   "cell_type": "code",
   "execution_count": 22,
   "id": "58da60ca-8df4-4bdf-9d5b-5f5989b29b37",
   "metadata": {},
   "outputs": [],
   "source": [
    "# Ensure model directory exists\n",
    "model_dir = r\"C:\\Users\\varsh\\OneDrive\\Desktop\\notebook\\Fast_Furious_Insured\\api\\models\"\n",
    "os.makedirs(model_dir, exist_ok=True)"
   ]
  },
  {
   "cell_type": "code",
   "execution_count": 23,
   "id": "9bfc4247-b21f-4a97-9b94-cf5724d09378",
   "metadata": {},
   "outputs": [],
   "source": [
    "# Generate unique model filename\n",
    "timestamp = int(time.time())\n",
    "model_path = os.path.join(model_dir, f\"model_{timestamp}.keras\")\n"
   ]
  },
  {
   "cell_type": "code",
   "execution_count": 24,
   "id": "d7ff2ea8-da71-465d-834c-005c673a2ddc",
   "metadata": {
    "scrolled": true
   },
   "outputs": [
    {
     "name": "stdout",
     "output_type": "stream",
     "text": [
      "Epoch 1/200\n",
      "\u001b[1m33/33\u001b[0m \u001b[32m━━━━━━━━━━━━━━━━━━━━\u001b[0m\u001b[37m\u001b[0m \u001b[1m0s\u001b[0m 153ms/step - amount_output_loss: 0.6355 - amount_output_mae: 0.8423 - condition_output_auc: 0.9002 - condition_output_loss: 0.6922 - loss: 8.8656 \n",
      "Epoch 1: val_loss improved from inf to 6.21612, saving model to C:\\Users\\varsh\\OneDrive\\Desktop\\notebook\\Fast_Furious_Insured\\api\\models\\best_model.keras\n",
      "\u001b[1m33/33\u001b[0m \u001b[32m━━━━━━━━━━━━━━━━━━━━\u001b[0m\u001b[37m\u001b[0m \u001b[1m19s\u001b[0m 228ms/step - amount_output_loss: 0.6318 - amount_output_mae: 0.8399 - condition_output_auc: 0.9016 - condition_output_loss: 0.6869 - loss: 8.8361 - val_amount_output_loss: 0.5959 - val_amount_output_mae: 0.9949 - val_condition_output_auc: 1.0000 - val_condition_output_loss: 0.0841 - val_loss: 6.2161\n",
      "Epoch 2/200\n",
      "\u001b[1m33/33\u001b[0m \u001b[32m━━━━━━━━━━━━━━━━━━━━\u001b[0m\u001b[37m\u001b[0m \u001b[1m0s\u001b[0m 150ms/step - amount_output_loss: 0.3566 - amount_output_mae: 0.6436 - condition_output_auc: 0.9826 - condition_output_loss: 0.1653 - loss: 5.7003\n",
      "Epoch 2: val_loss improved from 6.21612 to 4.66781, saving model to C:\\Users\\varsh\\OneDrive\\Desktop\\notebook\\Fast_Furious_Insured\\api\\models\\best_model.keras\n",
      "\u001b[1m33/33\u001b[0m \u001b[32m━━━━━━━━━━━━━━━━━━━━\u001b[0m\u001b[37m\u001b[0m \u001b[1m6s\u001b[0m 185ms/step - amount_output_loss: 0.3561 - amount_output_mae: 0.6431 - condition_output_auc: 0.9825 - condition_output_loss: 0.1645 - loss: 5.6910 - val_amount_output_loss: 0.1315 - val_amount_output_mae: 0.3663 - val_condition_output_auc: 1.0000 - val_condition_output_loss: 0.1264 - val_loss: 4.6678\n",
      "Epoch 3/200\n",
      "\u001b[1m33/33\u001b[0m \u001b[32m━━━━━━━━━━━━━━━━━━━━\u001b[0m\u001b[37m\u001b[0m \u001b[1m0s\u001b[0m 149ms/step - amount_output_loss: 0.2827 - amount_output_mae: 0.5649 - condition_output_auc: 0.9993 - condition_output_loss: 0.0664 - loss: 4.5839\n",
      "Epoch 3: val_loss improved from 4.66781 to 4.00912, saving model to C:\\Users\\varsh\\OneDrive\\Desktop\\notebook\\Fast_Furious_Insured\\api\\models\\best_model.keras\n",
      "\u001b[1m33/33\u001b[0m \u001b[32m━━━━━━━━━━━━━━━━━━━━\u001b[0m\u001b[37m\u001b[0m \u001b[1m6s\u001b[0m 186ms/step - amount_output_loss: 0.2826 - amount_output_mae: 0.5646 - condition_output_auc: 0.9992 - condition_output_loss: 0.0664 - loss: 4.5791 - val_amount_output_loss: 0.1637 - val_amount_output_mae: 0.4097 - val_condition_output_auc: 1.0000 - val_condition_output_loss: 0.1057 - val_loss: 4.0091\n",
      "Epoch 4/200\n",
      "\u001b[1m33/33\u001b[0m \u001b[32m━━━━━━━━━━━━━━━━━━━━\u001b[0m\u001b[37m\u001b[0m \u001b[1m0s\u001b[0m 150ms/step - amount_output_loss: 0.2501 - amount_output_mae: 0.5311 - condition_output_auc: 1.0000 - condition_output_loss: 0.0433 - loss: 3.8868\n",
      "Epoch 4: val_loss improved from 4.00912 to 3.33889, saving model to C:\\Users\\varsh\\OneDrive\\Desktop\\notebook\\Fast_Furious_Insured\\api\\models\\best_model.keras\n",
      "\u001b[1m33/33\u001b[0m \u001b[32m━━━━━━━━━━━━━━━━━━━━\u001b[0m\u001b[37m\u001b[0m \u001b[1m6s\u001b[0m 187ms/step - amount_output_loss: 0.2500 - amount_output_mae: 0.5310 - condition_output_auc: 1.0000 - condition_output_loss: 0.0432 - loss: 3.8828 - val_amount_output_loss: 0.0908 - val_amount_output_mae: 0.3321 - val_condition_output_auc: 1.0000 - val_condition_output_loss: 0.0599 - val_loss: 3.3389\n",
      "Epoch 5/200\n",
      "\u001b[1m33/33\u001b[0m \u001b[32m━━━━━━━━━━━━━━━━━━━━\u001b[0m\u001b[37m\u001b[0m \u001b[1m0s\u001b[0m 149ms/step - amount_output_loss: 0.2155 - amount_output_mae: 0.4891 - condition_output_auc: 1.0000 - condition_output_loss: 0.0326 - loss: 3.3209\n",
      "Epoch 5: val_loss improved from 3.33889 to 2.86702, saving model to C:\\Users\\varsh\\OneDrive\\Desktop\\notebook\\Fast_Furious_Insured\\api\\models\\best_model.keras\n",
      "\u001b[1m33/33\u001b[0m \u001b[32m━━━━━━━━━━━━━━━━━━━━\u001b[0m\u001b[37m\u001b[0m \u001b[1m6s\u001b[0m 184ms/step - amount_output_loss: 0.2151 - amount_output_mae: 0.4888 - condition_output_auc: 1.0000 - condition_output_loss: 0.0326 - loss: 3.3174 - val_amount_output_loss: 0.0988 - val_amount_output_mae: 0.3545 - val_condition_output_auc: 1.0000 - val_condition_output_loss: 0.0278 - val_loss: 2.8670\n",
      "Epoch 6/200\n",
      "\u001b[1m33/33\u001b[0m \u001b[32m━━━━━━━━━━━━━━━━━━━━\u001b[0m\u001b[37m\u001b[0m \u001b[1m0s\u001b[0m 153ms/step - amount_output_loss: 0.2661 - amount_output_mae: 0.5543 - condition_output_auc: 0.9999 - condition_output_loss: 0.0364 - loss: 2.9528\n",
      "Epoch 6: val_loss improved from 2.86702 to 2.49541, saving model to C:\\Users\\varsh\\OneDrive\\Desktop\\notebook\\Fast_Furious_Insured\\api\\models\\best_model.keras\n",
      "\u001b[1m33/33\u001b[0m \u001b[32m━━━━━━━━━━━━━━━━━━━━\u001b[0m\u001b[37m\u001b[0m \u001b[1m7s\u001b[0m 214ms/step - amount_output_loss: 0.2651 - amount_output_mae: 0.5532 - condition_output_auc: 0.9999 - condition_output_loss: 0.0362 - loss: 2.9492 - val_amount_output_loss: 0.0893 - val_amount_output_mae: 0.3062 - val_condition_output_auc: 1.0000 - val_condition_output_loss: 0.0176 - val_loss: 2.4954\n",
      "Epoch 7/200\n",
      "\u001b[1m33/33\u001b[0m \u001b[32m━━━━━━━━━━━━━━━━━━━━\u001b[0m\u001b[37m\u001b[0m \u001b[1m0s\u001b[0m 152ms/step - amount_output_loss: 0.1916 - amount_output_mae: 0.4768 - condition_output_auc: 1.0000 - condition_output_loss: 0.0206 - loss: 2.5274\n",
      "Epoch 7: val_loss improved from 2.49541 to 2.21478, saving model to C:\\Users\\varsh\\OneDrive\\Desktop\\notebook\\Fast_Furious_Insured\\api\\models\\best_model.keras\n",
      "\u001b[1m33/33\u001b[0m \u001b[32m━━━━━━━━━━━━━━━━━━━━\u001b[0m\u001b[37m\u001b[0m \u001b[1m6s\u001b[0m 184ms/step - amount_output_loss: 0.1914 - amount_output_mae: 0.4766 - condition_output_auc: 1.0000 - condition_output_loss: 0.0205 - loss: 2.5252 - val_amount_output_loss: 0.0954 - val_amount_output_mae: 0.3305 - val_condition_output_auc: 1.0000 - val_condition_output_loss: 0.0125 - val_loss: 2.2148\n",
      "Epoch 8/200\n",
      "\u001b[1m33/33\u001b[0m \u001b[32m━━━━━━━━━━━━━━━━━━━━\u001b[0m\u001b[37m\u001b[0m \u001b[1m0s\u001b[0m 151ms/step - amount_output_loss: 0.1647 - amount_output_mae: 0.4455 - condition_output_auc: 1.0000 - condition_output_loss: 0.0163 - loss: 2.2264\n",
      "Epoch 8: val_loss improved from 2.21478 to 1.97292, saving model to C:\\Users\\varsh\\OneDrive\\Desktop\\notebook\\Fast_Furious_Insured\\api\\models\\best_model.keras\n",
      "\u001b[1m33/33\u001b[0m \u001b[32m━━━━━━━━━━━━━━━━━━━━\u001b[0m\u001b[37m\u001b[0m \u001b[1m6s\u001b[0m 185ms/step - amount_output_loss: 0.1648 - amount_output_mae: 0.4457 - condition_output_auc: 1.0000 - condition_output_loss: 0.0164 - loss: 2.2249 - val_amount_output_loss: 0.0871 - val_amount_output_mae: 0.3265 - val_condition_output_auc: 1.0000 - val_condition_output_loss: 0.0124 - val_loss: 1.9729\n",
      "Epoch 9/200\n",
      "\u001b[1m33/33\u001b[0m \u001b[32m━━━━━━━━━━━━━━━━━━━━\u001b[0m\u001b[37m\u001b[0m \u001b[1m0s\u001b[0m 150ms/step - amount_output_loss: 0.1508 - amount_output_mae: 0.4214 - condition_output_auc: 1.0000 - condition_output_loss: 0.0180 - loss: 1.9930\n",
      "Epoch 9: val_loss improved from 1.97292 to 1.78602, saving model to C:\\Users\\varsh\\OneDrive\\Desktop\\notebook\\Fast_Furious_Insured\\api\\models\\best_model.keras\n",
      "\u001b[1m33/33\u001b[0m \u001b[32m━━━━━━━━━━━━━━━━━━━━\u001b[0m\u001b[37m\u001b[0m \u001b[1m6s\u001b[0m 184ms/step - amount_output_loss: 0.1510 - amount_output_mae: 0.4217 - condition_output_auc: 1.0000 - condition_output_loss: 0.0180 - loss: 1.9919 - val_amount_output_loss: 0.0910 - val_amount_output_mae: 0.3427 - val_condition_output_auc: 1.0000 - val_condition_output_loss: 0.0115 - val_loss: 1.7860\n",
      "Epoch 10/200\n",
      "\u001b[1m33/33\u001b[0m \u001b[32m━━━━━━━━━━━━━━━━━━━━\u001b[0m\u001b[37m\u001b[0m \u001b[1m0s\u001b[0m 151ms/step - amount_output_loss: 0.1868 - amount_output_mae: 0.4622 - condition_output_auc: 0.9695 - condition_output_loss: 0.0229 - loss: 1.8535    \n",
      "Epoch 10: val_loss improved from 1.78602 to 1.61765, saving model to C:\\Users\\varsh\\OneDrive\\Desktop\\notebook\\Fast_Furious_Insured\\api\\models\\best_model.keras\n",
      "\u001b[1m33/33\u001b[0m \u001b[32m━━━━━━━━━━━━━━━━━━━━\u001b[0m\u001b[37m\u001b[0m \u001b[1m6s\u001b[0m 183ms/step - amount_output_loss: 0.1863 - amount_output_mae: 0.4616 - condition_output_auc: 0.9704 - condition_output_loss: 0.0228 - loss: 1.8518 - val_amount_output_loss: 0.0823 - val_amount_output_mae: 0.3048 - val_condition_output_auc: 1.0000 - val_condition_output_loss: 0.0081 - val_loss: 1.6177\n",
      "Epoch 11/200\n",
      "\u001b[1m33/33\u001b[0m \u001b[32m━━━━━━━━━━━━━━━━━━━━\u001b[0m\u001b[37m\u001b[0m \u001b[1m0s\u001b[0m 150ms/step - amount_output_loss: 0.1514 - amount_output_mae: 0.4173 - condition_output_auc: 1.0000 - condition_output_loss: 0.0150 - loss: 1.6596\n",
      "Epoch 11: val_loss improved from 1.61765 to 1.49069, saving model to C:\\Users\\varsh\\OneDrive\\Desktop\\notebook\\Fast_Furious_Insured\\api\\models\\best_model.keras\n",
      "\u001b[1m33/33\u001b[0m \u001b[32m━━━━━━━━━━━━━━━━━━━━\u001b[0m\u001b[37m\u001b[0m \u001b[1m6s\u001b[0m 184ms/step - amount_output_loss: 0.1514 - amount_output_mae: 0.4173 - condition_output_auc: 1.0000 - condition_output_loss: 0.0150 - loss: 1.6587 - val_amount_output_loss: 0.0880 - val_amount_output_mae: 0.2941 - val_condition_output_auc: 1.0000 - val_condition_output_loss: 0.0061 - val_loss: 1.4907\n",
      "Epoch 12/200\n",
      "\u001b[1m33/33\u001b[0m \u001b[32m━━━━━━━━━━━━━━━━━━━━\u001b[0m\u001b[37m\u001b[0m \u001b[1m0s\u001b[0m 148ms/step - amount_output_loss: 0.1539 - amount_output_mae: 0.4124 - condition_output_auc: 1.0000 - condition_output_loss: 0.0145 - loss: 1.5372\n",
      "Epoch 12: val_loss improved from 1.49069 to 1.37592, saving model to C:\\Users\\varsh\\OneDrive\\Desktop\\notebook\\Fast_Furious_Insured\\api\\models\\best_model.keras\n",
      "\u001b[1m33/33\u001b[0m \u001b[32m━━━━━━━━━━━━━━━━━━━━\u001b[0m\u001b[37m\u001b[0m \u001b[1m6s\u001b[0m 181ms/step - amount_output_loss: 0.1538 - amount_output_mae: 0.4122 - condition_output_auc: 1.0000 - condition_output_loss: 0.0145 - loss: 1.5365 - val_amount_output_loss: 0.0820 - val_amount_output_mae: 0.3147 - val_condition_output_auc: 1.0000 - val_condition_output_loss: 0.0045 - val_loss: 1.3759\n",
      "Epoch 13/200\n",
      "\u001b[1m33/33\u001b[0m \u001b[32m━━━━━━━━━━━━━━━━━━━━\u001b[0m\u001b[37m\u001b[0m \u001b[1m0s\u001b[0m 152ms/step - amount_output_loss: 0.1493 - amount_output_mae: 0.4134 - condition_output_auc: 0.9998 - condition_output_loss: 0.0221 - loss: 1.4401\n",
      "Epoch 13: val_loss improved from 1.37592 to 1.29652, saving model to C:\\Users\\varsh\\OneDrive\\Desktop\\notebook\\Fast_Furious_Insured\\api\\models\\best_model.keras\n",
      "\u001b[1m33/33\u001b[0m \u001b[32m━━━━━━━━━━━━━━━━━━━━\u001b[0m\u001b[37m\u001b[0m \u001b[1m6s\u001b[0m 184ms/step - amount_output_loss: 0.1492 - amount_output_mae: 0.4132 - condition_output_auc: 0.9998 - condition_output_loss: 0.0220 - loss: 1.4392 - val_amount_output_loss: 0.0887 - val_amount_output_mae: 0.2895 - val_condition_output_auc: 1.0000 - val_condition_output_loss: 0.0043 - val_loss: 1.2965\n",
      "Epoch 14/200\n",
      "\u001b[1m33/33\u001b[0m \u001b[32m━━━━━━━━━━━━━━━━━━━━\u001b[0m\u001b[37m\u001b[0m \u001b[1m0s\u001b[0m 150ms/step - amount_output_loss: 0.1366 - amount_output_mae: 0.3846 - condition_output_auc: 0.9697 - condition_output_loss: 0.0108 - loss: 1.3311    \n",
      "Epoch 14: val_loss improved from 1.29652 to 1.23294, saving model to C:\\Users\\varsh\\OneDrive\\Desktop\\notebook\\Fast_Furious_Insured\\api\\models\\best_model.keras\n",
      "\u001b[1m33/33\u001b[0m \u001b[32m━━━━━━━━━━━━━━━━━━━━\u001b[0m\u001b[37m\u001b[0m \u001b[1m6s\u001b[0m 187ms/step - amount_output_loss: 0.1369 - amount_output_mae: 0.3849 - condition_output_auc: 0.9706 - condition_output_loss: 0.0108 - loss: 1.3308 - val_amount_output_loss: 0.1015 - val_amount_output_mae: 0.3162 - val_condition_output_auc: 1.0000 - val_condition_output_loss: 0.0036 - val_loss: 1.2329\n",
      "Epoch 15/200\n",
      "\u001b[1m33/33\u001b[0m \u001b[32m━━━━━━━━━━━━━━━━━━━━\u001b[0m\u001b[37m\u001b[0m \u001b[1m0s\u001b[0m 155ms/step - amount_output_loss: 0.1515 - amount_output_mae: 0.4090 - condition_output_auc: 1.0000 - condition_output_loss: 0.0124 - loss: 1.2743\n",
      "Epoch 15: val_loss improved from 1.23294 to 1.15750, saving model to C:\\Users\\varsh\\OneDrive\\Desktop\\notebook\\Fast_Furious_Insured\\api\\models\\best_model.keras\n",
      "\u001b[1m33/33\u001b[0m \u001b[32m━━━━━━━━━━━━━━━━━━━━\u001b[0m\u001b[37m\u001b[0m \u001b[1m6s\u001b[0m 189ms/step - amount_output_loss: 0.1512 - amount_output_mae: 0.4087 - condition_output_auc: 1.0000 - condition_output_loss: 0.0123 - loss: 1.2735 - val_amount_output_loss: 0.0931 - val_amount_output_mae: 0.3512 - val_condition_output_auc: 1.0000 - val_condition_output_loss: 0.0045 - val_loss: 1.1575\n",
      "Epoch 16/200\n",
      "\u001b[1m33/33\u001b[0m \u001b[32m━━━━━━━━━━━━━━━━━━━━\u001b[0m\u001b[37m\u001b[0m \u001b[1m0s\u001b[0m 155ms/step - amount_output_loss: 0.1216 - amount_output_mae: 0.3860 - condition_output_auc: 0.9697 - condition_output_loss: 0.0115 - loss: 1.1829    \n",
      "Epoch 16: val_loss improved from 1.15750 to 1.10042, saving model to C:\\Users\\varsh\\OneDrive\\Desktop\\notebook\\Fast_Furious_Insured\\api\\models\\best_model.keras\n",
      "\u001b[1m33/33\u001b[0m \u001b[32m━━━━━━━━━━━━━━━━━━━━\u001b[0m\u001b[37m\u001b[0m \u001b[1m6s\u001b[0m 190ms/step - amount_output_loss: 0.1216 - amount_output_mae: 0.3858 - condition_output_auc: 0.9706 - condition_output_loss: 0.0115 - loss: 1.1824 - val_amount_output_loss: 0.0897 - val_amount_output_mae: 0.3458 - val_condition_output_auc: 1.0000 - val_condition_output_loss: 0.0040 - val_loss: 1.1004\n",
      "Epoch 17/200\n",
      "\u001b[1m33/33\u001b[0m \u001b[32m━━━━━━━━━━━━━━━━━━━━\u001b[0m\u001b[37m\u001b[0m \u001b[1m0s\u001b[0m 152ms/step - amount_output_loss: 0.1495 - amount_output_mae: 0.3953 - condition_output_auc: 1.0000 - condition_output_loss: 0.0175 - loss: 1.1651\n",
      "Epoch 17: val_loss improved from 1.10042 to 1.05285, saving model to C:\\Users\\varsh\\OneDrive\\Desktop\\notebook\\Fast_Furious_Insured\\api\\models\\best_model.keras\n",
      "\u001b[1m33/33\u001b[0m \u001b[32m━━━━━━━━━━━━━━━━━━━━\u001b[0m\u001b[37m\u001b[0m \u001b[1m6s\u001b[0m 185ms/step - amount_output_loss: 0.1492 - amount_output_mae: 0.3952 - condition_output_auc: 1.0000 - condition_output_loss: 0.0173 - loss: 1.1643 - val_amount_output_loss: 0.0864 - val_amount_output_mae: 0.3204 - val_condition_output_auc: 1.0000 - val_condition_output_loss: 0.0032 - val_loss: 1.0528\n",
      "Epoch 18/200\n",
      "\u001b[1m33/33\u001b[0m \u001b[32m━━━━━━━━━━━━━━━━━━━━\u001b[0m\u001b[37m\u001b[0m \u001b[1m0s\u001b[0m 149ms/step - amount_output_loss: 0.1362 - amount_output_mae: 0.4079 - condition_output_auc: 0.9394 - condition_output_loss: 0.0133 - loss: 1.1049    \n",
      "Epoch 18: val_loss improved from 1.05285 to 1.01372, saving model to C:\\Users\\varsh\\OneDrive\\Desktop\\notebook\\Fast_Furious_Insured\\api\\models\\best_model.keras\n",
      "\u001b[1m33/33\u001b[0m \u001b[32m━━━━━━━━━━━━━━━━━━━━\u001b[0m\u001b[37m\u001b[0m \u001b[1m6s\u001b[0m 186ms/step - amount_output_loss: 0.1361 - amount_output_mae: 0.4074 - condition_output_auc: 0.9412 - condition_output_loss: 0.0131 - loss: 1.1044 - val_amount_output_loss: 0.0846 - val_amount_output_mae: 0.3242 - val_condition_output_auc: 1.0000 - val_condition_output_loss: 0.0036 - val_loss: 1.0137\n",
      "Epoch 19/200\n",
      "\u001b[1m33/33\u001b[0m \u001b[32m━━━━━━━━━━━━━━━━━━━━\u001b[0m\u001b[37m\u001b[0m \u001b[1m0s\u001b[0m 152ms/step - amount_output_loss: 0.1174 - amount_output_mae: 0.3732 - condition_output_auc: 1.0000 - condition_output_loss: 0.0072 - loss: 1.0433\n",
      "Epoch 19: val_loss improved from 1.01372 to 0.98243, saving model to C:\\Users\\varsh\\OneDrive\\Desktop\\notebook\\Fast_Furious_Insured\\api\\models\\best_model.keras\n",
      "\u001b[1m33/33\u001b[0m \u001b[32m━━━━━━━━━━━━━━━━━━━━\u001b[0m\u001b[37m\u001b[0m \u001b[1m6s\u001b[0m 186ms/step - amount_output_loss: 0.1174 - amount_output_mae: 0.3732 - condition_output_auc: 1.0000 - condition_output_loss: 0.0072 - loss: 1.0431 - val_amount_output_loss: 0.0869 - val_amount_output_mae: 0.3308 - val_condition_output_auc: 1.0000 - val_condition_output_loss: 0.0028 - val_loss: 0.9824\n",
      "Epoch 20/200\n",
      "\u001b[1m33/33\u001b[0m \u001b[32m━━━━━━━━━━━━━━━━━━━━\u001b[0m\u001b[37m\u001b[0m \u001b[1m0s\u001b[0m 151ms/step - amount_output_loss: 0.1094 - amount_output_mae: 0.3551 - condition_output_auc: 1.0000 - condition_output_loss: 0.0072 - loss: 1.0037\n",
      "Epoch 20: val_loss improved from 0.98243 to 0.95975, saving model to C:\\Users\\varsh\\OneDrive\\Desktop\\notebook\\Fast_Furious_Insured\\api\\models\\best_model.keras\n",
      "\u001b[1m33/33\u001b[0m \u001b[32m━━━━━━━━━━━━━━━━━━━━\u001b[0m\u001b[37m\u001b[0m \u001b[1m6s\u001b[0m 183ms/step - amount_output_loss: 0.1096 - amount_output_mae: 0.3553 - condition_output_auc: 1.0000 - condition_output_loss: 0.0072 - loss: 1.0038 - val_amount_output_loss: 0.0896 - val_amount_output_mae: 0.2984 - val_condition_output_auc: 1.0000 - val_condition_output_loss: 0.0029 - val_loss: 0.9598\n",
      "Epoch 21/200\n",
      "\u001b[1m33/33\u001b[0m \u001b[32m━━━━━━━━━━━━━━━━━━━━\u001b[0m\u001b[37m\u001b[0m \u001b[1m0s\u001b[0m 153ms/step - amount_output_loss: 0.1166 - amount_output_mae: 0.3689 - condition_output_auc: 1.0000 - condition_output_loss: 0.0083 - loss: 0.9863\n",
      "Epoch 21: val_loss improved from 0.95975 to 0.94142, saving model to C:\\Users\\varsh\\OneDrive\\Desktop\\notebook\\Fast_Furious_Insured\\api\\models\\best_model.keras\n",
      "\u001b[1m33/33\u001b[0m \u001b[32m━━━━━━━━━━━━━━━━━━━━\u001b[0m\u001b[37m\u001b[0m \u001b[1m6s\u001b[0m 187ms/step - amount_output_loss: 0.1165 - amount_output_mae: 0.3687 - condition_output_auc: 1.0000 - condition_output_loss: 0.0083 - loss: 0.9860 - val_amount_output_loss: 0.0934 - val_amount_output_mae: 0.2961 - val_condition_output_auc: 1.0000 - val_condition_output_loss: 0.0026 - val_loss: 0.9414\n",
      "Epoch 22/200\n",
      "\u001b[1m33/33\u001b[0m \u001b[32m━━━━━━━━━━━━━━━━━━━━\u001b[0m\u001b[37m\u001b[0m \u001b[1m0s\u001b[0m 150ms/step - amount_output_loss: 0.1008 - amount_output_mae: 0.3430 - condition_output_auc: 1.0000 - condition_output_loss: 0.0064 - loss: 0.9472\n",
      "Epoch 22: val_loss improved from 0.94142 to 0.91854, saving model to C:\\Users\\varsh\\OneDrive\\Desktop\\notebook\\Fast_Furious_Insured\\api\\models\\best_model.keras\n",
      "\u001b[1m33/33\u001b[0m \u001b[32m━━━━━━━━━━━━━━━━━━━━\u001b[0m\u001b[37m\u001b[0m \u001b[1m7s\u001b[0m 214ms/step - amount_output_loss: 0.1009 - amount_output_mae: 0.3431 - condition_output_auc: 1.0000 - condition_output_loss: 0.0064 - loss: 0.9471 - val_amount_output_loss: 0.0902 - val_amount_output_mae: 0.2856 - val_condition_output_auc: 1.0000 - val_condition_output_loss: 0.0025 - val_loss: 0.9185\n",
      "Epoch 23/200\n",
      "\u001b[1m33/33\u001b[0m \u001b[32m━━━━━━━━━━━━━━━━━━━━\u001b[0m\u001b[37m\u001b[0m \u001b[1m0s\u001b[0m 149ms/step - amount_output_loss: 0.1293 - amount_output_mae: 0.3761 - condition_output_auc: 1.0000 - condition_output_loss: 0.0081 - loss: 0.9598\n",
      "Epoch 23: val_loss improved from 0.91854 to 0.91132, saving model to C:\\Users\\varsh\\OneDrive\\Desktop\\notebook\\Fast_Furious_Insured\\api\\models\\best_model.keras\n",
      "\u001b[1m33/33\u001b[0m \u001b[32m━━━━━━━━━━━━━━━━━━━━\u001b[0m\u001b[37m\u001b[0m \u001b[1m6s\u001b[0m 181ms/step - amount_output_loss: 0.1289 - amount_output_mae: 0.3757 - condition_output_auc: 1.0000 - condition_output_loss: 0.0081 - loss: 0.9593 - val_amount_output_loss: 0.0974 - val_amount_output_mae: 0.3073 - val_condition_output_auc: 1.0000 - val_condition_output_loss: 0.0024 - val_loss: 0.9113\n",
      "Epoch 24/200\n",
      "\u001b[1m33/33\u001b[0m \u001b[32m━━━━━━━━━━━━━━━━━━━━\u001b[0m\u001b[37m\u001b[0m \u001b[1m0s\u001b[0m 153ms/step - amount_output_loss: 0.1166 - amount_output_mae: 0.3695 - condition_output_auc: 1.0000 - condition_output_loss: 0.0074 - loss: 0.9327\n",
      "Epoch 24: val_loss improved from 0.91132 to 0.88747, saving model to C:\\Users\\varsh\\OneDrive\\Desktop\\notebook\\Fast_Furious_Insured\\api\\models\\best_model.keras\n",
      "\u001b[1m33/33\u001b[0m \u001b[32m━━━━━━━━━━━━━━━━━━━━\u001b[0m\u001b[37m\u001b[0m \u001b[1m6s\u001b[0m 185ms/step - amount_output_loss: 0.1165 - amount_output_mae: 0.3693 - condition_output_auc: 1.0000 - condition_output_loss: 0.0074 - loss: 0.9325 - val_amount_output_loss: 0.0877 - val_amount_output_mae: 0.3079 - val_condition_output_auc: 1.0000 - val_condition_output_loss: 0.0023 - val_loss: 0.8875\n",
      "Epoch 25/200\n",
      "\u001b[1m33/33\u001b[0m \u001b[32m━━━━━━━━━━━━━━━━━━━━\u001b[0m\u001b[37m\u001b[0m \u001b[1m0s\u001b[0m 152ms/step - amount_output_loss: 0.0866 - amount_output_mae: 0.3263 - condition_output_auc: 1.0000 - condition_output_loss: 0.0057 - loss: 0.8904\n",
      "Epoch 25: val_loss improved from 0.88747 to 0.87652, saving model to C:\\Users\\varsh\\OneDrive\\Desktop\\notebook\\Fast_Furious_Insured\\api\\models\\best_model.keras\n",
      "\u001b[1m33/33\u001b[0m \u001b[32m━━━━━━━━━━━━━━━━━━━━\u001b[0m\u001b[37m\u001b[0m \u001b[1m6s\u001b[0m 191ms/step - amount_output_loss: 0.0869 - amount_output_mae: 0.3267 - condition_output_auc: 1.0000 - condition_output_loss: 0.0057 - loss: 0.8906 - val_amount_output_loss: 0.0887 - val_amount_output_mae: 0.3142 - val_condition_output_auc: 1.0000 - val_condition_output_loss: 0.0023 - val_loss: 0.8765\n",
      "Epoch 26/200\n",
      "\u001b[1m33/33\u001b[0m \u001b[32m━━━━━━━━━━━━━━━━━━━━\u001b[0m\u001b[37m\u001b[0m \u001b[1m0s\u001b[0m 151ms/step - amount_output_loss: 0.0951 - amount_output_mae: 0.3283 - condition_output_auc: 1.0000 - condition_output_loss: 0.0067 - loss: 0.8920\n",
      "Epoch 26: val_loss did not improve from 0.87652\n",
      "\u001b[1m33/33\u001b[0m \u001b[32m━━━━━━━━━━━━━━━━━━━━\u001b[0m\u001b[37m\u001b[0m \u001b[1m5s\u001b[0m 159ms/step - amount_output_loss: 0.0952 - amount_output_mae: 0.3286 - condition_output_auc: 1.0000 - condition_output_loss: 0.0068 - loss: 0.8921 - val_amount_output_loss: 0.1113 - val_amount_output_mae: 0.3109 - val_condition_output_auc: 1.0000 - val_condition_output_loss: 0.0020 - val_loss: 0.9000\n",
      "Epoch 27/200\n",
      "\u001b[1m33/33\u001b[0m \u001b[32m━━━━━━━━━━━━━━━━━━━━\u001b[0m\u001b[37m\u001b[0m \u001b[1m0s\u001b[0m 150ms/step - amount_output_loss: 0.0917 - amount_output_mae: 0.3316 - condition_output_auc: 0.9697 - condition_output_loss: 0.0067 - loss: 0.8832    \n",
      "Epoch 27: val_loss improved from 0.87652 to 0.87427, saving model to C:\\Users\\varsh\\OneDrive\\Desktop\\notebook\\Fast_Furious_Insured\\api\\models\\best_model.keras\n",
      "\u001b[1m33/33\u001b[0m \u001b[32m━━━━━━━━━━━━━━━━━━━━\u001b[0m\u001b[37m\u001b[0m \u001b[1m7s\u001b[0m 205ms/step - amount_output_loss: 0.0917 - amount_output_mae: 0.3315 - condition_output_auc: 0.9706 - condition_output_loss: 0.0067 - loss: 0.8832 - val_amount_output_loss: 0.0922 - val_amount_output_mae: 0.2916 - val_condition_output_auc: 1.0000 - val_condition_output_loss: 0.0020 - val_loss: 0.8743\n",
      "Epoch 28/200\n",
      "\u001b[1m33/33\u001b[0m \u001b[32m━━━━━━━━━━━━━━━━━━━━\u001b[0m\u001b[37m\u001b[0m \u001b[1m0s\u001b[0m 152ms/step - amount_output_loss: 0.0939 - amount_output_mae: 0.3257 - condition_output_auc: 1.0000 - condition_output_loss: 0.0064 - loss: 0.8818\n",
      "Epoch 28: val_loss improved from 0.87427 to 0.86971, saving model to C:\\Users\\varsh\\OneDrive\\Desktop\\notebook\\Fast_Furious_Insured\\api\\models\\best_model.keras\n",
      "\u001b[1m33/33\u001b[0m \u001b[32m━━━━━━━━━━━━━━━━━━━━\u001b[0m\u001b[37m\u001b[0m \u001b[1m6s\u001b[0m 184ms/step - amount_output_loss: 0.0940 - amount_output_mae: 0.3259 - condition_output_auc: 1.0000 - condition_output_loss: 0.0064 - loss: 0.8819 - val_amount_output_loss: 0.0913 - val_amount_output_mae: 0.2990 - val_condition_output_auc: 1.0000 - val_condition_output_loss: 0.0021 - val_loss: 0.8697\n",
      "Epoch 29/200\n",
      "\u001b[1m33/33\u001b[0m \u001b[32m━━━━━━━━━━━━━━━━━━━━\u001b[0m\u001b[37m\u001b[0m \u001b[1m0s\u001b[0m 153ms/step - amount_output_loss: 0.0939 - amount_output_mae: 0.3234 - condition_output_auc: 1.0000 - condition_output_loss: 0.0078 - loss: 0.8815\n",
      "Epoch 29: val_loss did not improve from 0.86971\n",
      "\u001b[1m33/33\u001b[0m \u001b[32m━━━━━━━━━━━━━━━━━━━━\u001b[0m\u001b[37m\u001b[0m \u001b[1m5s\u001b[0m 162ms/step - amount_output_loss: 0.0939 - amount_output_mae: 0.3233 - condition_output_auc: 1.0000 - condition_output_loss: 0.0078 - loss: 0.8813 - val_amount_output_loss: 0.0924 - val_amount_output_mae: 0.2924 - val_condition_output_auc: 1.0000 - val_condition_output_loss: 0.0021 - val_loss: 0.8713\n",
      "Epoch 30/200\n",
      "\u001b[1m33/33\u001b[0m \u001b[32m━━━━━━━━━━━━━━━━━━━━\u001b[0m\u001b[37m\u001b[0m \u001b[1m0s\u001b[0m 152ms/step - amount_output_loss: 0.1086 - amount_output_mae: 0.3490 - condition_output_auc: 1.0000 - condition_output_loss: 0.0078 - loss: 0.8954\n",
      "Epoch 30: val_loss did not improve from 0.86971\n",
      "\u001b[1m33/33\u001b[0m \u001b[32m━━━━━━━━━━━━━━━━━━━━\u001b[0m\u001b[37m\u001b[0m \u001b[1m5s\u001b[0m 161ms/step - amount_output_loss: 0.1083 - amount_output_mae: 0.3486 - condition_output_auc: 1.0000 - condition_output_loss: 0.0078 - loss: 0.8951 - val_amount_output_loss: 0.0922 - val_amount_output_mae: 0.2927 - val_condition_output_auc: 1.0000 - val_condition_output_loss: 0.0020 - val_loss: 0.8707\n",
      "Epoch 31/200\n",
      "\u001b[1m33/33\u001b[0m \u001b[32m━━━━━━━━━━━━━━━━━━━━\u001b[0m\u001b[37m\u001b[0m \u001b[1m0s\u001b[0m 153ms/step - amount_output_loss: 0.0986 - amount_output_mae: 0.3302 - condition_output_auc: 1.0000 - condition_output_loss: 0.0058 - loss: 0.8832\n",
      "Epoch 31: val_loss did not improve from 0.86971\n",
      "\u001b[1m33/33\u001b[0m \u001b[32m━━━━━━━━━━━━━━━━━━━━\u001b[0m\u001b[37m\u001b[0m \u001b[1m5s\u001b[0m 161ms/step - amount_output_loss: 0.0984 - amount_output_mae: 0.3302 - condition_output_auc: 1.0000 - condition_output_loss: 0.0059 - loss: 0.8831 - val_amount_output_loss: 0.0929 - val_amount_output_mae: 0.2946 - val_condition_output_auc: 1.0000 - val_condition_output_loss: 0.0020 - val_loss: 0.8714\n",
      "Epoch 32/200\n",
      "\u001b[1m33/33\u001b[0m \u001b[32m━━━━━━━━━━━━━━━━━━━━\u001b[0m\u001b[37m\u001b[0m \u001b[1m0s\u001b[0m 152ms/step - amount_output_loss: 0.0946 - amount_output_mae: 0.3231 - condition_output_auc: 1.0000 - condition_output_loss: 0.0053 - loss: 0.8788\n",
      "Epoch 32: val_loss did not improve from 0.86971\n",
      "\u001b[1m33/33\u001b[0m \u001b[32m━━━━━━━━━━━━━━━━━━━━\u001b[0m\u001b[37m\u001b[0m \u001b[1m5s\u001b[0m 160ms/step - amount_output_loss: 0.0944 - amount_output_mae: 0.3228 - condition_output_auc: 1.0000 - condition_output_loss: 0.0053 - loss: 0.8785 - val_amount_output_loss: 0.0931 - val_amount_output_mae: 0.2953 - val_condition_output_auc: 1.0000 - val_condition_output_loss: 0.0021 - val_loss: 0.8716\n",
      "Epoch 33/200\n",
      "\u001b[1m33/33\u001b[0m \u001b[32m━━━━━━━━━━━━━━━━━━━━\u001b[0m\u001b[37m\u001b[0m \u001b[1m0s\u001b[0m 149ms/step - amount_output_loss: 0.0922 - amount_output_mae: 0.3269 - condition_output_auc: 1.0000 - condition_output_loss: 0.0096 - loss: 0.8806\n",
      "Epoch 33: val_loss did not improve from 0.86971\n",
      "\u001b[1m33/33\u001b[0m \u001b[32m━━━━━━━━━━━━━━━━━━━━\u001b[0m\u001b[37m\u001b[0m \u001b[1m5s\u001b[0m 158ms/step - amount_output_loss: 0.0924 - amount_output_mae: 0.3270 - condition_output_auc: 1.0000 - condition_output_loss: 0.0095 - loss: 0.8807 - val_amount_output_loss: 0.0936 - val_amount_output_mae: 0.2976 - val_condition_output_auc: 1.0000 - val_condition_output_loss: 0.0021 - val_loss: 0.8720\n"
     ]
    },
    {
     "name": "stderr",
     "output_type": "stream",
     "text": [
      "2025/02/21 20:47:19 WARNING mlflow.tensorflow: You are saving a TensorFlow Core model or Keras model without a signature. Inference with mlflow.pyfunc.spark_udf() will not work unless the model's pyfunc representation accepts pandas DataFrames as inference inputs.\n"
     ]
    },
    {
     "ename": "OSError",
     "evalue": "[Errno 28] No space left on device",
     "output_type": "error",
     "traceback": [
      "\u001b[1;31m---------------------------------------------------------------------------\u001b[0m",
      "\u001b[1;31mOSError\u001b[0m                                   Traceback (most recent call last)",
      "Cell \u001b[1;32mIn[24], line 23\u001b[0m\n\u001b[0;32m     21\u001b[0m \u001b[38;5;66;03m# Save & Log Model\u001b[39;00m\n\u001b[0;32m     22\u001b[0m model\u001b[38;5;241m.\u001b[39msave(model_path)\n\u001b[1;32m---> 23\u001b[0m \u001b[43mmlflow\u001b[49m\u001b[38;5;241;43m.\u001b[39;49m\u001b[43mtensorflow\u001b[49m\u001b[38;5;241;43m.\u001b[39;49m\u001b[43mlog_model\u001b[49m\u001b[43m(\u001b[49m\u001b[43mmodel\u001b[49m\u001b[43m,\u001b[49m\u001b[43m \u001b[49m\u001b[43martifact_path\u001b[49m\u001b[38;5;241;43m=\u001b[39;49m\u001b[38;5;124;43m\"\u001b[39;49m\u001b[38;5;124;43mmodel\u001b[39;49m\u001b[38;5;124;43m\"\u001b[39;49m\u001b[43m)\u001b[49m\n\u001b[0;32m     25\u001b[0m \u001b[38;5;28mprint\u001b[39m(\u001b[38;5;124mf\u001b[39m\u001b[38;5;124m\"\u001b[39m\u001b[38;5;124mTrained model saved and logged in MLflow at \u001b[39m\u001b[38;5;132;01m{\u001b[39;00mmodel_path\u001b[38;5;132;01m}\u001b[39;00m\u001b[38;5;124m\"\u001b[39m)\n",
      "File \u001b[1;32m~\\OneDrive\\Desktop\\notebook\\first_env\\Lib\\site-packages\\mlflow\\tensorflow\\__init__.py:217\u001b[0m, in \u001b[0;36mlog_model\u001b[1;34m(model, artifact_path, custom_objects, conda_env, code_paths, signature, input_example, registered_model_name, await_registration_for, pip_requirements, extra_pip_requirements, saved_model_kwargs, keras_model_kwargs, metadata)\u001b[0m\n\u001b[0;32m    140\u001b[0m \u001b[38;5;129m@format_docstring\u001b[39m(LOG_MODEL_PARAM_DOCS\u001b[38;5;241m.\u001b[39mformat(package_name\u001b[38;5;241m=\u001b[39mFLAVOR_NAME))\n\u001b[0;32m    141\u001b[0m \u001b[38;5;28;01mdef\u001b[39;00m\u001b[38;5;250m \u001b[39m\u001b[38;5;21mlog_model\u001b[39m(\n\u001b[0;32m    142\u001b[0m     model,\n\u001b[1;32m   (...)\u001b[0m\n\u001b[0;32m    155\u001b[0m     metadata\u001b[38;5;241m=\u001b[39m\u001b[38;5;28;01mNone\u001b[39;00m,\n\u001b[0;32m    156\u001b[0m ):\n\u001b[0;32m    157\u001b[0m \u001b[38;5;250m    \u001b[39m\u001b[38;5;124;03m\"\"\"\u001b[39;00m\n\u001b[0;32m    158\u001b[0m \u001b[38;5;124;03m    Log a TF2 core model (inheriting tf.Module) or a Keras model in MLflow Model format.\u001b[39;00m\n\u001b[0;32m    159\u001b[0m \n\u001b[1;32m   (...)\u001b[0m\n\u001b[0;32m    214\u001b[0m \u001b[38;5;124;03m        metadata of the logged model.\u001b[39;00m\n\u001b[0;32m    215\u001b[0m \u001b[38;5;124;03m    \"\"\"\u001b[39;00m\n\u001b[1;32m--> 217\u001b[0m     \u001b[38;5;28;01mreturn\u001b[39;00m \u001b[43mModel\u001b[49m\u001b[38;5;241;43m.\u001b[39;49m\u001b[43mlog\u001b[49m\u001b[43m(\u001b[49m\n\u001b[0;32m    218\u001b[0m \u001b[43m        \u001b[49m\u001b[43martifact_path\u001b[49m\u001b[38;5;241;43m=\u001b[39;49m\u001b[43martifact_path\u001b[49m\u001b[43m,\u001b[49m\n\u001b[0;32m    219\u001b[0m \u001b[43m        \u001b[49m\u001b[43mflavor\u001b[49m\u001b[38;5;241;43m=\u001b[39;49m\u001b[43mmlflow\u001b[49m\u001b[38;5;241;43m.\u001b[39;49m\u001b[43mtensorflow\u001b[49m\u001b[43m,\u001b[49m\n\u001b[0;32m    220\u001b[0m \u001b[43m        \u001b[49m\u001b[43mmodel\u001b[49m\u001b[38;5;241;43m=\u001b[39;49m\u001b[43mmodel\u001b[49m\u001b[43m,\u001b[49m\n\u001b[0;32m    221\u001b[0m \u001b[43m        \u001b[49m\u001b[43mconda_env\u001b[49m\u001b[38;5;241;43m=\u001b[39;49m\u001b[43mconda_env\u001b[49m\u001b[43m,\u001b[49m\n\u001b[0;32m    222\u001b[0m \u001b[43m        \u001b[49m\u001b[43mcode_paths\u001b[49m\u001b[38;5;241;43m=\u001b[39;49m\u001b[43mcode_paths\u001b[49m\u001b[43m,\u001b[49m\n\u001b[0;32m    223\u001b[0m \u001b[43m        \u001b[49m\u001b[43mcustom_objects\u001b[49m\u001b[38;5;241;43m=\u001b[39;49m\u001b[43mcustom_objects\u001b[49m\u001b[43m,\u001b[49m\n\u001b[0;32m    224\u001b[0m \u001b[43m        \u001b[49m\u001b[43mregistered_model_name\u001b[49m\u001b[38;5;241;43m=\u001b[39;49m\u001b[43mregistered_model_name\u001b[49m\u001b[43m,\u001b[49m\n\u001b[0;32m    225\u001b[0m \u001b[43m        \u001b[49m\u001b[43msignature\u001b[49m\u001b[38;5;241;43m=\u001b[39;49m\u001b[43msignature\u001b[49m\u001b[43m,\u001b[49m\n\u001b[0;32m    226\u001b[0m \u001b[43m        \u001b[49m\u001b[43minput_example\u001b[49m\u001b[38;5;241;43m=\u001b[39;49m\u001b[43minput_example\u001b[49m\u001b[43m,\u001b[49m\n\u001b[0;32m    227\u001b[0m \u001b[43m        \u001b[49m\u001b[43mawait_registration_for\u001b[49m\u001b[38;5;241;43m=\u001b[39;49m\u001b[43mawait_registration_for\u001b[49m\u001b[43m,\u001b[49m\n\u001b[0;32m    228\u001b[0m \u001b[43m        \u001b[49m\u001b[43mpip_requirements\u001b[49m\u001b[38;5;241;43m=\u001b[39;49m\u001b[43mpip_requirements\u001b[49m\u001b[43m,\u001b[49m\n\u001b[0;32m    229\u001b[0m \u001b[43m        \u001b[49m\u001b[43mextra_pip_requirements\u001b[49m\u001b[38;5;241;43m=\u001b[39;49m\u001b[43mextra_pip_requirements\u001b[49m\u001b[43m,\u001b[49m\n\u001b[0;32m    230\u001b[0m \u001b[43m        \u001b[49m\u001b[43msaved_model_kwargs\u001b[49m\u001b[38;5;241;43m=\u001b[39;49m\u001b[43msaved_model_kwargs\u001b[49m\u001b[43m,\u001b[49m\n\u001b[0;32m    231\u001b[0m \u001b[43m        \u001b[49m\u001b[43mkeras_model_kwargs\u001b[49m\u001b[38;5;241;43m=\u001b[39;49m\u001b[43mkeras_model_kwargs\u001b[49m\u001b[43m,\u001b[49m\n\u001b[0;32m    232\u001b[0m \u001b[43m        \u001b[49m\u001b[43mmetadata\u001b[49m\u001b[38;5;241;43m=\u001b[39;49m\u001b[43mmetadata\u001b[49m\u001b[43m,\u001b[49m\n\u001b[0;32m    233\u001b[0m \u001b[43m    \u001b[49m\u001b[43m)\u001b[49m\n",
      "File \u001b[1;32m~\\OneDrive\\Desktop\\notebook\\first_env\\Lib\\site-packages\\mlflow\\models\\model.py:796\u001b[0m, in \u001b[0;36mModel.log\u001b[1;34m(cls, artifact_path, flavor, registered_model_name, await_registration_for, metadata, run_id, resources, **kwargs)\u001b[0m\n\u001b[0;32m    792\u001b[0m     run_id \u001b[38;5;241m=\u001b[39m mlflow\u001b[38;5;241m.\u001b[39mtracking\u001b[38;5;241m.\u001b[39mfluent\u001b[38;5;241m.\u001b[39m_get_or_start_run()\u001b[38;5;241m.\u001b[39minfo\u001b[38;5;241m.\u001b[39mrun_id\n\u001b[0;32m    793\u001b[0m mlflow_model \u001b[38;5;241m=\u001b[39m \u001b[38;5;28mcls\u001b[39m(\n\u001b[0;32m    794\u001b[0m     artifact_path\u001b[38;5;241m=\u001b[39martifact_path, run_id\u001b[38;5;241m=\u001b[39mrun_id, metadata\u001b[38;5;241m=\u001b[39mmetadata, resources\u001b[38;5;241m=\u001b[39mresources\n\u001b[0;32m    795\u001b[0m )\n\u001b[1;32m--> 796\u001b[0m \u001b[43mflavor\u001b[49m\u001b[38;5;241;43m.\u001b[39;49m\u001b[43msave_model\u001b[49m\u001b[43m(\u001b[49m\u001b[43mpath\u001b[49m\u001b[38;5;241;43m=\u001b[39;49m\u001b[43mlocal_path\u001b[49m\u001b[43m,\u001b[49m\u001b[43m \u001b[49m\u001b[43mmlflow_model\u001b[49m\u001b[38;5;241;43m=\u001b[39;49m\u001b[43mmlflow_model\u001b[49m\u001b[43m,\u001b[49m\u001b[43m \u001b[49m\u001b[38;5;241;43m*\u001b[39;49m\u001b[38;5;241;43m*\u001b[39;49m\u001b[43mkwargs\u001b[49m\u001b[43m)\u001b[49m\n\u001b[0;32m    797\u001b[0m \u001b[38;5;66;03m# `save_model` calls `load_model` to infer the model requirements, which may result in\u001b[39;00m\n\u001b[0;32m    798\u001b[0m \u001b[38;5;66;03m# __pycache__ directories being created in the model directory.\u001b[39;00m\n\u001b[0;32m    799\u001b[0m \u001b[38;5;28;01mfor\u001b[39;00m pycache \u001b[38;5;129;01min\u001b[39;00m Path(local_path)\u001b[38;5;241m.\u001b[39mrglob(\u001b[38;5;124m\"\u001b[39m\u001b[38;5;124m__pycache__\u001b[39m\u001b[38;5;124m\"\u001b[39m):\n",
      "File \u001b[1;32m~\\OneDrive\\Desktop\\notebook\\first_env\\Lib\\site-packages\\mlflow\\tensorflow\\__init__.py:436\u001b[0m, in \u001b[0;36msave_model\u001b[1;34m(model, path, conda_env, code_paths, mlflow_model, custom_objects, signature, input_example, pip_requirements, extra_pip_requirements, saved_model_kwargs, keras_model_kwargs, metadata)\u001b[0m\n\u001b[0;32m    434\u001b[0m         shutil\u001b[38;5;241m.\u001b[39mcopy2(src\u001b[38;5;241m=\u001b[39mf\u001b[38;5;241m.\u001b[39mname, dst\u001b[38;5;241m=\u001b[39mmodel_path)\n\u001b[0;32m    435\u001b[0m \u001b[38;5;28;01melse\u001b[39;00m:\n\u001b[1;32m--> 436\u001b[0m     \u001b[43mmodel\u001b[49m\u001b[38;5;241;43m.\u001b[39;49m\u001b[43msave\u001b[49m\u001b[43m(\u001b[49m\u001b[43mmodel_path\u001b[49m\u001b[43m,\u001b[49m\u001b[43m \u001b[49m\u001b[38;5;241;43m*\u001b[39;49m\u001b[38;5;241;43m*\u001b[39;49m\u001b[43mkeras_model_kwargs\u001b[49m\u001b[43m)\u001b[49m\n\u001b[0;32m    438\u001b[0m pyfunc_options \u001b[38;5;241m=\u001b[39m {\n\u001b[0;32m    439\u001b[0m     \u001b[38;5;124m\"\u001b[39m\u001b[38;5;124mdata\u001b[39m\u001b[38;5;124m\"\u001b[39m: data_subpath,\n\u001b[0;32m    440\u001b[0m }\n\u001b[0;32m    442\u001b[0m flavor_options \u001b[38;5;241m=\u001b[39m {\n\u001b[0;32m    443\u001b[0m     \u001b[38;5;241m*\u001b[39m\u001b[38;5;241m*\u001b[39mpyfunc_options,\n\u001b[0;32m    444\u001b[0m     \u001b[38;5;124m\"\u001b[39m\u001b[38;5;124mmodel_type\u001b[39m\u001b[38;5;124m\"\u001b[39m: _MODEL_TYPE_KERAS,\n\u001b[0;32m    445\u001b[0m     \u001b[38;5;124m\"\u001b[39m\u001b[38;5;124mkeras_version\u001b[39m\u001b[38;5;124m\"\u001b[39m: tf\u001b[38;5;241m.\u001b[39m__version__,\n\u001b[0;32m    446\u001b[0m     \u001b[38;5;124m\"\u001b[39m\u001b[38;5;124msave_format\u001b[39m\u001b[38;5;124m\"\u001b[39m: save_format,\n\u001b[0;32m    447\u001b[0m }\n",
      "File \u001b[1;32m~\\OneDrive\\Desktop\\notebook\\first_env\\Lib\\site-packages\\keras\\src\\utils\\traceback_utils.py:122\u001b[0m, in \u001b[0;36mfilter_traceback.<locals>.error_handler\u001b[1;34m(*args, **kwargs)\u001b[0m\n\u001b[0;32m    119\u001b[0m     filtered_tb \u001b[38;5;241m=\u001b[39m _process_traceback_frames(e\u001b[38;5;241m.\u001b[39m__traceback__)\n\u001b[0;32m    120\u001b[0m     \u001b[38;5;66;03m# To get the full stack trace, call:\u001b[39;00m\n\u001b[0;32m    121\u001b[0m     \u001b[38;5;66;03m# `keras.config.disable_traceback_filtering()`\u001b[39;00m\n\u001b[1;32m--> 122\u001b[0m     \u001b[38;5;28;01mraise\u001b[39;00m e\u001b[38;5;241m.\u001b[39mwith_traceback(filtered_tb) \u001b[38;5;28;01mfrom\u001b[39;00m\u001b[38;5;250m \u001b[39m\u001b[38;5;28;01mNone\u001b[39;00m\n\u001b[0;32m    123\u001b[0m \u001b[38;5;28;01mfinally\u001b[39;00m:\n\u001b[0;32m    124\u001b[0m     \u001b[38;5;28;01mdel\u001b[39;00m filtered_tb\n",
      "File \u001b[1;32m~\\AppData\\Local\\Programs\\Python\\Python311\\Lib\\zipfile.py:1831\u001b[0m, in \u001b[0;36mZipFile.writestr\u001b[1;34m(self, zinfo_or_arcname, data, compress_type, compresslevel)\u001b[0m\n\u001b[0;32m   1829\u001b[0m \u001b[38;5;28;01mwith\u001b[39;00m \u001b[38;5;28mself\u001b[39m\u001b[38;5;241m.\u001b[39m_lock:\n\u001b[0;32m   1830\u001b[0m     \u001b[38;5;28;01mwith\u001b[39;00m \u001b[38;5;28mself\u001b[39m\u001b[38;5;241m.\u001b[39mopen(zinfo, mode\u001b[38;5;241m=\u001b[39m\u001b[38;5;124m'\u001b[39m\u001b[38;5;124mw\u001b[39m\u001b[38;5;124m'\u001b[39m) \u001b[38;5;28;01mas\u001b[39;00m dest:\n\u001b[1;32m-> 1831\u001b[0m         \u001b[43mdest\u001b[49m\u001b[38;5;241;43m.\u001b[39;49m\u001b[43mwrite\u001b[49m\u001b[43m(\u001b[49m\u001b[43mdata\u001b[49m\u001b[43m)\u001b[49m\n",
      "File \u001b[1;32m~\\AppData\\Local\\Programs\\Python\\Python311\\Lib\\zipfile.py:1165\u001b[0m, in \u001b[0;36m_ZipWriteFile.write\u001b[1;34m(self, data)\u001b[0m\n\u001b[0;32m   1163\u001b[0m     data \u001b[38;5;241m=\u001b[39m \u001b[38;5;28mself\u001b[39m\u001b[38;5;241m.\u001b[39m_compressor\u001b[38;5;241m.\u001b[39mcompress(data)\n\u001b[0;32m   1164\u001b[0m     \u001b[38;5;28mself\u001b[39m\u001b[38;5;241m.\u001b[39m_compress_size \u001b[38;5;241m+\u001b[39m\u001b[38;5;241m=\u001b[39m \u001b[38;5;28mlen\u001b[39m(data)\n\u001b[1;32m-> 1165\u001b[0m \u001b[38;5;28mself\u001b[39m\u001b[38;5;241m.\u001b[39m_fileobj\u001b[38;5;241m.\u001b[39mwrite(data)\n\u001b[0;32m   1166\u001b[0m \u001b[38;5;28;01mreturn\u001b[39;00m nbytes\n",
      "\u001b[1;31mOSError\u001b[0m: [Errno 28] No space left on device"
     ]
    }
   ],
   "source": [
    "# Start MLflow Tracking\n",
    "with mlflow.start_run():\n",
    "    mlflow.log_param('learning_rate', 0.001)\n",
    "    mlflow.log_param('epochs', 200)\n",
    "    mlflow.log_param('batch_size', 32)\n",
    "\n",
    "    history = model.fit(\n",
    "        [image_features, structured_data_scaled],\n",
    "        {'condition_output': condition_labels, 'amount_output': amount_labels},\n",
    "        epochs=200,\n",
    "        batch_size=32,\n",
    "        validation_split=0.2,\n",
    "        callbacks=[early_stopping, checkpoint],\n",
    "        verbose=1\n",
    "    )\n",
    "\n",
    "    # Log all metrics dynamically\n",
    "    for key in history.history.keys():\n",
    "        mlflow.log_metric(key, history.history[key][-1])\n",
    "\n",
    "    # Save & Log Model\n",
    "    model.save(model_path)\n",
    "    mlflow.tensorflow.log_model(model, artifact_path=\"model\")\n",
    "\n",
    "    print(f\"Trained model saved and logged in MLflow at {model_path}\")\n"
   ]
  },
  {
   "cell_type": "code",
   "execution_count": null,
   "id": "d9d263a6-f6e2-46b0-a5c7-08d0b017e36b",
   "metadata": {},
   "outputs": [],
   "source": [
    "# Plot training and validation loss\n",
    "import matplotlib.pyplot as plt\n",
    "plt.plot(history.history['loss'], label='Training Loss')\n",
    "plt.plot(history.history['val_loss'], label='Validation Loss')\n",
    "plt.xlabel('Epochs')\n",
    "plt.ylabel('Loss')\n",
    "plt.legend()\n",
    "plt.title('Training and Validation Loss')\n",
    "plt.show()\n"
   ]
  },
  {
   "cell_type": "code",
   "execution_count": null,
   "id": "e7fc882d-9a55-4812-a282-cd79a97ae49d",
   "metadata": {},
   "outputs": [],
   "source": [
    "# Print Final Training & Validation Metrics\n",
    "print(\"Final Training and Validation Metrics:\")\n",
    "\n",
    "for metric, values in history.history.items():\n",
    "    print(f\"{metric}: {values[-1]:.4f}\")  # Print last value for each metric"
   ]
  },
  {
   "cell_type": "code",
   "execution_count": null,
   "id": "8f77829e-df9a-45c6-96a9-c59d0b5a924b",
   "metadata": {},
   "outputs": [],
   "source": [
    "from sklearn.metrics import mean_absolute_error, mean_squared_error, r2_score\n",
    "\n",
    "# Get predicted claim amounts\n",
    "_, amount_preds = model.predict([image_features, structured_data_scaled])\n",
    "\n",
    "# Evaluate\n",
    "mae = mean_absolute_error(amount_labels, amount_preds)\n",
    "mse = mean_squared_error(amount_labels, amount_preds)\n",
    "rmse = np.sqrt(mse)\n",
    "r2 = r2_score(amount_labels, amount_preds)\n",
    "\n",
    "print(f\"MAE: {mae:.2f}\")\n",
    "print(f\"MSE: {mse:.2f}\")\n",
    "print(f\"RMSE: {rmse:.2f}\")\n",
    "print(f\"R² Score: {r2:.4f}\")\n"
   ]
  },
  {
   "cell_type": "code",
   "execution_count": null,
   "id": "1ea4347b-d38b-4cf8-838a-26e77a4019f6",
   "metadata": {},
   "outputs": [],
   "source": [
    "print(\"amount_labels shape:\", amount_labels.shape)\n",
    "print(\"amount_preds shape:\", amount_preds.shape)"
   ]
  },
  {
   "cell_type": "code",
   "execution_count": null,
   "id": "820d2ca6-097a-4cbb-8f9a-d2fb7f8d7d27",
   "metadata": {},
   "outputs": [],
   "source": [
    "residuals = amount_labels.flatten() - amount_preds.flatten()\n"
   ]
  },
  {
   "cell_type": "code",
   "execution_count": null,
   "id": "fb5b965f-010f-4f1b-b31a-4fd8280b15da",
   "metadata": {},
   "outputs": [],
   "source": [
    "print(\"Residuals shape:\", residuals.shape)"
   ]
  },
  {
   "cell_type": "code",
   "execution_count": null,
   "id": "b8694470-3058-486f-874e-c84041e8022f",
   "metadata": {},
   "outputs": [],
   "source": [
    "plt.scatter(amount_labels.flatten(), residuals)\n",
    "plt.axhline(y=0, color='r', linestyle='--')\n",
    "plt.xlabel(\"Actual Claim Amounts\")\n",
    "plt.ylabel(\"Residuals (Errors)\")\n",
    "plt.title(\"Residual Plot\")\n",
    "plt.show()\n"
   ]
  },
  {
   "cell_type": "code",
   "execution_count": null,
   "id": "fa8d0da6-244a-4a28-8aee-ecfe46319379",
   "metadata": {},
   "outputs": [],
   "source": [
    "from sklearn.metrics import mean_absolute_error, mean_squared_error, r2_score\n",
    "import numpy as np\n",
    "\n",
    "# Filter data where Condition = 1\n",
    "idx = condition_labels == 1  # Assuming `condition_labels` is your Condition column\n",
    "true_claims = amount_labels[idx]\n",
    "pred_claims = amount_preds[idx]\n",
    "\n",
    "# Compute metrics\n",
    "mae = mean_absolute_error(true_claims, pred_claims)\n",
    "rmse = np.sqrt(mean_squared_error(true_claims, pred_claims))\n",
    "r2 = r2_score(true_claims, pred_claims)\n",
    "\n",
    "print(f\"MAE: {mae}, RMSE: {rmse}, R²: {r2}\")\n"
   ]
  },
  {
   "cell_type": "code",
   "execution_count": null,
   "id": "53f3aaf3-419a-4621-9afa-bc1ef07b7b37",
   "metadata": {},
   "outputs": [],
   "source": [
    "import matplotlib.pyplot as plt\n",
    "\n",
    "plt.scatter(true_claims, pred_claims, alpha=0.5)\n",
    "plt.plot([min(true_claims), max(true_claims)], [min(true_claims), max(true_claims)], 'r--')  # Perfect fit line\n",
    "plt.xlabel(\"Actual Claim Amounts (log-transformed)\")\n",
    "plt.ylabel(\"Predicted Claim Amounts (log-transformed)\")\n",
    "plt.title(\"Predicted vs. Actual Claim Amounts (Condition = 1)\")\n",
    "plt.show()\n"
   ]
  },
  {
   "cell_type": "code",
   "execution_count": null,
   "id": "4f6193f4-37f0-417e-90cd-ff796321e13a",
   "metadata": {},
   "outputs": [],
   "source": []
  }
 ],
 "metadata": {
  "kernelspec": {
   "display_name": "Python 3.11",
   "language": "python",
   "name": "python3.11"
  },
  "language_info": {
   "codemirror_mode": {
    "name": "ipython",
    "version": 3
   },
   "file_extension": ".py",
   "mimetype": "text/x-python",
   "name": "python",
   "nbconvert_exporter": "python",
   "pygments_lexer": "ipython3",
   "version": "3.11.0"
  }
 },
 "nbformat": 4,
 "nbformat_minor": 5
}
