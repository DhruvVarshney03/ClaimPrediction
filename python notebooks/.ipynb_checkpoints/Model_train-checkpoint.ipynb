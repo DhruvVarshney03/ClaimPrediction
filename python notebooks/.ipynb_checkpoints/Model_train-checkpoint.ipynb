{
 "cells": [
  {
   "cell_type": "code",
   "execution_count": 1,
   "id": "841bb3b3-7125-4c05-8b2c-2710537a1a71",
   "metadata": {},
   "outputs": [],
   "source": [
    "import numpy as np\n",
    "import pandas as pd\n",
    "import tensorflow as tf\n",
    "from tensorflow.keras import layers, Model\n",
    "from tensorflow.keras.layers import Input, Dense, Flatten, Concatenate, Dropout, BatchNormalization, LeakyReLU\n",
    "from tensorflow.keras.optimizers import Adam\n",
    "from tensorflow.keras.callbacks import EarlyStopping, ReduceLROnPlateau, ModelCheckpoint\n",
    "from tensorflow.keras.regularizers import l2\n"
   ]
  },
  {
   "cell_type": "markdown",
   "id": "d3a2883e-d396-46f7-8134-8a54cf5bfcbc",
   "metadata": {},
   "source": [
    "### Load Processed Data"
   ]
  },
  {
   "cell_type": "code",
   "execution_count": 2,
   "id": "a9a70b95-f488-48e5-a563-0eba85413b28",
   "metadata": {},
   "outputs": [],
   "source": [
    "data = pd.read_pickle(\"processed_data/final_train_data.pkl\")\n",
    "test_data = pd.read_pickle(\"processed_data/final_test_data.pkl\")"
   ]
  },
  {
   "cell_type": "code",
   "execution_count": 3,
   "id": "d5115236-3a8a-4d5e-9b26-8ab95a9ef668",
   "metadata": {},
   "outputs": [
    {
     "data": {
      "text/plain": [
       "(1310, 2066)"
      ]
     },
     "execution_count": 3,
     "metadata": {},
     "output_type": "execute_result"
    }
   ],
   "source": [
    "data.dtypes\n",
    "data.shape"
   ]
  },
  {
   "cell_type": "code",
   "execution_count": 4,
   "id": "3e3c3977-a9f1-4052-875c-1c58a5569ce0",
   "metadata": {},
   "outputs": [],
   "source": [
    "# Extract structured data (already encoded & scaled)\n",
    "# Extract first 18 columns, excluding columns 1, 6, and 7\n",
    "structured_data = data.iloc[:, :18]  # First 18 columns\n",
    "structured_data = structured_data.drop(columns=[data.columns[0], data.columns[5], data.columns[6]])\n",
    "structured_data_scaled = structured_data.values\n"
   ]
  },
  {
   "cell_type": "code",
   "execution_count": null,
   "id": "7bd3b639-7bc5-47c4-baea-1679e1114663",
   "metadata": {},
   "outputs": [],
   "source": []
  },
  {
   "cell_type": "code",
   "execution_count": 5,
   "id": "0bad21c8-98c8-47b3-8a3f-f70ee6adc9ae",
   "metadata": {},
   "outputs": [],
   "source": [
    "# Extract image features\n",
    "image_features = data.iloc[:, 18:].values"
   ]
  },
  {
   "cell_type": "code",
   "execution_count": 6,
   "id": "1d0adeb8-e50b-4b8d-b4af-5483b76556d1",
   "metadata": {},
   "outputs": [
    {
     "data": {
      "text/plain": [
       "(1310, 2048)"
      ]
     },
     "execution_count": 6,
     "metadata": {},
     "output_type": "execute_result"
    }
   ],
   "source": [
    "image_features.shape"
   ]
  },
  {
   "cell_type": "code",
   "execution_count": 7,
   "id": "57740ae8-57f0-49e0-b7be-f2ee520f8cc4",
   "metadata": {},
   "outputs": [],
   "source": [
    "# Extract labels\n",
    "condition_labels = data['Condition'].values  # Binary classification target\n",
    "amount_labels = data['Amount'].values.reshape(-1, 1)  # Regression target"
   ]
  },
  {
   "cell_type": "code",
   "execution_count": 8,
   "id": "c4930818-54eb-40bc-94a7-56668f76783a",
   "metadata": {},
   "outputs": [
    {
     "name": "stdout",
     "output_type": "stream",
     "text": [
      "0 0\n"
     ]
    }
   ],
   "source": [
    "print(np.isnan(image_features).sum(), np.isnan(structured_data_scaled).sum())"
   ]
  },
  {
   "cell_type": "code",
   "execution_count": null,
   "id": "45c62cce-fac2-404d-a6be-853de84c30c2",
   "metadata": {},
   "outputs": [],
   "source": []
  },
  {
   "cell_type": "markdown",
   "id": "bd193549-e5ea-4105-8ba9-647f208a5365",
   "metadata": {},
   "source": [
    "### Build Model"
   ]
  },
  {
   "cell_type": "code",
   "execution_count": 9,
   "id": "22d2e40e-efe3-4dd4-8dac-e22037be7de4",
   "metadata": {},
   "outputs": [],
   "source": [
    "image_input = Input(shape=(image_features.shape[1],), name='image_input')\n",
    "x = Dense(512, kernel_initializer='he_normal', kernel_regularizer=l2(0.00095))(image_input)\n",
    "x = BatchNormalization()(x)\n",
    "x = LeakyReLU(negative_slope=0.1)(x)\n",
    "x = Dropout(0.2)(x)\n",
    "\n",
    "x = Dense(256, kernel_initializer='he_normal', kernel_regularizer=l2(0.00095))(x)\n",
    "x = BatchNormalization()(x)\n",
    "x = LeakyReLU(negative_slope=0.1)(x)\n",
    "x = Dropout(0.2)(x)"
   ]
  },
  {
   "cell_type": "code",
   "execution_count": 10,
   "id": "88445203-bd37-4365-b5a9-f6a48199ac8a",
   "metadata": {},
   "outputs": [],
   "source": [
    "structured_input = Input(shape=(structured_data_scaled.shape[1],), name='structured_input')\n",
    "y = Dense(128, kernel_initializer='he_normal', kernel_regularizer=l2(0.00095))(structured_input)\n",
    "y = BatchNormalization()(y)\n",
    "y = LeakyReLU(negative_slope=0.1)(y)\n",
    "y = Dropout(0.2)(y)\n",
    "\n",
    "y = Dense(64, kernel_initializer='he_normal', kernel_regularizer=l2(0.00095))(y)\n",
    "y = BatchNormalization()(y)\n",
    "y = LeakyReLU(negative_slope=0.1)(y)\n",
    "y = Dropout(0.2)(y)\n"
   ]
  },
  {
   "cell_type": "code",
   "execution_count": 11,
   "id": "33daa643-4d32-4701-9e2d-5ef2f72c53da",
   "metadata": {},
   "outputs": [],
   "source": [
    "combined = Concatenate()([x, y])\n",
    "\n",
    "z = Dense(128, kernel_initializer='he_normal', kernel_regularizer=l2(0.00095))(combined)\n",
    "z = BatchNormalization()(z)\n",
    "z = LeakyReLU(negative_slope=0.1)(z)\n",
    "z = Dropout(0.2)(z)\n",
    "\n",
    "z = Dense(64, kernel_initializer='he_normal', kernel_regularizer=l2(0.00095))(z)\n",
    "z = BatchNormalization()(z)\n",
    "z = LeakyReLU(negative_slope=0.1)(z)\n",
    "z = Dropout(0.2)(z)\n",
    "\n",
    "\n"
   ]
  },
  {
   "cell_type": "code",
   "execution_count": 12,
   "id": "59d21550-e6a1-4d6c-8758-accc3b86f51b",
   "metadata": {},
   "outputs": [],
   "source": [
    "# Output 1: Condition (Binary Classification)\n",
    "condition_output = Dense(1, activation='sigmoid', name='condition_output')(z)"
   ]
  },
  {
   "cell_type": "code",
   "execution_count": 13,
   "id": "19e5f437-4d2d-429d-bc38-2da646333e68",
   "metadata": {},
   "outputs": [],
   "source": [
    "# Output 2: Amount (Regression)\n",
    "amount_output = Dense(1, activation='linear', name='amount_output')(z)"
   ]
  },
  {
   "cell_type": "code",
   "execution_count": 14,
   "id": "a5bcfcf1-22bc-4109-b38d-e96410d861ba",
   "metadata": {},
   "outputs": [],
   "source": [
    "# Define the Model\n",
    "model = Model(inputs=[image_input, structured_input], outputs=[condition_output, amount_output])"
   ]
  },
  {
   "cell_type": "code",
   "execution_count": 15,
   "id": "ca9b532b-8131-4cf9-b4fc-11d27ecc999b",
   "metadata": {},
   "outputs": [],
   "source": [
    "# Compile the Model\n",
    "model.compile(optimizer=Adam(learning_rate=0.00095),\n",
    "              loss={'condition_output': 'binary_crossentropy', 'amount_output':tf.keras.losses.Huber()},\n",
    "              metrics={'condition_output': 'accuracy', 'amount_output': 'mse'})"
   ]
  },
  {
   "cell_type": "code",
   "execution_count": 16,
   "id": "99582ed9-145d-415a-a758-48d6ff12284c",
   "metadata": {},
   "outputs": [],
   "source": [
    "#callback\n",
    "early_stopping = EarlyStopping(monitor='val_loss', patience=5, restore_best_weights=True)\n",
    "reduce_lr = ReduceLROnPlateau(monitor='val_loss', factor=0.5, patience=3, min_lr=1e-6)\n",
    "checkpoint = ModelCheckpoint('models/best_model.keras', monitor='val_loss', save_best_only=True, mode='min', verbose=1)"
   ]
  },
  {
   "cell_type": "markdown",
   "id": "82412ff1-0914-41b3-b866-e1a7054aabbe",
   "metadata": {},
   "source": [
    "### Train Model"
   ]
  },
  {
   "cell_type": "code",
   "execution_count": 17,
   "id": "a540b812-e4e9-4a06-adfd-699e5b1df439",
   "metadata": {},
   "outputs": [
    {
     "data": {
      "text/html": [
       "<pre style=\"white-space:pre;overflow-x:auto;line-height:normal;font-family:Menlo,'DejaVu Sans Mono',consolas,'Courier New',monospace\"><span style=\"font-weight: bold\">Model: \"functional\"</span>\n",
       "</pre>\n"
      ],
      "text/plain": [
       "\u001b[1mModel: \"functional\"\u001b[0m\n"
      ]
     },
     "metadata": {},
     "output_type": "display_data"
    },
    {
     "data": {
      "text/html": [
       "<pre style=\"white-space:pre;overflow-x:auto;line-height:normal;font-family:Menlo,'DejaVu Sans Mono',consolas,'Courier New',monospace\">┏━━━━━━━━━━━━━━━━━━━━━━━━━━━━━━━┳━━━━━━━━━━━━━━━━━━━━━━━━━━━┳━━━━━━━━━━━━━━━━━┳━━━━━━━━━━━━━━━━━━━━━━━━━━━━┓\n",
       "┃<span style=\"font-weight: bold\"> Layer (type)                  </span>┃<span style=\"font-weight: bold\"> Output Shape              </span>┃<span style=\"font-weight: bold\">         Param # </span>┃<span style=\"font-weight: bold\"> Connected to               </span>┃\n",
       "┡━━━━━━━━━━━━━━━━━━━━━━━━━━━━━━━╇━━━━━━━━━━━━━━━━━━━━━━━━━━━╇━━━━━━━━━━━━━━━━━╇━━━━━━━━━━━━━━━━━━━━━━━━━━━━┩\n",
       "│ image_input (<span style=\"color: #0087ff; text-decoration-color: #0087ff\">InputLayer</span>)      │ (<span style=\"color: #00d7ff; text-decoration-color: #00d7ff\">None</span>, <span style=\"color: #00af00; text-decoration-color: #00af00\">2048</span>)              │               <span style=\"color: #00af00; text-decoration-color: #00af00\">0</span> │ -                          │\n",
       "├───────────────────────────────┼───────────────────────────┼─────────────────┼────────────────────────────┤\n",
       "│ structured_input (<span style=\"color: #0087ff; text-decoration-color: #0087ff\">InputLayer</span>) │ (<span style=\"color: #00d7ff; text-decoration-color: #00d7ff\">None</span>, <span style=\"color: #00af00; text-decoration-color: #00af00\">15</span>)                │               <span style=\"color: #00af00; text-decoration-color: #00af00\">0</span> │ -                          │\n",
       "├───────────────────────────────┼───────────────────────────┼─────────────────┼────────────────────────────┤\n",
       "│ dense (<span style=\"color: #0087ff; text-decoration-color: #0087ff\">Dense</span>)                 │ (<span style=\"color: #00d7ff; text-decoration-color: #00d7ff\">None</span>, <span style=\"color: #00af00; text-decoration-color: #00af00\">512</span>)               │       <span style=\"color: #00af00; text-decoration-color: #00af00\">1,049,088</span> │ image_input[<span style=\"color: #00af00; text-decoration-color: #00af00\">0</span>][<span style=\"color: #00af00; text-decoration-color: #00af00\">0</span>]          │\n",
       "├───────────────────────────────┼───────────────────────────┼─────────────────┼────────────────────────────┤\n",
       "│ dense_2 (<span style=\"color: #0087ff; text-decoration-color: #0087ff\">Dense</span>)               │ (<span style=\"color: #00d7ff; text-decoration-color: #00d7ff\">None</span>, <span style=\"color: #00af00; text-decoration-color: #00af00\">128</span>)               │           <span style=\"color: #00af00; text-decoration-color: #00af00\">2,048</span> │ structured_input[<span style=\"color: #00af00; text-decoration-color: #00af00\">0</span>][<span style=\"color: #00af00; text-decoration-color: #00af00\">0</span>]     │\n",
       "├───────────────────────────────┼───────────────────────────┼─────────────────┼────────────────────────────┤\n",
       "│ batch_normalization           │ (<span style=\"color: #00d7ff; text-decoration-color: #00d7ff\">None</span>, <span style=\"color: #00af00; text-decoration-color: #00af00\">512</span>)               │           <span style=\"color: #00af00; text-decoration-color: #00af00\">2,048</span> │ dense[<span style=\"color: #00af00; text-decoration-color: #00af00\">0</span>][<span style=\"color: #00af00; text-decoration-color: #00af00\">0</span>]                │\n",
       "│ (<span style=\"color: #0087ff; text-decoration-color: #0087ff\">BatchNormalization</span>)          │                           │                 │                            │\n",
       "├───────────────────────────────┼───────────────────────────┼─────────────────┼────────────────────────────┤\n",
       "│ batch_normalization_2         │ (<span style=\"color: #00d7ff; text-decoration-color: #00d7ff\">None</span>, <span style=\"color: #00af00; text-decoration-color: #00af00\">128</span>)               │             <span style=\"color: #00af00; text-decoration-color: #00af00\">512</span> │ dense_2[<span style=\"color: #00af00; text-decoration-color: #00af00\">0</span>][<span style=\"color: #00af00; text-decoration-color: #00af00\">0</span>]              │\n",
       "│ (<span style=\"color: #0087ff; text-decoration-color: #0087ff\">BatchNormalization</span>)          │                           │                 │                            │\n",
       "├───────────────────────────────┼───────────────────────────┼─────────────────┼────────────────────────────┤\n",
       "│ leaky_re_lu (<span style=\"color: #0087ff; text-decoration-color: #0087ff\">LeakyReLU</span>)       │ (<span style=\"color: #00d7ff; text-decoration-color: #00d7ff\">None</span>, <span style=\"color: #00af00; text-decoration-color: #00af00\">512</span>)               │               <span style=\"color: #00af00; text-decoration-color: #00af00\">0</span> │ batch_normalization[<span style=\"color: #00af00; text-decoration-color: #00af00\">0</span>][<span style=\"color: #00af00; text-decoration-color: #00af00\">0</span>]  │\n",
       "├───────────────────────────────┼───────────────────────────┼─────────────────┼────────────────────────────┤\n",
       "│ leaky_re_lu_2 (<span style=\"color: #0087ff; text-decoration-color: #0087ff\">LeakyReLU</span>)     │ (<span style=\"color: #00d7ff; text-decoration-color: #00d7ff\">None</span>, <span style=\"color: #00af00; text-decoration-color: #00af00\">128</span>)               │               <span style=\"color: #00af00; text-decoration-color: #00af00\">0</span> │ batch_normalization_2[<span style=\"color: #00af00; text-decoration-color: #00af00\">0</span>][<span style=\"color: #00af00; text-decoration-color: #00af00\">…</span> │\n",
       "├───────────────────────────────┼───────────────────────────┼─────────────────┼────────────────────────────┤\n",
       "│ dropout (<span style=\"color: #0087ff; text-decoration-color: #0087ff\">Dropout</span>)             │ (<span style=\"color: #00d7ff; text-decoration-color: #00d7ff\">None</span>, <span style=\"color: #00af00; text-decoration-color: #00af00\">512</span>)               │               <span style=\"color: #00af00; text-decoration-color: #00af00\">0</span> │ leaky_re_lu[<span style=\"color: #00af00; text-decoration-color: #00af00\">0</span>][<span style=\"color: #00af00; text-decoration-color: #00af00\">0</span>]          │\n",
       "├───────────────────────────────┼───────────────────────────┼─────────────────┼────────────────────────────┤\n",
       "│ dropout_2 (<span style=\"color: #0087ff; text-decoration-color: #0087ff\">Dropout</span>)           │ (<span style=\"color: #00d7ff; text-decoration-color: #00d7ff\">None</span>, <span style=\"color: #00af00; text-decoration-color: #00af00\">128</span>)               │               <span style=\"color: #00af00; text-decoration-color: #00af00\">0</span> │ leaky_re_lu_2[<span style=\"color: #00af00; text-decoration-color: #00af00\">0</span>][<span style=\"color: #00af00; text-decoration-color: #00af00\">0</span>]        │\n",
       "├───────────────────────────────┼───────────────────────────┼─────────────────┼────────────────────────────┤\n",
       "│ dense_1 (<span style=\"color: #0087ff; text-decoration-color: #0087ff\">Dense</span>)               │ (<span style=\"color: #00d7ff; text-decoration-color: #00d7ff\">None</span>, <span style=\"color: #00af00; text-decoration-color: #00af00\">256</span>)               │         <span style=\"color: #00af00; text-decoration-color: #00af00\">131,328</span> │ dropout[<span style=\"color: #00af00; text-decoration-color: #00af00\">0</span>][<span style=\"color: #00af00; text-decoration-color: #00af00\">0</span>]              │\n",
       "├───────────────────────────────┼───────────────────────────┼─────────────────┼────────────────────────────┤\n",
       "│ dense_3 (<span style=\"color: #0087ff; text-decoration-color: #0087ff\">Dense</span>)               │ (<span style=\"color: #00d7ff; text-decoration-color: #00d7ff\">None</span>, <span style=\"color: #00af00; text-decoration-color: #00af00\">64</span>)                │           <span style=\"color: #00af00; text-decoration-color: #00af00\">8,256</span> │ dropout_2[<span style=\"color: #00af00; text-decoration-color: #00af00\">0</span>][<span style=\"color: #00af00; text-decoration-color: #00af00\">0</span>]            │\n",
       "├───────────────────────────────┼───────────────────────────┼─────────────────┼────────────────────────────┤\n",
       "│ batch_normalization_1         │ (<span style=\"color: #00d7ff; text-decoration-color: #00d7ff\">None</span>, <span style=\"color: #00af00; text-decoration-color: #00af00\">256</span>)               │           <span style=\"color: #00af00; text-decoration-color: #00af00\">1,024</span> │ dense_1[<span style=\"color: #00af00; text-decoration-color: #00af00\">0</span>][<span style=\"color: #00af00; text-decoration-color: #00af00\">0</span>]              │\n",
       "│ (<span style=\"color: #0087ff; text-decoration-color: #0087ff\">BatchNormalization</span>)          │                           │                 │                            │\n",
       "├───────────────────────────────┼───────────────────────────┼─────────────────┼────────────────────────────┤\n",
       "│ batch_normalization_3         │ (<span style=\"color: #00d7ff; text-decoration-color: #00d7ff\">None</span>, <span style=\"color: #00af00; text-decoration-color: #00af00\">64</span>)                │             <span style=\"color: #00af00; text-decoration-color: #00af00\">256</span> │ dense_3[<span style=\"color: #00af00; text-decoration-color: #00af00\">0</span>][<span style=\"color: #00af00; text-decoration-color: #00af00\">0</span>]              │\n",
       "│ (<span style=\"color: #0087ff; text-decoration-color: #0087ff\">BatchNormalization</span>)          │                           │                 │                            │\n",
       "├───────────────────────────────┼───────────────────────────┼─────────────────┼────────────────────────────┤\n",
       "│ leaky_re_lu_1 (<span style=\"color: #0087ff; text-decoration-color: #0087ff\">LeakyReLU</span>)     │ (<span style=\"color: #00d7ff; text-decoration-color: #00d7ff\">None</span>, <span style=\"color: #00af00; text-decoration-color: #00af00\">256</span>)               │               <span style=\"color: #00af00; text-decoration-color: #00af00\">0</span> │ batch_normalization_1[<span style=\"color: #00af00; text-decoration-color: #00af00\">0</span>][<span style=\"color: #00af00; text-decoration-color: #00af00\">…</span> │\n",
       "├───────────────────────────────┼───────────────────────────┼─────────────────┼────────────────────────────┤\n",
       "│ leaky_re_lu_3 (<span style=\"color: #0087ff; text-decoration-color: #0087ff\">LeakyReLU</span>)     │ (<span style=\"color: #00d7ff; text-decoration-color: #00d7ff\">None</span>, <span style=\"color: #00af00; text-decoration-color: #00af00\">64</span>)                │               <span style=\"color: #00af00; text-decoration-color: #00af00\">0</span> │ batch_normalization_3[<span style=\"color: #00af00; text-decoration-color: #00af00\">0</span>][<span style=\"color: #00af00; text-decoration-color: #00af00\">…</span> │\n",
       "├───────────────────────────────┼───────────────────────────┼─────────────────┼────────────────────────────┤\n",
       "│ dropout_1 (<span style=\"color: #0087ff; text-decoration-color: #0087ff\">Dropout</span>)           │ (<span style=\"color: #00d7ff; text-decoration-color: #00d7ff\">None</span>, <span style=\"color: #00af00; text-decoration-color: #00af00\">256</span>)               │               <span style=\"color: #00af00; text-decoration-color: #00af00\">0</span> │ leaky_re_lu_1[<span style=\"color: #00af00; text-decoration-color: #00af00\">0</span>][<span style=\"color: #00af00; text-decoration-color: #00af00\">0</span>]        │\n",
       "├───────────────────────────────┼───────────────────────────┼─────────────────┼────────────────────────────┤\n",
       "│ dropout_3 (<span style=\"color: #0087ff; text-decoration-color: #0087ff\">Dropout</span>)           │ (<span style=\"color: #00d7ff; text-decoration-color: #00d7ff\">None</span>, <span style=\"color: #00af00; text-decoration-color: #00af00\">64</span>)                │               <span style=\"color: #00af00; text-decoration-color: #00af00\">0</span> │ leaky_re_lu_3[<span style=\"color: #00af00; text-decoration-color: #00af00\">0</span>][<span style=\"color: #00af00; text-decoration-color: #00af00\">0</span>]        │\n",
       "├───────────────────────────────┼───────────────────────────┼─────────────────┼────────────────────────────┤\n",
       "│ concatenate (<span style=\"color: #0087ff; text-decoration-color: #0087ff\">Concatenate</span>)     │ (<span style=\"color: #00d7ff; text-decoration-color: #00d7ff\">None</span>, <span style=\"color: #00af00; text-decoration-color: #00af00\">320</span>)               │               <span style=\"color: #00af00; text-decoration-color: #00af00\">0</span> │ dropout_1[<span style=\"color: #00af00; text-decoration-color: #00af00\">0</span>][<span style=\"color: #00af00; text-decoration-color: #00af00\">0</span>],           │\n",
       "│                               │                           │                 │ dropout_3[<span style=\"color: #00af00; text-decoration-color: #00af00\">0</span>][<span style=\"color: #00af00; text-decoration-color: #00af00\">0</span>]            │\n",
       "├───────────────────────────────┼───────────────────────────┼─────────────────┼────────────────────────────┤\n",
       "│ dense_4 (<span style=\"color: #0087ff; text-decoration-color: #0087ff\">Dense</span>)               │ (<span style=\"color: #00d7ff; text-decoration-color: #00d7ff\">None</span>, <span style=\"color: #00af00; text-decoration-color: #00af00\">128</span>)               │          <span style=\"color: #00af00; text-decoration-color: #00af00\">41,088</span> │ concatenate[<span style=\"color: #00af00; text-decoration-color: #00af00\">0</span>][<span style=\"color: #00af00; text-decoration-color: #00af00\">0</span>]          │\n",
       "├───────────────────────────────┼───────────────────────────┼─────────────────┼────────────────────────────┤\n",
       "│ batch_normalization_4         │ (<span style=\"color: #00d7ff; text-decoration-color: #00d7ff\">None</span>, <span style=\"color: #00af00; text-decoration-color: #00af00\">128</span>)               │             <span style=\"color: #00af00; text-decoration-color: #00af00\">512</span> │ dense_4[<span style=\"color: #00af00; text-decoration-color: #00af00\">0</span>][<span style=\"color: #00af00; text-decoration-color: #00af00\">0</span>]              │\n",
       "│ (<span style=\"color: #0087ff; text-decoration-color: #0087ff\">BatchNormalization</span>)          │                           │                 │                            │\n",
       "├───────────────────────────────┼───────────────────────────┼─────────────────┼────────────────────────────┤\n",
       "│ leaky_re_lu_4 (<span style=\"color: #0087ff; text-decoration-color: #0087ff\">LeakyReLU</span>)     │ (<span style=\"color: #00d7ff; text-decoration-color: #00d7ff\">None</span>, <span style=\"color: #00af00; text-decoration-color: #00af00\">128</span>)               │               <span style=\"color: #00af00; text-decoration-color: #00af00\">0</span> │ batch_normalization_4[<span style=\"color: #00af00; text-decoration-color: #00af00\">0</span>][<span style=\"color: #00af00; text-decoration-color: #00af00\">…</span> │\n",
       "├───────────────────────────────┼───────────────────────────┼─────────────────┼────────────────────────────┤\n",
       "│ dropout_4 (<span style=\"color: #0087ff; text-decoration-color: #0087ff\">Dropout</span>)           │ (<span style=\"color: #00d7ff; text-decoration-color: #00d7ff\">None</span>, <span style=\"color: #00af00; text-decoration-color: #00af00\">128</span>)               │               <span style=\"color: #00af00; text-decoration-color: #00af00\">0</span> │ leaky_re_lu_4[<span style=\"color: #00af00; text-decoration-color: #00af00\">0</span>][<span style=\"color: #00af00; text-decoration-color: #00af00\">0</span>]        │\n",
       "├───────────────────────────────┼───────────────────────────┼─────────────────┼────────────────────────────┤\n",
       "│ dense_5 (<span style=\"color: #0087ff; text-decoration-color: #0087ff\">Dense</span>)               │ (<span style=\"color: #00d7ff; text-decoration-color: #00d7ff\">None</span>, <span style=\"color: #00af00; text-decoration-color: #00af00\">64</span>)                │           <span style=\"color: #00af00; text-decoration-color: #00af00\">8,256</span> │ dropout_4[<span style=\"color: #00af00; text-decoration-color: #00af00\">0</span>][<span style=\"color: #00af00; text-decoration-color: #00af00\">0</span>]            │\n",
       "├───────────────────────────────┼───────────────────────────┼─────────────────┼────────────────────────────┤\n",
       "│ batch_normalization_5         │ (<span style=\"color: #00d7ff; text-decoration-color: #00d7ff\">None</span>, <span style=\"color: #00af00; text-decoration-color: #00af00\">64</span>)                │             <span style=\"color: #00af00; text-decoration-color: #00af00\">256</span> │ dense_5[<span style=\"color: #00af00; text-decoration-color: #00af00\">0</span>][<span style=\"color: #00af00; text-decoration-color: #00af00\">0</span>]              │\n",
       "│ (<span style=\"color: #0087ff; text-decoration-color: #0087ff\">BatchNormalization</span>)          │                           │                 │                            │\n",
       "├───────────────────────────────┼───────────────────────────┼─────────────────┼────────────────────────────┤\n",
       "│ leaky_re_lu_5 (<span style=\"color: #0087ff; text-decoration-color: #0087ff\">LeakyReLU</span>)     │ (<span style=\"color: #00d7ff; text-decoration-color: #00d7ff\">None</span>, <span style=\"color: #00af00; text-decoration-color: #00af00\">64</span>)                │               <span style=\"color: #00af00; text-decoration-color: #00af00\">0</span> │ batch_normalization_5[<span style=\"color: #00af00; text-decoration-color: #00af00\">0</span>][<span style=\"color: #00af00; text-decoration-color: #00af00\">…</span> │\n",
       "├───────────────────────────────┼───────────────────────────┼─────────────────┼────────────────────────────┤\n",
       "│ dropout_5 (<span style=\"color: #0087ff; text-decoration-color: #0087ff\">Dropout</span>)           │ (<span style=\"color: #00d7ff; text-decoration-color: #00d7ff\">None</span>, <span style=\"color: #00af00; text-decoration-color: #00af00\">64</span>)                │               <span style=\"color: #00af00; text-decoration-color: #00af00\">0</span> │ leaky_re_lu_5[<span style=\"color: #00af00; text-decoration-color: #00af00\">0</span>][<span style=\"color: #00af00; text-decoration-color: #00af00\">0</span>]        │\n",
       "├───────────────────────────────┼───────────────────────────┼─────────────────┼────────────────────────────┤\n",
       "│ condition_output (<span style=\"color: #0087ff; text-decoration-color: #0087ff\">Dense</span>)      │ (<span style=\"color: #00d7ff; text-decoration-color: #00d7ff\">None</span>, <span style=\"color: #00af00; text-decoration-color: #00af00\">1</span>)                 │              <span style=\"color: #00af00; text-decoration-color: #00af00\">65</span> │ dropout_5[<span style=\"color: #00af00; text-decoration-color: #00af00\">0</span>][<span style=\"color: #00af00; text-decoration-color: #00af00\">0</span>]            │\n",
       "├───────────────────────────────┼───────────────────────────┼─────────────────┼────────────────────────────┤\n",
       "│ amount_output (<span style=\"color: #0087ff; text-decoration-color: #0087ff\">Dense</span>)         │ (<span style=\"color: #00d7ff; text-decoration-color: #00d7ff\">None</span>, <span style=\"color: #00af00; text-decoration-color: #00af00\">1</span>)                 │              <span style=\"color: #00af00; text-decoration-color: #00af00\">65</span> │ dropout_5[<span style=\"color: #00af00; text-decoration-color: #00af00\">0</span>][<span style=\"color: #00af00; text-decoration-color: #00af00\">0</span>]            │\n",
       "└───────────────────────────────┴───────────────────────────┴─────────────────┴────────────────────────────┘\n",
       "</pre>\n"
      ],
      "text/plain": [
       "┏━━━━━━━━━━━━━━━━━━━━━━━━━━━━━━━┳━━━━━━━━━━━━━━━━━━━━━━━━━━━┳━━━━━━━━━━━━━━━━━┳━━━━━━━━━━━━━━━━━━━━━━━━━━━━┓\n",
       "┃\u001b[1m \u001b[0m\u001b[1mLayer (type)                 \u001b[0m\u001b[1m \u001b[0m┃\u001b[1m \u001b[0m\u001b[1mOutput Shape             \u001b[0m\u001b[1m \u001b[0m┃\u001b[1m \u001b[0m\u001b[1m        Param #\u001b[0m\u001b[1m \u001b[0m┃\u001b[1m \u001b[0m\u001b[1mConnected to              \u001b[0m\u001b[1m \u001b[0m┃\n",
       "┡━━━━━━━━━━━━━━━━━━━━━━━━━━━━━━━╇━━━━━━━━━━━━━━━━━━━━━━━━━━━╇━━━━━━━━━━━━━━━━━╇━━━━━━━━━━━━━━━━━━━━━━━━━━━━┩\n",
       "│ image_input (\u001b[38;5;33mInputLayer\u001b[0m)      │ (\u001b[38;5;45mNone\u001b[0m, \u001b[38;5;34m2048\u001b[0m)              │               \u001b[38;5;34m0\u001b[0m │ -                          │\n",
       "├───────────────────────────────┼───────────────────────────┼─────────────────┼────────────────────────────┤\n",
       "│ structured_input (\u001b[38;5;33mInputLayer\u001b[0m) │ (\u001b[38;5;45mNone\u001b[0m, \u001b[38;5;34m15\u001b[0m)                │               \u001b[38;5;34m0\u001b[0m │ -                          │\n",
       "├───────────────────────────────┼───────────────────────────┼─────────────────┼────────────────────────────┤\n",
       "│ dense (\u001b[38;5;33mDense\u001b[0m)                 │ (\u001b[38;5;45mNone\u001b[0m, \u001b[38;5;34m512\u001b[0m)               │       \u001b[38;5;34m1,049,088\u001b[0m │ image_input[\u001b[38;5;34m0\u001b[0m][\u001b[38;5;34m0\u001b[0m]          │\n",
       "├───────────────────────────────┼───────────────────────────┼─────────────────┼────────────────────────────┤\n",
       "│ dense_2 (\u001b[38;5;33mDense\u001b[0m)               │ (\u001b[38;5;45mNone\u001b[0m, \u001b[38;5;34m128\u001b[0m)               │           \u001b[38;5;34m2,048\u001b[0m │ structured_input[\u001b[38;5;34m0\u001b[0m][\u001b[38;5;34m0\u001b[0m]     │\n",
       "├───────────────────────────────┼───────────────────────────┼─────────────────┼────────────────────────────┤\n",
       "│ batch_normalization           │ (\u001b[38;5;45mNone\u001b[0m, \u001b[38;5;34m512\u001b[0m)               │           \u001b[38;5;34m2,048\u001b[0m │ dense[\u001b[38;5;34m0\u001b[0m][\u001b[38;5;34m0\u001b[0m]                │\n",
       "│ (\u001b[38;5;33mBatchNormalization\u001b[0m)          │                           │                 │                            │\n",
       "├───────────────────────────────┼───────────────────────────┼─────────────────┼────────────────────────────┤\n",
       "│ batch_normalization_2         │ (\u001b[38;5;45mNone\u001b[0m, \u001b[38;5;34m128\u001b[0m)               │             \u001b[38;5;34m512\u001b[0m │ dense_2[\u001b[38;5;34m0\u001b[0m][\u001b[38;5;34m0\u001b[0m]              │\n",
       "│ (\u001b[38;5;33mBatchNormalization\u001b[0m)          │                           │                 │                            │\n",
       "├───────────────────────────────┼───────────────────────────┼─────────────────┼────────────────────────────┤\n",
       "│ leaky_re_lu (\u001b[38;5;33mLeakyReLU\u001b[0m)       │ (\u001b[38;5;45mNone\u001b[0m, \u001b[38;5;34m512\u001b[0m)               │               \u001b[38;5;34m0\u001b[0m │ batch_normalization[\u001b[38;5;34m0\u001b[0m][\u001b[38;5;34m0\u001b[0m]  │\n",
       "├───────────────────────────────┼───────────────────────────┼─────────────────┼────────────────────────────┤\n",
       "│ leaky_re_lu_2 (\u001b[38;5;33mLeakyReLU\u001b[0m)     │ (\u001b[38;5;45mNone\u001b[0m, \u001b[38;5;34m128\u001b[0m)               │               \u001b[38;5;34m0\u001b[0m │ batch_normalization_2[\u001b[38;5;34m0\u001b[0m][\u001b[38;5;34m…\u001b[0m │\n",
       "├───────────────────────────────┼───────────────────────────┼─────────────────┼────────────────────────────┤\n",
       "│ dropout (\u001b[38;5;33mDropout\u001b[0m)             │ (\u001b[38;5;45mNone\u001b[0m, \u001b[38;5;34m512\u001b[0m)               │               \u001b[38;5;34m0\u001b[0m │ leaky_re_lu[\u001b[38;5;34m0\u001b[0m][\u001b[38;5;34m0\u001b[0m]          │\n",
       "├───────────────────────────────┼───────────────────────────┼─────────────────┼────────────────────────────┤\n",
       "│ dropout_2 (\u001b[38;5;33mDropout\u001b[0m)           │ (\u001b[38;5;45mNone\u001b[0m, \u001b[38;5;34m128\u001b[0m)               │               \u001b[38;5;34m0\u001b[0m │ leaky_re_lu_2[\u001b[38;5;34m0\u001b[0m][\u001b[38;5;34m0\u001b[0m]        │\n",
       "├───────────────────────────────┼───────────────────────────┼─────────────────┼────────────────────────────┤\n",
       "│ dense_1 (\u001b[38;5;33mDense\u001b[0m)               │ (\u001b[38;5;45mNone\u001b[0m, \u001b[38;5;34m256\u001b[0m)               │         \u001b[38;5;34m131,328\u001b[0m │ dropout[\u001b[38;5;34m0\u001b[0m][\u001b[38;5;34m0\u001b[0m]              │\n",
       "├───────────────────────────────┼───────────────────────────┼─────────────────┼────────────────────────────┤\n",
       "│ dense_3 (\u001b[38;5;33mDense\u001b[0m)               │ (\u001b[38;5;45mNone\u001b[0m, \u001b[38;5;34m64\u001b[0m)                │           \u001b[38;5;34m8,256\u001b[0m │ dropout_2[\u001b[38;5;34m0\u001b[0m][\u001b[38;5;34m0\u001b[0m]            │\n",
       "├───────────────────────────────┼───────────────────────────┼─────────────────┼────────────────────────────┤\n",
       "│ batch_normalization_1         │ (\u001b[38;5;45mNone\u001b[0m, \u001b[38;5;34m256\u001b[0m)               │           \u001b[38;5;34m1,024\u001b[0m │ dense_1[\u001b[38;5;34m0\u001b[0m][\u001b[38;5;34m0\u001b[0m]              │\n",
       "│ (\u001b[38;5;33mBatchNormalization\u001b[0m)          │                           │                 │                            │\n",
       "├───────────────────────────────┼───────────────────────────┼─────────────────┼────────────────────────────┤\n",
       "│ batch_normalization_3         │ (\u001b[38;5;45mNone\u001b[0m, \u001b[38;5;34m64\u001b[0m)                │             \u001b[38;5;34m256\u001b[0m │ dense_3[\u001b[38;5;34m0\u001b[0m][\u001b[38;5;34m0\u001b[0m]              │\n",
       "│ (\u001b[38;5;33mBatchNormalization\u001b[0m)          │                           │                 │                            │\n",
       "├───────────────────────────────┼───────────────────────────┼─────────────────┼────────────────────────────┤\n",
       "│ leaky_re_lu_1 (\u001b[38;5;33mLeakyReLU\u001b[0m)     │ (\u001b[38;5;45mNone\u001b[0m, \u001b[38;5;34m256\u001b[0m)               │               \u001b[38;5;34m0\u001b[0m │ batch_normalization_1[\u001b[38;5;34m0\u001b[0m][\u001b[38;5;34m…\u001b[0m │\n",
       "├───────────────────────────────┼───────────────────────────┼─────────────────┼────────────────────────────┤\n",
       "│ leaky_re_lu_3 (\u001b[38;5;33mLeakyReLU\u001b[0m)     │ (\u001b[38;5;45mNone\u001b[0m, \u001b[38;5;34m64\u001b[0m)                │               \u001b[38;5;34m0\u001b[0m │ batch_normalization_3[\u001b[38;5;34m0\u001b[0m][\u001b[38;5;34m…\u001b[0m │\n",
       "├───────────────────────────────┼───────────────────────────┼─────────────────┼────────────────────────────┤\n",
       "│ dropout_1 (\u001b[38;5;33mDropout\u001b[0m)           │ (\u001b[38;5;45mNone\u001b[0m, \u001b[38;5;34m256\u001b[0m)               │               \u001b[38;5;34m0\u001b[0m │ leaky_re_lu_1[\u001b[38;5;34m0\u001b[0m][\u001b[38;5;34m0\u001b[0m]        │\n",
       "├───────────────────────────────┼───────────────────────────┼─────────────────┼────────────────────────────┤\n",
       "│ dropout_3 (\u001b[38;5;33mDropout\u001b[0m)           │ (\u001b[38;5;45mNone\u001b[0m, \u001b[38;5;34m64\u001b[0m)                │               \u001b[38;5;34m0\u001b[0m │ leaky_re_lu_3[\u001b[38;5;34m0\u001b[0m][\u001b[38;5;34m0\u001b[0m]        │\n",
       "├───────────────────────────────┼───────────────────────────┼─────────────────┼────────────────────────────┤\n",
       "│ concatenate (\u001b[38;5;33mConcatenate\u001b[0m)     │ (\u001b[38;5;45mNone\u001b[0m, \u001b[38;5;34m320\u001b[0m)               │               \u001b[38;5;34m0\u001b[0m │ dropout_1[\u001b[38;5;34m0\u001b[0m][\u001b[38;5;34m0\u001b[0m],           │\n",
       "│                               │                           │                 │ dropout_3[\u001b[38;5;34m0\u001b[0m][\u001b[38;5;34m0\u001b[0m]            │\n",
       "├───────────────────────────────┼───────────────────────────┼─────────────────┼────────────────────────────┤\n",
       "│ dense_4 (\u001b[38;5;33mDense\u001b[0m)               │ (\u001b[38;5;45mNone\u001b[0m, \u001b[38;5;34m128\u001b[0m)               │          \u001b[38;5;34m41,088\u001b[0m │ concatenate[\u001b[38;5;34m0\u001b[0m][\u001b[38;5;34m0\u001b[0m]          │\n",
       "├───────────────────────────────┼───────────────────────────┼─────────────────┼────────────────────────────┤\n",
       "│ batch_normalization_4         │ (\u001b[38;5;45mNone\u001b[0m, \u001b[38;5;34m128\u001b[0m)               │             \u001b[38;5;34m512\u001b[0m │ dense_4[\u001b[38;5;34m0\u001b[0m][\u001b[38;5;34m0\u001b[0m]              │\n",
       "│ (\u001b[38;5;33mBatchNormalization\u001b[0m)          │                           │                 │                            │\n",
       "├───────────────────────────────┼───────────────────────────┼─────────────────┼────────────────────────────┤\n",
       "│ leaky_re_lu_4 (\u001b[38;5;33mLeakyReLU\u001b[0m)     │ (\u001b[38;5;45mNone\u001b[0m, \u001b[38;5;34m128\u001b[0m)               │               \u001b[38;5;34m0\u001b[0m │ batch_normalization_4[\u001b[38;5;34m0\u001b[0m][\u001b[38;5;34m…\u001b[0m │\n",
       "├───────────────────────────────┼───────────────────────────┼─────────────────┼────────────────────────────┤\n",
       "│ dropout_4 (\u001b[38;5;33mDropout\u001b[0m)           │ (\u001b[38;5;45mNone\u001b[0m, \u001b[38;5;34m128\u001b[0m)               │               \u001b[38;5;34m0\u001b[0m │ leaky_re_lu_4[\u001b[38;5;34m0\u001b[0m][\u001b[38;5;34m0\u001b[0m]        │\n",
       "├───────────────────────────────┼───────────────────────────┼─────────────────┼────────────────────────────┤\n",
       "│ dense_5 (\u001b[38;5;33mDense\u001b[0m)               │ (\u001b[38;5;45mNone\u001b[0m, \u001b[38;5;34m64\u001b[0m)                │           \u001b[38;5;34m8,256\u001b[0m │ dropout_4[\u001b[38;5;34m0\u001b[0m][\u001b[38;5;34m0\u001b[0m]            │\n",
       "├───────────────────────────────┼───────────────────────────┼─────────────────┼────────────────────────────┤\n",
       "│ batch_normalization_5         │ (\u001b[38;5;45mNone\u001b[0m, \u001b[38;5;34m64\u001b[0m)                │             \u001b[38;5;34m256\u001b[0m │ dense_5[\u001b[38;5;34m0\u001b[0m][\u001b[38;5;34m0\u001b[0m]              │\n",
       "│ (\u001b[38;5;33mBatchNormalization\u001b[0m)          │                           │                 │                            │\n",
       "├───────────────────────────────┼───────────────────────────┼─────────────────┼────────────────────────────┤\n",
       "│ leaky_re_lu_5 (\u001b[38;5;33mLeakyReLU\u001b[0m)     │ (\u001b[38;5;45mNone\u001b[0m, \u001b[38;5;34m64\u001b[0m)                │               \u001b[38;5;34m0\u001b[0m │ batch_normalization_5[\u001b[38;5;34m0\u001b[0m][\u001b[38;5;34m…\u001b[0m │\n",
       "├───────────────────────────────┼───────────────────────────┼─────────────────┼────────────────────────────┤\n",
       "│ dropout_5 (\u001b[38;5;33mDropout\u001b[0m)           │ (\u001b[38;5;45mNone\u001b[0m, \u001b[38;5;34m64\u001b[0m)                │               \u001b[38;5;34m0\u001b[0m │ leaky_re_lu_5[\u001b[38;5;34m0\u001b[0m][\u001b[38;5;34m0\u001b[0m]        │\n",
       "├───────────────────────────────┼───────────────────────────┼─────────────────┼────────────────────────────┤\n",
       "│ condition_output (\u001b[38;5;33mDense\u001b[0m)      │ (\u001b[38;5;45mNone\u001b[0m, \u001b[38;5;34m1\u001b[0m)                 │              \u001b[38;5;34m65\u001b[0m │ dropout_5[\u001b[38;5;34m0\u001b[0m][\u001b[38;5;34m0\u001b[0m]            │\n",
       "├───────────────────────────────┼───────────────────────────┼─────────────────┼────────────────────────────┤\n",
       "│ amount_output (\u001b[38;5;33mDense\u001b[0m)         │ (\u001b[38;5;45mNone\u001b[0m, \u001b[38;5;34m1\u001b[0m)                 │              \u001b[38;5;34m65\u001b[0m │ dropout_5[\u001b[38;5;34m0\u001b[0m][\u001b[38;5;34m0\u001b[0m]            │\n",
       "└───────────────────────────────┴───────────────────────────┴─────────────────┴────────────────────────────┘\n"
      ]
     },
     "metadata": {},
     "output_type": "display_data"
    },
    {
     "data": {
      "text/html": [
       "<pre style=\"white-space:pre;overflow-x:auto;line-height:normal;font-family:Menlo,'DejaVu Sans Mono',consolas,'Courier New',monospace\"><span style=\"font-weight: bold\"> Total params: </span><span style=\"color: #00af00; text-decoration-color: #00af00\">1,244,802</span> (4.75 MB)\n",
       "</pre>\n"
      ],
      "text/plain": [
       "\u001b[1m Total params: \u001b[0m\u001b[38;5;34m1,244,802\u001b[0m (4.75 MB)\n"
      ]
     },
     "metadata": {},
     "output_type": "display_data"
    },
    {
     "data": {
      "text/html": [
       "<pre style=\"white-space:pre;overflow-x:auto;line-height:normal;font-family:Menlo,'DejaVu Sans Mono',consolas,'Courier New',monospace\"><span style=\"font-weight: bold\"> Trainable params: </span><span style=\"color: #00af00; text-decoration-color: #00af00\">1,242,498</span> (4.74 MB)\n",
       "</pre>\n"
      ],
      "text/plain": [
       "\u001b[1m Trainable params: \u001b[0m\u001b[38;5;34m1,242,498\u001b[0m (4.74 MB)\n"
      ]
     },
     "metadata": {},
     "output_type": "display_data"
    },
    {
     "data": {
      "text/html": [
       "<pre style=\"white-space:pre;overflow-x:auto;line-height:normal;font-family:Menlo,'DejaVu Sans Mono',consolas,'Courier New',monospace\"><span style=\"font-weight: bold\"> Non-trainable params: </span><span style=\"color: #00af00; text-decoration-color: #00af00\">2,304</span> (9.00 KB)\n",
       "</pre>\n"
      ],
      "text/plain": [
       "\u001b[1m Non-trainable params: \u001b[0m\u001b[38;5;34m2,304\u001b[0m (9.00 KB)\n"
      ]
     },
     "metadata": {},
     "output_type": "display_data"
    }
   ],
   "source": [
    "# Print the model summary\n",
    "model.summary()"
   ]
  },
  {
   "cell_type": "code",
   "execution_count": 18,
   "id": "2d276e33-0d18-4398-9fef-4a2b714d8234",
   "metadata": {},
   "outputs": [],
   "source": [
    "import time\n",
    "import mlflow\n",
    "import mlflow.tensorflow\n",
    "\n"
   ]
  },
  {
   "cell_type": "code",
   "execution_count": 19,
   "id": "00d8876f-73d3-416d-a16a-338184012a8c",
   "metadata": {},
   "outputs": [],
   "source": [
    "# from mlflow.models.signature import ModelSignature\n",
    "# from mlflow.types import Schema, ColSpec\n",
    "\n",
    "# # Define the input and output schema explicitly\n",
    "# input_schema = Schema([\n",
    "#     ColSpec(type=\"array\", type=\"float32\", shape=(None, image_features.shape[1])),\n",
    "#     ColSpec(type=\"array\", type=\"float32\", shape=(None, structured_data_scaled.shape[1]))\n",
    "# ])\n",
    "\n",
    "# output_schema = Schema([\n",
    "#     ColSpec(type=\"array\", dtype=\"float32\", shape=(None, 1)),  # For condition_output\n",
    "#     ColSpec(type=\"array\", dtype=\"float32\", shape=(None, 1))   # For amount_output\n",
    "# ])\n",
    "\n",
    "# # Create ModelSignature object\n",
    "# signature = ModelSignature(inputs=input_schema, outputs=output_schema)\n"
   ]
  },
  {
   "cell_type": "code",
   "execution_count": 20,
   "id": "9bfc4247-b21f-4a97-9b94-cf5724d09378",
   "metadata": {},
   "outputs": [],
   "source": [
    "# Generate a unique model filename using the current timestamp\n",
    "timestamp = int(time.time())\n",
    "model_path = f'models/model_{timestamp}.keras'  # Unique filename using timestamp\n",
    "\n",
    "# Start a new MLflow run to track the model and metrics\n"
   ]
  },
  {
   "cell_type": "code",
   "execution_count": 21,
   "id": "d7ff2ea8-da71-465d-834c-005c673a2ddc",
   "metadata": {},
   "outputs": [
    {
     "name": "stdout",
     "output_type": "stream",
     "text": [
      "Epoch 1/200\n",
      "\u001b[1m65/66\u001b[0m \u001b[32m━━━━━━━━━━━━━━━━━━━\u001b[0m\u001b[37m━\u001b[0m \u001b[1m0s\u001b[0m 28ms/step - amount_output_loss: 0.5037 - amount_output_mse: 1.4963 - condition_output_accuracy: 0.7069 - condition_output_loss: 0.5725 - loss: 2.9801\n",
      "Epoch 1: val_loss improved from inf to 2.10779, saving model to models/best_model.keras\n",
      "\u001b[1m66/66\u001b[0m \u001b[32m━━━━━━━━━━━━━━━━━━━━\u001b[0m\u001b[37m\u001b[0m \u001b[1m20s\u001b[0m 63ms/step - amount_output_loss: 0.5020 - amount_output_mse: 1.4898 - condition_output_accuracy: 0.7100 - condition_output_loss: 0.5689 - loss: 2.9696 - val_amount_output_loss: 0.2647 - val_amount_output_mse: 0.5795 - val_condition_output_accuracy: 1.0000 - val_condition_output_loss: 0.3248 - val_loss: 2.1078 - learning_rate: 9.5000e-04\n",
      "Epoch 2/200\n",
      "\u001b[1m66/66\u001b[0m \u001b[32m━━━━━━━━━━━━━━━━━━━━\u001b[0m\u001b[37m\u001b[0m \u001b[1m0s\u001b[0m 28ms/step - amount_output_loss: 0.3243 - amount_output_mse: 0.7673 - condition_output_accuracy: 0.9718 - condition_output_loss: 0.2038 - loss: 2.0126\n",
      "Epoch 2: val_loss improved from 2.10779 to 1.83111, saving model to models/best_model.keras\n",
      "\u001b[1m66/66\u001b[0m \u001b[32m━━━━━━━━━━━━━━━━━━━━\u001b[0m\u001b[37m\u001b[0m \u001b[1m3s\u001b[0m 39ms/step - amount_output_loss: 0.3241 - amount_output_mse: 0.7669 - condition_output_accuracy: 0.9718 - condition_output_loss: 0.2034 - loss: 2.0116 - val_amount_output_loss: 0.2398 - val_amount_output_mse: 0.6090 - val_condition_output_accuracy: 1.0000 - val_condition_output_loss: 0.1848 - val_loss: 1.8311 - learning_rate: 9.5000e-04\n",
      "Epoch 3/200\n",
      "\u001b[1m66/66\u001b[0m \u001b[32m━━━━━━━━━━━━━━━━━━━━\u001b[0m\u001b[37m\u001b[0m \u001b[1m0s\u001b[0m 30ms/step - amount_output_loss: 0.2430 - amount_output_mse: 0.5270 - condition_output_accuracy: 0.9852 - condition_output_loss: 0.1172 - loss: 1.7439\n",
      "Epoch 3: val_loss improved from 1.83111 to 1.58100, saving model to models/best_model.keras\n",
      "\u001b[1m66/66\u001b[0m \u001b[32m━━━━━━━━━━━━━━━━━━━━\u001b[0m\u001b[37m\u001b[0m \u001b[1m3s\u001b[0m 40ms/step - amount_output_loss: 0.2429 - amount_output_mse: 0.5271 - condition_output_accuracy: 0.9852 - condition_output_loss: 0.1169 - loss: 1.7433 - val_amount_output_loss: 0.1767 - val_amount_output_mse: 0.4588 - val_condition_output_accuracy: 1.0000 - val_condition_output_loss: 0.0819 - val_loss: 1.5810 - learning_rate: 9.5000e-04\n",
      "Epoch 4/200\n",
      "\u001b[1m66/66\u001b[0m \u001b[32m━━━━━━━━━━━━━━━━━━━━\u001b[0m\u001b[37m\u001b[0m \u001b[1m0s\u001b[0m 29ms/step - amount_output_loss: 0.2244 - amount_output_mse: 0.5042 - condition_output_accuracy: 0.9909 - condition_output_loss: 0.0805 - loss: 1.6044\n",
      "Epoch 4: val_loss improved from 1.58100 to 1.41707, saving model to models/best_model.keras\n",
      "\u001b[1m66/66\u001b[0m \u001b[32m━━━━━━━━━━━━━━━━━━━━\u001b[0m\u001b[37m\u001b[0m \u001b[1m3s\u001b[0m 41ms/step - amount_output_loss: 0.2243 - amount_output_mse: 0.5038 - condition_output_accuracy: 0.9910 - condition_output_loss: 0.0803 - loss: 1.6037 - val_amount_output_loss: 0.1434 - val_amount_output_mse: 0.3269 - val_condition_output_accuracy: 1.0000 - val_condition_output_loss: 0.0322 - val_loss: 1.4171 - learning_rate: 9.5000e-04\n",
      "Epoch 5/200\n",
      "\u001b[1m66/66\u001b[0m \u001b[32m━━━━━━━━━━━━━━━━━━━━\u001b[0m\u001b[37m\u001b[0m \u001b[1m0s\u001b[0m 32ms/step - amount_output_loss: 0.2096 - amount_output_mse: 0.4764 - condition_output_accuracy: 0.9897 - condition_output_loss: 0.0535 - loss: 1.4843\n",
      "Epoch 5: val_loss improved from 1.41707 to 1.31465, saving model to models/best_model.keras\n",
      "\u001b[1m66/66\u001b[0m \u001b[32m━━━━━━━━━━━━━━━━━━━━\u001b[0m\u001b[37m\u001b[0m \u001b[1m3s\u001b[0m 46ms/step - amount_output_loss: 0.2094 - amount_output_mse: 0.4759 - condition_output_accuracy: 0.9896 - condition_output_loss: 0.0535 - loss: 1.4838 - val_amount_output_loss: 0.1295 - val_amount_output_mse: 0.2811 - val_condition_output_accuracy: 1.0000 - val_condition_output_loss: 0.0196 - val_loss: 1.3147 - learning_rate: 9.5000e-04\n",
      "Epoch 6/200\n",
      "\u001b[1m66/66\u001b[0m \u001b[32m━━━━━━━━━━━━━━━━━━━━\u001b[0m\u001b[37m\u001b[0m \u001b[1m0s\u001b[0m 38ms/step - amount_output_loss: 0.1869 - amount_output_mse: 0.4171 - condition_output_accuracy: 0.9906 - condition_output_loss: 0.0450 - loss: 1.3787\n",
      "Epoch 6: val_loss improved from 1.31465 to 1.24415, saving model to models/best_model.keras\n",
      "\u001b[1m66/66\u001b[0m \u001b[32m━━━━━━━━━━━━━━━━━━━━\u001b[0m\u001b[37m\u001b[0m \u001b[1m3s\u001b[0m 49ms/step - amount_output_loss: 0.1870 - amount_output_mse: 0.4172 - condition_output_accuracy: 0.9906 - condition_output_loss: 0.0449 - loss: 1.3785 - val_amount_output_loss: 0.1385 - val_amount_output_mse: 0.3035 - val_condition_output_accuracy: 1.0000 - val_condition_output_loss: 0.0116 - val_loss: 1.2442 - learning_rate: 9.5000e-04\n",
      "Epoch 7/200\n",
      "\u001b[1m65/66\u001b[0m \u001b[32m━━━━━━━━━━━━━━━━━━━\u001b[0m\u001b[37m━\u001b[0m \u001b[1m0s\u001b[0m 35ms/step - amount_output_loss: 0.1791 - amount_output_mse: 0.3923 - condition_output_accuracy: 0.9955 - condition_output_loss: 0.0371 - loss: 1.2932\n",
      "Epoch 7: val_loss improved from 1.24415 to 1.16736, saving model to models/best_model.keras\n",
      "\u001b[1m66/66\u001b[0m \u001b[32m━━━━━━━━━━━━━━━━━━━━\u001b[0m\u001b[37m\u001b[0m \u001b[1m3s\u001b[0m 48ms/step - amount_output_loss: 0.1794 - amount_output_mse: 0.3930 - condition_output_accuracy: 0.9954 - condition_output_loss: 0.0371 - loss: 1.2930 - val_amount_output_loss: 0.1302 - val_amount_output_mse: 0.2851 - val_condition_output_accuracy: 1.0000 - val_condition_output_loss: 0.0103 - val_loss: 1.1674 - learning_rate: 9.5000e-04\n",
      "Epoch 8/200\n",
      "\u001b[1m66/66\u001b[0m \u001b[32m━━━━━━━━━━━━━━━━━━━━\u001b[0m\u001b[37m\u001b[0m \u001b[1m0s\u001b[0m 37ms/step - amount_output_loss: 0.1807 - amount_output_mse: 0.3934 - condition_output_accuracy: 0.9955 - condition_output_loss: 0.0319 - loss: 1.2223\n",
      "Epoch 8: val_loss improved from 1.16736 to 1.12282, saving model to models/best_model.keras\n",
      "\u001b[1m66/66\u001b[0m \u001b[32m━━━━━━━━━━━━━━━━━━━━\u001b[0m\u001b[37m\u001b[0m \u001b[1m3s\u001b[0m 50ms/step - amount_output_loss: 0.1807 - amount_output_mse: 0.3934 - condition_output_accuracy: 0.9955 - condition_output_loss: 0.0319 - loss: 1.2220 - val_amount_output_loss: 0.1513 - val_amount_output_mse: 0.3422 - val_condition_output_accuracy: 1.0000 - val_condition_output_loss: 0.0083 - val_loss: 1.1228 - learning_rate: 9.5000e-04\n",
      "Epoch 9/200\n",
      "\u001b[1m65/66\u001b[0m \u001b[32m━━━━━━━━━━━━━━━━━━━\u001b[0m\u001b[37m━\u001b[0m \u001b[1m0s\u001b[0m 34ms/step - amount_output_loss: 0.1698 - amount_output_mse: 0.3786 - condition_output_accuracy: 0.9962 - condition_output_loss: 0.0243 - loss: 1.1397\n",
      "Epoch 9: val_loss improved from 1.12282 to 1.00988, saving model to models/best_model.keras\n",
      "\u001b[1m66/66\u001b[0m \u001b[32m━━━━━━━━━━━━━━━━━━━━\u001b[0m\u001b[37m\u001b[0m \u001b[1m3s\u001b[0m 45ms/step - amount_output_loss: 0.1696 - amount_output_mse: 0.3780 - condition_output_accuracy: 0.9963 - condition_output_loss: 0.0243 - loss: 1.1390 - val_amount_output_loss: 0.1048 - val_amount_output_mse: 0.2159 - val_condition_output_accuracy: 1.0000 - val_condition_output_loss: 0.0058 - val_loss: 1.0099 - learning_rate: 9.5000e-04\n",
      "Epoch 10/200\n",
      "\u001b[1m66/66\u001b[0m \u001b[32m━━━━━━━━━━━━━━━━━━━━\u001b[0m\u001b[37m\u001b[0m \u001b[1m0s\u001b[0m 33ms/step - amount_output_loss: 0.1590 - amount_output_mse: 0.3412 - condition_output_accuracy: 0.9983 - condition_output_loss: 0.0219 - loss: 1.0650\n",
      "Epoch 10: val_loss improved from 1.00988 to 0.93233, saving model to models/best_model.keras\n",
      "\u001b[1m66/66\u001b[0m \u001b[32m━━━━━━━━━━━━━━━━━━━━\u001b[0m\u001b[37m\u001b[0m \u001b[1m3s\u001b[0m 43ms/step - amount_output_loss: 0.1591 - amount_output_mse: 0.3415 - condition_output_accuracy: 0.9983 - condition_output_loss: 0.0219 - loss: 1.0649 - val_amount_output_loss: 0.0890 - val_amount_output_mse: 0.1795 - val_condition_output_accuracy: 1.0000 - val_condition_output_loss: 0.0034 - val_loss: 0.9323 - learning_rate: 9.5000e-04\n",
      "Epoch 11/200\n",
      "\u001b[1m65/66\u001b[0m \u001b[32m━━━━━━━━━━━━━━━━━━━\u001b[0m\u001b[37m━\u001b[0m \u001b[1m0s\u001b[0m 34ms/step - amount_output_loss: 0.1611 - amount_output_mse: 0.3378 - condition_output_accuracy: 0.9998 - condition_output_loss: 0.0186 - loss: 1.0055\n",
      "Epoch 11: val_loss improved from 0.93233 to 0.92416, saving model to models/best_model.keras\n",
      "\u001b[1m66/66\u001b[0m \u001b[32m━━━━━━━━━━━━━━━━━━━━\u001b[0m\u001b[37m\u001b[0m \u001b[1m3s\u001b[0m 45ms/step - amount_output_loss: 0.1612 - amount_output_mse: 0.3381 - condition_output_accuracy: 0.9998 - condition_output_loss: 0.0186 - loss: 1.0052 - val_amount_output_loss: 0.1334 - val_amount_output_mse: 0.2748 - val_condition_output_accuracy: 1.0000 - val_condition_output_loss: 0.0066 - val_loss: 0.9242 - learning_rate: 9.5000e-04\n",
      "Epoch 12/200\n",
      "\u001b[1m66/66\u001b[0m \u001b[32m━━━━━━━━━━━━━━━━━━━━\u001b[0m\u001b[37m\u001b[0m \u001b[1m0s\u001b[0m 34ms/step - amount_output_loss: 0.1779 - amount_output_mse: 0.3960 - condition_output_accuracy: 0.9889 - condition_output_loss: 0.0291 - loss: 0.9780\n",
      "Epoch 12: val_loss improved from 0.92416 to 0.83809, saving model to models/best_model.keras\n",
      "\u001b[1m66/66\u001b[0m \u001b[32m━━━━━━━━━━━━━━━━━━━━\u001b[0m\u001b[37m\u001b[0m \u001b[1m3s\u001b[0m 44ms/step - amount_output_loss: 0.1778 - amount_output_mse: 0.3956 - condition_output_accuracy: 0.9889 - condition_output_loss: 0.0290 - loss: 0.9777 - val_amount_output_loss: 0.0999 - val_amount_output_mse: 0.2018 - val_condition_output_accuracy: 1.0000 - val_condition_output_loss: 0.0055 - val_loss: 0.8381 - learning_rate: 9.5000e-04\n",
      "Epoch 13/200\n",
      "\u001b[1m65/66\u001b[0m \u001b[32m━━━━━━━━━━━━━━━━━━━\u001b[0m\u001b[37m━\u001b[0m \u001b[1m0s\u001b[0m 31ms/step - amount_output_loss: 0.1640 - amount_output_mse: 0.3655 - condition_output_accuracy: 0.9967 - condition_output_loss: 0.0217 - loss: 0.9061\n",
      "Epoch 13: val_loss improved from 0.83809 to 0.77892, saving model to models/best_model.keras\n",
      "\u001b[1m66/66\u001b[0m \u001b[32m━━━━━━━━━━━━━━━━━━━━\u001b[0m\u001b[37m\u001b[0m \u001b[1m3s\u001b[0m 42ms/step - amount_output_loss: 0.1636 - amount_output_mse: 0.3644 - condition_output_accuracy: 0.9967 - condition_output_loss: 0.0216 - loss: 0.9053 - val_amount_output_loss: 0.0928 - val_amount_output_mse: 0.1875 - val_condition_output_accuracy: 1.0000 - val_condition_output_loss: 0.0035 - val_loss: 0.7789 - learning_rate: 9.5000e-04\n",
      "Epoch 14/200\n",
      "\u001b[1m66/66\u001b[0m \u001b[32m━━━━━━━━━━━━━━━━━━━━\u001b[0m\u001b[37m\u001b[0m \u001b[1m0s\u001b[0m 31ms/step - amount_output_loss: 0.1403 - amount_output_mse: 0.3057 - condition_output_accuracy: 1.0000 - condition_output_loss: 0.0127 - loss: 0.8239\n",
      "Epoch 14: val_loss improved from 0.77892 to 0.74999, saving model to models/best_model.keras\n",
      "\u001b[1m66/66\u001b[0m \u001b[32m━━━━━━━━━━━━━━━━━━━━\u001b[0m\u001b[37m\u001b[0m \u001b[1m5s\u001b[0m 43ms/step - amount_output_loss: 0.1405 - amount_output_mse: 0.3063 - condition_output_accuracy: 1.0000 - condition_output_loss: 0.0127 - loss: 0.8240 - val_amount_output_loss: 0.1108 - val_amount_output_mse: 0.2318 - val_condition_output_accuracy: 1.0000 - val_condition_output_loss: 0.0024 - val_loss: 0.7500 - learning_rate: 9.5000e-04\n",
      "Epoch 15/200\n",
      "\u001b[1m65/66\u001b[0m \u001b[32m━━━━━━━━━━━━━━━━━━━\u001b[0m\u001b[37m━\u001b[0m \u001b[1m0s\u001b[0m 28ms/step - amount_output_loss: 0.1424 - amount_output_mse: 0.3001 - condition_output_accuracy: 0.9930 - condition_output_loss: 0.0192 - loss: 0.7861\n",
      "Epoch 15: val_loss improved from 0.74999 to 0.69145, saving model to models/best_model.keras\n",
      "\u001b[1m66/66\u001b[0m \u001b[32m━━━━━━━━━━━━━━━━━━━━\u001b[0m\u001b[37m\u001b[0m \u001b[1m3s\u001b[0m 39ms/step - amount_output_loss: 0.1425 - amount_output_mse: 0.3004 - condition_output_accuracy: 0.9931 - condition_output_loss: 0.0191 - loss: 0.7858 - val_amount_output_loss: 0.0989 - val_amount_output_mse: 0.2002 - val_condition_output_accuracy: 1.0000 - val_condition_output_loss: 0.0012 - val_loss: 0.6915 - learning_rate: 9.5000e-04\n",
      "Epoch 16/200\n",
      "\u001b[1m66/66\u001b[0m \u001b[32m━━━━━━━━━━━━━━━━━━━━\u001b[0m\u001b[37m\u001b[0m \u001b[1m0s\u001b[0m 29ms/step - amount_output_loss: 0.1425 - amount_output_mse: 0.3029 - condition_output_accuracy: 0.9989 - condition_output_loss: 0.0146 - loss: 0.7383\n",
      "Epoch 16: val_loss improved from 0.69145 to 0.65561, saving model to models/best_model.keras\n",
      "\u001b[1m66/66\u001b[0m \u001b[32m━━━━━━━━━━━━━━━━━━━━\u001b[0m\u001b[37m\u001b[0m \u001b[1m3s\u001b[0m 41ms/step - amount_output_loss: 0.1426 - amount_output_mse: 0.3032 - condition_output_accuracy: 0.9989 - condition_output_loss: 0.0146 - loss: 0.7383 - val_amount_output_loss: 0.1031 - val_amount_output_mse: 0.2105 - val_condition_output_accuracy: 1.0000 - val_condition_output_loss: 0.0015 - val_loss: 0.6556 - learning_rate: 9.5000e-04\n",
      "Epoch 17/200\n",
      "\u001b[1m66/66\u001b[0m \u001b[32m━━━━━━━━━━━━━━━━━━━━\u001b[0m\u001b[37m\u001b[0m \u001b[1m0s\u001b[0m 27ms/step - amount_output_loss: 0.1199 - amount_output_mse: 0.2521 - condition_output_accuracy: 0.9979 - condition_output_loss: 0.0109 - loss: 0.6720\n",
      "Epoch 17: val_loss improved from 0.65561 to 0.61608, saving model to models/best_model.keras\n",
      "\u001b[1m66/66\u001b[0m \u001b[32m━━━━━━━━━━━━━━━━━━━━\u001b[0m\u001b[37m\u001b[0m \u001b[1m3s\u001b[0m 39ms/step - amount_output_loss: 0.1202 - amount_output_mse: 0.2527 - condition_output_accuracy: 0.9979 - condition_output_loss: 0.0109 - loss: 0.6722 - val_amount_output_loss: 0.1004 - val_amount_output_mse: 0.2074 - val_condition_output_accuracy: 1.0000 - val_condition_output_loss: 0.0013 - val_loss: 0.6161 - learning_rate: 9.5000e-04\n",
      "Epoch 18/200\n",
      "\u001b[1m66/66\u001b[0m \u001b[32m━━━━━━━━━━━━━━━━━━━━\u001b[0m\u001b[37m\u001b[0m \u001b[1m0s\u001b[0m 28ms/step - amount_output_loss: 0.1387 - amount_output_mse: 0.3002 - condition_output_accuracy: 1.0000 - condition_output_loss: 0.0108 - loss: 0.6540\n",
      "Epoch 18: val_loss improved from 0.61608 to 0.60845, saving model to models/best_model.keras\n",
      "\u001b[1m66/66\u001b[0m \u001b[32m━━━━━━━━━━━━━━━━━━━━\u001b[0m\u001b[37m\u001b[0m \u001b[1m3s\u001b[0m 39ms/step - amount_output_loss: 0.1386 - amount_output_mse: 0.2999 - condition_output_accuracy: 1.0000 - condition_output_loss: 0.0108 - loss: 0.6538 - val_amount_output_loss: 0.1289 - val_amount_output_mse: 0.2705 - val_condition_output_accuracy: 1.0000 - val_condition_output_loss: 7.9180e-04 - val_loss: 0.6085 - learning_rate: 9.5000e-04\n",
      "Epoch 19/200\n",
      "\u001b[1m65/66\u001b[0m \u001b[32m━━━━━━━━━━━━━━━━━━━\u001b[0m\u001b[37m━\u001b[0m \u001b[1m0s\u001b[0m 29ms/step - amount_output_loss: 0.1242 - amount_output_mse: 0.2608 - condition_output_accuracy: 0.9993 - condition_output_loss: 0.0107 - loss: 0.6036\n",
      "Epoch 19: val_loss improved from 0.60845 to 0.53232, saving model to models/best_model.keras\n",
      "\u001b[1m66/66\u001b[0m \u001b[32m━━━━━━━━━━━━━━━━━━━━\u001b[0m\u001b[37m\u001b[0m \u001b[1m3s\u001b[0m 41ms/step - amount_output_loss: 0.1243 - amount_output_mse: 0.2611 - condition_output_accuracy: 0.9993 - condition_output_loss: 0.0108 - loss: 0.6035 - val_amount_output_loss: 0.0878 - val_amount_output_mse: 0.1762 - val_condition_output_accuracy: 1.0000 - val_condition_output_loss: 0.0018 - val_loss: 0.5323 - learning_rate: 9.5000e-04\n",
      "Epoch 20/200\n",
      "\u001b[1m65/66\u001b[0m \u001b[32m━━━━━━━━━━━━━━━━━━━\u001b[0m\u001b[37m━\u001b[0m \u001b[1m0s\u001b[0m 27ms/step - amount_output_loss: 0.1467 - amount_output_mse: 0.3182 - condition_output_accuracy: 0.9982 - condition_output_loss: 0.0131 - loss: 0.5960\n",
      "Epoch 20: val_loss improved from 0.53232 to 0.52098, saving model to models/best_model.keras\n",
      "\u001b[1m66/66\u001b[0m \u001b[32m━━━━━━━━━━━━━━━━━━━━\u001b[0m\u001b[37m\u001b[0m \u001b[1m3s\u001b[0m 38ms/step - amount_output_loss: 0.1468 - amount_output_mse: 0.3186 - condition_output_accuracy: 0.9981 - condition_output_loss: 0.0131 - loss: 0.5959 - val_amount_output_loss: 0.1066 - val_amount_output_mse: 0.2146 - val_condition_output_accuracy: 1.0000 - val_condition_output_loss: 8.9473e-04 - val_loss: 0.5210 - learning_rate: 9.5000e-04\n",
      "Epoch 21/200\n",
      "\u001b[1m66/66\u001b[0m \u001b[32m━━━━━━━━━━━━━━━━━━━━\u001b[0m\u001b[37m\u001b[0m \u001b[1m0s\u001b[0m 27ms/step - amount_output_loss: 0.1445 - amount_output_mse: 0.3032 - condition_output_accuracy: 0.9985 - condition_output_loss: 0.0143 - loss: 0.5657 \n",
      "Epoch 21: val_loss improved from 0.52098 to 0.47015, saving model to models/best_model.keras\n",
      "\u001b[1m66/66\u001b[0m \u001b[32m━━━━━━━━━━━━━━━━━━━━\u001b[0m\u001b[37m\u001b[0m \u001b[1m3s\u001b[0m 39ms/step - amount_output_loss: 0.1442 - amount_output_mse: 0.3028 - condition_output_accuracy: 0.9985 - condition_output_loss: 0.0142 - loss: 0.5653 - val_amount_output_loss: 0.0849 - val_amount_output_mse: 0.1693 - val_condition_output_accuracy: 1.0000 - val_condition_output_loss: 6.7205e-04 - val_loss: 0.4701 - learning_rate: 9.5000e-04\n",
      "Epoch 22/200\n",
      "\u001b[1m65/66\u001b[0m \u001b[32m━━━━━━━━━━━━━━━━━━━\u001b[0m\u001b[37m━\u001b[0m \u001b[1m0s\u001b[0m 35ms/step - amount_output_loss: 0.1203 - amount_output_mse: 0.2499 - condition_output_accuracy: 1.0000 - condition_output_loss: 0.0049 - loss: 0.5036\n",
      "Epoch 22: val_loss improved from 0.47015 to 0.46542, saving model to models/best_model.keras\n",
      "\u001b[1m66/66\u001b[0m \u001b[32m━━━━━━━━━━━━━━━━━━━━\u001b[0m\u001b[37m\u001b[0m \u001b[1m3s\u001b[0m 48ms/step - amount_output_loss: 0.1202 - amount_output_mse: 0.2499 - condition_output_accuracy: 1.0000 - condition_output_loss: 0.0049 - loss: 0.5034 - val_amount_output_loss: 0.1080 - val_amount_output_mse: 0.2170 - val_condition_output_accuracy: 1.0000 - val_condition_output_loss: 5.5612e-04 - val_loss: 0.4654 - learning_rate: 9.5000e-04\n",
      "Epoch 23/200\n",
      "\u001b[1m66/66\u001b[0m \u001b[32m━━━━━━━━━━━━━━━━━━━━\u001b[0m\u001b[37m\u001b[0m \u001b[1m0s\u001b[0m 37ms/step - amount_output_loss: 0.1253 - amount_output_mse: 0.2575 - condition_output_accuracy: 1.0000 - condition_output_loss: 0.0038 - loss: 0.4800\n",
      "Epoch 23: val_loss did not improve from 0.46542\n",
      "\u001b[1m66/66\u001b[0m \u001b[32m━━━━━━━━━━━━━━━━━━━━\u001b[0m\u001b[37m\u001b[0m \u001b[1m3s\u001b[0m 41ms/step - amount_output_loss: 0.1252 - amount_output_mse: 0.2574 - condition_output_accuracy: 1.0000 - condition_output_loss: 0.0038 - loss: 0.4799 - val_amount_output_loss: 0.1896 - val_amount_output_mse: 0.3677 - val_condition_output_accuracy: 1.0000 - val_condition_output_loss: 8.3033e-04 - val_loss: 0.5158 - learning_rate: 9.5000e-04\n",
      "Epoch 24/200\n",
      "\u001b[1m66/66\u001b[0m \u001b[32m━━━━━━━━━━━━━━━━━━━━\u001b[0m\u001b[37m\u001b[0m \u001b[1m0s\u001b[0m 29ms/step - amount_output_loss: 0.1256 - amount_output_mse: 0.2671 - condition_output_accuracy: 0.9974 - condition_output_loss: 0.0194 - loss: 0.4718\n",
      "Epoch 24: val_loss improved from 0.46542 to 0.39754, saving model to models/best_model.keras\n",
      "\u001b[1m66/66\u001b[0m \u001b[32m━━━━━━━━━━━━━━━━━━━━\u001b[0m\u001b[37m\u001b[0m \u001b[1m3s\u001b[0m 39ms/step - amount_output_loss: 0.1256 - amount_output_mse: 0.2672 - condition_output_accuracy: 0.9974 - condition_output_loss: 0.0194 - loss: 0.4717 - val_amount_output_loss: 0.0868 - val_amount_output_mse: 0.1741 - val_condition_output_accuracy: 1.0000 - val_condition_output_loss: 4.2594e-04 - val_loss: 0.3975 - learning_rate: 9.5000e-04\n",
      "Epoch 25/200\n",
      "\u001b[1m66/66\u001b[0m \u001b[32m━━━━━━━━━━━━━━━━━━━━\u001b[0m\u001b[37m\u001b[0m \u001b[1m0s\u001b[0m 31ms/step - amount_output_loss: 0.1352 - amount_output_mse: 0.2892 - condition_output_accuracy: 0.9992 - condition_output_loss: 0.0088 - loss: 0.4502\n",
      "Epoch 25: val_loss improved from 0.39754 to 0.37411, saving model to models/best_model.keras\n",
      "\u001b[1m66/66\u001b[0m \u001b[32m━━━━━━━━━━━━━━━━━━━━\u001b[0m\u001b[37m\u001b[0m \u001b[1m3s\u001b[0m 42ms/step - amount_output_loss: 0.1351 - amount_output_mse: 0.2891 - condition_output_accuracy: 0.9992 - condition_output_loss: 0.0088 - loss: 0.4501 - val_amount_output_loss: 0.0852 - val_amount_output_mse: 0.1675 - val_condition_output_accuracy: 1.0000 - val_condition_output_loss: 2.8566e-04 - val_loss: 0.3741 - learning_rate: 9.5000e-04\n",
      "Epoch 26/200\n",
      "\u001b[1m65/66\u001b[0m \u001b[32m━━━━━━━━━━━━━━━━━━━\u001b[0m\u001b[37m━\u001b[0m \u001b[1m0s\u001b[0m 27ms/step - amount_output_loss: 0.1178 - amount_output_mse: 0.2437 - condition_output_accuracy: 1.0000 - condition_output_loss: 0.0038 - loss: 0.4073\n",
      "Epoch 26: val_loss improved from 0.37411 to 0.37222, saving model to models/best_model.keras\n",
      "\u001b[1m66/66\u001b[0m \u001b[32m━━━━━━━━━━━━━━━━━━━━\u001b[0m\u001b[37m\u001b[0m \u001b[1m3s\u001b[0m 39ms/step - amount_output_loss: 0.1179 - amount_output_mse: 0.2440 - condition_output_accuracy: 1.0000 - condition_output_loss: 0.0038 - loss: 0.4073 - val_amount_output_loss: 0.1049 - val_amount_output_mse: 0.2050 - val_condition_output_accuracy: 1.0000 - val_condition_output_loss: 4.0067e-04 - val_loss: 0.3722 - learning_rate: 9.5000e-04\n",
      "Epoch 27/200\n",
      "\u001b[1m66/66\u001b[0m \u001b[32m━━━━━━━━━━━━━━━━━━━━\u001b[0m\u001b[37m\u001b[0m \u001b[1m0s\u001b[0m 33ms/step - amount_output_loss: 0.1284 - amount_output_mse: 0.2668 - condition_output_accuracy: 1.0000 - condition_output_loss: 0.0057 - loss: 0.3993 \n",
      "Epoch 27: val_loss improved from 0.37222 to 0.35232, saving model to models/best_model.keras\n",
      "\u001b[1m66/66\u001b[0m \u001b[32m━━━━━━━━━━━━━━━━━━━━\u001b[0m\u001b[37m\u001b[0m \u001b[1m3s\u001b[0m 46ms/step - amount_output_loss: 0.1283 - amount_output_mse: 0.2666 - condition_output_accuracy: 1.0000 - condition_output_loss: 0.0057 - loss: 0.3991 - val_amount_output_loss: 0.0990 - val_amount_output_mse: 0.2029 - val_condition_output_accuracy: 1.0000 - val_condition_output_loss: 5.2455e-04 - val_loss: 0.3523 - learning_rate: 9.5000e-04\n",
      "Epoch 28/200\n",
      "\u001b[1m66/66\u001b[0m \u001b[32m━━━━━━━━━━━━━━━━━━━━\u001b[0m\u001b[37m\u001b[0m \u001b[1m0s\u001b[0m 35ms/step - amount_output_loss: 0.1315 - amount_output_mse: 0.2765 - condition_output_accuracy: 0.9985 - condition_output_loss: 0.0095 - loss: 0.3897\n",
      "Epoch 28: val_loss improved from 0.35232 to 0.33763, saving model to models/best_model.keras\n",
      "\u001b[1m66/66\u001b[0m \u001b[32m━━━━━━━━━━━━━━━━━━━━\u001b[0m\u001b[37m\u001b[0m \u001b[1m3s\u001b[0m 48ms/step - amount_output_loss: 0.1315 - amount_output_mse: 0.2765 - condition_output_accuracy: 0.9985 - condition_output_loss: 0.0095 - loss: 0.3897 - val_amount_output_loss: 0.0996 - val_amount_output_mse: 0.2032 - val_condition_output_accuracy: 1.0000 - val_condition_output_loss: 2.6193e-04 - val_loss: 0.3376 - learning_rate: 9.5000e-04\n",
      "Epoch 29/200\n",
      "\u001b[1m66/66\u001b[0m \u001b[32m━━━━━━━━━━━━━━━━━━━━\u001b[0m\u001b[37m\u001b[0m \u001b[1m0s\u001b[0m 33ms/step - amount_output_loss: 0.1203 - amount_output_mse: 0.2471 - condition_output_accuracy: 1.0000 - condition_output_loss: 0.0047 - loss: 0.3587\n",
      "Epoch 29: val_loss improved from 0.33763 to 0.31844, saving model to models/best_model.keras\n",
      "\u001b[1m66/66\u001b[0m \u001b[32m━━━━━━━━━━━━━━━━━━━━\u001b[0m\u001b[37m\u001b[0m \u001b[1m3s\u001b[0m 44ms/step - amount_output_loss: 0.1203 - amount_output_mse: 0.2473 - condition_output_accuracy: 1.0000 - condition_output_loss: 0.0047 - loss: 0.3587 - val_amount_output_loss: 0.0968 - val_amount_output_mse: 0.1954 - val_condition_output_accuracy: 1.0000 - val_condition_output_loss: 2.6125e-04 - val_loss: 0.3184 - learning_rate: 9.5000e-04\n",
      "Epoch 30/200\n",
      "\u001b[1m65/66\u001b[0m \u001b[32m━━━━━━━━━━━━━━━━━━━\u001b[0m\u001b[37m━\u001b[0m \u001b[1m0s\u001b[0m 34ms/step - amount_output_loss: 0.1044 - amount_output_mse: 0.2164 - condition_output_accuracy: 1.0000 - condition_output_loss: 0.0037 - loss: 0.3260    \n",
      "Epoch 30: val_loss improved from 0.31844 to 0.30970, saving model to models/best_model.keras\n",
      "\u001b[1m66/66\u001b[0m \u001b[32m━━━━━━━━━━━━━━━━━━━━\u001b[0m\u001b[37m\u001b[0m \u001b[1m3s\u001b[0m 45ms/step - amount_output_loss: 0.1047 - amount_output_mse: 0.2173 - condition_output_accuracy: 1.0000 - condition_output_loss: 0.0038 - loss: 0.3263 - val_amount_output_loss: 0.1022 - val_amount_output_mse: 0.2114 - val_condition_output_accuracy: 1.0000 - val_condition_output_loss: 1.4571e-04 - val_loss: 0.3097 - learning_rate: 9.5000e-04\n",
      "Epoch 31/200\n",
      "\u001b[1m65/66\u001b[0m \u001b[32m━━━━━━━━━━━━━━━━━━━\u001b[0m\u001b[37m━\u001b[0m \u001b[1m0s\u001b[0m 29ms/step - amount_output_loss: 0.1143 - amount_output_mse: 0.2331 - condition_output_accuracy: 1.0000 - condition_output_loss: 0.0025 - loss: 0.3201    \n",
      "Epoch 31: val_loss improved from 0.30970 to 0.28468, saving model to models/best_model.keras\n",
      "\u001b[1m66/66\u001b[0m \u001b[32m━━━━━━━━━━━━━━━━━━━━\u001b[0m\u001b[37m\u001b[0m \u001b[1m3s\u001b[0m 40ms/step - amount_output_loss: 0.1144 - amount_output_mse: 0.2331 - condition_output_accuracy: 1.0000 - condition_output_loss: 0.0025 - loss: 0.3201 - val_amount_output_loss: 0.0896 - val_amount_output_mse: 0.1837 - val_condition_output_accuracy: 1.0000 - val_condition_output_loss: 2.4089e-04 - val_loss: 0.2847 - learning_rate: 9.5000e-04\n",
      "Epoch 32/200\n",
      "\u001b[1m66/66\u001b[0m \u001b[32m━━━━━━━━━━━━━━━━━━━━\u001b[0m\u001b[37m\u001b[0m \u001b[1m0s\u001b[0m 28ms/step - amount_output_loss: 0.1054 - amount_output_mse: 0.2156 - condition_output_accuracy: 1.0000 - condition_output_loss: 0.0021 - loss: 0.2985\n",
      "Epoch 32: val_loss did not improve from 0.28468\n",
      "\u001b[1m66/66\u001b[0m \u001b[32m━━━━━━━━━━━━━━━━━━━━\u001b[0m\u001b[37m\u001b[0m \u001b[1m2s\u001b[0m 33ms/step - amount_output_loss: 0.1054 - amount_output_mse: 0.2157 - condition_output_accuracy: 1.0000 - condition_output_loss: 0.0021 - loss: 0.2985 - val_amount_output_loss: 0.2161 - val_amount_output_mse: 0.4217 - val_condition_output_accuracy: 1.0000 - val_condition_output_loss: 6.4546e-04 - val_loss: 0.3898 - learning_rate: 9.5000e-04\n",
      "Epoch 33/200\n",
      "\u001b[1m66/66\u001b[0m \u001b[32m━━━━━━━━━━━━━━━━━━━━\u001b[0m\u001b[37m\u001b[0m \u001b[1m0s\u001b[0m 29ms/step - amount_output_loss: 0.1127 - amount_output_mse: 0.2351 - condition_output_accuracy: 1.0000 - condition_output_loss: 0.0034 - loss: 0.2943\n",
      "Epoch 33: val_loss improved from 0.28468 to 0.25202, saving model to models/best_model.keras\n",
      "\u001b[1m66/66\u001b[0m \u001b[32m━━━━━━━━━━━━━━━━━━━━\u001b[0m\u001b[37m\u001b[0m \u001b[1m3s\u001b[0m 41ms/step - amount_output_loss: 0.1127 - amount_output_mse: 0.2351 - condition_output_accuracy: 1.0000 - condition_output_loss: 0.0034 - loss: 0.2943 - val_amount_output_loss: 0.0832 - val_amount_output_mse: 0.1637 - val_condition_output_accuracy: 1.0000 - val_condition_output_loss: 2.8593e-04 - val_loss: 0.2520 - learning_rate: 9.5000e-04\n",
      "Epoch 34/200\n",
      "\u001b[1m66/66\u001b[0m \u001b[32m━━━━━━━━━━━━━━━━━━━━\u001b[0m\u001b[37m\u001b[0m \u001b[1m0s\u001b[0m 28ms/step - amount_output_loss: 0.1289 - amount_output_mse: 0.2754 - condition_output_accuracy: 0.9976 - condition_output_loss: 0.0080 - loss: 0.3059    \n",
      "Epoch 34: val_loss did not improve from 0.25202\n",
      "\u001b[1m66/66\u001b[0m \u001b[32m━━━━━━━━━━━━━━━━━━━━\u001b[0m\u001b[37m\u001b[0m \u001b[1m2s\u001b[0m 33ms/step - amount_output_loss: 0.1288 - amount_output_mse: 0.2751 - condition_output_accuracy: 0.9977 - condition_output_loss: 0.0079 - loss: 0.3058 - val_amount_output_loss: 0.0942 - val_amount_output_mse: 0.1933 - val_condition_output_accuracy: 1.0000 - val_condition_output_loss: 5.4644e-04 - val_loss: 0.2589 - learning_rate: 9.5000e-04\n",
      "Epoch 35/200\n",
      "\u001b[1m65/66\u001b[0m \u001b[32m━━━━━━━━━━━━━━━━━━━\u001b[0m\u001b[37m━\u001b[0m \u001b[1m0s\u001b[0m 30ms/step - amount_output_loss: 0.1072 - amount_output_mse: 0.2216 - condition_output_accuracy: 1.0000 - condition_output_loss: 0.0025 - loss: 0.2713\n",
      "Epoch 35: val_loss did not improve from 0.25202\n",
      "\u001b[1m66/66\u001b[0m \u001b[32m━━━━━━━━━━━━━━━━━━━━\u001b[0m\u001b[37m\u001b[0m \u001b[1m2s\u001b[0m 36ms/step - amount_output_loss: 0.1071 - amount_output_mse: 0.2213 - condition_output_accuracy: 0.9999 - condition_output_loss: 0.0025 - loss: 0.2711 - val_amount_output_loss: 0.0967 - val_amount_output_mse: 0.1944 - val_condition_output_accuracy: 1.0000 - val_condition_output_loss: 0.0043 - val_loss: 0.2550 - learning_rate: 9.5000e-04\n",
      "Epoch 36/200\n",
      "\u001b[1m65/66\u001b[0m \u001b[32m━━━━━━━━━━━━━━━━━━━\u001b[0m\u001b[37m━\u001b[0m \u001b[1m0s\u001b[0m 27ms/step - amount_output_loss: 0.1117 - amount_output_mse: 0.2285 - condition_output_accuracy: 1.0000 - condition_output_loss: 0.0035 - loss: 0.2684\n",
      "Epoch 36: val_loss did not improve from 0.25202\n",
      "\u001b[1m66/66\u001b[0m \u001b[32m━━━━━━━━━━━━━━━━━━━━\u001b[0m\u001b[37m\u001b[0m \u001b[1m2s\u001b[0m 32ms/step - amount_output_loss: 0.1117 - amount_output_mse: 0.2286 - condition_output_accuracy: 1.0000 - condition_output_loss: 0.0035 - loss: 0.2683 - val_amount_output_loss: 0.1440 - val_amount_output_mse: 0.2755 - val_condition_output_accuracy: 1.0000 - val_condition_output_loss: 1.8424e-04 - val_loss: 0.2851 - learning_rate: 9.5000e-04\n",
      "Epoch 37/200\n",
      "\u001b[1m66/66\u001b[0m \u001b[32m━━━━━━━━━━━━━━━━━━━━\u001b[0m\u001b[37m\u001b[0m \u001b[1m0s\u001b[0m 27ms/step - amount_output_loss: 0.1220 - amount_output_mse: 0.2544 - condition_output_accuracy: 1.0000 - condition_output_loss: 0.0034 - loss: 0.2715    \n",
      "Epoch 37: val_loss improved from 0.25202 to 0.24280, saving model to models/best_model.keras\n",
      "\u001b[1m66/66\u001b[0m \u001b[32m━━━━━━━━━━━━━━━━━━━━\u001b[0m\u001b[37m\u001b[0m \u001b[1m3s\u001b[0m 38ms/step - amount_output_loss: 0.1219 - amount_output_mse: 0.2544 - condition_output_accuracy: 1.0000 - condition_output_loss: 0.0034 - loss: 0.2714 - val_amount_output_loss: 0.1038 - val_amount_output_mse: 0.2039 - val_condition_output_accuracy: 1.0000 - val_condition_output_loss: 2.1344e-04 - val_loss: 0.2428 - learning_rate: 4.7500e-04\n",
      "Epoch 38/200\n",
      "\u001b[1m65/66\u001b[0m \u001b[32m━━━━━━━━━━━━━━━━━━━\u001b[0m\u001b[37m━\u001b[0m \u001b[1m0s\u001b[0m 28ms/step - amount_output_loss: 0.0995 - amount_output_mse: 0.2026 - condition_output_accuracy: 1.0000 - condition_output_loss: 0.0018 - loss: 0.2414    \n",
      "Epoch 38: val_loss improved from 0.24280 to 0.22704, saving model to models/best_model.keras\n",
      "\u001b[1m66/66\u001b[0m \u001b[32m━━━━━━━━━━━━━━━━━━━━\u001b[0m\u001b[37m\u001b[0m \u001b[1m3s\u001b[0m 39ms/step - amount_output_loss: 0.0996 - amount_output_mse: 0.2028 - condition_output_accuracy: 1.0000 - condition_output_loss: 0.0018 - loss: 0.2415 - val_amount_output_loss: 0.0930 - val_amount_output_mse: 0.1845 - val_condition_output_accuracy: 1.0000 - val_condition_output_loss: 1.1022e-04 - val_loss: 0.2270 - learning_rate: 4.7500e-04\n",
      "Epoch 39/200\n",
      "\u001b[1m66/66\u001b[0m \u001b[32m━━━━━━━━━━━━━━━━━━━━\u001b[0m\u001b[37m\u001b[0m \u001b[1m0s\u001b[0m 30ms/step - amount_output_loss: 0.1003 - amount_output_mse: 0.2049 - condition_output_accuracy: 1.0000 - condition_output_loss: 0.0015 - loss: 0.2363\n",
      "Epoch 39: val_loss did not improve from 0.22704\n",
      "\u001b[1m66/66\u001b[0m \u001b[32m━━━━━━━━━━━━━━━━━━━━\u001b[0m\u001b[37m\u001b[0m \u001b[1m2s\u001b[0m 34ms/step - amount_output_loss: 0.1003 - amount_output_mse: 0.2048 - condition_output_accuracy: 1.0000 - condition_output_loss: 0.0015 - loss: 0.2362 - val_amount_output_loss: 0.1535 - val_amount_output_mse: 0.3248 - val_condition_output_accuracy: 1.0000 - val_condition_output_loss: 9.5541e-05 - val_loss: 0.2856 - learning_rate: 4.7500e-04\n",
      "Epoch 40/200\n",
      "\u001b[1m66/66\u001b[0m \u001b[32m━━━━━━━━━━━━━━━━━━━━\u001b[0m\u001b[37m\u001b[0m \u001b[1m0s\u001b[0m 30ms/step - amount_output_loss: 0.0920 - amount_output_mse: 0.1868 - condition_output_accuracy: 1.0000 - condition_output_loss: 0.0015 - loss: 0.2229    \n",
      "Epoch 40: val_loss did not improve from 0.22704\n",
      "\u001b[1m66/66\u001b[0m \u001b[32m━━━━━━━━━━━━━━━━━━━━\u001b[0m\u001b[37m\u001b[0m \u001b[1m2s\u001b[0m 35ms/step - amount_output_loss: 0.0921 - amount_output_mse: 0.1871 - condition_output_accuracy: 1.0000 - condition_output_loss: 0.0015 - loss: 0.2229 - val_amount_output_loss: 0.1476 - val_amount_output_mse: 0.2827 - val_condition_output_accuracy: 1.0000 - val_condition_output_loss: 2.6216e-04 - val_loss: 0.2672 - learning_rate: 4.7500e-04\n",
      "Epoch 41/200\n",
      "\u001b[1m64/66\u001b[0m \u001b[32m━━━━━━━━━━━━━━━━━━━\u001b[0m\u001b[37m━\u001b[0m \u001b[1m0s\u001b[0m 30ms/step - amount_output_loss: 0.0948 - amount_output_mse: 0.1925 - condition_output_accuracy: 1.0000 - condition_output_loss: 0.0016 - loss: 0.2213    \n",
      "Epoch 41: val_loss improved from 0.22704 to 0.20287, saving model to models/best_model.keras\n",
      "\u001b[1m66/66\u001b[0m \u001b[32m━━━━━━━━━━━━━━━━━━━━\u001b[0m\u001b[37m\u001b[0m \u001b[1m3s\u001b[0m 41ms/step - amount_output_loss: 0.0950 - amount_output_mse: 0.1931 - condition_output_accuracy: 1.0000 - condition_output_loss: 0.0016 - loss: 0.2215 - val_amount_output_loss: 0.0825 - val_amount_output_mse: 0.1644 - val_condition_output_accuracy: 1.0000 - val_condition_output_loss: 1.0721e-04 - val_loss: 0.2029 - learning_rate: 4.7500e-04\n",
      "Epoch 42/200\n",
      "\u001b[1m65/66\u001b[0m \u001b[32m━━━━━━━━━━━━━━━━━━━\u001b[0m\u001b[37m━\u001b[0m \u001b[1m0s\u001b[0m 29ms/step - amount_output_loss: 0.0802 - amount_output_mse: 0.1617 - condition_output_accuracy: 0.9997 - condition_output_loss: 0.0011 - loss: 0.2018    \n",
      "Epoch 42: val_loss did not improve from 0.20287\n",
      "\u001b[1m66/66\u001b[0m \u001b[32m━━━━━━━━━━━━━━━━━━━━\u001b[0m\u001b[37m\u001b[0m \u001b[1m2s\u001b[0m 34ms/step - amount_output_loss: 0.0805 - amount_output_mse: 0.1623 - condition_output_accuracy: 0.9997 - condition_output_loss: 0.0011 - loss: 0.2021 - val_amount_output_loss: 0.1195 - val_amount_output_mse: 0.2517 - val_condition_output_accuracy: 1.0000 - val_condition_output_loss: 9.8769e-05 - val_loss: 0.2386 - learning_rate: 4.7500e-04\n",
      "Epoch 43/200\n",
      "\u001b[1m66/66\u001b[0m \u001b[32m━━━━━━━━━━━━━━━━━━━━\u001b[0m\u001b[37m\u001b[0m \u001b[1m0s\u001b[0m 33ms/step - amount_output_loss: 0.0790 - amount_output_mse: 0.1605 - condition_output_accuracy: 1.0000 - condition_output_loss: 0.0018 - loss: 0.1972\n",
      "Epoch 43: val_loss did not improve from 0.20287\n",
      "\u001b[1m66/66\u001b[0m \u001b[32m━━━━━━━━━━━━━━━━━━━━\u001b[0m\u001b[37m\u001b[0m \u001b[1m3s\u001b[0m 38ms/step - amount_output_loss: 0.0792 - amount_output_mse: 0.1610 - condition_output_accuracy: 1.0000 - condition_output_loss: 0.0018 - loss: 0.1974 - val_amount_output_loss: 0.4623 - val_amount_output_mse: 0.9903 - val_condition_output_accuracy: 1.0000 - val_condition_output_loss: 6.2011e-04 - val_loss: 0.5668 - learning_rate: 4.7500e-04\n",
      "Epoch 44/200\n",
      "\u001b[1m66/66\u001b[0m \u001b[32m━━━━━━━━━━━━━━━━━━━━\u001b[0m\u001b[37m\u001b[0m \u001b[1m0s\u001b[0m 28ms/step - amount_output_loss: 0.0909 - amount_output_mse: 0.1857 - condition_output_accuracy: 1.0000 - condition_output_loss: 0.0011 - loss: 0.2045    \n",
      "Epoch 44: val_loss did not improve from 0.20287\n",
      "\u001b[1m66/66\u001b[0m \u001b[32m━━━━━━━━━━━━━━━━━━━━\u001b[0m\u001b[37m\u001b[0m \u001b[1m2s\u001b[0m 33ms/step - amount_output_loss: 0.0910 - amount_output_mse: 0.1858 - condition_output_accuracy: 1.0000 - condition_output_loss: 0.0011 - loss: 0.2046 - val_amount_output_loss: 0.1185 - val_amount_output_mse: 0.2478 - val_condition_output_accuracy: 1.0000 - val_condition_output_loss: 1.0926e-04 - val_loss: 0.2300 - learning_rate: 4.7500e-04\n",
      "Epoch 45/200\n",
      "\u001b[1m66/66\u001b[0m \u001b[32m━━━━━━━━━━━━━━━━━━━━\u001b[0m\u001b[37m\u001b[0m \u001b[1m0s\u001b[0m 33ms/step - amount_output_loss: 0.0880 - amount_output_mse: 0.1782 - condition_output_accuracy: 1.0000 - condition_output_loss: 0.0013 - loss: 0.1983    \n",
      "Epoch 45: val_loss did not improve from 0.20287\n",
      "\u001b[1m66/66\u001b[0m \u001b[32m━━━━━━━━━━━━━━━━━━━━\u001b[0m\u001b[37m\u001b[0m \u001b[1m3s\u001b[0m 38ms/step - amount_output_loss: 0.0880 - amount_output_mse: 0.1783 - condition_output_accuracy: 1.0000 - condition_output_loss: 0.0013 - loss: 0.1983 - val_amount_output_loss: 0.0996 - val_amount_output_mse: 0.2049 - val_condition_output_accuracy: 1.0000 - val_condition_output_loss: 1.4657e-04 - val_loss: 0.2075 - learning_rate: 2.3750e-04\n",
      "Epoch 46/200\n",
      "\u001b[1m66/66\u001b[0m \u001b[32m━━━━━━━━━━━━━━━━━━━━\u001b[0m\u001b[37m\u001b[0m \u001b[1m0s\u001b[0m 31ms/step - amount_output_loss: 0.0868 - amount_output_mse: 0.1784 - condition_output_accuracy: 1.0000 - condition_output_loss: 0.0019 - loss: 0.1955    \n",
      "Epoch 46: val_loss did not improve from 0.20287\n",
      "\u001b[1m66/66\u001b[0m \u001b[32m━━━━━━━━━━━━━━━━━━━━\u001b[0m\u001b[37m\u001b[0m \u001b[1m2s\u001b[0m 36ms/step - amount_output_loss: 0.0870 - amount_output_mse: 0.1787 - condition_output_accuracy: 1.0000 - condition_output_loss: 0.0019 - loss: 0.1956 - val_amount_output_loss: 0.1248 - val_amount_output_mse: 0.2588 - val_condition_output_accuracy: 1.0000 - val_condition_output_loss: 1.2641e-04 - val_loss: 0.2314 - learning_rate: 2.3750e-04\n"
     ]
    },
    {
     "name": "stderr",
     "output_type": "stream",
     "text": [
      "2025/02/13 12:32:18 WARNING mlflow.tensorflow: You are saving a TensorFlow Core model or Keras model without a signature. Inference with mlflow.pyfunc.spark_udf() will not work unless the model's pyfunc representation accepts pandas DataFrames as inference inputs.\n",
      "2025/02/13 12:32:57 WARNING mlflow.models.model: Model logged without a signature and input example. Please set `input_example` parameter when logging the model to auto infer the model signature.\n"
     ]
    },
    {
     "name": "stdout",
     "output_type": "stream",
     "text": [
      "Trained model saved and logged in MLflow at models/model_1739429990.keras\n"
     ]
    }
   ],
   "source": [
    "with mlflow.start_run():\n",
    "    # Log hyperparameters\n",
    "    mlflow.log_param('learning_rate', 0.00095)\n",
    "    mlflow.log_param('epochs', 200)\n",
    "    mlflow.log_param('batch_size', 16)\n",
    "\n",
    "    # Train the model before saving/logging\n",
    "    history = model.fit(\n",
    "        [image_features, structured_data_scaled],  # Inputs\n",
    "        {'condition_output': condition_labels, 'amount_output': amount_labels},  # Outputs\n",
    "        epochs=200,\n",
    "        batch_size=16,\n",
    "        validation_split=0.2,\n",
    "        callbacks=[early_stopping, reduce_lr, checkpoint],  # Callbacks\n",
    "        verbose=1\n",
    "    )\n",
    "\n",
    "    # Log final training metrics (avoid KeyErrors)\n",
    "    mlflow.log_metric('condition_output_accuracy', history.history.get('condition_output_accuracy', [None])[-1])\n",
    "    mlflow.log_metric('amount_output_mse', history.history.get('amount_output_mse', [None])[-1])\n",
    "    \n",
    "    # Optionally log validation metrics\n",
    "    mlflow.log_metric('val_condition_output_accuracy', history.history.get('val_condition_output_accuracy', [None])[-1])\n",
    "    mlflow.log_metric('val_amount_output_mse', history.history.get('val_amount_output_mse', [None])[-1])\n",
    "\n",
    "    # Save and log trained model with a unique filename\n",
    "    model.save(model_path)\n",
    "    mlflow.tensorflow.log_model(model, artifact_path=\"model\")  # Log trained model\n",
    "\n",
    "    print(f\"Trained model saved and logged in MLflow at {model_path}\")\n"
   ]
  },
  {
   "cell_type": "code",
   "execution_count": 22,
   "id": "d9d263a6-f6e2-46b0-a5c7-08d0b017e36b",
   "metadata": {},
   "outputs": [
    {
     "data": {
      "image/png": "[encoded data removed]",
      "text/plain": [
       "<Figure size 640x480 with 1 Axes>"
      ]
     },
     "metadata": {},
     "output_type": "display_data"
    }
   ],
   "source": [
    "# Plot training and validation loss\n",
    "import matplotlib.pyplot as plt\n",
    "plt.plot(history.history['loss'], label='Training Loss')\n",
    "plt.plot(history.history['val_loss'], label='Validation Loss')\n",
    "plt.xlabel('Epochs')\n",
    "plt.ylabel('Loss')\n",
    "plt.legend()\n",
    "plt.title('Training and Validation Loss')\n",
    "plt.show()\n"
   ]
  },
  {
   "cell_type": "code",
   "execution_count": 23,
   "id": "e7fc882d-9a55-4812-a282-cd79a97ae49d",
   "metadata": {},
   "outputs": [
    {
     "name": "stdout",
     "output_type": "stream",
     "text": [
      "Final Training and Validation Metrics:\n",
      "\n",
      "Training Metrics:\n",
      "amount_output_loss: 0.0950\n",
      "amount_output_mse: 0.1946\n",
      "condition_output_accuracy: 1.0000\n",
      "condition_output_loss: 0.0022\n",
      "loss: 0.2020\n",
      "learning_rate: 0.0002\n",
      "\n",
      "Validation Metrics:\n",
      "val_amount_output_loss: 0.1248\n",
      "val_amount_output_mse: 0.2588\n",
      "val_condition_output_accuracy: 1.0000\n",
      "val_condition_output_loss: 0.0001\n",
      "val_loss: 0.2314\n"
     ]
    }
   ],
   "source": [
    "# Print the final training and validation metrics and losses\n",
    "print(\"Final Training and Validation Metrics:\")\n",
    "\n",
    "# Print the final training metrics\n",
    "print(\"\\nTraining Metrics:\")\n",
    "for metric, values in history.history.items():\n",
    "    if 'val_' not in metric:  # Training metrics do not contain 'val_'\n",
    "        print(f\"{metric}: {values[-1]:.4f}\")  # Print the last value for each training metric\n",
    "\n",
    "# Print the final validation metrics\n",
    "print(\"\\nValidation Metrics:\")\n",
    "for metric, values in history.history.items():\n",
    "    if 'val_' in metric:  # Validation metrics contain 'val_'\n",
    "        print(f\"{metric}: {values[-1]:.4f}\")  # Print the last value for each validation metric\n"
   ]
  },
  {
   "cell_type": "code",
   "execution_count": null,
   "id": "350a0d40-f7af-4e2a-a378-6a9c6e546859",
   "metadata": {},
   "outputs": [],
   "source": []
  },
  {
   "cell_type": "code",
   "execution_count": null,
   "id": "8f77829e-df9a-45c6-96a9-c59d0b5a924b",
   "metadata": {},
   "outputs": [],
   "source": []
  }
 ],
 "metadata": {
  "kernelspec": {
   "display_name": "Python 3.11",
   "language": "python",
   "name": "python3.11"
  },
  "language_info": {
   "codemirror_mode": {
    "name": "ipython",
    "version": 3
   },
   "file_extension": ".py",
   "mimetype": "text/x-python",
   "name": "python",
   "nbconvert_exporter": "python",
   "pygments_lexer": "ipython3",
   "version": "3.11.0"
  }
 },
 "nbformat": 4,
 "nbformat_minor": 5
}
