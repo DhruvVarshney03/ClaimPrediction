{
 "cells": [
  {
   "cell_type": "code",
   "execution_count": 1,
   "id": "841bb3b3-7125-4c05-8b2c-2710537a1a71",
   "metadata": {},
   "outputs": [],
   "source": [
    "import numpy as np\n",
    "import pandas as pd\n",
    "import tensorflow as tf\n",
    "from tensorflow.keras import layers, Model\n",
    "from tensorflow.keras.layers import Input, Dense, Flatten, Concatenate, Dropout, BatchNormalization, LeakyReLU, Multiply\n",
    "from tensorflow.keras.optimizers import Adam\n",
    "from tensorflow.keras.optimizers.schedules import CosineDecay\n",
    "from tensorflow.keras.callbacks import EarlyStopping, ModelCheckpoint, ReduceLROnPlateau\n",
    "from tensorflow.keras.metrics import AUC\n",
    "from tensorflow.keras.regularizers import l2\n",
    "import time\n",
    "import os\n",
    "import mlflow\n",
    "import mlflow.tensorflow\n",
    "import joblib"
   ]
  },
  {
   "cell_type": "markdown",
   "id": "d3a2883e-d396-46f7-8134-8a54cf5bfcbc",
   "metadata": {},
   "source": [
    "### Load Processed Data"
   ]
  },
  {
   "cell_type": "code",
   "execution_count": 2,
   "id": "a9a70b95-f488-48e5-a563-0eba85413b28",
   "metadata": {},
   "outputs": [],
   "source": [
    "data = joblib.load(r\"C:\\Users\\varsh\\OneDrive\\Desktop\\notebook\\Fast_Furious_Insured\\api\\processed_data\\final_dataOG.pkl\")"
   ]
  },
  {
   "cell_type": "code",
   "execution_count": 3,
   "id": "d5115236-3a8a-4d5e-9b26-8ab95a9ef668",
   "metadata": {},
   "outputs": [
    {
     "name": "stdout",
     "output_type": "stream",
     "text": [
      "Image_path          object\n",
      "Cost_of_vehicle    float64\n",
      "Min_coverage       float64\n",
      "Expiry_date        float64\n",
      "Max_coverage       float64\n",
      "                    ...   \n",
      "2043               float32\n",
      "2044               float32\n",
      "2045               float32\n",
      "2046               float32\n",
      "2047               float32\n",
      "Length: 2066, dtype: object\n",
      "(1310, 2066)\n",
      "                            Image_path  Cost_of_vehicle  Min_coverage  \\\n",
      "0  images/train_images/img_4513976.jpg         0.453657      0.453657   \n",
      "1  images/train_images/img_7764995.jpg         1.485276      1.485276   \n",
      "2   images/train_images/img_451308.jpg         1.350717      1.350717   \n",
      "3  images/train_images/img_7768372.jpg        -0.443403     -0.443403   \n",
      "4  images/train_images/img_7765274.jpg        -1.104984     -1.104984   \n",
      "\n",
      "   Expiry_date  Max_coverage  Condition    Amount  Insurance_company_A  \\\n",
      "0     0.694979      3.477133          0 -3.251022                  0.0   \n",
      "1     0.036866      0.210875          1  0.541665                  0.0   \n",
      "2    -1.333450      4.449064          0 -3.251022                  1.0   \n",
      "3    -1.345041     -0.389600          1  0.636131                  1.0   \n",
      "4     0.416794     -0.595577          1  0.696594                  0.0   \n",
      "\n",
      "   Insurance_company_AA  Insurance_company_AC  ...  2038  2039      2040  \\\n",
      "0                   0.0                   0.0  ...   0.0   0.0  0.391611   \n",
      "1                   0.0                   0.0  ...   0.0   0.0  0.353185   \n",
      "2                   0.0                   0.0  ...   0.0   0.0  0.317310   \n",
      "3                   0.0                   0.0  ...   0.0   0.0  0.304931   \n",
      "4                   0.0                   1.0  ...   0.0   0.0  0.415673   \n",
      "\n",
      "   2041  2042  2043      2044  2045      2046  2047  \n",
      "0   0.0   0.0   0.0  0.001786   0.0  0.000000   0.0  \n",
      "1   0.0   0.0   0.0  0.000000   0.0  0.000000   0.0  \n",
      "2   0.0   0.0   0.0  0.000000   0.0  0.000000   0.0  \n",
      "3   0.0   0.0   0.0  0.000000   0.0  0.002559   0.0  \n",
      "4   0.0   0.0   0.0  0.000000   0.0  0.000000   0.0  \n",
      "\n",
      "[5 rows x 2066 columns]\n"
     ]
    }
   ],
   "source": [
    "print(data.dtypes)\n",
    "print(data.shape)\n",
    "print(data.head())"
   ]
  },
  {
   "cell_type": "code",
   "execution_count": 4,
   "id": "3e3c3977-a9f1-4052-875c-1c58a5569ce0",
   "metadata": {},
   "outputs": [],
   "source": [
    "# Extract structured data (already encoded & scaled)\n",
    "# Extract first 18 columns, excluding columns 1, 6, and 7\n",
    "structured_data = data.iloc[:, :18]  # First 18 columns\n",
    "structured_data = structured_data.drop(columns=[data.columns[0], data.columns[5], data.columns[6]])\n",
    "structured_data_scaled = structured_data.values\n"
   ]
  },
  {
   "cell_type": "code",
   "execution_count": 5,
   "id": "0bad21c8-98c8-47b3-8a3f-f70ee6adc9ae",
   "metadata": {},
   "outputs": [],
   "source": [
    "# Extract image features\n",
    "image_features = data.iloc[:, 18:].values"
   ]
  },
  {
   "cell_type": "code",
   "execution_count": 6,
   "id": "ab67fa08-6636-4b77-97b4-8b8083ae9368",
   "metadata": {},
   "outputs": [
    {
     "name": "stdout",
     "output_type": "stream",
     "text": [
      "Index(['Cost_of_vehicle', 'Min_coverage', 'Expiry_date', 'Max_coverage',\n",
      "       'Insurance_company_A', 'Insurance_company_AA', 'Insurance_company_AC',\n",
      "       'Insurance_company_B', 'Insurance_company_BB', 'Insurance_company_BC',\n",
      "       'Insurance_company_BQ', 'Insurance_company_C', 'Insurance_company_DA',\n",
      "       'Insurance_company_O', 'Insurance_company_RE'],\n",
      "      dtype='object')\n",
      "Index([          'Image_path',      'Cost_of_vehicle',         'Min_coverage',\n",
      "                'Expiry_date',         'Max_coverage',            'Condition',\n",
      "                     'Amount',  'Insurance_company_A', 'Insurance_company_AA',\n",
      "       'Insurance_company_AC',\n",
      "       ...\n",
      "                         2038,                   2039,                   2040,\n",
      "                         2041,                   2042,                   2043,\n",
      "                         2044,                   2045,                   2046,\n",
      "                         2047],\n",
      "      dtype='object', length=2066)\n"
     ]
    }
   ],
   "source": [
    "print(structured_data.columns)\n",
    "print(data.columns)"
   ]
  },
  {
   "cell_type": "code",
   "execution_count": 7,
   "id": "1d0adeb8-e50b-4b8d-b4af-5483b76556d1",
   "metadata": {},
   "outputs": [
    {
     "data": {
      "text/plain": [
       "(1310, 2048)"
      ]
     },
     "execution_count": 7,
     "metadata": {},
     "output_type": "execute_result"
    }
   ],
   "source": [
    "image_features.shape"
   ]
  },
  {
   "cell_type": "code",
   "execution_count": 8,
   "id": "57740ae8-57f0-49e0-b7be-f2ee520f8cc4",
   "metadata": {},
   "outputs": [],
   "source": [
    "# Extract labels\n",
    "condition_labels = data['Condition'].values  # Binary classification target\n",
    "amount_labels = data['Amount'].values.reshape(-1, 1)  # Regression target"
   ]
  },
  {
   "cell_type": "code",
   "execution_count": 9,
   "id": "fc5a158c-bc2f-4bde-8dd5-3d708686c7b7",
   "metadata": {},
   "outputs": [],
   "source": [
    "# Check for NaNs before training\n",
    "assert not np.any(pd.isna(condition_labels)), \"Condition labels contain NaNs!\"\n",
    "assert not np.any(pd.isna(amount_labels)), \"Amount labels contain NaNs!\"\n"
   ]
  },
  {
   "cell_type": "code",
   "execution_count": 10,
   "id": "c4930818-54eb-40bc-94a7-56668f76783a",
   "metadata": {},
   "outputs": [
    {
     "name": "stdout",
     "output_type": "stream",
     "text": [
      "0 0\n"
     ]
    }
   ],
   "source": [
    "print(np.isnan(image_features).sum(), np.isnan(structured_data_scaled).sum())"
   ]
  },
  {
   "cell_type": "code",
   "execution_count": null,
   "id": "20b1b618-10af-4392-b3d4-56b9b29655f5",
   "metadata": {},
   "outputs": [],
   "source": []
  },
  {
   "cell_type": "markdown",
   "id": "bd193549-e5ea-4105-8ba9-647f208a5365",
   "metadata": {},
   "source": [
    "### Build Model"
   ]
  },
  {
   "cell_type": "code",
   "execution_count": 11,
   "id": "22d2e40e-efe3-4dd4-8dac-e22037be7de4",
   "metadata": {},
   "outputs": [],
   "source": [
    "#Image Feature Branch\n",
    "image_input = Input(shape=(image_features.shape[1],), name='image_input')\n",
    "x = Dense(2048, kernel_initializer='he_normal', kernel_regularizer=l2(0.00095))(image_input)\n",
    "x = BatchNormalization()(x)\n",
    "x = LeakyReLU(negative_slope=0.1)(x)\n",
    "x = Dropout(0.2)(x)\n",
    "\n",
    "x = Dense(1024, kernel_initializer='he_normal', kernel_regularizer=l2(0.00095))(x)\n",
    "x = BatchNormalization()(x)\n",
    "x = LeakyReLU(negative_slope=0.1)(x)\n",
    "x = Dropout(0.2)(x)\n",
    "\n",
    "x = Dense(512, kernel_initializer='he_normal', kernel_regularizer=l2(0.00095))(x)\n",
    "x = BatchNormalization()(x)\n",
    "x = LeakyReLU(negative_slope=0.1)(x)\n",
    "x = Dropout(0.2)(x)"
   ]
  },
  {
   "cell_type": "code",
   "execution_count": 12,
   "id": "88445203-bd37-4365-b5a9-f6a48199ac8a",
   "metadata": {},
   "outputs": [],
   "source": [
    "#Structured Data Branch\n",
    "structured_input = Input(shape=(structured_data_scaled.shape[1],), name='structured_input')\n",
    "y = Dense(256, kernel_initializer='he_normal', kernel_regularizer=l2(0.00095))(structured_input)\n",
    "y = BatchNormalization()(y)\n",
    "y = LeakyReLU(negative_slope=0.1)(y)\n",
    "y = Dropout(0.2)(y)\n",
    "\n",
    "y = Dense(128, kernel_initializer='he_normal', kernel_regularizer=l2(0.00095))(y)\n",
    "y = BatchNormalization()(y)\n",
    "y = LeakyReLU(negative_slope=0.1)(y)\n",
    "y = Dropout(0.2)(y)\n"
   ]
  },
  {
   "cell_type": "code",
   "execution_count": 13,
   "id": "33daa643-4d32-4701-9e2d-5ef2f72c53da",
   "metadata": {},
   "outputs": [],
   "source": [
    "combined = Concatenate()([x, y])\n",
    "\n",
    "z = Dense(256, kernel_initializer='he_normal', kernel_regularizer=l2(0.00095))(combined)\n",
    "z = BatchNormalization()(z)\n",
    "z = LeakyReLU(negative_slope=0.1)(z)\n",
    "z = Dropout(0.2)(z)\n",
    "\n",
    "z = Dense(128, kernel_initializer='he_normal', kernel_regularizer=l2(0.00095))(z)\n",
    "z = BatchNormalization()(z)\n",
    "z = LeakyReLU(negative_slope=0.1)(z)\n",
    "z = Dropout(0.2)(z)\n",
    "\n",
    "\n"
   ]
  },
  {
   "cell_type": "code",
   "execution_count": 14,
   "id": "59d21550-e6a1-4d6c-8758-accc3b86f51b",
   "metadata": {},
   "outputs": [],
   "source": [
    "# Output 1: Condition (Binary Classification)\n",
    "condition_output = Dense(1, activation='sigmoid', name='condition_output')(z)"
   ]
  },
  {
   "cell_type": "code",
   "execution_count": 15,
   "id": "19e5f437-4d2d-429d-bc38-2da646333e68",
   "metadata": {},
   "outputs": [],
   "source": [
    "# Output 2: Amount (Regression)\n",
    "amount_output = Dense(1, activation='linear', name='amount_output')(z)"
   ]
  },
  {
   "cell_type": "code",
   "execution_count": 16,
   "id": "a5bcfcf1-22bc-4109-b38d-e96410d861ba",
   "metadata": {},
   "outputs": [],
   "source": [
    "# Define the Model\n",
    "model = Model(inputs=[image_input, structured_input], outputs=[condition_output, amount_output])"
   ]
  },
  {
   "cell_type": "code",
   "execution_count": 17,
   "id": "8bccf273-0821-49b8-9fe4-b0d9bb987500",
   "metadata": {},
   "outputs": [],
   "source": [
    "# CosineDecay for Adaptive Learning Rate\n",
    "lr_schedule = CosineDecay(initial_learning_rate=0.001, decay_steps=1000, alpha=0.0001)"
   ]
  },
  {
   "cell_type": "code",
   "execution_count": 18,
   "id": "6f29925e-b988-4f7a-9705-009ab5f5c36f",
   "metadata": {},
   "outputs": [],
   "source": [
    "# from tensorflow.keras.saving import register_keras_serializable\n",
    "\n",
    "# @register_keras_serializable()\n",
    "# def weighted_huber_loss(y_true, y_pred):\n",
    "#     delta = 5000  # Adjust as needed\n",
    "#     weights = 1 + (y_true / tf.reduce_max(y_true))  # Higher weight for high claims\n",
    "#     huber = tf.keras.losses.Huber(delta=delta)(y_true, y_pred)\n",
    "#     return tf.reduce_mean(huber * weights)"
   ]
  },
  {
   "cell_type": "code",
   "execution_count": 19,
   "id": "ca9b532b-8131-4cf9-b4fc-11d27ecc999b",
   "metadata": {},
   "outputs": [],
   "source": [
    "# Compile the Model\n",
    "# Loss Weights to balance binary classification and regression loss\n",
    "#loss_weights = {'condition_output': 1.0, 'amount_output': 0.1}\n",
    "\n",
    "model.compile(optimizer=Adam(learning_rate=lr_schedule, clipnorm=1.0),\n",
    "              loss={'condition_output': 'binary_crossentropy', 'amount_output':tf.keras.losses.Huber(delta=5000.0)},\n",
    "              metrics={'condition_output': AUC(), 'amount_output':'mae'}  # Or another suitable metric\n",
    ")"
   ]
  },
  {
   "cell_type": "code",
   "execution_count": 20,
   "id": "99582ed9-145d-415a-a758-48d6ff12284c",
   "metadata": {},
   "outputs": [],
   "source": [
    "#callback\n",
    "early_stopping = EarlyStopping(monitor='val_loss', patience=5, restore_best_weights=True)\n",
    "#reduce_lr = ReduceLROnPlateau(monitor='val_loss', factor=0.5, patience=3, min_lr=1e-6)\n",
    "best_model_path = r'C:\\Users\\varsh\\OneDrive\\Desktop\\notebook\\Fast_Furious_Insured\\api\\models\\best_model.keras'\n",
    "\n",
    "checkpoint = ModelCheckpoint(\n",
    "    best_model_path,\n",
    "    monitor='val_loss',  # Monitor validation loss\n",
    "    save_best_only=True,  # Save only the best model (based on validation loss)\n",
    "    mode='min',  # We want to minimize the validation loss\n",
    "    verbose=1\n",
    ")\n"
   ]
  },
  {
   "cell_type": "markdown",
   "id": "82412ff1-0914-41b3-b866-e1a7054aabbe",
   "metadata": {},
   "source": [
    "### Train Model"
   ]
  },
  {
   "cell_type": "code",
   "execution_count": 21,
   "id": "6b56657d-afef-4eed-92e5-835f769898c3",
   "metadata": {},
   "outputs": [
    {
     "name": "stdout",
     "output_type": "stream",
     "text": [
      "(1310,) (1310, 1)\n"
     ]
    }
   ],
   "source": [
    "print(condition_labels.shape, amount_labels.shape)"
   ]
  },
  {
   "cell_type": "code",
   "execution_count": 22,
   "id": "a540b812-e4e9-4a06-adfd-699e5b1df439",
   "metadata": {},
   "outputs": [],
   "source": [
    "# Print the model summary\n",
    "#model.summary()"
   ]
  },
  {
   "cell_type": "code",
   "execution_count": 23,
   "id": "58da60ca-8df4-4bdf-9d5b-5f5989b29b37",
   "metadata": {},
   "outputs": [],
   "source": [
    "# Ensure model directory exists\n",
    "model_dir = r\"C:\\Users\\varsh\\OneDrive\\Desktop\\notebook\\Fast_Furious_Insured\\api\\models\"\n",
    "os.makedirs(model_dir, exist_ok=True)"
   ]
  },
  {
   "cell_type": "code",
   "execution_count": 24,
   "id": "9bfc4247-b21f-4a97-9b94-cf5724d09378",
   "metadata": {},
   "outputs": [],
   "source": [
    "# Generate unique model filename\n",
    "timestamp = int(time.time())\n",
    "model_path = os.path.join(model_dir, f\"model_{timestamp}.keras\")\n"
   ]
  },
  {
   "cell_type": "code",
   "execution_count": 25,
   "id": "f73114ec-c5e0-4939-88bd-f75b2e026581",
   "metadata": {},
   "outputs": [],
   "source": [
    "# Set up MLflow Tracking\n",
    "#mlflow.set_tracking_uri(\"file:C:/Users/varsh/OneDrive/Desktop/notebook/Fast_Furious_Insured/python notebooks/mlruns\")"
   ]
  },
  {
   "cell_type": "code",
   "execution_count": 26,
   "id": "d7ff2ea8-da71-465d-834c-005c673a2ddc",
   "metadata": {
    "scrolled": true
   },
   "outputs": [
    {
     "name": "stdout",
     "output_type": "stream",
     "text": [
      "Epoch 1/200\n",
      "\u001b[1m33/33\u001b[0m \u001b[32m━━━━━━━━━━━━━━━━━━━━\u001b[0m\u001b[37m\u001b[0m \u001b[1m0s\u001b[0m 154ms/step - amount_output_loss: 0.8588 - amount_output_mae: 0.9919 - condition_output_auc: 0.7161 - condition_output_loss: 0.4681 - loss: 8.8813 \n",
      "Epoch 1: val_loss improved from inf to 6.78582, saving model to C:\\Users\\varsh\\OneDrive\\Desktop\\notebook\\Fast_Furious_Insured\\api\\models\\best_model.keras\n",
      "\u001b[1m33/33\u001b[0m \u001b[32m━━━━━━━━━━━━━━━━━━━━\u001b[0m\u001b[37m\u001b[0m \u001b[1m18s\u001b[0m 255ms/step - amount_output_loss: 0.8514 - amount_output_mae: 0.9873 - condition_output_auc: 0.7205 - condition_output_loss: 0.4643 - loss: 8.8496 - val_amount_output_loss: 1.1686 - val_amount_output_mae: 1.4091 - val_condition_output_auc: 1.0000 - val_condition_output_loss: 0.0913 - val_loss: 6.7858\n",
      "Epoch 2/200\n",
      "\u001b[1m33/33\u001b[0m \u001b[32m━━━━━━━━━━━━━━━━━━━━\u001b[0m\u001b[37m\u001b[0m \u001b[1m0s\u001b[0m 158ms/step - amount_output_loss: 0.3301 - amount_output_mae: 0.6238 - condition_output_auc: 0.9943 - condition_output_loss: 0.1063 - loss: 5.6440\n",
      "Epoch 2: val_loss improved from 6.78582 to 4.94579, saving model to C:\\Users\\varsh\\OneDrive\\Desktop\\notebook\\Fast_Furious_Insured\\api\\models\\best_model.keras\n",
      "\u001b[1m33/33\u001b[0m \u001b[32m━━━━━━━━━━━━━━━━━━━━\u001b[0m\u001b[37m\u001b[0m \u001b[1m6s\u001b[0m 194ms/step - amount_output_loss: 0.3291 - amount_output_mae: 0.6228 - condition_output_auc: 0.9944 - condition_output_loss: 0.1057 - loss: 5.6342 - val_amount_output_loss: 0.2621 - val_amount_output_mae: 0.5759 - val_condition_output_auc: 1.0000 - val_condition_output_loss: 0.2737 - val_loss: 4.9458\n",
      "Epoch 3/200\n",
      "\u001b[1m33/33\u001b[0m \u001b[32m━━━━━━━━━━━━━━━━━━━━\u001b[0m\u001b[37m\u001b[0m \u001b[1m0s\u001b[0m 153ms/step - amount_output_loss: 0.2871 - amount_output_mae: 0.5826 - condition_output_auc: 0.9994 - condition_output_loss: 0.0590 - loss: 4.5789\n",
      "Epoch 3: val_loss improved from 4.94579 to 4.07982, saving model to C:\\Users\\varsh\\OneDrive\\Desktop\\notebook\\Fast_Furious_Insured\\api\\models\\best_model.keras\n",
      "\u001b[1m33/33\u001b[0m \u001b[32m━━━━━━━━━━━━━━━━━━━━\u001b[0m\u001b[37m\u001b[0m \u001b[1m6s\u001b[0m 185ms/step - amount_output_loss: 0.2870 - amount_output_mae: 0.5819 - condition_output_auc: 0.9993 - condition_output_loss: 0.0588 - loss: 4.5735 - val_amount_output_loss: 0.2605 - val_amount_output_mae: 0.6206 - val_condition_output_auc: 1.0000 - val_condition_output_loss: 0.1020 - val_loss: 4.0798\n",
      "Epoch 4/200\n",
      "\u001b[1m33/33\u001b[0m \u001b[32m━━━━━━━━━━━━━━━━━━━━\u001b[0m\u001b[37m\u001b[0m \u001b[1m0s\u001b[0m 147ms/step - amount_output_loss: 0.2583 - amount_output_mae: 0.5510 - condition_output_auc: 1.0000 - condition_output_loss: 0.0336 - loss: 3.8639\n",
      "Epoch 4: val_loss improved from 4.07982 to 3.30490, saving model to C:\\Users\\varsh\\OneDrive\\Desktop\\notebook\\Fast_Furious_Insured\\api\\models\\best_model.keras\n",
      "\u001b[1m33/33\u001b[0m \u001b[32m━━━━━━━━━━━━━━━━━━━━\u001b[0m\u001b[37m\u001b[0m \u001b[1m6s\u001b[0m 179ms/step - amount_output_loss: 0.2580 - amount_output_mae: 0.5506 - condition_output_auc: 1.0000 - condition_output_loss: 0.0335 - loss: 3.8595 - val_amount_output_loss: 0.0995 - val_amount_output_mae: 0.3347 - val_condition_output_auc: 1.0000 - val_condition_output_loss: 0.0414 - val_loss: 3.3049\n",
      "Epoch 5/200\n",
      "\u001b[1m33/33\u001b[0m \u001b[32m━━━━━━━━━━━━━━━━━━━━\u001b[0m\u001b[37m\u001b[0m \u001b[1m0s\u001b[0m 145ms/step - amount_output_loss: 0.2431 - amount_output_mae: 0.5261 - condition_output_auc: 0.9986 - condition_output_loss: 0.0329 - loss: 3.3206\n",
      "Epoch 5: val_loss improved from 3.30490 to 2.83247, saving model to C:\\Users\\varsh\\OneDrive\\Desktop\\notebook\\Fast_Furious_Insured\\api\\models\\best_model.keras\n",
      "\u001b[1m33/33\u001b[0m \u001b[32m━━━━━━━━━━━━━━━━━━━━\u001b[0m\u001b[37m\u001b[0m \u001b[1m6s\u001b[0m 174ms/step - amount_output_loss: 0.2425 - amount_output_mae: 0.5255 - condition_output_auc: 0.9985 - condition_output_loss: 0.0328 - loss: 3.3168 - val_amount_output_loss: 0.0966 - val_amount_output_mae: 0.3436 - val_condition_output_auc: 1.0000 - val_condition_output_loss: 0.0214 - val_loss: 2.8325\n",
      "Epoch 6/200\n",
      "\u001b[1m33/33\u001b[0m \u001b[32m━━━━━━━━━━━━━━━━━━━━\u001b[0m\u001b[37m\u001b[0m \u001b[1m0s\u001b[0m 144ms/step - amount_output_loss: 0.1950 - amount_output_mae: 0.4678 - condition_output_auc: 1.0000 - condition_output_loss: 0.0195 - loss: 2.8324\n",
      "Epoch 6: val_loss improved from 2.83247 to 2.46621, saving model to C:\\Users\\varsh\\OneDrive\\Desktop\\notebook\\Fast_Furious_Insured\\api\\models\\best_model.keras\n",
      "\u001b[1m33/33\u001b[0m \u001b[32m━━━━━━━━━━━━━━━━━━━━\u001b[0m\u001b[37m\u001b[0m \u001b[1m6s\u001b[0m 186ms/step - amount_output_loss: 0.1947 - amount_output_mae: 0.4675 - condition_output_auc: 1.0000 - condition_output_loss: 0.0195 - loss: 2.8295 - val_amount_output_loss: 0.1045 - val_amount_output_mae: 0.3326 - val_condition_output_auc: 1.0000 - val_condition_output_loss: 0.0128 - val_loss: 2.4662\n",
      "Epoch 7/200\n",
      "\u001b[1m33/33\u001b[0m \u001b[32m━━━━━━━━━━━━━━━━━━━━\u001b[0m\u001b[37m\u001b[0m \u001b[1m0s\u001b[0m 139ms/step - amount_output_loss: 0.1490 - amount_output_mae: 0.4125 - condition_output_auc: 1.0000 - condition_output_loss: 0.0123 - loss: 2.4324\n",
      "Epoch 7: val_loss improved from 2.46621 to 2.17832, saving model to C:\\Users\\varsh\\OneDrive\\Desktop\\notebook\\Fast_Furious_Insured\\api\\models\\best_model.keras\n",
      "\u001b[1m33/33\u001b[0m \u001b[32m━━━━━━━━━━━━━━━━━━━━\u001b[0m\u001b[37m\u001b[0m \u001b[1m6s\u001b[0m 169ms/step - amount_output_loss: 0.1497 - amount_output_mae: 0.4132 - condition_output_auc: 1.0000 - condition_output_loss: 0.0123 - loss: 2.4310 - val_amount_output_loss: 0.1125 - val_amount_output_mae: 0.3288 - val_condition_output_auc: 1.0000 - val_condition_output_loss: 0.0082 - val_loss: 2.1783\n",
      "Epoch 8/200\n",
      "\u001b[1m33/33\u001b[0m \u001b[32m━━━━━━━━━━━━━━━━━━━━\u001b[0m\u001b[37m\u001b[0m \u001b[1m0s\u001b[0m 146ms/step - amount_output_loss: 0.1640 - amount_output_mae: 0.4398 - condition_output_auc: 1.0000 - condition_output_loss: 0.0131 - loss: 2.1722\n",
      "Epoch 8: val_loss improved from 2.17832 to 1.92768, saving model to C:\\Users\\varsh\\OneDrive\\Desktop\\notebook\\Fast_Furious_Insured\\api\\models\\best_model.keras\n",
      "\u001b[1m33/33\u001b[0m \u001b[32m━━━━━━━━━━━━━━━━━━━━\u001b[0m\u001b[37m\u001b[0m \u001b[1m6s\u001b[0m 178ms/step - amount_output_loss: 0.1639 - amount_output_mae: 0.4399 - condition_output_auc: 1.0000 - condition_output_loss: 0.0132 - loss: 2.1705 - val_amount_output_loss: 0.0952 - val_amount_output_mae: 0.3102 - val_condition_output_auc: 1.0000 - val_condition_output_loss: 0.0074 - val_loss: 1.9277\n",
      "Epoch 9/200\n",
      "\u001b[1m33/33\u001b[0m \u001b[32m━━━━━━━━━━━━━━━━━━━━\u001b[0m\u001b[37m\u001b[0m \u001b[1m0s\u001b[0m 137ms/step - amount_output_loss: 0.1647 - amount_output_mae: 0.4374 - condition_output_auc: 1.0000 - condition_output_loss: 0.0133 - loss: 1.9546\n",
      "Epoch 9: val_loss improved from 1.92768 to 1.73353, saving model to C:\\Users\\varsh\\OneDrive\\Desktop\\notebook\\Fast_Furious_Insured\\api\\models\\best_model.keras\n",
      "\u001b[1m33/33\u001b[0m \u001b[32m━━━━━━━━━━━━━━━━━━━━\u001b[0m\u001b[37m\u001b[0m \u001b[1m6s\u001b[0m 167ms/step - amount_output_loss: 0.1649 - amount_output_mae: 0.4376 - condition_output_auc: 1.0000 - condition_output_loss: 0.0133 - loss: 1.9534 - val_amount_output_loss: 0.0891 - val_amount_output_mae: 0.3218 - val_condition_output_auc: 1.0000 - val_condition_output_loss: 0.0054 - val_loss: 1.7335\n",
      "Epoch 10/200\n",
      "\u001b[1m33/33\u001b[0m \u001b[32m━━━━━━━━━━━━━━━━━━━━\u001b[0m\u001b[37m\u001b[0m \u001b[1m0s\u001b[0m 144ms/step - amount_output_loss: 0.1481 - amount_output_mae: 0.4202 - condition_output_auc: 1.0000 - condition_output_loss: 0.0113 - loss: 1.7594\n",
      "Epoch 10: val_loss improved from 1.73353 to 1.57558, saving model to C:\\Users\\varsh\\OneDrive\\Desktop\\notebook\\Fast_Furious_Insured\\api\\models\\best_model.keras\n",
      "\u001b[1m33/33\u001b[0m \u001b[32m━━━━━━━━━━━━━━━━━━━━\u001b[0m\u001b[37m\u001b[0m \u001b[1m6s\u001b[0m 173ms/step - amount_output_loss: 0.1484 - amount_output_mae: 0.4205 - condition_output_auc: 1.0000 - condition_output_loss: 0.0113 - loss: 1.7587 - val_amount_output_loss: 0.0823 - val_amount_output_mae: 0.2867 - val_condition_output_auc: 1.0000 - val_condition_output_loss: 0.0043 - val_loss: 1.5756\n",
      "Epoch 11/200\n",
      "\u001b[1m33/33\u001b[0m \u001b[32m━━━━━━━━━━━━━━━━━━━━\u001b[0m\u001b[37m\u001b[0m \u001b[1m0s\u001b[0m 161ms/step - amount_output_loss: 0.1523 - amount_output_mae: 0.4161 - condition_output_auc: 1.0000 - condition_output_loss: 0.0121 - loss: 1.6194\n",
      "Epoch 11: val_loss improved from 1.57558 to 1.44323, saving model to C:\\Users\\varsh\\OneDrive\\Desktop\\notebook\\Fast_Furious_Insured\\api\\models\\best_model.keras\n",
      "\u001b[1m33/33\u001b[0m \u001b[32m━━━━━━━━━━━━━━━━━━━━\u001b[0m\u001b[37m\u001b[0m \u001b[1m6s\u001b[0m 191ms/step - amount_output_loss: 0.1525 - amount_output_mae: 0.4164 - condition_output_auc: 1.0000 - condition_output_loss: 0.0121 - loss: 1.6187 - val_amount_output_loss: 0.0807 - val_amount_output_mae: 0.3145 - val_condition_output_auc: 1.0000 - val_condition_output_loss: 0.0037 - val_loss: 1.4432\n",
      "Epoch 12/200\n",
      "\u001b[1m33/33\u001b[0m \u001b[32m━━━━━━━━━━━━━━━━━━━━\u001b[0m\u001b[37m\u001b[0m \u001b[1m0s\u001b[0m 147ms/step - amount_output_loss: 0.1523 - amount_output_mae: 0.4241 - condition_output_auc: 1.0000 - condition_output_loss: 0.0090 - loss: 1.4941\n",
      "Epoch 12: val_loss improved from 1.44323 to 1.34227, saving model to C:\\Users\\varsh\\OneDrive\\Desktop\\notebook\\Fast_Furious_Insured\\api\\models\\best_model.keras\n",
      "\u001b[1m33/33\u001b[0m \u001b[32m━━━━━━━━━━━━━━━━━━━━\u001b[0m\u001b[37m\u001b[0m \u001b[1m6s\u001b[0m 179ms/step - amount_output_loss: 0.1522 - amount_output_mae: 0.4241 - condition_output_auc: 1.0000 - condition_output_loss: 0.0090 - loss: 1.4933 - val_amount_output_loss: 0.0847 - val_amount_output_mae: 0.3154 - val_condition_output_auc: 1.0000 - val_condition_output_loss: 0.0028 - val_loss: 1.3423\n",
      "Epoch 13/200\n",
      "\u001b[1m33/33\u001b[0m \u001b[32m━━━━━━━━━━━━━━━━━━━━\u001b[0m\u001b[37m\u001b[0m \u001b[1m0s\u001b[0m 146ms/step - amount_output_loss: 0.1211 - amount_output_mae: 0.3754 - condition_output_auc: 1.0000 - condition_output_loss: 0.0065 - loss: 1.3590\n",
      "Epoch 13: val_loss improved from 1.34227 to 1.26477, saving model to C:\\Users\\varsh\\OneDrive\\Desktop\\notebook\\Fast_Furious_Insured\\api\\models\\best_model.keras\n",
      "\u001b[1m33/33\u001b[0m \u001b[32m━━━━━━━━━━━━━━━━━━━━\u001b[0m\u001b[37m\u001b[0m \u001b[1m6s\u001b[0m 178ms/step - amount_output_loss: 0.1212 - amount_output_mae: 0.3756 - condition_output_auc: 1.0000 - condition_output_loss: 0.0064 - loss: 1.3584 - val_amount_output_loss: 0.0956 - val_amount_output_mae: 0.3475 - val_condition_output_auc: 1.0000 - val_condition_output_loss: 0.0021 - val_loss: 1.2648\n",
      "Epoch 14/200\n",
      "\u001b[1m33/33\u001b[0m \u001b[32m━━━━━━━━━━━━━━━━━━━━\u001b[0m\u001b[37m\u001b[0m \u001b[1m0s\u001b[0m 145ms/step - amount_output_loss: 0.1314 - amount_output_mae: 0.3973 - condition_output_auc: 1.0000 - condition_output_loss: 0.0074 - loss: 1.2837\n",
      "Epoch 14: val_loss improved from 1.26477 to 1.18521, saving model to C:\\Users\\varsh\\OneDrive\\Desktop\\notebook\\Fast_Furious_Insured\\api\\models\\best_model.keras\n",
      "\u001b[1m33/33\u001b[0m \u001b[32m━━━━━━━━━━━━━━━━━━━━\u001b[0m\u001b[37m\u001b[0m \u001b[1m6s\u001b[0m 174ms/step - amount_output_loss: 0.1314 - amount_output_mae: 0.3971 - condition_output_auc: 1.0000 - condition_output_loss: 0.0073 - loss: 1.2832 - val_amount_output_loss: 0.0917 - val_amount_output_mae: 0.3079 - val_condition_output_auc: 1.0000 - val_condition_output_loss: 0.0024 - val_loss: 1.1852\n",
      "Epoch 15/200\n",
      "\u001b[1m33/33\u001b[0m \u001b[32m━━━━━━━━━━━━━━━━━━━━\u001b[0m\u001b[37m\u001b[0m \u001b[1m0s\u001b[0m 146ms/step - amount_output_loss: 0.1337 - amount_output_mae: 0.3905 - condition_output_auc: 1.0000 - condition_output_loss: 0.0072 - loss: 1.2133\n",
      "Epoch 15: val_loss improved from 1.18521 to 1.12271, saving model to C:\\Users\\varsh\\OneDrive\\Desktop\\notebook\\Fast_Furious_Insured\\api\\models\\best_model.keras\n",
      "\u001b[1m33/33\u001b[0m \u001b[32m━━━━━━━━━━━━━━━━━━━━\u001b[0m\u001b[37m\u001b[0m \u001b[1m6s\u001b[0m 176ms/step - amount_output_loss: 0.1339 - amount_output_mae: 0.3908 - condition_output_auc: 1.0000 - condition_output_loss: 0.0072 - loss: 1.2131 - val_amount_output_loss: 0.0971 - val_amount_output_mae: 0.3853 - val_condition_output_auc: 1.0000 - val_condition_output_loss: 0.0027 - val_loss: 1.1227\n",
      "Epoch 16/200\n",
      "\u001b[1m33/33\u001b[0m \u001b[32m━━━━━━━━━━━━━━━━━━━━\u001b[0m\u001b[37m\u001b[0m \u001b[1m0s\u001b[0m 145ms/step - amount_output_loss: 0.1189 - amount_output_mae: 0.3737 - condition_output_auc: 0.9697 - condition_output_loss: 0.0084 - loss: 1.1405    \n",
      "Epoch 16: val_loss improved from 1.12271 to 1.05842, saving model to C:\\Users\\varsh\\OneDrive\\Desktop\\notebook\\Fast_Furious_Insured\\api\\models\\best_model.keras\n",
      "\u001b[1m33/33\u001b[0m \u001b[32m━━━━━━━━━━━━━━━━━━━━\u001b[0m\u001b[37m\u001b[0m \u001b[1m6s\u001b[0m 173ms/step - amount_output_loss: 0.1191 - amount_output_mae: 0.3739 - condition_output_auc: 0.9706 - condition_output_loss: 0.0084 - loss: 1.1403 - val_amount_output_loss: 0.0827 - val_amount_output_mae: 0.3146 - val_condition_output_auc: 1.0000 - val_condition_output_loss: 0.0020 - val_loss: 1.0584\n",
      "Epoch 17/200\n",
      "\u001b[1m33/33\u001b[0m \u001b[32m━━━━━━━━━━━━━━━━━━━━\u001b[0m\u001b[37m\u001b[0m \u001b[1m0s\u001b[0m 146ms/step - amount_output_loss: 0.1128 - amount_output_mae: 0.3644 - condition_output_auc: 1.0000 - condition_output_loss: 0.0049 - loss: 1.0806\n",
      "Epoch 17: val_loss improved from 1.05842 to 1.02250, saving model to C:\\Users\\varsh\\OneDrive\\Desktop\\notebook\\Fast_Furious_Insured\\api\\models\\best_model.keras\n",
      "\u001b[1m33/33\u001b[0m \u001b[32m━━━━━━━━━━━━━━━━━━━━\u001b[0m\u001b[37m\u001b[0m \u001b[1m6s\u001b[0m 175ms/step - amount_output_loss: 0.1131 - amount_output_mae: 0.3648 - condition_output_auc: 1.0000 - condition_output_loss: 0.0049 - loss: 1.0806 - val_amount_output_loss: 0.0903 - val_amount_output_mae: 0.3523 - val_condition_output_auc: 1.0000 - val_condition_output_loss: 0.0028 - val_loss: 1.0225\n",
      "Epoch 18/200\n",
      "\u001b[1m33/33\u001b[0m \u001b[32m━━━━━━━━━━━━━━━━━━━━\u001b[0m\u001b[37m\u001b[0m \u001b[1m0s\u001b[0m 146ms/step - amount_output_loss: 0.1050 - amount_output_mae: 0.3534 - condition_output_auc: 1.0000 - condition_output_loss: 0.0061 - loss: 1.0318\n",
      "Epoch 18: val_loss improved from 1.02250 to 1.01325, saving model to C:\\Users\\varsh\\OneDrive\\Desktop\\notebook\\Fast_Furious_Insured\\api\\models\\best_model.keras\n",
      "\u001b[1m33/33\u001b[0m \u001b[32m━━━━━━━━━━━━━━━━━━━━\u001b[0m\u001b[37m\u001b[0m \u001b[1m6s\u001b[0m 185ms/step - amount_output_loss: 0.1053 - amount_output_mae: 0.3539 - condition_output_auc: 1.0000 - condition_output_loss: 0.0061 - loss: 1.0319 - val_amount_output_loss: 0.1134 - val_amount_output_mae: 0.3449 - val_condition_output_auc: 1.0000 - val_condition_output_loss: 0.0023 - val_loss: 1.0133\n",
      "Epoch 19/200\n",
      "\u001b[1m33/33\u001b[0m \u001b[32m━━━━━━━━━━━━━━━━━━━━\u001b[0m\u001b[37m\u001b[0m \u001b[1m0s\u001b[0m 144ms/step - amount_output_loss: 0.1297 - amount_output_mae: 0.3921 - condition_output_auc: 1.0000 - condition_output_loss: 0.0072 - loss: 1.0224\n",
      "Epoch 19: val_loss improved from 1.01325 to 0.95165, saving model to C:\\Users\\varsh\\OneDrive\\Desktop\\notebook\\Fast_Furious_Insured\\api\\models\\best_model.keras\n",
      "\u001b[1m33/33\u001b[0m \u001b[32m━━━━━━━━━━━━━━━━━━━━\u001b[0m\u001b[37m\u001b[0m \u001b[1m6s\u001b[0m 174ms/step - amount_output_loss: 0.1297 - amount_output_mae: 0.3920 - condition_output_auc: 1.0000 - condition_output_loss: 0.0072 - loss: 1.0222 - val_amount_output_loss: 0.0863 - val_amount_output_mae: 0.3280 - val_condition_output_auc: 1.0000 - val_condition_output_loss: 0.0017 - val_loss: 0.9517\n",
      "Epoch 20/200\n",
      "\u001b[1m33/33\u001b[0m \u001b[32m━━━━━━━━━━━━━━━━━━━━\u001b[0m\u001b[37m\u001b[0m \u001b[1m0s\u001b[0m 146ms/step - amount_output_loss: 0.1025 - amount_output_mae: 0.3522 - condition_output_auc: 1.0000 - condition_output_loss: 0.0039 - loss: 0.9637\n",
      "Epoch 20: val_loss improved from 0.95165 to 0.93820, saving model to C:\\Users\\varsh\\OneDrive\\Desktop\\notebook\\Fast_Furious_Insured\\api\\models\\best_model.keras\n",
      "\u001b[1m33/33\u001b[0m \u001b[32m━━━━━━━━━━━━━━━━━━━━\u001b[0m\u001b[37m\u001b[0m \u001b[1m6s\u001b[0m 176ms/step - amount_output_loss: 0.1024 - amount_output_mae: 0.3520 - condition_output_auc: 1.0000 - condition_output_loss: 0.0039 - loss: 0.9635 - val_amount_output_loss: 0.0961 - val_amount_output_mae: 0.2923 - val_condition_output_auc: 1.0000 - val_condition_output_loss: 0.0017 - val_loss: 0.9382\n",
      "Epoch 21/200\n",
      "\u001b[1m33/33\u001b[0m \u001b[32m━━━━━━━━━━━━━━━━━━━━\u001b[0m\u001b[37m\u001b[0m \u001b[1m0s\u001b[0m 146ms/step - amount_output_loss: 0.1093 - amount_output_mae: 0.3525 - condition_output_auc: 1.0000 - condition_output_loss: 0.0055 - loss: 0.9467\n",
      "Epoch 21: val_loss improved from 0.93820 to 0.89434, saving model to C:\\Users\\varsh\\OneDrive\\Desktop\\notebook\\Fast_Furious_Insured\\api\\models\\best_model.keras\n",
      "\u001b[1m33/33\u001b[0m \u001b[32m━━━━━━━━━━━━━━━━━━━━\u001b[0m\u001b[37m\u001b[0m \u001b[1m6s\u001b[0m 178ms/step - amount_output_loss: 0.1096 - amount_output_mae: 0.3530 - condition_output_auc: 1.0000 - condition_output_loss: 0.0055 - loss: 0.9468 - val_amount_output_loss: 0.0802 - val_amount_output_mae: 0.3021 - val_condition_output_auc: 1.0000 - val_condition_output_loss: 0.0016 - val_loss: 0.8943\n",
      "Epoch 22/200\n",
      "\u001b[1m33/33\u001b[0m \u001b[32m━━━━━━━━━━━━━━━━━━━━\u001b[0m\u001b[37m\u001b[0m \u001b[1m0s\u001b[0m 147ms/step - amount_output_loss: 0.1045 - amount_output_mae: 0.3472 - condition_output_auc: 1.0000 - condition_output_loss: 0.0051 - loss: 0.9198\n",
      "Epoch 22: val_loss did not improve from 0.89434\n",
      "\u001b[1m33/33\u001b[0m \u001b[32m━━━━━━━━━━━━━━━━━━━━\u001b[0m\u001b[37m\u001b[0m \u001b[1m5s\u001b[0m 156ms/step - amount_output_loss: 0.1045 - amount_output_mae: 0.3473 - condition_output_auc: 1.0000 - condition_output_loss: 0.0051 - loss: 0.9197 - val_amount_output_loss: 0.1694 - val_amount_output_mae: 0.4249 - val_condition_output_auc: 1.0000 - val_condition_output_loss: 0.0012 - val_loss: 0.9713\n",
      "Epoch 23/200\n",
      "\u001b[1m33/33\u001b[0m \u001b[32m━━━━━━━━━━━━━━━━━━━━\u001b[0m\u001b[37m\u001b[0m \u001b[1m0s\u001b[0m 144ms/step - amount_output_loss: 0.0919 - amount_output_mae: 0.3344 - condition_output_auc: 1.0000 - condition_output_loss: 0.0041 - loss: 0.8891\n",
      "Epoch 23: val_loss improved from 0.89434 to 0.88171, saving model to C:\\Users\\varsh\\OneDrive\\Desktop\\notebook\\Fast_Furious_Insured\\api\\models\\best_model.keras\n",
      "\u001b[1m33/33\u001b[0m \u001b[32m━━━━━━━━━━━━━━━━━━━━\u001b[0m\u001b[37m\u001b[0m \u001b[1m6s\u001b[0m 178ms/step - amount_output_loss: 0.0918 - amount_output_mae: 0.3341 - condition_output_auc: 1.0000 - condition_output_loss: 0.0041 - loss: 0.8889 - val_amount_output_loss: 0.0960 - val_amount_output_mae: 0.3013 - val_condition_output_auc: 1.0000 - val_condition_output_loss: 0.0017 - val_loss: 0.8817\n",
      "Epoch 24/200\n",
      "\u001b[1m33/33\u001b[0m \u001b[32m━━━━━━━━━━━━━━━━━━━━\u001b[0m\u001b[37m\u001b[0m \u001b[1m0s\u001b[0m 150ms/step - amount_output_loss: 0.1129 - amount_output_mae: 0.3550 - condition_output_auc: 1.0000 - condition_output_loss: 0.0066 - loss: 0.8987\n",
      "Epoch 24: val_loss did not improve from 0.88171\n",
      "\u001b[1m33/33\u001b[0m \u001b[32m━━━━━━━━━━━━━━━━━━━━\u001b[0m\u001b[37m\u001b[0m \u001b[1m5s\u001b[0m 159ms/step - amount_output_loss: 0.1125 - amount_output_mae: 0.3547 - condition_output_auc: 1.0000 - condition_output_loss: 0.0066 - loss: 0.8983 - val_amount_output_loss: 0.1454 - val_amount_output_mae: 0.3797 - val_condition_output_auc: 1.0000 - val_condition_output_loss: 0.0017 - val_loss: 0.9203\n",
      "Epoch 25/200\n",
      "\u001b[1m33/33\u001b[0m \u001b[32m━━━━━━━━━━━━━━━━━━━━\u001b[0m\u001b[37m\u001b[0m \u001b[1m0s\u001b[0m 147ms/step - amount_output_loss: 0.1162 - amount_output_mae: 0.3701 - condition_output_auc: 0.9697 - condition_output_loss: 0.0055 - loss: 0.8904    \n",
      "Epoch 25: val_loss did not improve from 0.88171\n",
      "\u001b[1m33/33\u001b[0m \u001b[32m━━━━━━━━━━━━━━━━━━━━\u001b[0m\u001b[37m\u001b[0m \u001b[1m5s\u001b[0m 156ms/step - amount_output_loss: 0.1158 - amount_output_mae: 0.3694 - condition_output_auc: 0.9706 - condition_output_loss: 0.0054 - loss: 0.8899 - val_amount_output_loss: 0.1719 - val_amount_output_mae: 0.4309 - val_condition_output_auc: 1.0000 - val_condition_output_loss: 0.0017 - val_loss: 0.9395\n",
      "Epoch 26/200\n",
      "\u001b[1m33/33\u001b[0m \u001b[32m━━━━━━━━━━━━━━━━━━━━\u001b[0m\u001b[37m\u001b[0m \u001b[1m0s\u001b[0m 146ms/step - amount_output_loss: 0.0874 - amount_output_mae: 0.3265 - condition_output_auc: 1.0000 - condition_output_loss: 0.0049 - loss: 0.8533\n",
      "Epoch 26: val_loss did not improve from 0.88171\n",
      "\u001b[1m33/33\u001b[0m \u001b[32m━━━━━━━━━━━━━━━━━━━━\u001b[0m\u001b[37m\u001b[0m \u001b[1m5s\u001b[0m 155ms/step - amount_output_loss: 0.0875 - amount_output_mae: 0.3267 - condition_output_auc: 1.0000 - condition_output_loss: 0.0049 - loss: 0.8534 - val_amount_output_loss: 0.1373 - val_amount_output_mae: 0.3581 - val_condition_output_auc: 1.0000 - val_condition_output_loss: 0.0016 - val_loss: 0.8984\n",
      "Epoch 27/200\n",
      "\u001b[1m33/33\u001b[0m \u001b[32m━━━━━━━━━━━━━━━━━━━━\u001b[0m\u001b[37m\u001b[0m \u001b[1m0s\u001b[0m 144ms/step - amount_output_loss: 0.0860 - amount_output_mae: 0.3214 - condition_output_auc: 1.0000 - condition_output_loss: 0.0052 - loss: 0.8468\n",
      "Epoch 27: val_loss improved from 0.88171 to 0.86179, saving model to C:\\Users\\varsh\\OneDrive\\Desktop\\notebook\\Fast_Furious_Insured\\api\\models\\best_model.keras\n",
      "\u001b[1m33/33\u001b[0m \u001b[32m━━━━━━━━━━━━━━━━━━━━\u001b[0m\u001b[37m\u001b[0m \u001b[1m6s\u001b[0m 182ms/step - amount_output_loss: 0.0863 - amount_output_mae: 0.3219 - condition_output_auc: 1.0000 - condition_output_loss: 0.0052 - loss: 0.8470 - val_amount_output_loss: 0.1065 - val_amount_output_mae: 0.2980 - val_condition_output_auc: 1.0000 - val_condition_output_loss: 0.0015 - val_loss: 0.8618\n",
      "Epoch 28/200\n",
      "\u001b[1m33/33\u001b[0m \u001b[32m━━━━━━━━━━━━━━━━━━━━\u001b[0m\u001b[37m\u001b[0m \u001b[1m0s\u001b[0m 150ms/step - amount_output_loss: 0.1023 - amount_output_mae: 0.3510 - condition_output_auc: 0.9697 - condition_output_loss: 0.0071 - loss: 0.8616    \n",
      "Epoch 28: val_loss improved from 0.86179 to 0.85361, saving model to C:\\Users\\varsh\\OneDrive\\Desktop\\notebook\\Fast_Furious_Insured\\api\\models\\best_model.keras\n",
      "\u001b[1m33/33\u001b[0m \u001b[32m━━━━━━━━━━━━━━━━━━━━\u001b[0m\u001b[37m\u001b[0m \u001b[1m6s\u001b[0m 183ms/step - amount_output_loss: 0.1021 - amount_output_mae: 0.3505 - condition_output_auc: 0.9706 - condition_output_loss: 0.0070 - loss: 0.8614 - val_amount_output_loss: 0.1007 - val_amount_output_mae: 0.2908 - val_condition_output_auc: 1.0000 - val_condition_output_loss: 0.0014 - val_loss: 0.8536\n",
      "Epoch 29/200\n",
      "\u001b[1m33/33\u001b[0m \u001b[32m━━━━━━━━━━━━━━━━━━━━\u001b[0m\u001b[37m\u001b[0m \u001b[1m0s\u001b[0m 149ms/step - amount_output_loss: 0.0873 - amount_output_mae: 0.3122 - condition_output_auc: 1.0000 - condition_output_loss: 0.0039 - loss: 0.8417\n",
      "Epoch 29: val_loss improved from 0.85361 to 0.84827, saving model to C:\\Users\\varsh\\OneDrive\\Desktop\\notebook\\Fast_Furious_Insured\\api\\models\\best_model.keras\n",
      "\u001b[1m33/33\u001b[0m \u001b[32m━━━━━━━━━━━━━━━━━━━━\u001b[0m\u001b[37m\u001b[0m \u001b[1m6s\u001b[0m 182ms/step - amount_output_loss: 0.0875 - amount_output_mae: 0.3124 - condition_output_auc: 1.0000 - condition_output_loss: 0.0039 - loss: 0.8418 - val_amount_output_loss: 0.0967 - val_amount_output_mae: 0.2861 - val_condition_output_auc: 1.0000 - val_condition_output_loss: 0.0014 - val_loss: 0.8483\n",
      "Epoch 30/200\n",
      "\u001b[1m33/33\u001b[0m \u001b[32m━━━━━━━━━━━━━━━━━━━━\u001b[0m\u001b[37m\u001b[0m \u001b[1m0s\u001b[0m 147ms/step - amount_output_loss: 0.0934 - amount_output_mae: 0.3236 - condition_output_auc: 1.0000 - condition_output_loss: 0.0052 - loss: 0.8483\n",
      "Epoch 30: val_loss improved from 0.84827 to 0.84508, saving model to C:\\Users\\varsh\\OneDrive\\Desktop\\notebook\\Fast_Furious_Insured\\api\\models\\best_model.keras\n",
      "\u001b[1m33/33\u001b[0m \u001b[32m━━━━━━━━━━━━━━━━━━━━\u001b[0m\u001b[37m\u001b[0m \u001b[1m6s\u001b[0m 181ms/step - amount_output_loss: 0.0934 - amount_output_mae: 0.3239 - condition_output_auc: 1.0000 - condition_output_loss: 0.0052 - loss: 0.8483 - val_amount_output_loss: 0.0942 - val_amount_output_mae: 0.2847 - val_condition_output_auc: 1.0000 - val_condition_output_loss: 0.0014 - val_loss: 0.8451\n",
      "Epoch 31/200\n",
      "\u001b[1m33/33\u001b[0m \u001b[32m━━━━━━━━━━━━━━━━━━━━\u001b[0m\u001b[37m\u001b[0m \u001b[1m0s\u001b[0m 149ms/step - amount_output_loss: 0.1045 - amount_output_mae: 0.3535 - condition_output_auc: 0.9697 - condition_output_loss: 0.0070 - loss: 0.8611    \n",
      "Epoch 31: val_loss improved from 0.84508 to 0.84312, saving model to C:\\Users\\varsh\\OneDrive\\Desktop\\notebook\\Fast_Furious_Insured\\api\\models\\best_model.keras\n",
      "\u001b[1m33/33\u001b[0m \u001b[32m━━━━━━━━━━━━━━━━━━━━\u001b[0m\u001b[37m\u001b[0m \u001b[1m6s\u001b[0m 181ms/step - amount_output_loss: 0.1045 - amount_output_mae: 0.3533 - condition_output_auc: 0.9706 - condition_output_loss: 0.0069 - loss: 0.8610 - val_amount_output_loss: 0.0928 - val_amount_output_mae: 0.2852 - val_condition_output_auc: 1.0000 - val_condition_output_loss: 0.0014 - val_loss: 0.8431\n",
      "Epoch 32/200\n",
      "\u001b[1m33/33\u001b[0m \u001b[32m━━━━━━━━━━━━━━━━━━━━\u001b[0m\u001b[37m\u001b[0m \u001b[1m0s\u001b[0m 148ms/step - amount_output_loss: 0.0952 - amount_output_mae: 0.3273 - condition_output_auc: 1.0000 - condition_output_loss: 0.0050 - loss: 0.8498\n",
      "Epoch 32: val_loss improved from 0.84312 to 0.84175, saving model to C:\\Users\\varsh\\OneDrive\\Desktop\\notebook\\Fast_Furious_Insured\\api\\models\\best_model.keras\n",
      "\u001b[1m33/33\u001b[0m \u001b[32m━━━━━━━━━━━━━━━━━━━━\u001b[0m\u001b[37m\u001b[0m \u001b[1m6s\u001b[0m 180ms/step - amount_output_loss: 0.0953 - amount_output_mae: 0.3275 - condition_output_auc: 1.0000 - condition_output_loss: 0.0050 - loss: 0.8498 - val_amount_output_loss: 0.0920 - val_amount_output_mae: 0.2860 - val_condition_output_auc: 1.0000 - val_condition_output_loss: 0.0013 - val_loss: 0.8418\n",
      "Epoch 33/200\n",
      "\u001b[1m33/33\u001b[0m \u001b[32m━━━━━━━━━━━━━━━━━━━━\u001b[0m\u001b[37m\u001b[0m \u001b[1m0s\u001b[0m 146ms/step - amount_output_loss: 0.0835 - amount_output_mae: 0.3162 - condition_output_auc: 1.0000 - condition_output_loss: 0.0034 - loss: 0.8365\n",
      "Epoch 33: val_loss improved from 0.84175 to 0.84048, saving model to C:\\Users\\varsh\\OneDrive\\Desktop\\notebook\\Fast_Furious_Insured\\api\\models\\best_model.keras\n",
      "\u001b[1m33/33\u001b[0m \u001b[32m━━━━━━━━━━━━━━━━━━━━\u001b[0m\u001b[37m\u001b[0m \u001b[1m6s\u001b[0m 176ms/step - amount_output_loss: 0.0835 - amount_output_mae: 0.3161 - condition_output_auc: 1.0000 - condition_output_loss: 0.0034 - loss: 0.8365 - val_amount_output_loss: 0.0912 - val_amount_output_mae: 0.2870 - val_condition_output_auc: 1.0000 - val_condition_output_loss: 0.0014 - val_loss: 0.8405\n",
      "Epoch 34/200\n",
      "\u001b[1m33/33\u001b[0m \u001b[32m━━━━━━━━━━━━━━━━━━━━\u001b[0m\u001b[37m\u001b[0m \u001b[1m0s\u001b[0m 155ms/step - amount_output_loss: 0.0759 - amount_output_mae: 0.2911 - condition_output_auc: 1.0000 - condition_output_loss: 0.0038 - loss: 0.8293\n",
      "Epoch 34: val_loss improved from 0.84048 to 0.83982, saving model to C:\\Users\\varsh\\OneDrive\\Desktop\\notebook\\Fast_Furious_Insured\\api\\models\\best_model.keras\n",
      "\u001b[1m33/33\u001b[0m \u001b[32m━━━━━━━━━━━━━━━━━━━━\u001b[0m\u001b[37m\u001b[0m \u001b[1m6s\u001b[0m 190ms/step - amount_output_loss: 0.0761 - amount_output_mae: 0.2918 - condition_output_auc: 1.0000 - condition_output_loss: 0.0038 - loss: 0.8296 - val_amount_output_loss: 0.0910 - val_amount_output_mae: 0.2881 - val_condition_output_auc: 1.0000 - val_condition_output_loss: 0.0014 - val_loss: 0.8398\n",
      "Epoch 35/200\n",
      "\u001b[1m33/33\u001b[0m \u001b[32m━━━━━━━━━━━━━━━━━━━━\u001b[0m\u001b[37m\u001b[0m \u001b[1m0s\u001b[0m 148ms/step - amount_output_loss: 0.0893 - amount_output_mae: 0.3303 - condition_output_auc: 1.0000 - condition_output_loss: 0.0058 - loss: 0.8447\n",
      "Epoch 35: val_loss improved from 0.83982 to 0.83955, saving model to C:\\Users\\varsh\\OneDrive\\Desktop\\notebook\\Fast_Furious_Insured\\api\\models\\best_model.keras\n",
      "\u001b[1m33/33\u001b[0m \u001b[32m━━━━━━━━━━━━━━━━━━━━\u001b[0m\u001b[37m\u001b[0m \u001b[1m6s\u001b[0m 179ms/step - amount_output_loss: 0.0894 - amount_output_mae: 0.3305 - condition_output_auc: 1.0000 - condition_output_loss: 0.0058 - loss: 0.8448 - val_amount_output_loss: 0.0911 - val_amount_output_mae: 0.2894 - val_condition_output_auc: 1.0000 - val_condition_output_loss: 0.0014 - val_loss: 0.8395\n",
      "Epoch 36/200\n",
      "\u001b[1m33/33\u001b[0m \u001b[32m━━━━━━━━━━━━━━━━━━━━\u001b[0m\u001b[37m\u001b[0m \u001b[1m0s\u001b[0m 153ms/step - amount_output_loss: 0.0916 - amount_output_mae: 0.3322 - condition_output_auc: 0.9697 - condition_output_loss: 0.0050 - loss: 0.8462    \n",
      "Epoch 36: val_loss improved from 0.83955 to 0.83903, saving model to C:\\Users\\varsh\\OneDrive\\Desktop\\notebook\\Fast_Furious_Insured\\api\\models\\best_model.keras\n",
      "\u001b[1m33/33\u001b[0m \u001b[32m━━━━━━━━━━━━━━━━━━━━\u001b[0m\u001b[37m\u001b[0m \u001b[1m6s\u001b[0m 188ms/step - amount_output_loss: 0.0915 - amount_output_mae: 0.3320 - condition_output_auc: 0.9706 - condition_output_loss: 0.0050 - loss: 0.8461 - val_amount_output_loss: 0.0910 - val_amount_output_mae: 0.2908 - val_condition_output_auc: 1.0000 - val_condition_output_loss: 0.0014 - val_loss: 0.8390\n",
      "Epoch 37/200\n",
      "\u001b[1m33/33\u001b[0m \u001b[32m━━━━━━━━━━━━━━━━━━━━\u001b[0m\u001b[37m\u001b[0m \u001b[1m0s\u001b[0m 148ms/step - amount_output_loss: 0.0882 - amount_output_mae: 0.3238 - condition_output_auc: 1.0000 - condition_output_loss: 0.0050 - loss: 0.8427\n",
      "Epoch 37: val_loss improved from 0.83903 to 0.83885, saving model to C:\\Users\\varsh\\OneDrive\\Desktop\\notebook\\Fast_Furious_Insured\\api\\models\\best_model.keras\n",
      "\u001b[1m33/33\u001b[0m \u001b[32m━━━━━━━━━━━━━━━━━━━━\u001b[0m\u001b[37m\u001b[0m \u001b[1m6s\u001b[0m 181ms/step - amount_output_loss: 0.0881 - amount_output_mae: 0.3236 - condition_output_auc: 1.0000 - condition_output_loss: 0.0050 - loss: 0.8427 - val_amount_output_loss: 0.0910 - val_amount_output_mae: 0.2919 - val_condition_output_auc: 1.0000 - val_condition_output_loss: 0.0014 - val_loss: 0.8388\n",
      "Epoch 38/200\n",
      "\u001b[1m33/33\u001b[0m \u001b[32m━━━━━━━━━━━━━━━━━━━━\u001b[0m\u001b[37m\u001b[0m \u001b[1m0s\u001b[0m 148ms/step - amount_output_loss: 0.0985 - amount_output_mae: 0.3343 - condition_output_auc: 1.0000 - condition_output_loss: 0.0038 - loss: 0.8519\n",
      "Epoch 38: val_loss improved from 0.83885 to 0.83850, saving model to C:\\Users\\varsh\\OneDrive\\Desktop\\notebook\\Fast_Furious_Insured\\api\\models\\best_model.keras\n",
      "\u001b[1m33/33\u001b[0m \u001b[32m━━━━━━━━━━━━━━━━━━━━\u001b[0m\u001b[37m\u001b[0m \u001b[1m6s\u001b[0m 178ms/step - amount_output_loss: 0.0983 - amount_output_mae: 0.3340 - condition_output_auc: 1.0000 - condition_output_loss: 0.0038 - loss: 0.8517 - val_amount_output_loss: 0.0909 - val_amount_output_mae: 0.2928 - val_condition_output_auc: 1.0000 - val_condition_output_loss: 0.0014 - val_loss: 0.8385\n",
      "Epoch 39/200\n",
      "\u001b[1m33/33\u001b[0m \u001b[32m━━━━━━━━━━━━━━━━━━━━\u001b[0m\u001b[37m\u001b[0m \u001b[1m0s\u001b[0m 151ms/step - amount_output_loss: 0.0758 - amount_output_mae: 0.2992 - condition_output_auc: 1.0000 - condition_output_loss: 0.0044 - loss: 0.8297\n",
      "Epoch 39: val_loss did not improve from 0.83850\n",
      "\u001b[1m33/33\u001b[0m \u001b[32m━━━━━━━━━━━━━━━━━━━━\u001b[0m\u001b[37m\u001b[0m \u001b[1m5s\u001b[0m 159ms/step - amount_output_loss: 0.0759 - amount_output_mae: 0.2994 - condition_output_auc: 1.0000 - condition_output_loss: 0.0044 - loss: 0.8298 - val_amount_output_loss: 0.0911 - val_amount_output_mae: 0.2932 - val_condition_output_auc: 1.0000 - val_condition_output_loss: 0.0014 - val_loss: 0.8387\n",
      "Epoch 40/200\n",
      "\u001b[1m33/33\u001b[0m \u001b[32m━━━━━━━━━━━━━━━━━━━━\u001b[0m\u001b[37m\u001b[0m \u001b[1m0s\u001b[0m 147ms/step - amount_output_loss: 0.0937 - amount_output_mae: 0.3318 - condition_output_auc: 1.0000 - condition_output_loss: 0.0041 - loss: 0.8473\n",
      "Epoch 40: val_loss improved from 0.83850 to 0.83840, saving model to C:\\Users\\varsh\\OneDrive\\Desktop\\notebook\\Fast_Furious_Insured\\api\\models\\best_model.keras\n",
      "\u001b[1m33/33\u001b[0m \u001b[32m━━━━━━━━━━━━━━━━━━━━\u001b[0m\u001b[37m\u001b[0m \u001b[1m6s\u001b[0m 176ms/step - amount_output_loss: 0.0934 - amount_output_mae: 0.3314 - condition_output_auc: 1.0000 - condition_output_loss: 0.0041 - loss: 0.8470 - val_amount_output_loss: 0.0909 - val_amount_output_mae: 0.2931 - val_condition_output_auc: 1.0000 - val_condition_output_loss: 0.0014 - val_loss: 0.8384\n",
      "Epoch 41/200\n",
      "\u001b[1m33/33\u001b[0m \u001b[32m━━━━━━━━━━━━━━━━━━━━\u001b[0m\u001b[37m\u001b[0m \u001b[1m0s\u001b[0m 150ms/step - amount_output_loss: 0.0862 - amount_output_mae: 0.3135 - condition_output_auc: 1.0000 - condition_output_loss: 0.0038 - loss: 0.8395\n",
      "Epoch 41: val_loss did not improve from 0.83840\n",
      "\u001b[1m33/33\u001b[0m \u001b[32m━━━━━━━━━━━━━━━━━━━━\u001b[0m\u001b[37m\u001b[0m \u001b[1m5s\u001b[0m 160ms/step - amount_output_loss: 0.0862 - amount_output_mae: 0.3138 - condition_output_auc: 1.0000 - condition_output_loss: 0.0039 - loss: 0.8396 - val_amount_output_loss: 0.0909 - val_amount_output_mae: 0.2932 - val_condition_output_auc: 1.0000 - val_condition_output_loss: 0.0014 - val_loss: 0.8385\n",
      "Epoch 42/200\n",
      "\u001b[1m33/33\u001b[0m \u001b[32m━━━━━━━━━━━━━━━━━━━━\u001b[0m\u001b[37m\u001b[0m \u001b[1m0s\u001b[0m 151ms/step - amount_output_loss: 0.0939 - amount_output_mae: 0.3449 - condition_output_auc: 1.0000 - condition_output_loss: 0.0046 - loss: 0.8480\n",
      "Epoch 42: val_loss did not improve from 0.83840\n",
      "\u001b[1m33/33\u001b[0m \u001b[32m━━━━━━━━━━━━━━━━━━━━\u001b[0m\u001b[37m\u001b[0m \u001b[1m5s\u001b[0m 160ms/step - amount_output_loss: 0.0939 - amount_output_mae: 0.3445 - condition_output_auc: 1.0000 - condition_output_loss: 0.0046 - loss: 0.8480 - val_amount_output_loss: 0.0911 - val_amount_output_mae: 0.2936 - val_condition_output_auc: 1.0000 - val_condition_output_loss: 0.0014 - val_loss: 0.8386\n",
      "Epoch 43/200\n",
      "\u001b[1m33/33\u001b[0m \u001b[32m━━━━━━━━━━━━━━━━━━━━\u001b[0m\u001b[37m\u001b[0m \u001b[1m0s\u001b[0m 154ms/step - amount_output_loss: 0.0722 - amount_output_mae: 0.2901 - condition_output_auc: 1.0000 - condition_output_loss: 0.0041 - loss: 0.8257\n",
      "Epoch 43: val_loss improved from 0.83840 to 0.83833, saving model to C:\\Users\\varsh\\OneDrive\\Desktop\\notebook\\Fast_Furious_Insured\\api\\models\\best_model.keras\n",
      "\u001b[1m33/33\u001b[0m \u001b[32m━━━━━━━━━━━━━━━━━━━━\u001b[0m\u001b[37m\u001b[0m \u001b[1m6s\u001b[0m 186ms/step - amount_output_loss: 0.0723 - amount_output_mae: 0.2906 - condition_output_auc: 1.0000 - condition_output_loss: 0.0041 - loss: 0.8259 - val_amount_output_loss: 0.0910 - val_amount_output_mae: 0.2939 - val_condition_output_auc: 1.0000 - val_condition_output_loss: 0.0014 - val_loss: 0.8383\n",
      "Epoch 44/200\n",
      "\u001b[1m33/33\u001b[0m \u001b[32m━━━━━━━━━━━━━━━━━━━━\u001b[0m\u001b[37m\u001b[0m \u001b[1m0s\u001b[0m 152ms/step - amount_output_loss: 0.0873 - amount_output_mae: 0.3176 - condition_output_auc: 1.0000 - condition_output_loss: 0.0047 - loss: 0.8415\n",
      "Epoch 44: val_loss did not improve from 0.83833\n",
      "\u001b[1m33/33\u001b[0m \u001b[32m━━━━━━━━━━━━━━━━━━━━\u001b[0m\u001b[37m\u001b[0m \u001b[1m5s\u001b[0m 161ms/step - amount_output_loss: 0.0874 - amount_output_mae: 0.3179 - condition_output_auc: 1.0000 - condition_output_loss: 0.0047 - loss: 0.8416 - val_amount_output_loss: 0.0910 - val_amount_output_mae: 0.2941 - val_condition_output_auc: 1.0000 - val_condition_output_loss: 0.0014 - val_loss: 0.8384\n",
      "Epoch 45/200\n",
      "\u001b[1m33/33\u001b[0m \u001b[32m━━━━━━━━━━━━━━━━━━━━\u001b[0m\u001b[37m\u001b[0m \u001b[1m0s\u001b[0m 147ms/step - amount_output_loss: 0.0761 - amount_output_mae: 0.2989 - condition_output_auc: 1.0000 - condition_output_loss: 0.0043 - loss: 0.8299\n",
      "Epoch 45: val_loss did not improve from 0.83833\n",
      "\u001b[1m33/33\u001b[0m \u001b[32m━━━━━━━━━━━━━━━━━━━━\u001b[0m\u001b[37m\u001b[0m \u001b[1m5s\u001b[0m 155ms/step - amount_output_loss: 0.0762 - amount_output_mae: 0.2992 - condition_output_auc: 1.0000 - condition_output_loss: 0.0043 - loss: 0.8300 - val_amount_output_loss: 0.0911 - val_amount_output_mae: 0.2940 - val_condition_output_auc: 1.0000 - val_condition_output_loss: 0.0014 - val_loss: 0.8384\n",
      "Epoch 46/200\n",
      "\u001b[1m33/33\u001b[0m \u001b[32m━━━━━━━━━━━━━━━━━━━━\u001b[0m\u001b[37m\u001b[0m \u001b[1m0s\u001b[0m 147ms/step - amount_output_loss: 0.0923 - amount_output_mae: 0.3295 - condition_output_auc: 1.0000 - condition_output_loss: 0.0042 - loss: 0.8459\n",
      "Epoch 46: val_loss did not improve from 0.83833\n",
      "\u001b[1m33/33\u001b[0m \u001b[32m━━━━━━━━━━━━━━━━━━━━\u001b[0m\u001b[37m\u001b[0m \u001b[1m5s\u001b[0m 158ms/step - amount_output_loss: 0.0922 - amount_output_mae: 0.3293 - condition_output_auc: 1.0000 - condition_output_loss: 0.0042 - loss: 0.8459 - val_amount_output_loss: 0.0915 - val_amount_output_mae: 0.2944 - val_condition_output_auc: 1.0000 - val_condition_output_loss: 0.0014 - val_loss: 0.8388\n",
      "Epoch 47/200\n",
      "\u001b[1m33/33\u001b[0m \u001b[32m━━━━━━━━━━━━━━━━━━━━\u001b[0m\u001b[37m\u001b[0m \u001b[1m0s\u001b[0m 149ms/step - amount_output_loss: 0.0842 - amount_output_mae: 0.3157 - condition_output_auc: 1.0000 - condition_output_loss: 0.0048 - loss: 0.8384\n",
      "Epoch 47: val_loss did not improve from 0.83833\n",
      "\u001b[1m33/33\u001b[0m \u001b[32m━━━━━━━━━━━━━━━━━━━━\u001b[0m\u001b[37m\u001b[0m \u001b[1m5s\u001b[0m 158ms/step - amount_output_loss: 0.0842 - amount_output_mae: 0.3157 - condition_output_auc: 1.0000 - condition_output_loss: 0.0047 - loss: 0.8384 - val_amount_output_loss: 0.0914 - val_amount_output_mae: 0.2935 - val_condition_output_auc: 1.0000 - val_condition_output_loss: 0.0014 - val_loss: 0.8387\n",
      "Epoch 48/200\n",
      "\u001b[1m33/33\u001b[0m \u001b[32m━━━━━━━━━━━━━━━━━━━━\u001b[0m\u001b[37m\u001b[0m \u001b[1m0s\u001b[0m 150ms/step - amount_output_loss: 0.0747 - amount_output_mae: 0.2972 - condition_output_auc: 1.0000 - condition_output_loss: 0.0044 - loss: 0.8285\n",
      "Epoch 48: val_loss did not improve from 0.83833\n",
      "\u001b[1m33/33\u001b[0m \u001b[32m━━━━━━━━━━━━━━━━━━━━\u001b[0m\u001b[37m\u001b[0m \u001b[1m5s\u001b[0m 160ms/step - amount_output_loss: 0.0750 - amount_output_mae: 0.2977 - condition_output_auc: 1.0000 - condition_output_loss: 0.0044 - loss: 0.8288 - val_amount_output_loss: 0.0913 - val_amount_output_mae: 0.2938 - val_condition_output_auc: 1.0000 - val_condition_output_loss: 0.0014 - val_loss: 0.8386\n"
     ]
    },
    {
     "ename": "TensorsNotSupportedException",
     "evalue": "Multidimensional arrays (aka tensors) are not supported. Numpy arrays in list are not supported as input examples.",
     "output_type": "error",
     "traceback": [
      "\u001b[1;31m---------------------------------------------------------------------------\u001b[0m",
      "\u001b[1;31mTensorsNotSupportedException\u001b[0m              Traceback (most recent call last)",
      "Cell \u001b[1;32mIn[26], line 35\u001b[0m\n\u001b[0;32m     32\u001b[0m \u001b[38;5;66;03m# ✅ Save & Log Best Model\u001b[39;00m\n\u001b[0;32m     33\u001b[0m best_model\u001b[38;5;241m.\u001b[39msave(model_path, include_optimizer\u001b[38;5;241m=\u001b[39m\u001b[38;5;28;01mTrue\u001b[39;00m)\n\u001b[1;32m---> 35\u001b[0m \u001b[43mmlflow\u001b[49m\u001b[38;5;241;43m.\u001b[39;49m\u001b[43mtensorflow\u001b[49m\u001b[38;5;241;43m.\u001b[39;49m\u001b[43mlog_model\u001b[49m\u001b[43m(\u001b[49m\n\u001b[0;32m     36\u001b[0m \u001b[43m    \u001b[49m\u001b[43mbest_model\u001b[49m\u001b[43m,\u001b[49m\u001b[43m \u001b[49m\n\u001b[0;32m     37\u001b[0m \u001b[43m    \u001b[49m\u001b[43martifact_path\u001b[49m\u001b[38;5;241;43m=\u001b[39;49m\u001b[38;5;124;43m\"\u001b[39;49m\u001b[38;5;124;43mmodel\u001b[39;49m\u001b[38;5;124;43m\"\u001b[39;49m\u001b[43m,\u001b[49m\u001b[43m \u001b[49m\n\u001b[0;32m     38\u001b[0m \u001b[43m    \u001b[49m\u001b[43minput_example\u001b[49m\u001b[38;5;241;43m=\u001b[39;49m\u001b[43minput_example\u001b[49m\u001b[43m  \u001b[49m\u001b[38;5;66;43;03m# 🔹 Fix: Add input example\u001b[39;49;00m\n\u001b[0;32m     39\u001b[0m \u001b[43m\u001b[49m\u001b[43m)\u001b[49m\n\u001b[0;32m     41\u001b[0m \u001b[38;5;28mprint\u001b[39m(\u001b[38;5;124mf\u001b[39m\u001b[38;5;124m\"\u001b[39m\u001b[38;5;124mBest trained model saved and logged in MLflow at \u001b[39m\u001b[38;5;132;01m{\u001b[39;00mmodel_path\u001b[38;5;132;01m}\u001b[39;00m\u001b[38;5;124m\"\u001b[39m)\n",
      "File \u001b[1;32m~\\OneDrive\\Desktop\\notebook\\first_env\\Lib\\site-packages\\mlflow\\tensorflow\\__init__.py:217\u001b[0m, in \u001b[0;36mlog_model\u001b[1;34m(model, artifact_path, custom_objects, conda_env, code_paths, signature, input_example, registered_model_name, await_registration_for, pip_requirements, extra_pip_requirements, saved_model_kwargs, keras_model_kwargs, metadata)\u001b[0m\n\u001b[0;32m    140\u001b[0m \u001b[38;5;129m@format_docstring\u001b[39m(LOG_MODEL_PARAM_DOCS\u001b[38;5;241m.\u001b[39mformat(package_name\u001b[38;5;241m=\u001b[39mFLAVOR_NAME))\n\u001b[0;32m    141\u001b[0m \u001b[38;5;28;01mdef\u001b[39;00m\u001b[38;5;250m \u001b[39m\u001b[38;5;21mlog_model\u001b[39m(\n\u001b[0;32m    142\u001b[0m     model,\n\u001b[1;32m   (...)\u001b[0m\n\u001b[0;32m    155\u001b[0m     metadata\u001b[38;5;241m=\u001b[39m\u001b[38;5;28;01mNone\u001b[39;00m,\n\u001b[0;32m    156\u001b[0m ):\n\u001b[0;32m    157\u001b[0m \u001b[38;5;250m    \u001b[39m\u001b[38;5;124;03m\"\"\"\u001b[39;00m\n\u001b[0;32m    158\u001b[0m \u001b[38;5;124;03m    Log a TF2 core model (inheriting tf.Module) or a Keras model in MLflow Model format.\u001b[39;00m\n\u001b[0;32m    159\u001b[0m \n\u001b[1;32m   (...)\u001b[0m\n\u001b[0;32m    214\u001b[0m \u001b[38;5;124;03m        metadata of the logged model.\u001b[39;00m\n\u001b[0;32m    215\u001b[0m \u001b[38;5;124;03m    \"\"\"\u001b[39;00m\n\u001b[1;32m--> 217\u001b[0m     \u001b[38;5;28;01mreturn\u001b[39;00m \u001b[43mModel\u001b[49m\u001b[38;5;241;43m.\u001b[39;49m\u001b[43mlog\u001b[49m\u001b[43m(\u001b[49m\n\u001b[0;32m    218\u001b[0m \u001b[43m        \u001b[49m\u001b[43martifact_path\u001b[49m\u001b[38;5;241;43m=\u001b[39;49m\u001b[43martifact_path\u001b[49m\u001b[43m,\u001b[49m\n\u001b[0;32m    219\u001b[0m \u001b[43m        \u001b[49m\u001b[43mflavor\u001b[49m\u001b[38;5;241;43m=\u001b[39;49m\u001b[43mmlflow\u001b[49m\u001b[38;5;241;43m.\u001b[39;49m\u001b[43mtensorflow\u001b[49m\u001b[43m,\u001b[49m\n\u001b[0;32m    220\u001b[0m \u001b[43m        \u001b[49m\u001b[43mmodel\u001b[49m\u001b[38;5;241;43m=\u001b[39;49m\u001b[43mmodel\u001b[49m\u001b[43m,\u001b[49m\n\u001b[0;32m    221\u001b[0m \u001b[43m        \u001b[49m\u001b[43mconda_env\u001b[49m\u001b[38;5;241;43m=\u001b[39;49m\u001b[43mconda_env\u001b[49m\u001b[43m,\u001b[49m\n\u001b[0;32m    222\u001b[0m \u001b[43m        \u001b[49m\u001b[43mcode_paths\u001b[49m\u001b[38;5;241;43m=\u001b[39;49m\u001b[43mcode_paths\u001b[49m\u001b[43m,\u001b[49m\n\u001b[0;32m    223\u001b[0m \u001b[43m        \u001b[49m\u001b[43mcustom_objects\u001b[49m\u001b[38;5;241;43m=\u001b[39;49m\u001b[43mcustom_objects\u001b[49m\u001b[43m,\u001b[49m\n\u001b[0;32m    224\u001b[0m \u001b[43m        \u001b[49m\u001b[43mregistered_model_name\u001b[49m\u001b[38;5;241;43m=\u001b[39;49m\u001b[43mregistered_model_name\u001b[49m\u001b[43m,\u001b[49m\n\u001b[0;32m    225\u001b[0m \u001b[43m        \u001b[49m\u001b[43msignature\u001b[49m\u001b[38;5;241;43m=\u001b[39;49m\u001b[43msignature\u001b[49m\u001b[43m,\u001b[49m\n\u001b[0;32m    226\u001b[0m \u001b[43m        \u001b[49m\u001b[43minput_example\u001b[49m\u001b[38;5;241;43m=\u001b[39;49m\u001b[43minput_example\u001b[49m\u001b[43m,\u001b[49m\n\u001b[0;32m    227\u001b[0m \u001b[43m        \u001b[49m\u001b[43mawait_registration_for\u001b[49m\u001b[38;5;241;43m=\u001b[39;49m\u001b[43mawait_registration_for\u001b[49m\u001b[43m,\u001b[49m\n\u001b[0;32m    228\u001b[0m \u001b[43m        \u001b[49m\u001b[43mpip_requirements\u001b[49m\u001b[38;5;241;43m=\u001b[39;49m\u001b[43mpip_requirements\u001b[49m\u001b[43m,\u001b[49m\n\u001b[0;32m    229\u001b[0m \u001b[43m        \u001b[49m\u001b[43mextra_pip_requirements\u001b[49m\u001b[38;5;241;43m=\u001b[39;49m\u001b[43mextra_pip_requirements\u001b[49m\u001b[43m,\u001b[49m\n\u001b[0;32m    230\u001b[0m \u001b[43m        \u001b[49m\u001b[43msaved_model_kwargs\u001b[49m\u001b[38;5;241;43m=\u001b[39;49m\u001b[43msaved_model_kwargs\u001b[49m\u001b[43m,\u001b[49m\n\u001b[0;32m    231\u001b[0m \u001b[43m        \u001b[49m\u001b[43mkeras_model_kwargs\u001b[49m\u001b[38;5;241;43m=\u001b[39;49m\u001b[43mkeras_model_kwargs\u001b[49m\u001b[43m,\u001b[49m\n\u001b[0;32m    232\u001b[0m \u001b[43m        \u001b[49m\u001b[43mmetadata\u001b[49m\u001b[38;5;241;43m=\u001b[39;49m\u001b[43mmetadata\u001b[49m\u001b[43m,\u001b[49m\n\u001b[0;32m    233\u001b[0m \u001b[43m    \u001b[49m\u001b[43m)\u001b[49m\n",
      "File \u001b[1;32m~\\OneDrive\\Desktop\\notebook\\first_env\\Lib\\site-packages\\mlflow\\models\\model.py:796\u001b[0m, in \u001b[0;36mModel.log\u001b[1;34m(cls, artifact_path, flavor, registered_model_name, await_registration_for, metadata, run_id, resources, **kwargs)\u001b[0m\n\u001b[0;32m    792\u001b[0m     run_id \u001b[38;5;241m=\u001b[39m mlflow\u001b[38;5;241m.\u001b[39mtracking\u001b[38;5;241m.\u001b[39mfluent\u001b[38;5;241m.\u001b[39m_get_or_start_run()\u001b[38;5;241m.\u001b[39minfo\u001b[38;5;241m.\u001b[39mrun_id\n\u001b[0;32m    793\u001b[0m mlflow_model \u001b[38;5;241m=\u001b[39m \u001b[38;5;28mcls\u001b[39m(\n\u001b[0;32m    794\u001b[0m     artifact_path\u001b[38;5;241m=\u001b[39martifact_path, run_id\u001b[38;5;241m=\u001b[39mrun_id, metadata\u001b[38;5;241m=\u001b[39mmetadata, resources\u001b[38;5;241m=\u001b[39mresources\n\u001b[0;32m    795\u001b[0m )\n\u001b[1;32m--> 796\u001b[0m \u001b[43mflavor\u001b[49m\u001b[38;5;241;43m.\u001b[39;49m\u001b[43msave_model\u001b[49m\u001b[43m(\u001b[49m\u001b[43mpath\u001b[49m\u001b[38;5;241;43m=\u001b[39;49m\u001b[43mlocal_path\u001b[49m\u001b[43m,\u001b[49m\u001b[43m \u001b[49m\u001b[43mmlflow_model\u001b[49m\u001b[38;5;241;43m=\u001b[39;49m\u001b[43mmlflow_model\u001b[49m\u001b[43m,\u001b[49m\u001b[43m \u001b[49m\u001b[38;5;241;43m*\u001b[39;49m\u001b[38;5;241;43m*\u001b[39;49m\u001b[43mkwargs\u001b[49m\u001b[43m)\u001b[49m\n\u001b[0;32m    797\u001b[0m \u001b[38;5;66;03m# `save_model` calls `load_model` to infer the model requirements, which may result in\u001b[39;00m\n\u001b[0;32m    798\u001b[0m \u001b[38;5;66;03m# __pycache__ directories being created in the model directory.\u001b[39;00m\n\u001b[0;32m    799\u001b[0m \u001b[38;5;28;01mfor\u001b[39;00m pycache \u001b[38;5;129;01min\u001b[39;00m Path(local_path)\u001b[38;5;241m.\u001b[39mrglob(\u001b[38;5;124m\"\u001b[39m\u001b[38;5;124m__pycache__\u001b[39m\u001b[38;5;124m\"\u001b[39m):\n",
      "File \u001b[1;32m~\\OneDrive\\Desktop\\notebook\\first_env\\Lib\\site-packages\\mlflow\\tensorflow\\__init__.py:343\u001b[0m, in \u001b[0;36msave_model\u001b[1;34m(model, path, conda_env, code_paths, mlflow_model, custom_objects, signature, input_example, pip_requirements, extra_pip_requirements, saved_model_kwargs, keras_model_kwargs, metadata)\u001b[0m\n\u001b[0;32m    341\u001b[0m \u001b[38;5;28;01mif\u001b[39;00m mlflow_model \u001b[38;5;129;01mis\u001b[39;00m \u001b[38;5;28;01mNone\u001b[39;00m:\n\u001b[0;32m    342\u001b[0m     mlflow_model \u001b[38;5;241m=\u001b[39m Model()\n\u001b[1;32m--> 343\u001b[0m saved_example \u001b[38;5;241m=\u001b[39m \u001b[43m_save_example\u001b[49m\u001b[43m(\u001b[49m\u001b[43mmlflow_model\u001b[49m\u001b[43m,\u001b[49m\u001b[43m \u001b[49m\u001b[43minput_example\u001b[49m\u001b[43m,\u001b[49m\u001b[43m \u001b[49m\u001b[43mpath\u001b[49m\u001b[43m)\u001b[49m\n\u001b[0;32m    345\u001b[0m \u001b[38;5;28;01mif\u001b[39;00m signature \u001b[38;5;129;01mis\u001b[39;00m \u001b[38;5;28;01mNone\u001b[39;00m \u001b[38;5;129;01mand\u001b[39;00m saved_example \u001b[38;5;129;01mis\u001b[39;00m \u001b[38;5;129;01mnot\u001b[39;00m \u001b[38;5;28;01mNone\u001b[39;00m:\n\u001b[0;32m    346\u001b[0m     wrapped_model \u001b[38;5;241m=\u001b[39m \u001b[38;5;28;01mNone\u001b[39;00m\n",
      "File \u001b[1;32m~\\OneDrive\\Desktop\\notebook\\first_env\\Lib\\site-packages\\mlflow\\models\\utils.py:527\u001b[0m, in \u001b[0;36m_save_example\u001b[1;34m(mlflow_model, input_example, path, no_conversion)\u001b[0m\n\u001b[0;32m    518\u001b[0m \u001b[38;5;28;01mif\u001b[39;00m no_conversion \u001b[38;5;129;01mis\u001b[39;00m \u001b[38;5;129;01mnot\u001b[39;00m \u001b[38;5;28;01mNone\u001b[39;00m:\n\u001b[0;32m    519\u001b[0m     warnings\u001b[38;5;241m.\u001b[39mwarn(\n\u001b[0;32m    520\u001b[0m         \u001b[38;5;124m\"\u001b[39m\u001b[38;5;124mThe `example_no_conversion` parameter is deprecated since mlflow 2.16.0 and will be \u001b[39m\u001b[38;5;124m\"\u001b[39m\n\u001b[0;32m    521\u001b[0m         \u001b[38;5;124m\"\u001b[39m\u001b[38;5;124mremoved in a future release. This parameter is no longer used and safe to be removed, \u001b[39m\u001b[38;5;124m\"\u001b[39m\n\u001b[1;32m   (...)\u001b[0m\n\u001b[0;32m    524\u001b[0m         stacklevel\u001b[38;5;241m=\u001b[39m\u001b[38;5;241m2\u001b[39m,\n\u001b[0;32m    525\u001b[0m     )\n\u001b[1;32m--> 527\u001b[0m example \u001b[38;5;241m=\u001b[39m \u001b[43m_Example\u001b[49m\u001b[43m(\u001b[49m\u001b[43minput_example\u001b[49m\u001b[43m)\u001b[49m\n\u001b[0;32m    528\u001b[0m example\u001b[38;5;241m.\u001b[39msave(path)\n\u001b[0;32m    529\u001b[0m mlflow_model\u001b[38;5;241m.\u001b[39msaved_input_example_info \u001b[38;5;241m=\u001b[39m example\u001b[38;5;241m.\u001b[39minfo\n",
      "File \u001b[1;32m~\\OneDrive\\Desktop\\notebook\\first_env\\Lib\\site-packages\\mlflow\\models\\utils.py:351\u001b[0m, in \u001b[0;36m_Example.__init__\u001b[1;34m(self, input_example)\u001b[0m\n\u001b[0;32m    344\u001b[0m \u001b[38;5;250m\u001b[39m\u001b[38;5;124;03m\"\"\"\u001b[39;00m\n\u001b[0;32m    345\u001b[0m \u001b[38;5;124;03mSupported types are:\u001b[39;00m\n\u001b[0;32m    346\u001b[0m \u001b[38;5;124;03m- List[DataType]\u001b[39;00m\n\u001b[0;32m    347\u001b[0m \u001b[38;5;124;03m- List[Dict[str, Union[DataType, List, Dict]]]\u001b[39;00m\n\u001b[0;32m    348\u001b[0m \u001b[38;5;124;03m--> type: json_object\u001b[39;00m\n\u001b[0;32m    349\u001b[0m \u001b[38;5;124;03m\"\"\"\u001b[39;00m\n\u001b[0;32m    350\u001b[0m \u001b[38;5;28;01mif\u001b[39;00m _contains_nd_array(model_input):\n\u001b[1;32m--> 351\u001b[0m     \u001b[38;5;28;01mraise\u001b[39;00m TensorsNotSupportedException(\n\u001b[0;32m    352\u001b[0m         \u001b[38;5;124m\"\u001b[39m\u001b[38;5;124mNumpy arrays in list are not supported as input examples.\u001b[39m\u001b[38;5;124m\"\u001b[39m\n\u001b[0;32m    353\u001b[0m     )\n\u001b[0;32m    354\u001b[0m \u001b[38;5;28mself\u001b[39m\u001b[38;5;241m.\u001b[39minfo[\u001b[38;5;124m\"\u001b[39m\u001b[38;5;124mtype\u001b[39m\u001b[38;5;124m\"\u001b[39m] \u001b[38;5;241m=\u001b[39m \u001b[38;5;124m\"\u001b[39m\u001b[38;5;124mjson_object\u001b[39m\u001b[38;5;124m\"\u001b[39m\n\u001b[0;32m    355\u001b[0m \u001b[38;5;28mself\u001b[39m\u001b[38;5;241m.\u001b[39mserving_input \u001b[38;5;241m=\u001b[39m {INPUTS: model_input}\n",
      "\u001b[1;31mTensorsNotSupportedException\u001b[0m: Multidimensional arrays (aka tensors) are not supported. Numpy arrays in list are not supported as input examples."
     ]
    }
   ],
   "source": [
    "from tensorflow.keras.models import load_model\n",
    "import numpy as np\n",
    "\n",
    "# Start MLflow Tracking\n",
    "with mlflow.start_run():\n",
    "    mlflow.log_param('learning_rate', 0.001)\n",
    "    mlflow.log_param('epochs', 200)\n",
    "    mlflow.log_param('batch_size', 32)\n",
    "\n",
    "    history = model.fit(\n",
    "        [image_features, structured_data_scaled],\n",
    "        {'condition_output': condition_labels, 'amount_output': amount_labels},\n",
    "        epochs=200,\n",
    "        batch_size=32,\n",
    "        validation_split=0.2,\n",
    "        callbacks=[early_stopping, checkpoint],  # ModelCheckpoint ensures best model is saved\n",
    "        verbose=1\n",
    "    )\n",
    "\n",
    "    # Log all metrics dynamically\n",
    "    for key in history.history.keys():\n",
    "        mlflow.log_metric(key, history.history[key][-1])\n",
    "\n",
    "    # ✅ Load Best Model Before Saving & Logging\n",
    "    best_model = load_model(best_model_path)  # Load the best model\n",
    "\n",
    "    # ✅ Fix input example: Use a dictionary, convert to list\n",
    "    input_example = {\n",
    "        \"image_features\": image_features[:1].tolist(),  \n",
    "        \"structured_data\": structured_data_scaled[:1].tolist()  \n",
    "    }\n",
    "\n",
    "    # ✅ Save & Log Best Model\n",
    "    best_model.save(model_path, include_optimizer=True)\n",
    "    \n",
    "    mlflow.tensorflow.log_model(\n",
    "        best_model, \n",
    "        artifact_path=\"model\", \n",
    "        input_example=input_example  # ✅ Now MLflow will accept it\n",
    "    )\n",
    "    \n",
    "    print(f\"Best trained model saved and logged in MLflow at {model_path}\")\n"
   ]
  },
  {
   "cell_type": "code",
   "execution_count": null,
   "id": "d9d263a6-f6e2-46b0-a5c7-08d0b017e36b",
   "metadata": {},
   "outputs": [],
   "source": [
    "# Plot training and validation loss\n",
    "import matplotlib.pyplot as plt\n",
    "plt.plot(history.history['loss'], label='Training Loss')\n",
    "plt.plot(history.history['val_loss'], label='Validation Loss')\n",
    "plt.xlabel('Epochs')\n",
    "plt.ylabel('Loss')\n",
    "plt.legend()\n",
    "plt.title('Training and Validation Loss')\n",
    "plt.show()\n"
   ]
  },
  {
   "cell_type": "code",
   "execution_count": null,
   "id": "e7fc882d-9a55-4812-a282-cd79a97ae49d",
   "metadata": {},
   "outputs": [],
   "source": [
    "# Print Final Training & Validation Metrics\n",
    "print(\"Final Training and Validation Metrics:\")\n",
    "\n",
    "for metric, values in history.history.items():\n",
    "    print(f\"{metric}: {values[-1]:.4f}\")  # Print last value for each metric"
   ]
  },
  {
   "cell_type": "code",
   "execution_count": null,
   "id": "c55862d8-1140-4fb6-bbcf-efae0c14c444",
   "metadata": {},
   "outputs": [],
   "source": [
    "import os\n",
    "import json\n",
    "\n",
    "# Paths\n",
    "MODEL_DIR = r\"C:\\Users\\varsh\\OneDrive\\Desktop\\notebook\\Fast_Furious_Insured\\api\\models\"\n",
    "BEST_MODEL_PATH = os.path.join(MODEL_DIR, \"best_model.keras\")\n",
    "MODEL_METADATA_PATH = os.path.join(MODEL_DIR, \"models_metadata.json\")\n",
    "\n",
    "val_loss = min(history.history[\"val_loss\"])\n",
    "\n",
    "# Ensure model directory exists\n",
    "os.makedirs(MODEL_DIR, exist_ok=True)\n",
    "\n",
    "# Create metadata file\n",
    "metadata = {BEST_MODEL_PATH: val_loss}\n",
    "\n",
    "# Save metadata\n",
    "with open(MODEL_METADATA_PATH, \"w\") as f:\n",
    "    json.dump(metadata, f, indent=4)\n",
    "\n",
    "print(f\"Metadata file created at {MODEL_METADATA_PATH} with validation loss: {val_loss}\")\n"
   ]
  },
  {
   "cell_type": "code",
   "execution_count": null,
   "id": "8f77829e-df9a-45c6-96a9-c59d0b5a924b",
   "metadata": {},
   "outputs": [],
   "source": [
    "from sklearn.metrics import mean_absolute_error, mean_squared_error, r2_score\n",
    "\n",
    "# Get predicted claim amounts\n",
    "_, amount_preds = model.predict([image_features, structured_data_scaled])\n",
    "\n",
    "# Evaluate\n",
    "mae = mean_absolute_error(amount_labels, amount_preds)\n",
    "mse = mean_squared_error(amount_labels, amount_preds)\n",
    "rmse = np.sqrt(mse)\n",
    "r2 = r2_score(amount_labels, amount_preds)\n",
    "\n",
    "print(f\"MAE: {mae:.2f}\")\n",
    "print(f\"MSE: {mse:.2f}\")\n",
    "print(f\"RMSE: {rmse:.2f}\")\n",
    "print(f\"R² Score: {r2:.4f}\")\n"
   ]
  },
  {
   "cell_type": "code",
   "execution_count": null,
   "id": "1ea4347b-d38b-4cf8-838a-26e77a4019f6",
   "metadata": {},
   "outputs": [],
   "source": [
    "print(\"amount_labels shape:\", amount_labels.shape)\n",
    "print(\"amount_preds shape:\", amount_preds.shape)"
   ]
  },
  {
   "cell_type": "code",
   "execution_count": null,
   "id": "820d2ca6-097a-4cbb-8f9a-d2fb7f8d7d27",
   "metadata": {},
   "outputs": [],
   "source": [
    "residuals = amount_labels.flatten() - amount_preds.flatten()\n"
   ]
  },
  {
   "cell_type": "code",
   "execution_count": null,
   "id": "fb5b965f-010f-4f1b-b31a-4fd8280b15da",
   "metadata": {},
   "outputs": [],
   "source": [
    "print(\"Residuals shape:\", residuals.shape)"
   ]
  },
  {
   "cell_type": "code",
   "execution_count": null,
   "id": "b8694470-3058-486f-874e-c84041e8022f",
   "metadata": {},
   "outputs": [],
   "source": [
    "plt.scatter(amount_labels.flatten(), residuals)\n",
    "plt.axhline(y=0, color='r', linestyle='--')\n",
    "plt.xlabel(\"Actual Claim Amounts\")\n",
    "plt.ylabel(\"Residuals (Errors)\")\n",
    "plt.title(\"Residual Plot\")\n",
    "plt.show()\n"
   ]
  },
  {
   "cell_type": "code",
   "execution_count": null,
   "id": "fa8d0da6-244a-4a28-8aee-ecfe46319379",
   "metadata": {},
   "outputs": [],
   "source": [
    "from sklearn.metrics import mean_absolute_error, mean_squared_error, r2_score\n",
    "import numpy as np\n",
    "\n",
    "# Filter data where Condition = 1\n",
    "idx = condition_labels == 1  # Assuming `condition_labels` is your Condition column\n",
    "true_claims = amount_labels[idx]\n",
    "pred_claims = amount_preds[idx]\n",
    "\n",
    "# Compute metrics\n",
    "mae = mean_absolute_error(true_claims, pred_claims)\n",
    "rmse = np.sqrt(mean_squared_error(true_claims, pred_claims))\n",
    "r2 = r2_score(true_claims, pred_claims)\n",
    "\n",
    "print(f\"MAE: {mae}, RMSE: {rmse}, R²: {r2}\")\n"
   ]
  },
  {
   "cell_type": "code",
   "execution_count": null,
   "id": "53f3aaf3-419a-4621-9afa-bc1ef07b7b37",
   "metadata": {},
   "outputs": [],
   "source": [
    "import matplotlib.pyplot as plt\n",
    "\n",
    "plt.scatter(true_claims, pred_claims, alpha=0.5)\n",
    "plt.plot([min(true_claims), max(true_claims)], [min(true_claims), max(true_claims)], 'r--')  # Perfect fit line\n",
    "plt.xlabel(\"Actual Claim Amounts (log-transformed)\")\n",
    "plt.ylabel(\"Predicted Claim Amounts (log-transformed)\")\n",
    "plt.title(\"Predicted vs. Actual Claim Amounts (Condition = 1)\")\n",
    "plt.show()\n"
   ]
  },
  {
   "cell_type": "code",
   "execution_count": null,
   "id": "4f6193f4-37f0-417e-90cd-ff796321e13a",
   "metadata": {},
   "outputs": [],
   "source": []
  }
 ],
 "metadata": {
  "kernelspec": {
   "display_name": "Python 3.11",
   "language": "python",
   "name": "python3.11"
  },
  "language_info": {
   "codemirror_mode": {
    "name": "ipython",
    "version": 3
   },
   "file_extension": ".py",
   "mimetype": "text/x-python",
   "name": "python",
   "nbconvert_exporter": "python",
   "pygments_lexer": "ipython3",
   "version": "3.11.0"
  }
 },
 "nbformat": 4,
 "nbformat_minor": 5
}
